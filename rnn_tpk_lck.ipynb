{
 "cells": [
  {
   "cell_type": "code",
   "execution_count": 1,
   "metadata": {},
   "outputs": [
    {
     "name": "stderr",
     "output_type": "stream",
     "text": [
      "Using TensorFlow backend.\n"
     ]
    }
   ],
   "source": [
    "import os\n",
    "import sys\n",
    "import numpy as np\n",
    "import keras\n",
    "from sklearn.model_selection import train_test_split"
   ]
  },
  {
   "cell_type": "code",
   "execution_count": 2,
   "metadata": {},
   "outputs": [],
   "source": [
    "seed = 273\n",
    "kinase = 'tpk_lck'\n",
    "model_file = 'basic_RNN_%s.h5' % (kinase)"
   ]
  },
  {
   "cell_type": "code",
   "execution_count": 3,
   "metadata": {},
   "outputs": [],
   "source": [
    "#import data\n",
    "lines = [line.strip().split(',') for line in open(os.path.join('data', kinase+'_smiles.csv'))]\n",
    "smiles = [line[1] for line in lines]\n",
    "y = np.asarray([int(line[2]) for line in lines], dtype=np.int8)"
   ]
  },
  {
   "cell_type": "code",
   "execution_count": 4,
   "metadata": {},
   "outputs": [],
   "source": [
    "#pad smiles with '!' to ensure equal length\n",
    "max_smiles_len = max(len(s) for s in smiles)\n",
    "smiles = [s + '!'*(max_smiles_len + 1 - len(s)) for s in smiles]"
   ]
  },
  {
   "cell_type": "code",
   "execution_count": 5,
   "metadata": {},
   "outputs": [],
   "source": [
    "#one-hot vector representation of smiles\n",
    "char_set = set()\n",
    "for s in smiles:\n",
    "    for c in s:\n",
    "        char_set.add(c)\n",
    "char_set = list(char_set)\n",
    "char_to_index = {char_set[i]: i for i in range(len(char_set))}\n",
    "\n",
    "X = np.zeros((len(smiles), max_smiles_len + 1, len(char_set)))\n",
    "for i in range(len(smiles)):\n",
    "    code = smiles[i]\n",
    "    for j in range(len(code)):\n",
    "        char = code[j]\n",
    "        X[i, j, char_to_index[char]] = 1        "
   ]
  },
  {
   "cell_type": "code",
   "execution_count": 6,
   "metadata": {},
   "outputs": [
    {
     "name": "stdout",
     "output_type": "stream",
     "text": [
      "(1266, 268, 40) (1266,)\n",
      "(271, 268, 40) (271,)\n",
      "(272, 268, 40) (272,)\n"
     ]
    }
   ],
   "source": [
    "#train val test split\n",
    "X_train, X_test, y_train, y_test = train_test_split(X, y, test_size=0.3, random_state=seed)\n",
    "X_val, X_test, y_val, y_test = train_test_split(X_test, y_test, test_size=0.5, random_state=seed)\n",
    "\n",
    "print(X_train.shape, y_train.shape)\n",
    "print(X_val.shape, y_val.shape)\n",
    "print(X_test.shape, y_test.shape)\n",
    "\n",
    "input_shape = X_train.shape[1:]"
   ]
  },
  {
   "cell_type": "code",
   "execution_count": 7,
   "metadata": {},
   "outputs": [
    {
     "name": "stdout",
     "output_type": "stream",
     "text": [
      "[]\n"
     ]
    }
   ],
   "source": [
    "#check GPU presence\n",
    "from tensorflow.python.client import device_lib\n",
    "\n",
    "def get_available_gpus():\n",
    "    local_device_protos = device_lib.list_local_devices()\n",
    "    return [x.name for x in local_device_protos if x.device_type == 'GPU']\n",
    "\n",
    "print(get_available_gpus())"
   ]
  },
  {
   "cell_type": "code",
   "execution_count": 8,
   "metadata": {},
   "outputs": [],
   "source": [
    "#keras imports\n",
    "from keras.models import Sequential\n",
    "from keras.layers import TimeDistributed, GlobalAveragePooling2D, Activation, Dense, Input, Bidirectional\n",
    "from keras.layers import BatchNormalization, Conv2D, MaxPooling2D, AveragePooling2D, GlobalAveragePooling2D\n",
    "from keras.layers import GlobalMaxPooling2D\n",
    "from keras.layers.recurrent import LSTM\n",
    "from keras.callbacks import ModelCheckpoint, ReduceLROnPlateau, Callback, EarlyStopping\n",
    "from keras.layers import Dropout, Flatten\n",
    "from keras.layers import concatenate\n",
    "from keras import regularizers\n",
    "from keras import initializers\n",
    "from keras import constraints\n",
    "from keras.models import Model\n",
    "# Backend\n",
    "from keras import backend as K\n",
    "# Utils\n",
    "from keras.utils.layer_utils import convert_all_kernels_in_model\n",
    "from keras.utils.data_utils import get_file\n",
    "from keras import metrics"
   ]
  },
  {
   "cell_type": "code",
   "execution_count": 9,
   "metadata": {},
   "outputs": [],
   "source": [
    "#F1 score computation\n",
    "from sklearn.metrics import confusion_matrix, f1_score, precision_score, recall_score\n",
    "from keras import backend as K\n",
    "\n",
    "def f1(y_true, y_pred):\n",
    "    def recall(y_true, y_pred):\n",
    "        \"\"\"Recall metric.\n",
    "\n",
    "        Only computes a batch-wise average of recall.\n",
    "\n",
    "        Computes the recall, a metric for multi-label classification of\n",
    "        how many relevant items are selected.\n",
    "        \"\"\"\n",
    "        true_positives = K.sum(K.round(K.clip(y_true * y_pred, 0, 1)))\n",
    "        possible_positives = K.sum(K.round(K.clip(y_true, 0, 1)))\n",
    "        recall = true_positives / (possible_positives + K.epsilon())\n",
    "        return recall\n",
    "\n",
    "    def precision(y_true, y_pred):\n",
    "        \"\"\"Precision metric.\n",
    "\n",
    "        Only computes a batch-wise average of precision.\n",
    "\n",
    "        Computes the precision, a metric for multi-label classification of\n",
    "        how many selected items are relevant.\n",
    "        \"\"\"\n",
    "        true_positives = K.sum(K.round(K.clip(y_true * y_pred, 0, 1)))\n",
    "        predicted_positives = K.sum(K.round(K.clip(y_pred, 0, 1)))\n",
    "        precision = true_positives / (predicted_positives + K.epsilon())\n",
    "        return precision\n",
    "    precision = precision(y_true, y_pred)\n",
    "    recall = recall(y_true, y_pred)\n",
    "    return 2*((precision*recall)/(precision+recall+K.epsilon()))"
   ]
  },
  {
   "cell_type": "code",
   "execution_count": 10,
   "metadata": {},
   "outputs": [],
   "source": [
    "#basic RNN model\n",
    "model = Sequential()\n",
    "model.add(Bidirectional(LSTM(units=64, return_sequences=False), input_shape=input_shape))\n",
    "model.add(Dense(64, activation='relu'))\n",
    "model.add(Dropout(0.5))\n",
    "model.add(Dense(2, activation='softmax'))"
   ]
  },
  {
   "cell_type": "code",
   "execution_count": 11,
   "metadata": {},
   "outputs": [
    {
     "name": "stdout",
     "output_type": "stream",
     "text": [
      "_________________________________________________________________\n",
      "Layer (type)                 Output Shape              Param #   \n",
      "=================================================================\n",
      "bidirectional_1 (Bidirection (None, 128)               53760     \n",
      "_________________________________________________________________\n",
      "dense_1 (Dense)              (None, 64)                8256      \n",
      "_________________________________________________________________\n",
      "dropout_1 (Dropout)          (None, 64)                0         \n",
      "_________________________________________________________________\n",
      "dense_2 (Dense)              (None, 2)                 130       \n",
      "=================================================================\n",
      "Total params: 62,146\n",
      "Trainable params: 62,146\n",
      "Non-trainable params: 0\n",
      "_________________________________________________________________\n"
     ]
    }
   ],
   "source": [
    "#compile model\n",
    "adam = keras.optimizers.Adam(lr=0.001, decay=0.0, clipnorm=5.)\n",
    "stop = EarlyStopping(patience=20, verbose=1)\n",
    "model.compile(optimizer=adam, loss='sparse_categorical_crossentropy', metrics=[metrics.sparse_categorical_accuracy, f1])\n",
    "checkpoint = ModelCheckpoint(model_file, monitor='val_loss', verbose=1, save_best_only=True, mode='min')\n",
    "\n",
    "callbacks_list = [checkpoint, stop]\n",
    "\n",
    "model.summary()"
   ]
  },
  {
   "cell_type": "code",
   "execution_count": 12,
   "metadata": {},
   "outputs": [
    {
     "name": "stdout",
     "output_type": "stream",
     "text": [
      "Train on 1266 samples, validate on 271 samples\n",
      "Epoch 1/1000\n",
      "1266/1266 [==============================] - 67s 53ms/step - loss: 0.6026 - sparse_categorical_accuracy: 0.7291 - f1: 0.8435 - val_loss: 0.6193 - val_sparse_categorical_accuracy: 0.6753 - val_f1: 0.8037\n",
      "\n",
      "Epoch 00001: val_loss improved from inf to 0.61934, saving model to basic_RNN_tpk_lck.h5\n",
      "Epoch 2/1000\n",
      "1266/1266 [==============================] - 55s 43ms/step - loss: 0.5639 - sparse_categorical_accuracy: 0.7338 - f1: 0.8452 - val_loss: 0.5749 - val_sparse_categorical_accuracy: 0.6716 - val_f1: 0.8037\n",
      "\n",
      "Epoch 00002: val_loss improved from 0.61934 to 0.57487, saving model to basic_RNN_tpk_lck.h5\n",
      "Epoch 3/1000\n",
      "1266/1266 [==============================] - 54s 43ms/step - loss: 0.5087 - sparse_categorical_accuracy: 0.7717 - f1: 0.8442 - val_loss: 0.5411 - val_sparse_categorical_accuracy: 0.7196 - val_f1: 0.8037\n",
      "\n",
      "Epoch 00003: val_loss improved from 0.57487 to 0.54108, saving model to basic_RNN_tpk_lck.h5\n",
      "Epoch 4/1000\n",
      "1266/1266 [==============================] - 55s 43ms/step - loss: 0.4892 - sparse_categorical_accuracy: 0.7804 - f1: 0.8449 - val_loss: 0.5722 - val_sparse_categorical_accuracy: 0.7011 - val_f1: 0.8037\n",
      "\n",
      "Epoch 00004: val_loss did not improve from 0.54108\n",
      "Epoch 5/1000\n",
      "1266/1266 [==============================] - 56s 44ms/step - loss: 0.4770 - sparse_categorical_accuracy: 0.7994 - f1: 0.8446 - val_loss: 0.5298 - val_sparse_categorical_accuracy: 0.7454 - val_f1: 0.8037\n",
      "\n",
      "Epoch 00005: val_loss improved from 0.54108 to 0.52982, saving model to basic_RNN_tpk_lck.h5\n",
      "Epoch 6/1000\n",
      "1266/1266 [==============================] - 56s 44ms/step - loss: 0.4773 - sparse_categorical_accuracy: 0.7899 - f1: 0.8437 - val_loss: 0.5295 - val_sparse_categorical_accuracy: 0.7528 - val_f1: 0.8037\n",
      "\n",
      "Epoch 00006: val_loss improved from 0.52982 to 0.52953, saving model to basic_RNN_tpk_lck.h5\n",
      "Epoch 7/1000\n",
      "1266/1266 [==============================] - 55s 44ms/step - loss: 0.4625 - sparse_categorical_accuracy: 0.7946 - f1: 0.8445 - val_loss: 0.5083 - val_sparse_categorical_accuracy: 0.7528 - val_f1: 0.8037\n",
      "\n",
      "Epoch 00007: val_loss improved from 0.52953 to 0.50829, saving model to basic_RNN_tpk_lck.h5\n",
      "Epoch 8/1000\n",
      "1266/1266 [==============================] - 57s 45ms/step - loss: 0.4670 - sparse_categorical_accuracy: 0.8025 - f1: 0.8445 - val_loss: 0.5030 - val_sparse_categorical_accuracy: 0.7601 - val_f1: 0.8037\n",
      "\n",
      "Epoch 00008: val_loss improved from 0.50829 to 0.50303, saving model to basic_RNN_tpk_lck.h5\n",
      "Epoch 9/1000\n",
      "1266/1266 [==============================] - 55s 43ms/step - loss: 0.4436 - sparse_categorical_accuracy: 0.7946 - f1: 0.8457 - val_loss: 0.4961 - val_sparse_categorical_accuracy: 0.7565 - val_f1: 0.8037\n",
      "\n",
      "Epoch 00009: val_loss improved from 0.50303 to 0.49613, saving model to basic_RNN_tpk_lck.h5\n",
      "Epoch 10/1000\n",
      "1266/1266 [==============================] - 56s 44ms/step - loss: 0.4391 - sparse_categorical_accuracy: 0.8009 - f1: 0.8453 - val_loss: 0.4793 - val_sparse_categorical_accuracy: 0.7823 - val_f1: 0.8037\n",
      "\n",
      "Epoch 00010: val_loss improved from 0.49613 to 0.47930, saving model to basic_RNN_tpk_lck.h5\n",
      "Epoch 11/1000\n",
      "1266/1266 [==============================] - 54s 42ms/step - loss: 0.4463 - sparse_categorical_accuracy: 0.8057 - f1: 0.8452 - val_loss: 0.4968 - val_sparse_categorical_accuracy: 0.7565 - val_f1: 0.8037\n",
      "\n",
      "Epoch 00011: val_loss did not improve from 0.47930\n",
      "Epoch 12/1000\n",
      "1266/1266 [==============================] - 49s 39ms/step - loss: 0.4333 - sparse_categorical_accuracy: 0.8223 - f1: 0.8450 - val_loss: 0.4831 - val_sparse_categorical_accuracy: 0.7601 - val_f1: 0.8037\n",
      "\n",
      "Epoch 00012: val_loss did not improve from 0.47930\n",
      "Epoch 13/1000\n",
      "1266/1266 [==============================] - 49s 39ms/step - loss: 0.4359 - sparse_categorical_accuracy: 0.8128 - f1: 0.8447 - val_loss: 0.4955 - val_sparse_categorical_accuracy: 0.7454 - val_f1: 0.8037\n",
      "\n",
      "Epoch 00013: val_loss did not improve from 0.47930\n",
      "Epoch 14/1000\n",
      "1266/1266 [==============================] - 50s 39ms/step - loss: 0.4208 - sparse_categorical_accuracy: 0.8128 - f1: 0.8445 - val_loss: 0.4745 - val_sparse_categorical_accuracy: 0.7897 - val_f1: 0.8037\n",
      "\n",
      "Epoch 00014: val_loss improved from 0.47930 to 0.47447, saving model to basic_RNN_tpk_lck.h5\n",
      "Epoch 15/1000\n",
      "1266/1266 [==============================] - 48s 38ms/step - loss: 0.4433 - sparse_categorical_accuracy: 0.8160 - f1: 0.8437 - val_loss: 0.4932 - val_sparse_categorical_accuracy: 0.7528 - val_f1: 0.8037\n",
      "\n",
      "Epoch 00015: val_loss did not improve from 0.47447\n",
      "Epoch 16/1000\n",
      "1266/1266 [==============================] - 48s 38ms/step - loss: 0.4170 - sparse_categorical_accuracy: 0.8278 - f1: 0.8444 - val_loss: 0.4836 - val_sparse_categorical_accuracy: 0.7712 - val_f1: 0.8037\n",
      "\n",
      "Epoch 00016: val_loss did not improve from 0.47447\n",
      "Epoch 17/1000\n",
      "1266/1266 [==============================] - 49s 39ms/step - loss: 0.4186 - sparse_categorical_accuracy: 0.8223 - f1: 0.8446 - val_loss: 0.4512 - val_sparse_categorical_accuracy: 0.7897 - val_f1: 0.8037\n",
      "\n",
      "Epoch 00017: val_loss improved from 0.47447 to 0.45118, saving model to basic_RNN_tpk_lck.h5\n",
      "Epoch 18/1000\n",
      "1266/1266 [==============================] - 49s 39ms/step - loss: 0.4065 - sparse_categorical_accuracy: 0.8207 - f1: 0.8450 - val_loss: 0.4510 - val_sparse_categorical_accuracy: 0.7897 - val_f1: 0.8037\n",
      "\n",
      "Epoch 00018: val_loss improved from 0.45118 to 0.45100, saving model to basic_RNN_tpk_lck.h5\n",
      "Epoch 19/1000\n",
      "1266/1266 [==============================] - 48s 38ms/step - loss: 0.3949 - sparse_categorical_accuracy: 0.8270 - f1: 0.8449 - val_loss: 0.4478 - val_sparse_categorical_accuracy: 0.7860 - val_f1: 0.8037\n",
      "\n",
      "Epoch 00019: val_loss improved from 0.45100 to 0.44781, saving model to basic_RNN_tpk_lck.h5\n",
      "Epoch 20/1000\n",
      "1266/1266 [==============================] - 49s 39ms/step - loss: 0.3833 - sparse_categorical_accuracy: 0.8389 - f1: 0.8448 - val_loss: 0.5448 - val_sparse_categorical_accuracy: 0.7675 - val_f1: 0.8037\n",
      "\n",
      "Epoch 00020: val_loss did not improve from 0.44781\n",
      "Epoch 21/1000\n",
      "1266/1266 [==============================] - 48s 38ms/step - loss: 0.3773 - sparse_categorical_accuracy: 0.8460 - f1: 0.8450 - val_loss: 0.4551 - val_sparse_categorical_accuracy: 0.7897 - val_f1: 0.8037\n",
      "\n",
      "Epoch 00021: val_loss did not improve from 0.44781\n",
      "Epoch 22/1000\n",
      "1266/1266 [==============================] - 49s 39ms/step - loss: 0.3657 - sparse_categorical_accuracy: 0.8491 - f1: 0.8451 - val_loss: 0.4376 - val_sparse_categorical_accuracy: 0.8007 - val_f1: 0.8037\n",
      "\n",
      "Epoch 00022: val_loss improved from 0.44781 to 0.43759, saving model to basic_RNN_tpk_lck.h5\n",
      "Epoch 23/1000\n",
      "1266/1266 [==============================] - 47s 38ms/step - loss: 0.3781 - sparse_categorical_accuracy: 0.8365 - f1: 0.8448 - val_loss: 0.4341 - val_sparse_categorical_accuracy: 0.7897 - val_f1: 0.8037\n",
      "\n",
      "Epoch 00023: val_loss improved from 0.43759 to 0.43411, saving model to basic_RNN_tpk_lck.h5\n",
      "Epoch 24/1000\n",
      "1266/1266 [==============================] - 49s 39ms/step - loss: 0.3650 - sparse_categorical_accuracy: 0.8428 - f1: 0.8444 - val_loss: 0.4535 - val_sparse_categorical_accuracy: 0.7934 - val_f1: 0.8037\n",
      "\n",
      "Epoch 00024: val_loss did not improve from 0.43411\n",
      "Epoch 25/1000\n",
      "1266/1266 [==============================] - 49s 39ms/step - loss: 0.3625 - sparse_categorical_accuracy: 0.8325 - f1: 0.8450 - val_loss: 0.4597 - val_sparse_categorical_accuracy: 0.7897 - val_f1: 0.8037\n",
      "\n",
      "Epoch 00025: val_loss did not improve from 0.43411\n",
      "Epoch 26/1000\n",
      "1266/1266 [==============================] - 48s 38ms/step - loss: 0.3470 - sparse_categorical_accuracy: 0.8491 - f1: 0.8456 - val_loss: 0.4985 - val_sparse_categorical_accuracy: 0.8007 - val_f1: 0.8037\n",
      "\n",
      "Epoch 00026: val_loss did not improve from 0.43411\n",
      "Epoch 27/1000\n",
      "1266/1266 [==============================] - 49s 38ms/step - loss: 0.3457 - sparse_categorical_accuracy: 0.8547 - f1: 0.8450 - val_loss: 0.4322 - val_sparse_categorical_accuracy: 0.8081 - val_f1: 0.8037\n",
      "\n",
      "Epoch 00027: val_loss improved from 0.43411 to 0.43221, saving model to basic_RNN_tpk_lck.h5\n",
      "Epoch 28/1000\n",
      "1266/1266 [==============================] - 50s 39ms/step - loss: 0.3243 - sparse_categorical_accuracy: 0.8610 - f1: 0.8456 - val_loss: 0.4783 - val_sparse_categorical_accuracy: 0.8081 - val_f1: 0.8037\n",
      "\n",
      "Epoch 00028: val_loss did not improve from 0.43221\n",
      "Epoch 29/1000\n"
     ]
    },
    {
     "name": "stdout",
     "output_type": "stream",
     "text": [
      "1266/1266 [==============================] - 49s 39ms/step - loss: 0.3409 - sparse_categorical_accuracy: 0.8468 - f1: 0.8443 - val_loss: 0.4164 - val_sparse_categorical_accuracy: 0.8192 - val_f1: 0.8037\n",
      "\n",
      "Epoch 00029: val_loss improved from 0.43221 to 0.41641, saving model to basic_RNN_tpk_lck.h5\n",
      "Epoch 30/1000\n",
      "1266/1266 [==============================] - 49s 39ms/step - loss: 0.3248 - sparse_categorical_accuracy: 0.8555 - f1: 0.8450 - val_loss: 0.4075 - val_sparse_categorical_accuracy: 0.8155 - val_f1: 0.8037\n",
      "\n",
      "Epoch 00030: val_loss improved from 0.41641 to 0.40754, saving model to basic_RNN_tpk_lck.h5\n",
      "Epoch 31/1000\n",
      "1266/1266 [==============================] - 42s 34ms/step - loss: 0.3272 - sparse_categorical_accuracy: 0.8665 - f1: 0.8445 - val_loss: 0.4593 - val_sparse_categorical_accuracy: 0.7860 - val_f1: 0.8037\n",
      "\n",
      "Epoch 00031: val_loss did not improve from 0.40754\n",
      "Epoch 32/1000\n",
      "1266/1266 [==============================] - 41s 32ms/step - loss: 0.3293 - sparse_categorical_accuracy: 0.8626 - f1: 0.8446 - val_loss: 0.4181 - val_sparse_categorical_accuracy: 0.7934 - val_f1: 0.8037\n",
      "\n",
      "Epoch 00032: val_loss did not improve from 0.40754\n",
      "Epoch 33/1000\n",
      "1266/1266 [==============================] - 42s 33ms/step - loss: 0.3093 - sparse_categorical_accuracy: 0.8633 - f1: 0.8452 - val_loss: 0.4361 - val_sparse_categorical_accuracy: 0.7786 - val_f1: 0.8037\n",
      "\n",
      "Epoch 00033: val_loss did not improve from 0.40754\n",
      "Epoch 34/1000\n",
      "1266/1266 [==============================] - 40s 32ms/step - loss: 0.3144 - sparse_categorical_accuracy: 0.8657 - f1: 0.8446 - val_loss: 0.4528 - val_sparse_categorical_accuracy: 0.8118 - val_f1: 0.8037\n",
      "\n",
      "Epoch 00034: val_loss did not improve from 0.40754\n",
      "Epoch 35/1000\n",
      "1266/1266 [==============================] - 41s 33ms/step - loss: 0.2966 - sparse_categorical_accuracy: 0.8878 - f1: 0.8443 - val_loss: 0.5952 - val_sparse_categorical_accuracy: 0.7860 - val_f1: 0.8037\n",
      "\n",
      "Epoch 00035: val_loss did not improve from 0.40754\n",
      "Epoch 36/1000\n",
      "1266/1266 [==============================] - 41s 33ms/step - loss: 0.2830 - sparse_categorical_accuracy: 0.8760 - f1: 0.8447 - val_loss: 0.4662 - val_sparse_categorical_accuracy: 0.7897 - val_f1: 0.8037\n",
      "\n",
      "Epoch 00036: val_loss did not improve from 0.40754\n",
      "Epoch 37/1000\n",
      "1266/1266 [==============================] - 41s 32ms/step - loss: 0.2837 - sparse_categorical_accuracy: 0.8807 - f1: 0.8448 - val_loss: 0.4358 - val_sparse_categorical_accuracy: 0.7970 - val_f1: 0.8037\n",
      "\n",
      "Epoch 00037: val_loss did not improve from 0.40754\n",
      "Epoch 38/1000\n",
      "1266/1266 [==============================] - 40s 32ms/step - loss: 0.2868 - sparse_categorical_accuracy: 0.8760 - f1: 0.8443 - val_loss: 0.4353 - val_sparse_categorical_accuracy: 0.8007 - val_f1: 0.8037\n",
      "\n",
      "Epoch 00038: val_loss did not improve from 0.40754\n",
      "Epoch 39/1000\n",
      "1266/1266 [==============================] - 41s 32ms/step - loss: 0.2462 - sparse_categorical_accuracy: 0.8957 - f1: 0.8450 - val_loss: 0.5025 - val_sparse_categorical_accuracy: 0.7786 - val_f1: 0.8037\n",
      "\n",
      "Epoch 00039: val_loss did not improve from 0.40754\n",
      "Epoch 40/1000\n",
      "1266/1266 [==============================] - 41s 33ms/step - loss: 0.2499 - sparse_categorical_accuracy: 0.8823 - f1: 0.8451 - val_loss: 0.4591 - val_sparse_categorical_accuracy: 0.7970 - val_f1: 0.8037\n",
      "\n",
      "Epoch 00040: val_loss did not improve from 0.40754\n",
      "Epoch 41/1000\n",
      "1266/1266 [==============================] - 41s 33ms/step - loss: 0.2417 - sparse_categorical_accuracy: 0.8926 - f1: 0.8446 - val_loss: 0.5381 - val_sparse_categorical_accuracy: 0.7897 - val_f1: 0.8037\n",
      "\n",
      "Epoch 00041: val_loss did not improve from 0.40754\n",
      "Epoch 42/1000\n",
      "1266/1266 [==============================] - 42s 33ms/step - loss: 0.2520 - sparse_categorical_accuracy: 0.8934 - f1: 0.8448 - val_loss: 0.4625 - val_sparse_categorical_accuracy: 0.8229 - val_f1: 0.8037\n",
      "\n",
      "Epoch 00042: val_loss did not improve from 0.40754\n",
      "Epoch 43/1000\n",
      "1266/1266 [==============================] - 41s 32ms/step - loss: 0.2407 - sparse_categorical_accuracy: 0.8973 - f1: 0.8440 - val_loss: 0.4717 - val_sparse_categorical_accuracy: 0.8007 - val_f1: 0.8037\n",
      "\n",
      "Epoch 00043: val_loss did not improve from 0.40754\n",
      "Epoch 44/1000\n",
      "1266/1266 [==============================] - 42s 33ms/step - loss: 0.2334 - sparse_categorical_accuracy: 0.8997 - f1: 0.8443 - val_loss: 0.5015 - val_sparse_categorical_accuracy: 0.7860 - val_f1: 0.8037\n",
      "\n",
      "Epoch 00044: val_loss did not improve from 0.40754\n",
      "Epoch 45/1000\n",
      "1266/1266 [==============================] - 40s 32ms/step - loss: 0.2276 - sparse_categorical_accuracy: 0.9068 - f1: 0.8448 - val_loss: 0.5875 - val_sparse_categorical_accuracy: 0.8007 - val_f1: 0.8037\n",
      "\n",
      "Epoch 00045: val_loss did not improve from 0.40754\n",
      "Epoch 46/1000\n",
      "1266/1266 [==============================] - 40s 32ms/step - loss: 0.2862 - sparse_categorical_accuracy: 0.8823 - f1: 0.8454 - val_loss: 0.4335 - val_sparse_categorical_accuracy: 0.7897 - val_f1: 0.8037\n",
      "\n",
      "Epoch 00046: val_loss did not improve from 0.40754\n",
      "Epoch 47/1000\n",
      "1266/1266 [==============================] - 40s 32ms/step - loss: 0.2334 - sparse_categorical_accuracy: 0.9068 - f1: 0.8453 - val_loss: 0.4711 - val_sparse_categorical_accuracy: 0.7934 - val_f1: 0.8037\n",
      "\n",
      "Epoch 00047: val_loss did not improve from 0.40754\n",
      "Epoch 48/1000\n",
      "1266/1266 [==============================] - 42s 33ms/step - loss: 0.2166 - sparse_categorical_accuracy: 0.9084 - f1: 0.8447 - val_loss: 0.4596 - val_sparse_categorical_accuracy: 0.7897 - val_f1: 0.8037\n",
      "\n",
      "Epoch 00048: val_loss did not improve from 0.40754\n",
      "Epoch 49/1000\n",
      "1266/1266 [==============================] - 38s 30ms/step - loss: 0.2195 - sparse_categorical_accuracy: 0.9005 - f1: 0.8441 - val_loss: 0.5522 - val_sparse_categorical_accuracy: 0.8007 - val_f1: 0.8037\n",
      "\n",
      "Epoch 00049: val_loss did not improve from 0.40754\n",
      "Epoch 50/1000\n",
      "1266/1266 [==============================] - 34s 27ms/step - loss: 0.2254 - sparse_categorical_accuracy: 0.9068 - f1: 0.8445 - val_loss: 0.4762 - val_sparse_categorical_accuracy: 0.8007 - val_f1: 0.8037\n",
      "\n",
      "Epoch 00050: val_loss did not improve from 0.40754\n",
      "Epoch 00050: early stopping\n"
     ]
    },
    {
     "data": {
      "text/plain": [
       "<keras.callbacks.History at 0x7f077335ae48>"
      ]
     },
     "execution_count": 12,
     "metadata": {},
     "output_type": "execute_result"
    }
   ],
   "source": [
    "#training\n",
    "model.fit(x=X_train, \n",
    "          y=y_train, \n",
    "          batch_size=32, \n",
    "          epochs=1000, \n",
    "          verbose=1, \n",
    "          callbacks=callbacks_list, \n",
    "          validation_data=(X_val, y_val), \n",
    "          shuffle=True)"
   ]
  },
  {
   "cell_type": "code",
   "execution_count": 13,
   "metadata": {},
   "outputs": [
    {
     "name": "stdout",
     "output_type": "stream",
     "text": [
      "['loss', 'sparse_categorical_accuracy', 'f1']\n"
     ]
    }
   ],
   "source": [
    "#testing\n",
    "from keras.models import load_model\n",
    "trained_model = load_model(model_file, custom_objects={'f1': f1})\n",
    "print(trained_model.metrics_names)"
   ]
  },
  {
   "cell_type": "code",
   "execution_count": 14,
   "metadata": {},
   "outputs": [
    {
     "name": "stdout",
     "output_type": "stream",
     "text": [
      "1266/1266 [==============================] - 8s 7ms/step\n"
     ]
    },
    {
     "data": {
      "text/plain": [
       "[0.2995700706708676, 0.8665086884069216, 0.8442312902748867]"
      ]
     },
     "execution_count": 14,
     "metadata": {},
     "output_type": "execute_result"
    }
   ],
   "source": [
    "trained_model.evaluate(x=X_train, y=y_train)"
   ]
  },
  {
   "cell_type": "code",
   "execution_count": 15,
   "metadata": {},
   "outputs": [
    {
     "name": "stdout",
     "output_type": "stream",
     "text": [
      "271/271 [==============================] - 2s 7ms/step\n"
     ]
    },
    {
     "data": {
      "text/plain": [
       "[0.4075412433525733, 0.8154981556413798, 0.803689372055645]"
      ]
     },
     "execution_count": 15,
     "metadata": {},
     "output_type": "execute_result"
    }
   ],
   "source": [
    "trained_model.evaluate(x=X_val, y=y_val)"
   ]
  },
  {
   "cell_type": "code",
   "execution_count": 16,
   "metadata": {},
   "outputs": [
    {
     "name": "stdout",
     "output_type": "stream",
     "text": [
      "272/272 [==============================] - 2s 7ms/step\n"
     ]
    },
    {
     "data": {
      "text/plain": [
       "[0.5039444017936202, 0.7757352941176471, 0.8167803883552551]"
      ]
     },
     "execution_count": 16,
     "metadata": {},
     "output_type": "execute_result"
    }
   ],
   "source": [
    "trained_model.evaluate(x=X_test, y=y_test)"
   ]
  },
  {
   "cell_type": "code",
   "execution_count": null,
   "metadata": {},
   "outputs": [],
   "source": []
  }
 ],
 "metadata": {
  "kernelspec": {
   "display_name": "Python 3",
   "language": "python",
   "name": "python3"
  },
  "language_info": {
   "codemirror_mode": {
    "name": "ipython",
    "version": 3
   },
   "file_extension": ".py",
   "mimetype": "text/x-python",
   "name": "python",
   "nbconvert_exporter": "python",
   "pygments_lexer": "ipython3",
   "version": "3.5.6"
  }
 },
 "nbformat": 4,
 "nbformat_minor": 2
}
