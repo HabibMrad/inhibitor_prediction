{
 "cells": [
  {
   "cell_type": "code",
   "execution_count": 1,
   "metadata": {},
   "outputs": [
    {
     "name": "stderr",
     "output_type": "stream",
     "text": [
      "Using TensorFlow backend.\n"
     ]
    }
   ],
   "source": [
    "import os\n",
    "import sys\n",
    "import numpy as np\n",
    "import keras\n",
    "# from sklearn.model_selection import train_test_split"
   ]
  },
  {
   "cell_type": "code",
   "execution_count": 2,
   "metadata": {},
   "outputs": [],
   "source": [
    "seed = 273\n",
    "kinase = 'tpk_lck'\n",
    "model_file = 'rnn_%s.h5' % (kinase)"
   ]
  },
  {
   "cell_type": "code",
   "execution_count": 3,
   "metadata": {},
   "outputs": [],
   "source": [
    "#import data\n",
    "smiles_lines = [line.strip().split(',') for line in open(os.path.join('data', kinase+'_smiles.csv'))]\n",
    "smiles = [line[1] for line in smiles_lines]\n",
    "fingerprint_lines = [line.strip().split(',') for line in open(os.path.join('data', kinase+'_fingerprints.csv'))]\n",
    "fingerprints = [line[2:] for line in fingerprint_lines]\n",
    "X_fingerprints = np.asarray(fingerprints, dtype=np.int16)\n",
    "y = np.asarray([int(line[2]) for line in smiles_lines], dtype=np.int8)"
   ]
  },
  {
   "cell_type": "code",
   "execution_count": 4,
   "metadata": {},
   "outputs": [],
   "source": [
    "#pad smiles with '!' to ensure equal length\n",
    "max_smiles_len = max(len(s) for s in smiles)\n",
    "smiles = [s + '!'*(max_smiles_len + 1 - len(s)) for s in smiles]"
   ]
  },
  {
   "cell_type": "code",
   "execution_count": 5,
   "metadata": {},
   "outputs": [],
   "source": [
    "#one-hot vector representation of smiles\n",
    "char_set = set()\n",
    "for s in smiles:\n",
    "    for c in s:\n",
    "        char_set.add(c)\n",
    "char_set = list(char_set)\n",
    "char_to_index = {char_set[i]: i for i in range(len(char_set))}\n",
    "\n",
    "X_smiles = np.zeros((len(smiles), max_smiles_len + 1, len(char_set)))\n",
    "for i in range(len(smiles)):\n",
    "    code = smiles[i]\n",
    "    for j in range(len(code)):\n",
    "        char = code[j]\n",
    "        X_smiles[i, j, char_to_index[char]] = 1        "
   ]
  },
  {
   "cell_type": "code",
   "execution_count": 6,
   "metadata": {},
   "outputs": [
    {
     "name": "stdout",
     "output_type": "stream",
     "text": [
      "(1809, 6117)\n",
      "(1809, 268, 40)\n",
      "(1809,)\n"
     ]
    }
   ],
   "source": [
    "print(X_fingerprints.shape)\n",
    "print(X_smiles.shape)\n",
    "print(y.shape)"
   ]
  },
  {
   "cell_type": "code",
   "execution_count": 7,
   "metadata": {},
   "outputs": [
    {
     "name": "stdout",
     "output_type": "stream",
     "text": [
      "(1267, 6117)\n",
      "(1267, 268, 40)\n",
      "(1267,)\n",
      "(271, 6117)\n",
      "(271, 268, 40)\n",
      "(271,)\n",
      "(271, 6117)\n",
      "(271, 268, 40)\n",
      "(271,)\n"
     ]
    }
   ],
   "source": [
    "#train val test split\n",
    "n_tot = X_smiles.shape[0]\n",
    "n_test = round(n_tot*0.15)\n",
    "n_val = round(n_tot*0.15)\n",
    "n_train  = n_tot - n_test - n_val\n",
    "indices = np.arange(n_tot, dtype=int)\n",
    "np.random.seed(seed)\n",
    "np.random.shuffle(indices)\n",
    "indices_train = indices[:n_train]\n",
    "indices_val = indices[n_train:n_train+n_val]\n",
    "indices_test = indices[n_train+n_val:]\n",
    "X_fingerprints_train = X_fingerprints[indices_train]\n",
    "print(X_fingerprints_train.shape)\n",
    "X_smiles_train = X_smiles[indices_train]\n",
    "print(X_smiles_train.shape)\n",
    "y_train = y[indices_train]\n",
    "print(y_train.shape)\n",
    "X_fingerprints_val = X_fingerprints[indices_val]\n",
    "print(X_fingerprints_val.shape)\n",
    "X_smiles_val = X_smiles[indices_val]\n",
    "print(X_smiles_val.shape)\n",
    "y_val = y[indices_val]\n",
    "print(y_val.shape)\n",
    "X_fingerprints_test = X_fingerprints[indices_test]\n",
    "print(X_fingerprints_test.shape)\n",
    "X_smiles_test = X_smiles[indices_test]\n",
    "print(X_smiles_test.shape)\n",
    "y_test = y[indices_test]\n",
    "print(y_test.shape)\n",
    "smiles_input_shape = X_smiles_train.shape[1:]\n",
    "fingerprints_input_shape = X_fingerprints_train.shape[1:]"
   ]
  },
  {
   "cell_type": "code",
   "execution_count": 8,
   "metadata": {},
   "outputs": [
    {
     "name": "stdout",
     "output_type": "stream",
     "text": [
      "[]\n"
     ]
    }
   ],
   "source": [
    "#check GPU presence\n",
    "from tensorflow.python.client import device_lib\n",
    "\n",
    "def get_available_gpus():\n",
    "    local_device_protos = device_lib.list_local_devices()\n",
    "    return [x.name for x in local_device_protos if x.device_type == 'GPU']\n",
    "\n",
    "print(get_available_gpus())"
   ]
  },
  {
   "cell_type": "code",
   "execution_count": 9,
   "metadata": {},
   "outputs": [],
   "source": [
    "#keras imports\n",
    "from keras.models import Sequential\n",
    "from keras.layers import TimeDistributed, GlobalAveragePooling2D, Activation, Dense, Input, Bidirectional\n",
    "from keras.layers import BatchNormalization, Conv2D, MaxPooling2D, AveragePooling2D, GlobalAveragePooling2D\n",
    "from keras.layers import GlobalMaxPooling2D\n",
    "from keras.layers.recurrent import LSTM\n",
    "from keras.callbacks import ModelCheckpoint, ReduceLROnPlateau, Callback, EarlyStopping\n",
    "from keras.layers import Dropout, Flatten\n",
    "from keras.layers import concatenate\n",
    "from keras import regularizers\n",
    "from keras import initializers\n",
    "from keras import constraints\n",
    "from keras.models import Model\n",
    "# Backend\n",
    "from keras import backend as K\n",
    "# Utils\n",
    "from keras.utils.layer_utils import convert_all_kernels_in_model\n",
    "from keras.utils.data_utils import get_file\n",
    "from keras import metrics"
   ]
  },
  {
   "cell_type": "code",
   "execution_count": 10,
   "metadata": {},
   "outputs": [],
   "source": [
    "#F1 score computation\n",
    "from sklearn.metrics import confusion_matrix, f1_score, precision_score, recall_score\n",
    "from keras import backend as K\n",
    "\n",
    "def f1(y_true, y_pred):\n",
    "    def recall(y_true, y_pred):\n",
    "        \"\"\"Recall metric.\n",
    "\n",
    "        Only computes a batch-wise average of recall.\n",
    "\n",
    "        Computes the recall, a metric for multi-label classification of\n",
    "        how many relevant items are selected.\n",
    "        \"\"\"\n",
    "        true_positives = K.sum(K.round(K.clip(y_true * y_pred, 0, 1)))\n",
    "        possible_positives = K.sum(K.round(K.clip(y_true, 0, 1)))\n",
    "        recall = true_positives / (possible_positives + K.epsilon())\n",
    "        return recall\n",
    "\n",
    "    def precision(y_true, y_pred):\n",
    "        \"\"\"Precision metric.\n",
    "\n",
    "        Only computes a batch-wise average of precision.\n",
    "\n",
    "        Computes the precision, a metric for multi-label classification of\n",
    "        how many selected items are relevant.\n",
    "        \"\"\"\n",
    "        true_positives = K.sum(K.round(K.clip(y_true * y_pred, 0, 1)))\n",
    "        predicted_positives = K.sum(K.round(K.clip(y_pred, 0, 1)))\n",
    "        precision = true_positives / (predicted_positives + K.epsilon())\n",
    "        return precision\n",
    "    precision = precision(y_true, y_pred)\n",
    "    recall = recall(y_true, y_pred)\n",
    "    return 2*((precision*recall)/(precision+recall+K.epsilon()))"
   ]
  },
  {
   "cell_type": "code",
   "execution_count": 11,
   "metadata": {},
   "outputs": [],
   "source": [
    "#basic RNN model\n",
    "model = Sequential()\n",
    "model.add(Bidirectional(LSTM(units=128, return_sequences=False), input_shape=smiles_input_shape))\n",
    "model.add(Dense(128, activation='relu'))\n",
    "model.add(Dropout(0.5))\n",
    "model.add(Dense(2, activation='softmax'))"
   ]
  },
  {
   "cell_type": "code",
   "execution_count": 12,
   "metadata": {},
   "outputs": [
    {
     "name": "stdout",
     "output_type": "stream",
     "text": [
      "_________________________________________________________________\n",
      "Layer (type)                 Output Shape              Param #   \n",
      "=================================================================\n",
      "bidirectional_1 (Bidirection (None, 256)               173056    \n",
      "_________________________________________________________________\n",
      "dense_1 (Dense)              (None, 128)               32896     \n",
      "_________________________________________________________________\n",
      "dropout_1 (Dropout)          (None, 128)               0         \n",
      "_________________________________________________________________\n",
      "dense_2 (Dense)              (None, 2)                 258       \n",
      "=================================================================\n",
      "Total params: 206,210\n",
      "Trainable params: 206,210\n",
      "Non-trainable params: 0\n",
      "_________________________________________________________________\n"
     ]
    }
   ],
   "source": [
    "#compile model\n",
    "adam = keras.optimizers.Adam(lr=0.001, decay=0.0, clipnorm=5.)\n",
    "stop = EarlyStopping(patience=20, verbose=1)\n",
    "model.compile(optimizer=adam, loss='sparse_categorical_crossentropy', metrics=[metrics.sparse_categorical_accuracy, f1])\n",
    "checkpoint = ModelCheckpoint(model_file, monitor='val_loss', verbose=1, save_best_only=True, mode='min')\n",
    "\n",
    "callbacks_list = [checkpoint, stop]\n",
    "\n",
    "model.summary()"
   ]
  },
  {
   "cell_type": "code",
   "execution_count": 13,
   "metadata": {},
   "outputs": [
    {
     "name": "stdout",
     "output_type": "stream",
     "text": [
      "Train on 1267 samples, validate on 271 samples\n",
      "Epoch 1/1000\n",
      "1267/1267 [==============================] - 83s 65ms/step - loss: 0.6041 - sparse_categorical_accuracy: 0.7159 - f1: 0.8319 - val_loss: 0.5590 - val_sparse_categorical_accuracy: 0.7232 - val_f1: 0.8353\n",
      "\n",
      "Epoch 00001: val_loss improved from inf to 0.55896, saving model to rnn_tpk_lck.h5\n",
      "Epoch 2/1000\n",
      "1267/1267 [==============================] - 78s 62ms/step - loss: 0.5514 - sparse_categorical_accuracy: 0.7301 - f1: 0.8319 - val_loss: 0.5221 - val_sparse_categorical_accuracy: 0.7786 - val_f1: 0.8353\n",
      "\n",
      "Epoch 00002: val_loss improved from 0.55896 to 0.52213, saving model to rnn_tpk_lck.h5\n",
      "Epoch 3/1000\n",
      "1267/1267 [==============================] - 77s 61ms/step - loss: 0.5249 - sparse_categorical_accuracy: 0.7624 - f1: 0.8332 - val_loss: 0.4713 - val_sparse_categorical_accuracy: 0.7749 - val_f1: 0.8353\n",
      "\n",
      "Epoch 00003: val_loss improved from 0.52213 to 0.47130, saving model to rnn_tpk_lck.h5\n",
      "Epoch 4/1000\n",
      "1267/1267 [==============================] - 79s 62ms/step - loss: 0.5123 - sparse_categorical_accuracy: 0.7680 - f1: 0.8333 - val_loss: 0.4704 - val_sparse_categorical_accuracy: 0.7823 - val_f1: 0.8353\n",
      "\n",
      "Epoch 00004: val_loss improved from 0.47130 to 0.47040, saving model to rnn_tpk_lck.h5\n",
      "Epoch 5/1000\n",
      "1267/1267 [==============================] - 79s 62ms/step - loss: 0.5009 - sparse_categorical_accuracy: 0.7782 - f1: 0.8338 - val_loss: 0.4790 - val_sparse_categorical_accuracy: 0.7823 - val_f1: 0.8353\n",
      "\n",
      "Epoch 00005: val_loss did not improve from 0.47040\n",
      "Epoch 6/1000\n",
      "1267/1267 [==============================] - 78s 62ms/step - loss: 0.4960 - sparse_categorical_accuracy: 0.7719 - f1: 0.8341 - val_loss: 0.4577 - val_sparse_categorical_accuracy: 0.7860 - val_f1: 0.8353\n",
      "\n",
      "Epoch 00006: val_loss improved from 0.47040 to 0.45769, saving model to rnn_tpk_lck.h5\n",
      "Epoch 7/1000\n",
      "1267/1267 [==============================] - 78s 62ms/step - loss: 0.4831 - sparse_categorical_accuracy: 0.7845 - f1: 0.8327 - val_loss: 0.4587 - val_sparse_categorical_accuracy: 0.8044 - val_f1: 0.8353\n",
      "\n",
      "Epoch 00007: val_loss did not improve from 0.45769\n",
      "Epoch 8/1000\n",
      "1267/1267 [==============================] - 79s 62ms/step - loss: 0.4804 - sparse_categorical_accuracy: 0.7719 - f1: 0.8328 - val_loss: 0.4656 - val_sparse_categorical_accuracy: 0.7970 - val_f1: 0.8353\n",
      "\n",
      "Epoch 00008: val_loss did not improve from 0.45769\n",
      "Epoch 9/1000\n",
      "1267/1267 [==============================] - 78s 62ms/step - loss: 0.4756 - sparse_categorical_accuracy: 0.7877 - f1: 0.8334 - val_loss: 0.4807 - val_sparse_categorical_accuracy: 0.8081 - val_f1: 0.8353\n",
      "\n",
      "Epoch 00009: val_loss did not improve from 0.45769\n",
      "Epoch 10/1000\n",
      "1267/1267 [==============================] - 79s 62ms/step - loss: 0.4768 - sparse_categorical_accuracy: 0.7893 - f1: 0.8335 - val_loss: 0.4486 - val_sparse_categorical_accuracy: 0.7970 - val_f1: 0.8353\n",
      "\n",
      "Epoch 00010: val_loss improved from 0.45769 to 0.44856, saving model to rnn_tpk_lck.h5\n",
      "Epoch 11/1000\n",
      "1267/1267 [==============================] - 79s 63ms/step - loss: 0.4701 - sparse_categorical_accuracy: 0.7916 - f1: 0.8330 - val_loss: 0.4519 - val_sparse_categorical_accuracy: 0.7970 - val_f1: 0.8353\n",
      "\n",
      "Epoch 00011: val_loss did not improve from 0.44856\n",
      "Epoch 12/1000\n",
      "1267/1267 [==============================] - 79s 62ms/step - loss: 0.4727 - sparse_categorical_accuracy: 0.7924 - f1: 0.8327 - val_loss: 0.4658 - val_sparse_categorical_accuracy: 0.7897 - val_f1: 0.8353\n",
      "\n",
      "Epoch 00012: val_loss did not improve from 0.44856\n",
      "Epoch 13/1000\n",
      "1267/1267 [==============================] - 78s 61ms/step - loss: 0.4648 - sparse_categorical_accuracy: 0.7948 - f1: 0.8334 - val_loss: 0.4507 - val_sparse_categorical_accuracy: 0.8044 - val_f1: 0.8353\n",
      "\n",
      "Epoch 00013: val_loss did not improve from 0.44856\n",
      "Epoch 14/1000\n",
      "1267/1267 [==============================] - 79s 62ms/step - loss: 0.4550 - sparse_categorical_accuracy: 0.8043 - f1: 0.8343 - val_loss: 0.4400 - val_sparse_categorical_accuracy: 0.8044 - val_f1: 0.8353\n",
      "\n",
      "Epoch 00014: val_loss improved from 0.44856 to 0.44002, saving model to rnn_tpk_lck.h5\n",
      "Epoch 15/1000\n",
      "1267/1267 [==============================] - 79s 62ms/step - loss: 0.4502 - sparse_categorical_accuracy: 0.8003 - f1: 0.8331 - val_loss: 0.5217 - val_sparse_categorical_accuracy: 0.7675 - val_f1: 0.8353\n",
      "\n",
      "Epoch 00015: val_loss did not improve from 0.44002\n",
      "Epoch 16/1000\n",
      "1267/1267 [==============================] - 80s 63ms/step - loss: 0.4484 - sparse_categorical_accuracy: 0.7964 - f1: 0.8339 - val_loss: 0.4633 - val_sparse_categorical_accuracy: 0.8118 - val_f1: 0.8353\n",
      "\n",
      "Epoch 00016: val_loss did not improve from 0.44002\n",
      "Epoch 17/1000\n",
      "1267/1267 [==============================] - 78s 61ms/step - loss: 0.4369 - sparse_categorical_accuracy: 0.8011 - f1: 0.8340 - val_loss: 0.4373 - val_sparse_categorical_accuracy: 0.7970 - val_f1: 0.8353\n",
      "\n",
      "Epoch 00017: val_loss improved from 0.44002 to 0.43727, saving model to rnn_tpk_lck.h5\n",
      "Epoch 18/1000\n",
      "1267/1267 [==============================] - 78s 62ms/step - loss: 0.4197 - sparse_categorical_accuracy: 0.8145 - f1: 0.8341 - val_loss: 0.4202 - val_sparse_categorical_accuracy: 0.8192 - val_f1: 0.8353\n",
      "\n",
      "Epoch 00018: val_loss improved from 0.43727 to 0.42021, saving model to rnn_tpk_lck.h5\n",
      "Epoch 19/1000\n",
      "1267/1267 [==============================] - 78s 61ms/step - loss: 0.4122 - sparse_categorical_accuracy: 0.8193 - f1: 0.8331 - val_loss: 0.4514 - val_sparse_categorical_accuracy: 0.8007 - val_f1: 0.8353\n",
      "\n",
      "Epoch 00019: val_loss did not improve from 0.42021\n",
      "Epoch 20/1000\n",
      "1267/1267 [==============================] - 79s 62ms/step - loss: 0.4125 - sparse_categorical_accuracy: 0.8169 - f1: 0.8333 - val_loss: 0.4243 - val_sparse_categorical_accuracy: 0.8007 - val_f1: 0.8353\n",
      "\n",
      "Epoch 00020: val_loss did not improve from 0.42021\n",
      "Epoch 21/1000\n",
      "1267/1267 [==============================] - 79s 63ms/step - loss: 0.3899 - sparse_categorical_accuracy: 0.8216 - f1: 0.8331 - val_loss: 0.4344 - val_sparse_categorical_accuracy: 0.8081 - val_f1: 0.8353\n",
      "\n",
      "Epoch 00021: val_loss did not improve from 0.42021\n",
      "Epoch 22/1000\n",
      "1267/1267 [==============================] - 78s 62ms/step - loss: 0.4010 - sparse_categorical_accuracy: 0.8248 - f1: 0.8344 - val_loss: 0.4179 - val_sparse_categorical_accuracy: 0.7934 - val_f1: 0.8353\n",
      "\n",
      "Epoch 00022: val_loss improved from 0.42021 to 0.41786, saving model to rnn_tpk_lck.h5\n",
      "Epoch 23/1000\n",
      "1267/1267 [==============================] - 78s 61ms/step - loss: 0.3755 - sparse_categorical_accuracy: 0.8350 - f1: 0.8335 - val_loss: 0.4730 - val_sparse_categorical_accuracy: 0.7934 - val_f1: 0.8353\n",
      "\n",
      "Epoch 00023: val_loss did not improve from 0.41786\n",
      "Epoch 24/1000\n",
      "1267/1267 [==============================] - 77s 61ms/step - loss: 0.3673 - sparse_categorical_accuracy: 0.8453 - f1: 0.8345 - val_loss: 0.4067 - val_sparse_categorical_accuracy: 0.8155 - val_f1: 0.8353\n",
      "\n",
      "Epoch 00024: val_loss improved from 0.41786 to 0.40668, saving model to rnn_tpk_lck.h5\n",
      "Epoch 25/1000\n",
      "1267/1267 [==============================] - 78s 62ms/step - loss: 0.3523 - sparse_categorical_accuracy: 0.8429 - f1: 0.8333 - val_loss: 0.4208 - val_sparse_categorical_accuracy: 0.8192 - val_f1: 0.8353\n",
      "\n",
      "Epoch 00025: val_loss did not improve from 0.40668\n",
      "Epoch 26/1000\n",
      "1267/1267 [==============================] - 78s 61ms/step - loss: 0.3559 - sparse_categorical_accuracy: 0.8414 - f1: 0.8338 - val_loss: 0.4206 - val_sparse_categorical_accuracy: 0.7970 - val_f1: 0.8353\n",
      "\n",
      "Epoch 00026: val_loss did not improve from 0.40668\n",
      "Epoch 27/1000\n",
      "1267/1267 [==============================] - 78s 62ms/step - loss: 0.3433 - sparse_categorical_accuracy: 0.8477 - f1: 0.8326 - val_loss: 0.4195 - val_sparse_categorical_accuracy: 0.8044 - val_f1: 0.8353\n",
      "\n",
      "Epoch 00027: val_loss did not improve from 0.40668\n",
      "Epoch 28/1000\n",
      "1267/1267 [==============================] - 79s 62ms/step - loss: 0.3251 - sparse_categorical_accuracy: 0.8532 - f1: 0.8333 - val_loss: 0.4279 - val_sparse_categorical_accuracy: 0.8229 - val_f1: 0.8353\n",
      "\n",
      "Epoch 00028: val_loss did not improve from 0.40668\n",
      "Epoch 29/1000\n",
      "1267/1267 [==============================] - 78s 62ms/step - loss: 0.3172 - sparse_categorical_accuracy: 0.8595 - f1: 0.8334 - val_loss: 0.4714 - val_sparse_categorical_accuracy: 0.8155 - val_f1: 0.8353\n",
      "\n",
      "Epoch 00029: val_loss did not improve from 0.40668\n",
      "Epoch 30/1000\n"
     ]
    },
    {
     "name": "stdout",
     "output_type": "stream",
     "text": [
      "1267/1267 [==============================] - 75s 59ms/step - loss: 0.3030 - sparse_categorical_accuracy: 0.8658 - f1: 0.8336 - val_loss: 0.4220 - val_sparse_categorical_accuracy: 0.8155 - val_f1: 0.8353\n",
      "\n",
      "Epoch 00030: val_loss did not improve from 0.40668\n",
      "Epoch 31/1000\n",
      "1267/1267 [==============================] - 66s 52ms/step - loss: 0.3145 - sparse_categorical_accuracy: 0.8595 - f1: 0.8337 - val_loss: 0.4541 - val_sparse_categorical_accuracy: 0.8081 - val_f1: 0.8353\n",
      "\n",
      "Epoch 00031: val_loss did not improve from 0.40668\n",
      "Epoch 32/1000\n",
      "1267/1267 [==============================] - 66s 52ms/step - loss: 0.3109 - sparse_categorical_accuracy: 0.8658 - f1: 0.8342 - val_loss: 0.4222 - val_sparse_categorical_accuracy: 0.8266 - val_f1: 0.8353\n",
      "\n",
      "Epoch 00032: val_loss did not improve from 0.40668\n",
      "Epoch 33/1000\n",
      "1267/1267 [==============================] - 66s 52ms/step - loss: 0.2765 - sparse_categorical_accuracy: 0.8808 - f1: 0.8331 - val_loss: 0.4270 - val_sparse_categorical_accuracy: 0.8303 - val_f1: 0.8353\n",
      "\n",
      "Epoch 00033: val_loss did not improve from 0.40668\n",
      "Epoch 34/1000\n",
      "1267/1267 [==============================] - 66s 52ms/step - loss: 0.2724 - sparse_categorical_accuracy: 0.8753 - f1: 0.8328 - val_loss: 0.5062 - val_sparse_categorical_accuracy: 0.8007 - val_f1: 0.8353\n",
      "\n",
      "Epoch 00034: val_loss did not improve from 0.40668\n",
      "Epoch 35/1000\n",
      "1267/1267 [==============================] - 67s 53ms/step - loss: 0.2679 - sparse_categorical_accuracy: 0.8808 - f1: 0.8338 - val_loss: 0.4506 - val_sparse_categorical_accuracy: 0.8229 - val_f1: 0.8353\n",
      "\n",
      "Epoch 00035: val_loss did not improve from 0.40668\n",
      "Epoch 36/1000\n",
      "1267/1267 [==============================] - 67s 53ms/step - loss: 0.2623 - sparse_categorical_accuracy: 0.8816 - f1: 0.8342 - val_loss: 0.4985 - val_sparse_categorical_accuracy: 0.8155 - val_f1: 0.8353\n",
      "\n",
      "Epoch 00036: val_loss did not improve from 0.40668\n",
      "Epoch 37/1000\n",
      "1267/1267 [==============================] - 67s 53ms/step - loss: 0.2639 - sparse_categorical_accuracy: 0.8800 - f1: 0.8340 - val_loss: 0.4714 - val_sparse_categorical_accuracy: 0.8229 - val_f1: 0.8353\n",
      "\n",
      "Epoch 00037: val_loss did not improve from 0.40668\n",
      "Epoch 38/1000\n",
      "1267/1267 [==============================] - 80s 63ms/step - loss: 0.2753 - sparse_categorical_accuracy: 0.8769 - f1: 0.8328 - val_loss: 0.5351 - val_sparse_categorical_accuracy: 0.8044 - val_f1: 0.8353\n",
      "\n",
      "Epoch 00038: val_loss did not improve from 0.40668\n",
      "Epoch 39/1000\n",
      "1267/1267 [==============================] - 77s 61ms/step - loss: 0.2723 - sparse_categorical_accuracy: 0.8785 - f1: 0.8339 - val_loss: 0.4388 - val_sparse_categorical_accuracy: 0.8081 - val_f1: 0.8353\n",
      "\n",
      "Epoch 00039: val_loss did not improve from 0.40668\n",
      "Epoch 40/1000\n",
      "1267/1267 [==============================] - 80s 63ms/step - loss: 0.2556 - sparse_categorical_accuracy: 0.8792 - f1: 0.8330 - val_loss: 0.5158 - val_sparse_categorical_accuracy: 0.8303 - val_f1: 0.8353\n",
      "\n",
      "Epoch 00040: val_loss did not improve from 0.40668\n",
      "Epoch 41/1000\n",
      " 992/1267 [======================>.......] - ETA: 20s - loss: 0.2879 - sparse_categorical_accuracy: 0.8881 - f1: 0.8372"
     ]
    },
    {
     "ename": "KeyboardInterrupt",
     "evalue": "",
     "output_type": "error",
     "traceback": [
      "\u001b[0;31m---------------------------------------------------------------------------\u001b[0m",
      "\u001b[0;31mKeyboardInterrupt\u001b[0m                         Traceback (most recent call last)",
      "\u001b[0;32m<ipython-input-13-3508c2ce2871>\u001b[0m in \u001b[0;36m<module>\u001b[0;34m\u001b[0m\n\u001b[1;32m      7\u001b[0m           \u001b[0mcallbacks\u001b[0m\u001b[0;34m=\u001b[0m\u001b[0mcallbacks_list\u001b[0m\u001b[0;34m,\u001b[0m\u001b[0;34m\u001b[0m\u001b[0;34m\u001b[0m\u001b[0m\n\u001b[1;32m      8\u001b[0m           \u001b[0mvalidation_data\u001b[0m\u001b[0;34m=\u001b[0m\u001b[0;34m(\u001b[0m\u001b[0mX_smiles_val\u001b[0m\u001b[0;34m,\u001b[0m \u001b[0my_val\u001b[0m\u001b[0;34m)\u001b[0m\u001b[0;34m,\u001b[0m\u001b[0;34m\u001b[0m\u001b[0;34m\u001b[0m\u001b[0m\n\u001b[0;32m----> 9\u001b[0;31m           shuffle=True)\n\u001b[0m",
      "\u001b[0;32m~/Documents/CS273B/kinase/inhibitor_prediction/.env/lib/python3.6/site-packages/keras/engine/training.py\u001b[0m in \u001b[0;36mfit\u001b[0;34m(self, x, y, batch_size, epochs, verbose, callbacks, validation_split, validation_data, shuffle, class_weight, sample_weight, initial_epoch, steps_per_epoch, validation_steps, **kwargs)\u001b[0m\n\u001b[1;32m   1037\u001b[0m                                         \u001b[0minitial_epoch\u001b[0m\u001b[0;34m=\u001b[0m\u001b[0minitial_epoch\u001b[0m\u001b[0;34m,\u001b[0m\u001b[0;34m\u001b[0m\u001b[0;34m\u001b[0m\u001b[0m\n\u001b[1;32m   1038\u001b[0m                                         \u001b[0msteps_per_epoch\u001b[0m\u001b[0;34m=\u001b[0m\u001b[0msteps_per_epoch\u001b[0m\u001b[0;34m,\u001b[0m\u001b[0;34m\u001b[0m\u001b[0;34m\u001b[0m\u001b[0m\n\u001b[0;32m-> 1039\u001b[0;31m                                         validation_steps=validation_steps)\n\u001b[0m\u001b[1;32m   1040\u001b[0m \u001b[0;34m\u001b[0m\u001b[0m\n\u001b[1;32m   1041\u001b[0m     def evaluate(self, x=None, y=None,\n",
      "\u001b[0;32m~/Documents/CS273B/kinase/inhibitor_prediction/.env/lib/python3.6/site-packages/keras/engine/training_arrays.py\u001b[0m in \u001b[0;36mfit_loop\u001b[0;34m(model, f, ins, out_labels, batch_size, epochs, verbose, callbacks, val_f, val_ins, shuffle, callback_metrics, initial_epoch, steps_per_epoch, validation_steps)\u001b[0m\n\u001b[1;32m    197\u001b[0m                     \u001b[0mins_batch\u001b[0m\u001b[0;34m[\u001b[0m\u001b[0mi\u001b[0m\u001b[0;34m]\u001b[0m \u001b[0;34m=\u001b[0m \u001b[0mins_batch\u001b[0m\u001b[0;34m[\u001b[0m\u001b[0mi\u001b[0m\u001b[0;34m]\u001b[0m\u001b[0;34m.\u001b[0m\u001b[0mtoarray\u001b[0m\u001b[0;34m(\u001b[0m\u001b[0;34m)\u001b[0m\u001b[0;34m\u001b[0m\u001b[0;34m\u001b[0m\u001b[0m\n\u001b[1;32m    198\u001b[0m \u001b[0;34m\u001b[0m\u001b[0m\n\u001b[0;32m--> 199\u001b[0;31m                 \u001b[0mouts\u001b[0m \u001b[0;34m=\u001b[0m \u001b[0mf\u001b[0m\u001b[0;34m(\u001b[0m\u001b[0mins_batch\u001b[0m\u001b[0;34m)\u001b[0m\u001b[0;34m\u001b[0m\u001b[0;34m\u001b[0m\u001b[0m\n\u001b[0m\u001b[1;32m    200\u001b[0m                 \u001b[0mouts\u001b[0m \u001b[0;34m=\u001b[0m \u001b[0mto_list\u001b[0m\u001b[0;34m(\u001b[0m\u001b[0mouts\u001b[0m\u001b[0;34m)\u001b[0m\u001b[0;34m\u001b[0m\u001b[0;34m\u001b[0m\u001b[0m\n\u001b[1;32m    201\u001b[0m                 \u001b[0;32mfor\u001b[0m \u001b[0ml\u001b[0m\u001b[0;34m,\u001b[0m \u001b[0mo\u001b[0m \u001b[0;32min\u001b[0m \u001b[0mzip\u001b[0m\u001b[0;34m(\u001b[0m\u001b[0mout_labels\u001b[0m\u001b[0;34m,\u001b[0m \u001b[0mouts\u001b[0m\u001b[0;34m)\u001b[0m\u001b[0;34m:\u001b[0m\u001b[0;34m\u001b[0m\u001b[0;34m\u001b[0m\u001b[0m\n",
      "\u001b[0;32m~/Documents/CS273B/kinase/inhibitor_prediction/.env/lib/python3.6/site-packages/keras/backend/tensorflow_backend.py\u001b[0m in \u001b[0;36m__call__\u001b[0;34m(self, inputs)\u001b[0m\n\u001b[1;32m   2713\u001b[0m                 \u001b[0;32mreturn\u001b[0m \u001b[0mself\u001b[0m\u001b[0;34m.\u001b[0m\u001b[0m_legacy_call\u001b[0m\u001b[0;34m(\u001b[0m\u001b[0minputs\u001b[0m\u001b[0;34m)\u001b[0m\u001b[0;34m\u001b[0m\u001b[0;34m\u001b[0m\u001b[0m\n\u001b[1;32m   2714\u001b[0m \u001b[0;34m\u001b[0m\u001b[0m\n\u001b[0;32m-> 2715\u001b[0;31m             \u001b[0;32mreturn\u001b[0m \u001b[0mself\u001b[0m\u001b[0;34m.\u001b[0m\u001b[0m_call\u001b[0m\u001b[0;34m(\u001b[0m\u001b[0minputs\u001b[0m\u001b[0;34m)\u001b[0m\u001b[0;34m\u001b[0m\u001b[0;34m\u001b[0m\u001b[0m\n\u001b[0m\u001b[1;32m   2716\u001b[0m         \u001b[0;32melse\u001b[0m\u001b[0;34m:\u001b[0m\u001b[0;34m\u001b[0m\u001b[0;34m\u001b[0m\u001b[0m\n\u001b[1;32m   2717\u001b[0m             \u001b[0;32mif\u001b[0m \u001b[0mpy_any\u001b[0m\u001b[0;34m(\u001b[0m\u001b[0mis_tensor\u001b[0m\u001b[0;34m(\u001b[0m\u001b[0mx\u001b[0m\u001b[0;34m)\u001b[0m \u001b[0;32mfor\u001b[0m \u001b[0mx\u001b[0m \u001b[0;32min\u001b[0m \u001b[0minputs\u001b[0m\u001b[0;34m)\u001b[0m\u001b[0;34m:\u001b[0m\u001b[0;34m\u001b[0m\u001b[0;34m\u001b[0m\u001b[0m\n",
      "\u001b[0;32m~/Documents/CS273B/kinase/inhibitor_prediction/.env/lib/python3.6/site-packages/keras/backend/tensorflow_backend.py\u001b[0m in \u001b[0;36m_call\u001b[0;34m(self, inputs)\u001b[0m\n\u001b[1;32m   2673\u001b[0m             \u001b[0mfetched\u001b[0m \u001b[0;34m=\u001b[0m \u001b[0mself\u001b[0m\u001b[0;34m.\u001b[0m\u001b[0m_callable_fn\u001b[0m\u001b[0;34m(\u001b[0m\u001b[0;34m*\u001b[0m\u001b[0marray_vals\u001b[0m\u001b[0;34m,\u001b[0m \u001b[0mrun_metadata\u001b[0m\u001b[0;34m=\u001b[0m\u001b[0mself\u001b[0m\u001b[0;34m.\u001b[0m\u001b[0mrun_metadata\u001b[0m\u001b[0;34m)\u001b[0m\u001b[0;34m\u001b[0m\u001b[0;34m\u001b[0m\u001b[0m\n\u001b[1;32m   2674\u001b[0m         \u001b[0;32melse\u001b[0m\u001b[0;34m:\u001b[0m\u001b[0;34m\u001b[0m\u001b[0;34m\u001b[0m\u001b[0m\n\u001b[0;32m-> 2675\u001b[0;31m             \u001b[0mfetched\u001b[0m \u001b[0;34m=\u001b[0m \u001b[0mself\u001b[0m\u001b[0;34m.\u001b[0m\u001b[0m_callable_fn\u001b[0m\u001b[0;34m(\u001b[0m\u001b[0;34m*\u001b[0m\u001b[0marray_vals\u001b[0m\u001b[0;34m)\u001b[0m\u001b[0;34m\u001b[0m\u001b[0;34m\u001b[0m\u001b[0m\n\u001b[0m\u001b[1;32m   2676\u001b[0m         \u001b[0;32mreturn\u001b[0m \u001b[0mfetched\u001b[0m\u001b[0;34m[\u001b[0m\u001b[0;34m:\u001b[0m\u001b[0mlen\u001b[0m\u001b[0;34m(\u001b[0m\u001b[0mself\u001b[0m\u001b[0;34m.\u001b[0m\u001b[0moutputs\u001b[0m\u001b[0;34m)\u001b[0m\u001b[0;34m]\u001b[0m\u001b[0;34m\u001b[0m\u001b[0;34m\u001b[0m\u001b[0m\n\u001b[1;32m   2677\u001b[0m \u001b[0;34m\u001b[0m\u001b[0m\n",
      "\u001b[0;32m~/Documents/CS273B/kinase/inhibitor_prediction/.env/lib/python3.6/site-packages/tensorflow/python/client/session.py\u001b[0m in \u001b[0;36m__call__\u001b[0;34m(self, *args, **kwargs)\u001b[0m\n\u001b[1;32m   1437\u001b[0m           ret = tf_session.TF_SessionRunCallable(\n\u001b[1;32m   1438\u001b[0m               \u001b[0mself\u001b[0m\u001b[0;34m.\u001b[0m\u001b[0m_session\u001b[0m\u001b[0;34m.\u001b[0m\u001b[0m_session\u001b[0m\u001b[0;34m,\u001b[0m \u001b[0mself\u001b[0m\u001b[0;34m.\u001b[0m\u001b[0m_handle\u001b[0m\u001b[0;34m,\u001b[0m \u001b[0margs\u001b[0m\u001b[0;34m,\u001b[0m \u001b[0mstatus\u001b[0m\u001b[0;34m,\u001b[0m\u001b[0;34m\u001b[0m\u001b[0;34m\u001b[0m\u001b[0m\n\u001b[0;32m-> 1439\u001b[0;31m               run_metadata_ptr)\n\u001b[0m\u001b[1;32m   1440\u001b[0m         \u001b[0;32mif\u001b[0m \u001b[0mrun_metadata\u001b[0m\u001b[0;34m:\u001b[0m\u001b[0;34m\u001b[0m\u001b[0;34m\u001b[0m\u001b[0m\n\u001b[1;32m   1441\u001b[0m           \u001b[0mproto_data\u001b[0m \u001b[0;34m=\u001b[0m \u001b[0mtf_session\u001b[0m\u001b[0;34m.\u001b[0m\u001b[0mTF_GetBuffer\u001b[0m\u001b[0;34m(\u001b[0m\u001b[0mrun_metadata_ptr\u001b[0m\u001b[0;34m)\u001b[0m\u001b[0;34m\u001b[0m\u001b[0;34m\u001b[0m\u001b[0m\n",
      "\u001b[0;31mKeyboardInterrupt\u001b[0m: "
     ]
    }
   ],
   "source": [
    "#training\n",
    "model.fit(x=X_smiles_train, \n",
    "          y=y_train, \n",
    "          batch_size=32, \n",
    "          epochs=1000, \n",
    "          verbose=1, \n",
    "          callbacks=callbacks_list, \n",
    "          validation_data=(X_smiles_val, y_val), \n",
    "          shuffle=True)"
   ]
  },
  {
   "cell_type": "code",
   "execution_count": 14,
   "metadata": {},
   "outputs": [
    {
     "name": "stdout",
     "output_type": "stream",
     "text": [
      "['loss', 'sparse_categorical_accuracy', 'f1']\n"
     ]
    }
   ],
   "source": [
    "#testing\n",
    "from keras.models import load_model\n",
    "trained_model = load_model(model_file, custom_objects={'f1': f1})\n",
    "print(trained_model.metrics_names)"
   ]
  },
  {
   "cell_type": "code",
   "execution_count": 15,
   "metadata": {},
   "outputs": [
    {
     "name": "stdout",
     "output_type": "stream",
     "text": [
      "1267/1267 [==============================] - 27s 21ms/step\n"
     ]
    },
    {
     "data": {
      "text/plain": [
       "[0.3261936140182739, 0.8508287290465484, 0.8324411510950764]"
      ]
     },
     "execution_count": 15,
     "metadata": {},
     "output_type": "execute_result"
    }
   ],
   "source": [
    "trained_model.evaluate(x=X_smiles_train, y=y_train)"
   ]
  },
  {
   "cell_type": "code",
   "execution_count": 16,
   "metadata": {},
   "outputs": [
    {
     "name": "stdout",
     "output_type": "stream",
     "text": [
      "271/271 [==============================] - 5s 19ms/step\n"
     ]
    },
    {
     "data": {
      "text/plain": [
       "[0.4066754659823386, 0.8154981556413798, 0.8352863498279529]"
      ]
     },
     "execution_count": 16,
     "metadata": {},
     "output_type": "execute_result"
    }
   ],
   "source": [
    "trained_model.evaluate(x=X_smiles_val, y=y_val)"
   ]
  },
  {
   "cell_type": "code",
   "execution_count": 17,
   "metadata": {},
   "outputs": [
    {
     "name": "stdout",
     "output_type": "stream",
     "text": [
      "271/271 [==============================] - 5s 19ms/step\n"
     ]
    },
    {
     "data": {
      "text/plain": [
       "[0.3603327609736101, 0.8487084873048142, 0.836762313693212]"
      ]
     },
     "execution_count": 17,
     "metadata": {},
     "output_type": "execute_result"
    }
   ],
   "source": [
    "trained_model.evaluate(x=X_smiles_test, y=y_test)"
   ]
  },
  {
   "cell_type": "code",
   "execution_count": 18,
   "metadata": {},
   "outputs": [],
   "source": [
    "from sklearn.metrics import roc_curve\n",
    "from sklearn.metrics import roc_auc_score\n",
    "pred_train = trained_model.predict(x=X_smiles_train)[:,1]\n",
    "pred_val = trained_model.predict(x=X_smiles_val)[:,1]\n",
    "pred_test = trained_model.predict(x=X_smiles_test)[:,1]\n",
    "np.savez(model_file[:-2] + 'npz', pred_train=pred_train, pred_val=pred_val, pred_test=pred_test)"
   ]
  },
  {
   "cell_type": "code",
   "execution_count": null,
   "metadata": {},
   "outputs": [],
   "source": []
  }
 ],
 "metadata": {
  "kernelspec": {
   "display_name": "Python 3",
   "language": "python",
   "name": "python3"
  }
 },
 "nbformat": 4,
 "nbformat_minor": 2
}
