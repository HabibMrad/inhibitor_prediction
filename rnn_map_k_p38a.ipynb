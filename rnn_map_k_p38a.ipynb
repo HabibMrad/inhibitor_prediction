{
 "cells": [
  {
   "cell_type": "code",
   "execution_count": 1,
   "metadata": {},
   "outputs": [
    {
     "name": "stderr",
     "output_type": "stream",
     "text": [
      "Using TensorFlow backend.\n"
     ]
    }
   ],
   "source": [
    "import os\n",
    "import sys\n",
    "import numpy as np\n",
    "import keras\n",
    "# from sklearn.model_selection import train_test_split"
   ]
  },
  {
   "cell_type": "code",
   "execution_count": 2,
   "metadata": {},
   "outputs": [],
   "source": [
    "seed = 273\n",
    "kinase = 'map_k_p38a'\n",
    "model_file = 'rnn_%s.h5' % (kinase)"
   ]
  },
  {
   "cell_type": "code",
   "execution_count": 3,
   "metadata": {},
   "outputs": [],
   "source": [
    "#import data\n",
    "smiles_lines = [line.strip().split(',') for line in open(os.path.join('data', kinase+'_smiles.csv'))]\n",
    "smiles = [line[1] for line in smiles_lines]\n",
    "fingerprint_lines = [line.strip().split(',') for line in open(os.path.join('data', kinase+'_fingerprints.csv'))]\n",
    "fingerprints = [line[2:] for line in fingerprint_lines]\n",
    "X_fingerprints = np.asarray(fingerprints, dtype=np.int16)\n",
    "y = np.asarray([int(line[2]) for line in smiles_lines], dtype=np.int8)"
   ]
  },
  {
   "cell_type": "code",
   "execution_count": 4,
   "metadata": {},
   "outputs": [],
   "source": [
    "#pad smiles with '!' to ensure equal length\n",
    "max_smiles_len = max(len(s) for s in smiles)\n",
    "smiles = [s + '!'*(max_smiles_len + 1 - len(s)) for s in smiles]"
   ]
  },
  {
   "cell_type": "code",
   "execution_count": 5,
   "metadata": {},
   "outputs": [],
   "source": [
    "#one-hot vector representation of smiles\n",
    "char_set = set()\n",
    "for s in smiles:\n",
    "    for c in s:\n",
    "        char_set.add(c)\n",
    "char_set = list(char_set)\n",
    "char_to_index = {char_set[i]: i for i in range(len(char_set))}\n",
    "\n",
    "X_smiles = np.zeros((len(smiles), max_smiles_len + 1, len(char_set)))\n",
    "for i in range(len(smiles)):\n",
    "    code = smiles[i]\n",
    "    for j in range(len(code)):\n",
    "        char = code[j]\n",
    "        X_smiles[i, j, char_to_index[char]] = 1        "
   ]
  },
  {
   "cell_type": "code",
   "execution_count": 6,
   "metadata": {},
   "outputs": [
    {
     "name": "stdout",
     "output_type": "stream",
     "text": [
      "(3597, 6117)\n",
      "(3597, 268, 43)\n",
      "(3597,)\n"
     ]
    }
   ],
   "source": [
    "print(X_fingerprints.shape)\n",
    "print(X_smiles.shape)\n",
    "print(y.shape)"
   ]
  },
  {
   "cell_type": "code",
   "execution_count": 7,
   "metadata": {},
   "outputs": [
    {
     "name": "stdout",
     "output_type": "stream",
     "text": [
      "(2517, 6117)\n",
      "(2517, 268, 43)\n",
      "(2517,)\n",
      "(540, 6117)\n",
      "(540, 268, 43)\n",
      "(540,)\n",
      "(540, 6117)\n",
      "(540, 268, 43)\n",
      "(540,)\n"
     ]
    }
   ],
   "source": [
    "#train val test split\n",
    "n_tot = X_smiles.shape[0]\n",
    "n_test = round(n_tot*0.15)\n",
    "n_val = round(n_tot*0.15)\n",
    "n_train  = n_tot - n_test - n_val\n",
    "indices = np.arange(n_tot, dtype=int)\n",
    "np.random.seed(seed)\n",
    "np.random.shuffle(indices)\n",
    "indices_train = indices[:n_train]\n",
    "indices_val = indices[n_train:n_train+n_val]\n",
    "indices_test = indices[n_train+n_val:]\n",
    "X_fingerprints_train = X_fingerprints[indices_train]\n",
    "print(X_fingerprints_train.shape)\n",
    "X_smiles_train = X_smiles[indices_train]\n",
    "print(X_smiles_train.shape)\n",
    "y_train = y[indices_train]\n",
    "print(y_train.shape)\n",
    "X_fingerprints_val = X_fingerprints[indices_val]\n",
    "print(X_fingerprints_val.shape)\n",
    "X_smiles_val = X_smiles[indices_val]\n",
    "print(X_smiles_val.shape)\n",
    "y_val = y[indices_val]\n",
    "print(y_val.shape)\n",
    "X_fingerprints_test = X_fingerprints[indices_test]\n",
    "print(X_fingerprints_test.shape)\n",
    "X_smiles_test = X_smiles[indices_test]\n",
    "print(X_smiles_test.shape)\n",
    "y_test = y[indices_test]\n",
    "print(y_test.shape)\n",
    "smiles_input_shape = X_smiles_train.shape[1:]\n",
    "fingerprints_input_shape = X_fingerprints_train.shape[1:]"
   ]
  },
  {
   "cell_type": "code",
   "execution_count": 8,
   "metadata": {},
   "outputs": [
    {
     "name": "stdout",
     "output_type": "stream",
     "text": [
      "[]\n"
     ]
    }
   ],
   "source": [
    "#check GPU presence\n",
    "from tensorflow.python.client import device_lib\n",
    "\n",
    "def get_available_gpus():\n",
    "    local_device_protos = device_lib.list_local_devices()\n",
    "    return [x.name for x in local_device_protos if x.device_type == 'GPU']\n",
    "\n",
    "print(get_available_gpus())"
   ]
  },
  {
   "cell_type": "code",
   "execution_count": 9,
   "metadata": {},
   "outputs": [],
   "source": [
    "#keras imports\n",
    "from keras.models import Sequential\n",
    "from keras.layers import TimeDistributed, GlobalAveragePooling2D, Activation, Dense, Input, Bidirectional\n",
    "from keras.layers import BatchNormalization, Conv2D, MaxPooling2D, AveragePooling2D, GlobalAveragePooling2D\n",
    "from keras.layers import GlobalMaxPooling2D\n",
    "from keras.layers.recurrent import LSTM\n",
    "from keras.callbacks import ModelCheckpoint, ReduceLROnPlateau, Callback, EarlyStopping\n",
    "from keras.layers import Dropout, Flatten\n",
    "from keras.layers import concatenate\n",
    "from keras import regularizers\n",
    "from keras import initializers\n",
    "from keras import constraints\n",
    "from keras.models import Model\n",
    "# Backend\n",
    "from keras import backend as K\n",
    "# Utils\n",
    "from keras.utils.layer_utils import convert_all_kernels_in_model\n",
    "from keras.utils.data_utils import get_file\n",
    "from keras import metrics"
   ]
  },
  {
   "cell_type": "code",
   "execution_count": 10,
   "metadata": {},
   "outputs": [],
   "source": [
    "#F1 score computation\n",
    "from sklearn.metrics import confusion_matrix, f1_score, precision_score, recall_score\n",
    "from keras import backend as K\n",
    "\n",
    "def f1(y_true, y_pred):\n",
    "    def recall(y_true, y_pred):\n",
    "        \"\"\"Recall metric.\n",
    "\n",
    "        Only computes a batch-wise average of recall.\n",
    "\n",
    "        Computes the recall, a metric for multi-label classification of\n",
    "        how many relevant items are selected.\n",
    "        \"\"\"\n",
    "        true_positives = K.sum(K.round(K.clip(y_true * y_pred, 0, 1)))\n",
    "        possible_positives = K.sum(K.round(K.clip(y_true, 0, 1)))\n",
    "        recall = true_positives / (possible_positives + K.epsilon())\n",
    "        return recall\n",
    "\n",
    "    def precision(y_true, y_pred):\n",
    "        \"\"\"Precision metric.\n",
    "\n",
    "        Only computes a batch-wise average of precision.\n",
    "\n",
    "        Computes the precision, a metric for multi-label classification of\n",
    "        how many selected items are relevant.\n",
    "        \"\"\"\n",
    "        true_positives = K.sum(K.round(K.clip(y_true * y_pred, 0, 1)))\n",
    "        predicted_positives = K.sum(K.round(K.clip(y_pred, 0, 1)))\n",
    "        precision = true_positives / (predicted_positives + K.epsilon())\n",
    "        return precision\n",
    "    precision = precision(y_true, y_pred)\n",
    "    recall = recall(y_true, y_pred)\n",
    "    return 2*((precision*recall)/(precision+recall+K.epsilon()))"
   ]
  },
  {
   "cell_type": "code",
   "execution_count": 11,
   "metadata": {},
   "outputs": [],
   "source": [
    "#basic RNN model\n",
    "model = Sequential()\n",
    "model.add(Bidirectional(LSTM(units=128, return_sequences=False), input_shape=smiles_input_shape))\n",
    "model.add(Dense(128, activation='relu'))\n",
    "model.add(Dropout(0.5))\n",
    "model.add(Dense(2, activation='softmax'))"
   ]
  },
  {
   "cell_type": "code",
   "execution_count": 12,
   "metadata": {},
   "outputs": [
    {
     "name": "stdout",
     "output_type": "stream",
     "text": [
      "_________________________________________________________________\n",
      "Layer (type)                 Output Shape              Param #   \n",
      "=================================================================\n",
      "bidirectional_1 (Bidirection (None, 256)               176128    \n",
      "_________________________________________________________________\n",
      "dense_1 (Dense)              (None, 128)               32896     \n",
      "_________________________________________________________________\n",
      "dropout_1 (Dropout)          (None, 128)               0         \n",
      "_________________________________________________________________\n",
      "dense_2 (Dense)              (None, 2)                 258       \n",
      "=================================================================\n",
      "Total params: 209,282\n",
      "Trainable params: 209,282\n",
      "Non-trainable params: 0\n",
      "_________________________________________________________________\n"
     ]
    }
   ],
   "source": [
    "#compile model\n",
    "adam = keras.optimizers.Adam(lr=0.001, decay=0.0, clipnorm=5.)\n",
    "stop = EarlyStopping(patience=20, verbose=1)\n",
    "model.compile(optimizer=adam, loss='sparse_categorical_crossentropy', metrics=[metrics.sparse_categorical_accuracy, f1])\n",
    "checkpoint = ModelCheckpoint(model_file, monitor='val_loss', verbose=1, save_best_only=True, mode='min')\n",
    "\n",
    "callbacks_list = [checkpoint, stop]\n",
    "\n",
    "model.summary()"
   ]
  },
  {
   "cell_type": "code",
   "execution_count": 13,
   "metadata": {},
   "outputs": [
    {
     "name": "stdout",
     "output_type": "stream",
     "text": [
      "Train on 2517 samples, validate on 540 samples\n",
      "Epoch 1/1000\n",
      "2517/2517 [==============================] - 159s 63ms/step - loss: 0.4380 - sparse_categorical_accuracy: 0.8490 - f1: 0.9186 - val_loss: 0.3669 - val_sparse_categorical_accuracy: 0.8759 - val_f1: 0.9328\n",
      "\n",
      "Epoch 00001: val_loss improved from inf to 0.36692, saving model to rnn_map_k_p38a.h5\n",
      "Epoch 2/1000\n",
      "2517/2517 [==============================] - 155s 62ms/step - loss: 0.3987 - sparse_categorical_accuracy: 0.8538 - f1: 0.9183 - val_loss: 0.3418 - val_sparse_categorical_accuracy: 0.8759 - val_f1: 0.9328\n",
      "\n",
      "Epoch 00002: val_loss improved from 0.36692 to 0.34182, saving model to rnn_map_k_p38a.h5\n",
      "Epoch 3/1000\n",
      "2517/2517 [==============================] - 159s 63ms/step - loss: 0.3934 - sparse_categorical_accuracy: 0.8538 - f1: 0.9185 - val_loss: 0.3314 - val_sparse_categorical_accuracy: 0.8852 - val_f1: 0.9328\n",
      "\n",
      "Epoch 00003: val_loss improved from 0.34182 to 0.33143, saving model to rnn_map_k_p38a.h5\n",
      "Epoch 4/1000\n",
      "2517/2517 [==============================] - 157s 62ms/step - loss: 0.3912 - sparse_categorical_accuracy: 0.8605 - f1: 0.9185 - val_loss: 0.3533 - val_sparse_categorical_accuracy: 0.8815 - val_f1: 0.9328\n",
      "\n",
      "Epoch 00004: val_loss did not improve from 0.33143\n",
      "Epoch 5/1000\n",
      "2517/2517 [==============================] - 158s 63ms/step - loss: 0.3805 - sparse_categorical_accuracy: 0.8637 - f1: 0.9181 - val_loss: 0.3311 - val_sparse_categorical_accuracy: 0.8852 - val_f1: 0.9328\n",
      "\n",
      "Epoch 00005: val_loss improved from 0.33143 to 0.33113, saving model to rnn_map_k_p38a.h5\n",
      "Epoch 6/1000\n",
      "2517/2517 [==============================] - 157s 62ms/step - loss: 0.3612 - sparse_categorical_accuracy: 0.8613 - f1: 0.9186 - val_loss: 0.3358 - val_sparse_categorical_accuracy: 0.8889 - val_f1: 0.9328\n",
      "\n",
      "Epoch 00006: val_loss did not improve from 0.33113\n",
      "Epoch 7/1000\n",
      "2517/2517 [==============================] - 155s 62ms/step - loss: 0.3543 - sparse_categorical_accuracy: 0.8689 - f1: 0.9185 - val_loss: 0.3280 - val_sparse_categorical_accuracy: 0.8833 - val_f1: 0.9328\n",
      "\n",
      "Epoch 00007: val_loss improved from 0.33113 to 0.32803, saving model to rnn_map_k_p38a.h5\n",
      "Epoch 8/1000\n",
      "2517/2517 [==============================] - 156s 62ms/step - loss: 0.3511 - sparse_categorical_accuracy: 0.8673 - f1: 0.9181 - val_loss: 0.3416 - val_sparse_categorical_accuracy: 0.8870 - val_f1: 0.9328\n",
      "\n",
      "Epoch 00008: val_loss did not improve from 0.32803\n",
      "Epoch 9/1000\n",
      "2517/2517 [==============================] - 157s 62ms/step - loss: 0.3379 - sparse_categorical_accuracy: 0.8760 - f1: 0.9184 - val_loss: 0.3039 - val_sparse_categorical_accuracy: 0.8981 - val_f1: 0.9328\n",
      "\n",
      "Epoch 00009: val_loss improved from 0.32803 to 0.30391, saving model to rnn_map_k_p38a.h5\n",
      "Epoch 10/1000\n",
      "2517/2517 [==============================] - 157s 62ms/step - loss: 0.3187 - sparse_categorical_accuracy: 0.8856 - f1: 0.9183 - val_loss: 0.3071 - val_sparse_categorical_accuracy: 0.8944 - val_f1: 0.9328\n",
      "\n",
      "Epoch 00010: val_loss did not improve from 0.30391\n",
      "Epoch 11/1000\n",
      "2517/2517 [==============================] - 155s 61ms/step - loss: 0.3154 - sparse_categorical_accuracy: 0.8828 - f1: 0.9181 - val_loss: 0.3063 - val_sparse_categorical_accuracy: 0.8907 - val_f1: 0.9328\n",
      "\n",
      "Epoch 00011: val_loss did not improve from 0.30391\n",
      "Epoch 12/1000\n",
      "2517/2517 [==============================] - 160s 63ms/step - loss: 0.3071 - sparse_categorical_accuracy: 0.8876 - f1: 0.9185 - val_loss: 0.3164 - val_sparse_categorical_accuracy: 0.8944 - val_f1: 0.9328\n",
      "\n",
      "Epoch 00012: val_loss did not improve from 0.30391\n",
      "Epoch 13/1000\n",
      "2517/2517 [==============================] - 156s 62ms/step - loss: 0.3040 - sparse_categorical_accuracy: 0.8864 - f1: 0.9182 - val_loss: 0.3000 - val_sparse_categorical_accuracy: 0.8944 - val_f1: 0.9328\n",
      "\n",
      "Epoch 00013: val_loss improved from 0.30391 to 0.30004, saving model to rnn_map_k_p38a.h5\n",
      "Epoch 14/1000\n",
      "2517/2517 [==============================] - 155s 62ms/step - loss: 0.2916 - sparse_categorical_accuracy: 0.8896 - f1: 0.9180 - val_loss: 0.3148 - val_sparse_categorical_accuracy: 0.8815 - val_f1: 0.9328\n",
      "\n",
      "Epoch 00014: val_loss did not improve from 0.30004\n",
      "Epoch 15/1000\n",
      "2517/2517 [==============================] - 154s 61ms/step - loss: 0.2850 - sparse_categorical_accuracy: 0.8947 - f1: 0.9181 - val_loss: 0.3080 - val_sparse_categorical_accuracy: 0.8926 - val_f1: 0.9328\n",
      "\n",
      "Epoch 00015: val_loss did not improve from 0.30004\n",
      "Epoch 16/1000\n",
      "2517/2517 [==============================] - 134s 53ms/step - loss: 0.2810 - sparse_categorical_accuracy: 0.8939 - f1: 0.9182 - val_loss: 0.3106 - val_sparse_categorical_accuracy: 0.8759 - val_f1: 0.9328\n",
      "\n",
      "Epoch 00016: val_loss did not improve from 0.30004\n",
      "Epoch 17/1000\n",
      "2517/2517 [==============================] - 135s 53ms/step - loss: 0.2702 - sparse_categorical_accuracy: 0.8959 - f1: 0.9183 - val_loss: 0.3172 - val_sparse_categorical_accuracy: 0.8963 - val_f1: 0.9328\n",
      "\n",
      "Epoch 00017: val_loss did not improve from 0.30004\n",
      "Epoch 18/1000\n",
      "2517/2517 [==============================] - 135s 54ms/step - loss: 0.2643 - sparse_categorical_accuracy: 0.9039 - f1: 0.9182 - val_loss: 0.3129 - val_sparse_categorical_accuracy: 0.8889 - val_f1: 0.9328\n",
      "\n",
      "Epoch 00018: val_loss did not improve from 0.30004\n",
      "Epoch 19/1000\n",
      "2517/2517 [==============================] - 149s 59ms/step - loss: 0.2699 - sparse_categorical_accuracy: 0.8975 - f1: 0.9181 - val_loss: 0.3450 - val_sparse_categorical_accuracy: 0.8815 - val_f1: 0.9328\n",
      "\n",
      "Epoch 00019: val_loss did not improve from 0.30004\n",
      "Epoch 20/1000\n",
      "2517/2517 [==============================] - 166s 66ms/step - loss: 0.2602 - sparse_categorical_accuracy: 0.8999 - f1: 0.9180 - val_loss: 0.2973 - val_sparse_categorical_accuracy: 0.8963 - val_f1: 0.9328\n",
      "\n",
      "Epoch 00020: val_loss improved from 0.30004 to 0.29725, saving model to rnn_map_k_p38a.h5\n",
      "Epoch 21/1000\n",
      "2517/2517 [==============================] - 191s 76ms/step - loss: 0.2398 - sparse_categorical_accuracy: 0.9118 - f1: 0.9182 - val_loss: 0.3295 - val_sparse_categorical_accuracy: 0.8963 - val_f1: 0.9328\n",
      "\n",
      "Epoch 00021: val_loss did not improve from 0.29725\n",
      "Epoch 22/1000\n",
      "2517/2517 [==============================] - 187s 74ms/step - loss: 0.2444 - sparse_categorical_accuracy: 0.9098 - f1: 0.9183 - val_loss: 0.3046 - val_sparse_categorical_accuracy: 0.8852 - val_f1: 0.9328\n",
      "\n",
      "Epoch 00022: val_loss did not improve from 0.29725\n",
      "Epoch 23/1000\n",
      "2517/2517 [==============================] - 180s 71ms/step - loss: 0.2400 - sparse_categorical_accuracy: 0.9110 - f1: 0.9179 - val_loss: 0.3245 - val_sparse_categorical_accuracy: 0.8833 - val_f1: 0.9328\n",
      "\n",
      "Epoch 00023: val_loss did not improve from 0.29725\n",
      "Epoch 24/1000\n",
      "2517/2517 [==============================] - 169s 67ms/step - loss: 0.2301 - sparse_categorical_accuracy: 0.9178 - f1: 0.9186 - val_loss: 0.3291 - val_sparse_categorical_accuracy: 0.8889 - val_f1: 0.9328\n",
      "\n",
      "Epoch 00024: val_loss did not improve from 0.29725\n",
      "Epoch 25/1000\n",
      "2517/2517 [==============================] - 157s 62ms/step - loss: 0.2245 - sparse_categorical_accuracy: 0.9130 - f1: 0.9180 - val_loss: 0.3025 - val_sparse_categorical_accuracy: 0.9019 - val_f1: 0.9328\n",
      "\n",
      "Epoch 00025: val_loss did not improve from 0.29725\n",
      "Epoch 26/1000\n",
      "2517/2517 [==============================] - 157s 62ms/step - loss: 0.2146 - sparse_categorical_accuracy: 0.9190 - f1: 0.9182 - val_loss: 0.3064 - val_sparse_categorical_accuracy: 0.8741 - val_f1: 0.9328\n",
      "\n",
      "Epoch 00026: val_loss did not improve from 0.29725\n",
      "Epoch 27/1000\n",
      "2517/2517 [==============================] - 155s 62ms/step - loss: 0.2103 - sparse_categorical_accuracy: 0.9162 - f1: 0.9183 - val_loss: 0.3415 - val_sparse_categorical_accuracy: 0.8889 - val_f1: 0.9328\n",
      "\n",
      "Epoch 00027: val_loss did not improve from 0.29725\n",
      "Epoch 28/1000\n",
      "2517/2517 [==============================] - 157s 62ms/step - loss: 0.2067 - sparse_categorical_accuracy: 0.9241 - f1: 0.9183 - val_loss: 0.3062 - val_sparse_categorical_accuracy: 0.8981 - val_f1: 0.9328\n",
      "\n",
      "Epoch 00028: val_loss did not improve from 0.29725\n",
      "Epoch 29/1000\n",
      "2517/2517 [==============================] - 158s 63ms/step - loss: 0.2019 - sparse_categorical_accuracy: 0.9197 - f1: 0.9182 - val_loss: 0.2904 - val_sparse_categorical_accuracy: 0.9019 - val_f1: 0.9328\n",
      "\n",
      "Epoch 00029: val_loss improved from 0.29725 to 0.29045, saving model to rnn_map_k_p38a.h5\n",
      "Epoch 30/1000\n"
     ]
    },
    {
     "name": "stdout",
     "output_type": "stream",
     "text": [
      "2517/2517 [==============================] - 155s 62ms/step - loss: 0.1873 - sparse_categorical_accuracy: 0.9309 - f1: 0.9179 - val_loss: 0.3031 - val_sparse_categorical_accuracy: 0.9056 - val_f1: 0.9328\n",
      "\n",
      "Epoch 00030: val_loss did not improve from 0.29045\n",
      "Epoch 31/1000\n",
      "2517/2517 [==============================] - 156s 62ms/step - loss: 0.1858 - sparse_categorical_accuracy: 0.9261 - f1: 0.9186 - val_loss: 0.3255 - val_sparse_categorical_accuracy: 0.8722 - val_f1: 0.9328\n",
      "\n",
      "Epoch 00031: val_loss did not improve from 0.29045\n",
      "Epoch 32/1000\n",
      "2517/2517 [==============================] - 155s 62ms/step - loss: 0.1716 - sparse_categorical_accuracy: 0.9321 - f1: 0.9181 - val_loss: 0.3164 - val_sparse_categorical_accuracy: 0.8944 - val_f1: 0.9328\n",
      "\n",
      "Epoch 00032: val_loss did not improve from 0.29045\n",
      "Epoch 33/1000\n",
      "2517/2517 [==============================] - 156s 62ms/step - loss: 0.1708 - sparse_categorical_accuracy: 0.9344 - f1: 0.9181 - val_loss: 0.3094 - val_sparse_categorical_accuracy: 0.8963 - val_f1: 0.9328\n",
      "\n",
      "Epoch 00033: val_loss did not improve from 0.29045\n",
      "Epoch 34/1000\n",
      "2517/2517 [==============================] - 156s 62ms/step - loss: 0.1581 - sparse_categorical_accuracy: 0.9396 - f1: 0.9181 - val_loss: 0.3240 - val_sparse_categorical_accuracy: 0.9019 - val_f1: 0.9328\n",
      "\n",
      "Epoch 00034: val_loss did not improve from 0.29045\n",
      "Epoch 35/1000\n",
      "2517/2517 [==============================] - 156s 62ms/step - loss: 0.1545 - sparse_categorical_accuracy: 0.9384 - f1: 0.9184 - val_loss: 0.3187 - val_sparse_categorical_accuracy: 0.8815 - val_f1: 0.9328\n",
      "\n",
      "Epoch 00035: val_loss did not improve from 0.29045\n",
      "Epoch 36/1000\n",
      "2517/2517 [==============================] - 134s 53ms/step - loss: 0.1641 - sparse_categorical_accuracy: 0.9348 - f1: 0.9182 - val_loss: 0.3640 - val_sparse_categorical_accuracy: 0.8796 - val_f1: 0.9328\n",
      "\n",
      "Epoch 00036: val_loss did not improve from 0.29045\n",
      "Epoch 37/1000\n",
      "2517/2517 [==============================] - 108s 43ms/step - loss: 0.1585 - sparse_categorical_accuracy: 0.9384 - f1: 0.9183 - val_loss: 0.3523 - val_sparse_categorical_accuracy: 0.8796 - val_f1: 0.9328\n",
      "\n",
      "Epoch 00037: val_loss did not improve from 0.29045\n",
      "Epoch 38/1000\n",
      "2517/2517 [==============================] - 110s 44ms/step - loss: 0.1541 - sparse_categorical_accuracy: 0.9388 - f1: 0.9180 - val_loss: 0.3459 - val_sparse_categorical_accuracy: 0.8833 - val_f1: 0.9328\n",
      "\n",
      "Epoch 00038: val_loss did not improve from 0.29045\n",
      "Epoch 39/1000\n",
      "2517/2517 [==============================] - 111s 44ms/step - loss: 0.1502 - sparse_categorical_accuracy: 0.9432 - f1: 0.9183 - val_loss: 0.3650 - val_sparse_categorical_accuracy: 0.8722 - val_f1: 0.9328\n",
      "\n",
      "Epoch 00039: val_loss did not improve from 0.29045\n",
      "Epoch 40/1000\n",
      "2517/2517 [==============================] - 110s 44ms/step - loss: 0.1373 - sparse_categorical_accuracy: 0.9527 - f1: 0.9183 - val_loss: 0.3082 - val_sparse_categorical_accuracy: 0.9111 - val_f1: 0.9328\n",
      "\n",
      "Epoch 00040: val_loss did not improve from 0.29045\n",
      "Epoch 41/1000\n",
      "2517/2517 [==============================] - 112s 44ms/step - loss: 0.1392 - sparse_categorical_accuracy: 0.9464 - f1: 0.9183 - val_loss: 0.3104 - val_sparse_categorical_accuracy: 0.8981 - val_f1: 0.9328\n",
      "\n",
      "Epoch 00041: val_loss did not improve from 0.29045\n",
      "Epoch 42/1000\n",
      "2517/2517 [==============================] - 110s 44ms/step - loss: 0.1276 - sparse_categorical_accuracy: 0.9495 - f1: 0.9183 - val_loss: 0.3562 - val_sparse_categorical_accuracy: 0.8944 - val_f1: 0.9328\n",
      "\n",
      "Epoch 00042: val_loss did not improve from 0.29045\n",
      "Epoch 43/1000\n",
      "2517/2517 [==============================] - 112s 45ms/step - loss: 0.1278 - sparse_categorical_accuracy: 0.9527 - f1: 0.9182 - val_loss: 0.4358 - val_sparse_categorical_accuracy: 0.8648 - val_f1: 0.9328\n",
      "\n",
      "Epoch 00043: val_loss did not improve from 0.29045\n",
      "Epoch 44/1000\n",
      "2517/2517 [==============================] - 112s 44ms/step - loss: 0.1368 - sparse_categorical_accuracy: 0.9491 - f1: 0.9181 - val_loss: 0.3364 - val_sparse_categorical_accuracy: 0.9019 - val_f1: 0.9328\n",
      "\n",
      "Epoch 00044: val_loss did not improve from 0.29045\n",
      "Epoch 45/1000\n",
      "2517/2517 [==============================] - 93s 37ms/step - loss: 0.1240 - sparse_categorical_accuracy: 0.9547 - f1: 0.9184 - val_loss: 0.3630 - val_sparse_categorical_accuracy: 0.8833 - val_f1: 0.9328\n",
      "\n",
      "Epoch 00045: val_loss did not improve from 0.29045\n",
      "Epoch 46/1000\n",
      "2517/2517 [==============================] - 87s 35ms/step - loss: 0.1084 - sparse_categorical_accuracy: 0.9607 - f1: 0.9182 - val_loss: 0.3707 - val_sparse_categorical_accuracy: 0.8926 - val_f1: 0.9328\n",
      "\n",
      "Epoch 00046: val_loss did not improve from 0.29045\n",
      "Epoch 47/1000\n",
      "2517/2517 [==============================] - 86s 34ms/step - loss: 0.1163 - sparse_categorical_accuracy: 0.9563 - f1: 0.9181 - val_loss: 0.4286 - val_sparse_categorical_accuracy: 0.9019 - val_f1: 0.9328\n",
      "\n",
      "Epoch 00047: val_loss did not improve from 0.29045\n",
      "Epoch 48/1000\n",
      "2517/2517 [==============================] - 87s 35ms/step - loss: 0.1173 - sparse_categorical_accuracy: 0.9515 - f1: 0.9183 - val_loss: 0.3884 - val_sparse_categorical_accuracy: 0.8926 - val_f1: 0.9328\n",
      "\n",
      "Epoch 00048: val_loss did not improve from 0.29045\n",
      "Epoch 49/1000\n",
      "2517/2517 [==============================] - 88s 35ms/step - loss: 0.1082 - sparse_categorical_accuracy: 0.9611 - f1: 0.9183 - val_loss: 0.3930 - val_sparse_categorical_accuracy: 0.8907 - val_f1: 0.9328\n",
      "\n",
      "Epoch 00049: val_loss did not improve from 0.29045\n",
      "Epoch 00049: early stopping\n"
     ]
    },
    {
     "data": {
      "text/plain": [
       "<keras.callbacks.History at 0x7f99ff783a90>"
      ]
     },
     "execution_count": 13,
     "metadata": {},
     "output_type": "execute_result"
    }
   ],
   "source": [
    "#training\n",
    "model.fit(x=X_smiles_train, \n",
    "          y=y_train, \n",
    "          batch_size=32, \n",
    "          epochs=1000, \n",
    "          verbose=1, \n",
    "          callbacks=callbacks_list, \n",
    "          validation_data=(X_smiles_val, y_val), \n",
    "          shuffle=True)"
   ]
  },
  {
   "cell_type": "code",
   "execution_count": 14,
   "metadata": {},
   "outputs": [
    {
     "name": "stdout",
     "output_type": "stream",
     "text": [
      "['loss', 'sparse_categorical_accuracy', 'f1']\n"
     ]
    }
   ],
   "source": [
    "#testing\n",
    "from keras.models import load_model\n",
    "trained_model = load_model(model_file, custom_objects={'f1': f1})\n",
    "print(trained_model.metrics_names)"
   ]
  },
  {
   "cell_type": "code",
   "execution_count": 15,
   "metadata": {},
   "outputs": [
    {
     "name": "stdout",
     "output_type": "stream",
     "text": [
      "2517/2517 [==============================] - 24s 9ms/step\n"
     ]
    },
    {
     "data": {
      "text/plain": [
       "[0.1754629839541754, 0.9388160509489148, 0.918597055442948]"
      ]
     },
     "execution_count": 15,
     "metadata": {},
     "output_type": "execute_result"
    }
   ],
   "source": [
    "trained_model.evaluate(x=X_smiles_train, y=y_train)"
   ]
  },
  {
   "cell_type": "code",
   "execution_count": 16,
   "metadata": {},
   "outputs": [
    {
     "name": "stdout",
     "output_type": "stream",
     "text": [
      "540/540 [==============================] - 5s 9ms/step\n"
     ]
    },
    {
     "data": {
      "text/plain": [
       "[0.29044554675066914, 0.9018518531763995, 0.9327539452800044]"
      ]
     },
     "execution_count": 16,
     "metadata": {},
     "output_type": "execute_result"
    }
   ],
   "source": [
    "trained_model.evaluate(x=X_smiles_val, y=y_val)"
   ]
  },
  {
   "cell_type": "code",
   "execution_count": 17,
   "metadata": {},
   "outputs": [
    {
     "name": "stdout",
     "output_type": "stream",
     "text": [
      "540/540 [==============================] - 5s 9ms/step\n"
     ]
    },
    {
     "data": {
      "text/plain": [
       "[0.27266767466509784, 0.9129629616384153, 0.9243366532855564]"
      ]
     },
     "execution_count": 17,
     "metadata": {},
     "output_type": "execute_result"
    }
   ],
   "source": [
    "trained_model.evaluate(x=X_smiles_test, y=y_test)"
   ]
  },
  {
   "cell_type": "code",
   "execution_count": 18,
   "metadata": {},
   "outputs": [],
   "source": [
    "from sklearn.metrics import roc_curve\n",
    "from sklearn.metrics import roc_auc_score\n",
    "pred_train = trained_model.predict(x=X_smiles_train)[:,1]\n",
    "pred_val = trained_model.predict(x=X_smiles_val)[:,1]\n",
    "pred_test = trained_model.predict(x=X_smiles_test)[:,1]\n",
    "np.savez(model_file[:-2] + 'npz', pred_train=pred_train, pred_val=pred_val, pred_test=pred_test)"
   ]
  }
 ],
 "metadata": {
  "kernelspec": {
   "display_name": "Python 3",
   "language": "python",
   "name": "python3"
  },
  "language_info": {
   "codemirror_mode": {
    "name": "ipython",
    "version": 3
   },
   "file_extension": ".py",
   "mimetype": "text/x-python",
   "name": "python",
   "nbconvert_exporter": "python",
   "pygments_lexer": "ipython3",
   "version": "3.6.7"
  }
 },
 "nbformat": 4,
 "nbformat_minor": 2
}
