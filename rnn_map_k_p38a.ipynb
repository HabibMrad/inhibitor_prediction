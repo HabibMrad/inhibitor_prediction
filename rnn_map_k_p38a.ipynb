{
 "cells": [
  {
   "cell_type": "code",
   "execution_count": 1,
   "metadata": {},
   "outputs": [
    {
     "name": "stderr",
     "output_type": "stream",
     "text": [
      "Using TensorFlow backend.\n"
     ]
    }
   ],
   "source": [
    "import os\n",
    "import sys\n",
    "import numpy as np\n",
    "import keras\n",
    "from sklearn.model_selection import train_test_split"
   ]
  },
  {
   "cell_type": "code",
   "execution_count": 2,
   "metadata": {},
   "outputs": [],
   "source": [
    "seed = 273\n",
    "kinase = 'map_k_p38a'\n",
    "model_file = 'basic_RNN_%s.h5' % (kinase)"
   ]
  },
  {
   "cell_type": "code",
   "execution_count": 3,
   "metadata": {},
   "outputs": [],
   "source": [
    "#import data\n",
    "lines = [line.strip().split(',') for line in open(os.path.join('data', kinase+'_smiles.csv'))]\n",
    "smiles = [line[1] for line in lines]\n",
    "y = np.asarray([int(line[2]) for line in lines], dtype=np.int8)"
   ]
  },
  {
   "cell_type": "code",
   "execution_count": 4,
   "metadata": {},
   "outputs": [],
   "source": [
    "#pad smiles with '!' to ensure equal length\n",
    "max_smiles_len = max(len(s) for s in smiles)\n",
    "smiles = [s + '!'*(max_smiles_len + 1 - len(s)) for s in smiles]"
   ]
  },
  {
   "cell_type": "code",
   "execution_count": 5,
   "metadata": {},
   "outputs": [],
   "source": [
    "#one-hot vector representation of smiles\n",
    "char_set = set()\n",
    "for s in smiles:\n",
    "    for c in s:\n",
    "        char_set.add(c)\n",
    "char_set = list(char_set)\n",
    "char_to_index = {char_set[i]: i for i in range(len(char_set))}\n",
    "\n",
    "X = np.zeros((len(smiles), max_smiles_len + 1, len(char_set)))\n",
    "for i in range(len(smiles)):\n",
    "    code = smiles[i]\n",
    "    for j in range(len(code)):\n",
    "        char = code[j]\n",
    "        X[i, j, char_to_index[char]] = 1        "
   ]
  },
  {
   "cell_type": "code",
   "execution_count": 6,
   "metadata": {},
   "outputs": [
    {
     "name": "stdout",
     "output_type": "stream",
     "text": [
      "(2517, 268, 43) (2517,)\n",
      "(540, 268, 43) (540,)\n",
      "(540, 268, 43) (540,)\n"
     ]
    }
   ],
   "source": [
    "#train val test split\n",
    "X_train, X_test, y_train, y_test = train_test_split(X, y, test_size=0.3, random_state=seed)\n",
    "X_val, X_test, y_val, y_test = train_test_split(X_test, y_test, test_size=0.5, random_state=seed)\n",
    "\n",
    "print(X_train.shape, y_train.shape)\n",
    "print(X_val.shape, y_val.shape)\n",
    "print(X_test.shape, y_test.shape)\n",
    "\n",
    "input_shape = X_train.shape[1:]"
   ]
  },
  {
   "cell_type": "code",
   "execution_count": 7,
   "metadata": {},
   "outputs": [
    {
     "name": "stdout",
     "output_type": "stream",
     "text": [
      "[]\n"
     ]
    }
   ],
   "source": [
    "#check GPU presence\n",
    "from tensorflow.python.client import device_lib\n",
    "\n",
    "def get_available_gpus():\n",
    "    local_device_protos = device_lib.list_local_devices()\n",
    "    return [x.name for x in local_device_protos if x.device_type == 'GPU']\n",
    "\n",
    "print(get_available_gpus())"
   ]
  },
  {
   "cell_type": "code",
   "execution_count": 8,
   "metadata": {},
   "outputs": [],
   "source": [
    "#keras imports\n",
    "from keras.models import Sequential\n",
    "from keras.layers import TimeDistributed, GlobalAveragePooling2D, Activation, Dense, Input, Bidirectional\n",
    "from keras.layers import BatchNormalization, Conv2D, MaxPooling2D, AveragePooling2D, GlobalAveragePooling2D\n",
    "from keras.layers import GlobalMaxPooling2D\n",
    "from keras.layers.recurrent import LSTM\n",
    "from keras.callbacks import ModelCheckpoint, ReduceLROnPlateau, Callback, EarlyStopping\n",
    "from keras.layers import Dropout, Flatten\n",
    "from keras.layers import concatenate\n",
    "from keras import regularizers\n",
    "from keras import initializers\n",
    "from keras import constraints\n",
    "from keras.models import Model\n",
    "# Backend\n",
    "from keras import backend as K\n",
    "# Utils\n",
    "from keras.utils.layer_utils import convert_all_kernels_in_model\n",
    "from keras.utils.data_utils import get_file\n",
    "from keras import metrics"
   ]
  },
  {
   "cell_type": "code",
   "execution_count": 9,
   "metadata": {},
   "outputs": [],
   "source": [
    "#F1 score computation\n",
    "from sklearn.metrics import confusion_matrix, f1_score, precision_score, recall_score\n",
    "from keras import backend as K\n",
    "\n",
    "def f1(y_true, y_pred):\n",
    "    def recall(y_true, y_pred):\n",
    "        \"\"\"Recall metric.\n",
    "\n",
    "        Only computes a batch-wise average of recall.\n",
    "\n",
    "        Computes the recall, a metric for multi-label classification of\n",
    "        how many relevant items are selected.\n",
    "        \"\"\"\n",
    "        true_positives = K.sum(K.round(K.clip(y_true * y_pred, 0, 1)))\n",
    "        possible_positives = K.sum(K.round(K.clip(y_true, 0, 1)))\n",
    "        recall = true_positives / (possible_positives + K.epsilon())\n",
    "        return recall\n",
    "\n",
    "    def precision(y_true, y_pred):\n",
    "        \"\"\"Precision metric.\n",
    "\n",
    "        Only computes a batch-wise average of precision.\n",
    "\n",
    "        Computes the precision, a metric for multi-label classification of\n",
    "        how many selected items are relevant.\n",
    "        \"\"\"\n",
    "        true_positives = K.sum(K.round(K.clip(y_true * y_pred, 0, 1)))\n",
    "        predicted_positives = K.sum(K.round(K.clip(y_pred, 0, 1)))\n",
    "        precision = true_positives / (predicted_positives + K.epsilon())\n",
    "        return precision\n",
    "    precision = precision(y_true, y_pred)\n",
    "    recall = recall(y_true, y_pred)\n",
    "    return 2*((precision*recall)/(precision+recall+K.epsilon()))"
   ]
  },
  {
   "cell_type": "code",
   "execution_count": 10,
   "metadata": {},
   "outputs": [],
   "source": [
    "#basic RNN model\n",
    "model = Sequential()\n",
    "model.add(Bidirectional(LSTM(units=64, return_sequences=False), input_shape=input_shape))\n",
    "model.add(Dense(64, activation='relu'))\n",
    "model.add(Dropout(0.5))\n",
    "model.add(Dense(2, activation='softmax'))"
   ]
  },
  {
   "cell_type": "code",
   "execution_count": 11,
   "metadata": {},
   "outputs": [
    {
     "name": "stdout",
     "output_type": "stream",
     "text": [
      "_________________________________________________________________\n",
      "Layer (type)                 Output Shape              Param #   \n",
      "=================================================================\n",
      "bidirectional_1 (Bidirection (None, 128)               55296     \n",
      "_________________________________________________________________\n",
      "dense_1 (Dense)              (None, 64)                8256      \n",
      "_________________________________________________________________\n",
      "dropout_1 (Dropout)          (None, 64)                0         \n",
      "_________________________________________________________________\n",
      "dense_2 (Dense)              (None, 2)                 130       \n",
      "=================================================================\n",
      "Total params: 63,682\n",
      "Trainable params: 63,682\n",
      "Non-trainable params: 0\n",
      "_________________________________________________________________\n"
     ]
    }
   ],
   "source": [
    "#compile model\n",
    "adam = keras.optimizers.Adam(lr=0.001, decay=0.0, clipnorm=5.)\n",
    "stop = EarlyStopping(patience=20, verbose=1)\n",
    "model.compile(optimizer=adam, loss='sparse_categorical_crossentropy', metrics=[metrics.sparse_categorical_accuracy, f1])\n",
    "checkpoint = ModelCheckpoint(model_file, monitor='val_loss', verbose=1, save_best_only=True, mode='min')\n",
    "\n",
    "callbacks_list = [checkpoint, stop]\n",
    "\n",
    "model.summary()"
   ]
  },
  {
   "cell_type": "code",
   "execution_count": 12,
   "metadata": {},
   "outputs": [
    {
     "name": "stdout",
     "output_type": "stream",
     "text": [
      "Train on 2517 samples, validate on 540 samples\n",
      "Epoch 1/1000\n",
      "2517/2517 [==============================] - 125s 50ms/step - loss: 0.4382 - sparse_categorical_accuracy: 0.8522 - f1: 0.9222 - val_loss: 0.4069 - val_sparse_categorical_accuracy: 0.8556 - val_f1: 0.9209\n",
      "\n",
      "Epoch 00001: val_loss improved from inf to 0.40694, saving model to basic_RNN_map_k_p38a.h5\n",
      "Epoch 2/1000\n",
      "2517/2517 [==============================] - 112s 45ms/step - loss: 0.3987 - sparse_categorical_accuracy: 0.8570 - f1: 0.9218 - val_loss: 0.3899 - val_sparse_categorical_accuracy: 0.8556 - val_f1: 0.9209\n",
      "\n",
      "Epoch 00002: val_loss improved from 0.40694 to 0.38991, saving model to basic_RNN_map_k_p38a.h5\n",
      "Epoch 3/1000\n",
      "2517/2517 [==============================] - 112s 44ms/step - loss: 0.3826 - sparse_categorical_accuracy: 0.8625 - f1: 0.9219 - val_loss: 0.3732 - val_sparse_categorical_accuracy: 0.8556 - val_f1: 0.9209\n",
      "\n",
      "Epoch 00003: val_loss improved from 0.38991 to 0.37321, saving model to basic_RNN_map_k_p38a.h5\n",
      "Epoch 4/1000\n",
      "2517/2517 [==============================] - 112s 45ms/step - loss: 0.3516 - sparse_categorical_accuracy: 0.8741 - f1: 0.9215 - val_loss: 0.3468 - val_sparse_categorical_accuracy: 0.8796 - val_f1: 0.9209\n",
      "\n",
      "Epoch 00004: val_loss improved from 0.37321 to 0.34683, saving model to basic_RNN_map_k_p38a.h5\n",
      "Epoch 5/1000\n",
      "2517/2517 [==============================] - 110s 44ms/step - loss: 0.3465 - sparse_categorical_accuracy: 0.8816 - f1: 0.9218 - val_loss: 0.3556 - val_sparse_categorical_accuracy: 0.8778 - val_f1: 0.9209\n",
      "\n",
      "Epoch 00005: val_loss did not improve from 0.34683\n",
      "Epoch 6/1000\n",
      "2517/2517 [==============================] - 103s 41ms/step - loss: 0.3547 - sparse_categorical_accuracy: 0.8725 - f1: 0.9221 - val_loss: 0.3549 - val_sparse_categorical_accuracy: 0.8778 - val_f1: 0.9209\n",
      "\n",
      "Epoch 00006: val_loss did not improve from 0.34683\n",
      "Epoch 7/1000\n",
      "2517/2517 [==============================] - 96s 38ms/step - loss: 0.3411 - sparse_categorical_accuracy: 0.8812 - f1: 0.9216 - val_loss: 0.3501 - val_sparse_categorical_accuracy: 0.8796 - val_f1: 0.9209\n",
      "\n",
      "Epoch 00007: val_loss did not improve from 0.34683\n",
      "Epoch 8/1000\n",
      "2517/2517 [==============================] - 98s 39ms/step - loss: 0.3352 - sparse_categorical_accuracy: 0.8848 - f1: 0.9217 - val_loss: 0.3329 - val_sparse_categorical_accuracy: 0.8778 - val_f1: 0.9209\n",
      "\n",
      "Epoch 00008: val_loss improved from 0.34683 to 0.33288, saving model to basic_RNN_map_k_p38a.h5\n",
      "Epoch 9/1000\n",
      "2517/2517 [==============================] - 97s 38ms/step - loss: 0.3164 - sparse_categorical_accuracy: 0.8896 - f1: 0.9222 - val_loss: 0.3386 - val_sparse_categorical_accuracy: 0.8778 - val_f1: 0.9209\n",
      "\n",
      "Epoch 00009: val_loss did not improve from 0.33288\n",
      "Epoch 10/1000\n",
      "2517/2517 [==============================] - 97s 38ms/step - loss: 0.3136 - sparse_categorical_accuracy: 0.8927 - f1: 0.9215 - val_loss: 0.3349 - val_sparse_categorical_accuracy: 0.8759 - val_f1: 0.9209\n",
      "\n",
      "Epoch 00010: val_loss did not improve from 0.33288\n",
      "Epoch 11/1000\n",
      "2517/2517 [==============================] - 96s 38ms/step - loss: 0.3148 - sparse_categorical_accuracy: 0.8903 - f1: 0.9215 - val_loss: 0.3315 - val_sparse_categorical_accuracy: 0.8796 - val_f1: 0.9209\n",
      "\n",
      "Epoch 00011: val_loss improved from 0.33288 to 0.33155, saving model to basic_RNN_map_k_p38a.h5\n",
      "Epoch 12/1000\n",
      "2517/2517 [==============================] - 97s 38ms/step - loss: 0.3014 - sparse_categorical_accuracy: 0.8987 - f1: 0.9217 - val_loss: 0.3420 - val_sparse_categorical_accuracy: 0.8815 - val_f1: 0.9209\n",
      "\n",
      "Epoch 00012: val_loss did not improve from 0.33155\n",
      "Epoch 13/1000\n",
      "2517/2517 [==============================] - 97s 39ms/step - loss: 0.3017 - sparse_categorical_accuracy: 0.9007 - f1: 0.9222 - val_loss: 0.3571 - val_sparse_categorical_accuracy: 0.8537 - val_f1: 0.9209\n",
      "\n",
      "Epoch 00013: val_loss did not improve from 0.33155\n",
      "Epoch 14/1000\n",
      "2517/2517 [==============================] - 97s 39ms/step - loss: 0.2940 - sparse_categorical_accuracy: 0.8983 - f1: 0.9217 - val_loss: 0.3204 - val_sparse_categorical_accuracy: 0.8796 - val_f1: 0.9209\n",
      "\n",
      "Epoch 00014: val_loss improved from 0.33155 to 0.32042, saving model to basic_RNN_map_k_p38a.h5\n",
      "Epoch 15/1000\n",
      "2517/2517 [==============================] - 96s 38ms/step - loss: 0.2916 - sparse_categorical_accuracy: 0.8987 - f1: 0.9215 - val_loss: 0.3273 - val_sparse_categorical_accuracy: 0.8815 - val_f1: 0.9209\n",
      "\n",
      "Epoch 00015: val_loss did not improve from 0.32042\n",
      "Epoch 16/1000\n",
      "2517/2517 [==============================] - 86s 34ms/step - loss: 0.2818 - sparse_categorical_accuracy: 0.9011 - f1: 0.9216 - val_loss: 0.3231 - val_sparse_categorical_accuracy: 0.8741 - val_f1: 0.9209\n",
      "\n",
      "Epoch 00016: val_loss did not improve from 0.32042\n",
      "Epoch 17/1000\n",
      "2517/2517 [==============================] - 83s 33ms/step - loss: 0.2802 - sparse_categorical_accuracy: 0.9027 - f1: 0.9219 - val_loss: 0.3300 - val_sparse_categorical_accuracy: 0.8778 - val_f1: 0.9209\n",
      "\n",
      "Epoch 00017: val_loss did not improve from 0.32042\n",
      "Epoch 18/1000\n",
      "2517/2517 [==============================] - 84s 33ms/step - loss: 0.2793 - sparse_categorical_accuracy: 0.9066 - f1: 0.9216 - val_loss: 0.3251 - val_sparse_categorical_accuracy: 0.8759 - val_f1: 0.9209\n",
      "\n",
      "Epoch 00018: val_loss did not improve from 0.32042\n",
      "Epoch 19/1000\n",
      "2517/2517 [==============================] - 85s 34ms/step - loss: 0.2733 - sparse_categorical_accuracy: 0.9027 - f1: 0.9219 - val_loss: 0.3277 - val_sparse_categorical_accuracy: 0.8722 - val_f1: 0.9209\n",
      "\n",
      "Epoch 00019: val_loss did not improve from 0.32042\n",
      "Epoch 20/1000\n",
      "2517/2517 [==============================] - 83s 33ms/step - loss: 0.2625 - sparse_categorical_accuracy: 0.9082 - f1: 0.9215 - val_loss: 0.3293 - val_sparse_categorical_accuracy: 0.8815 - val_f1: 0.9209\n",
      "\n",
      "Epoch 00020: val_loss did not improve from 0.32042\n",
      "Epoch 21/1000\n",
      "2517/2517 [==============================] - 83s 33ms/step - loss: 0.2600 - sparse_categorical_accuracy: 0.9062 - f1: 0.9212 - val_loss: 0.3374 - val_sparse_categorical_accuracy: 0.8796 - val_f1: 0.9209\n",
      "\n",
      "Epoch 00021: val_loss did not improve from 0.32042\n",
      "Epoch 22/1000\n",
      "2517/2517 [==============================] - 83s 33ms/step - loss: 0.2639 - sparse_categorical_accuracy: 0.9031 - f1: 0.9219 - val_loss: 0.3157 - val_sparse_categorical_accuracy: 0.8852 - val_f1: 0.9209\n",
      "\n",
      "Epoch 00022: val_loss improved from 0.32042 to 0.31567, saving model to basic_RNN_map_k_p38a.h5\n",
      "Epoch 23/1000\n",
      "2517/2517 [==============================] - 83s 33ms/step - loss: 0.2437 - sparse_categorical_accuracy: 0.9102 - f1: 0.9218 - val_loss: 0.3270 - val_sparse_categorical_accuracy: 0.8741 - val_f1: 0.9209\n",
      "\n",
      "Epoch 00023: val_loss did not improve from 0.31567\n",
      "Epoch 24/1000\n",
      "2517/2517 [==============================] - 85s 34ms/step - loss: 0.2497 - sparse_categorical_accuracy: 0.9118 - f1: 0.9220 - val_loss: 0.3209 - val_sparse_categorical_accuracy: 0.8833 - val_f1: 0.9209\n",
      "\n",
      "Epoch 00024: val_loss did not improve from 0.31567\n",
      "Epoch 25/1000\n",
      "2517/2517 [==============================] - 74s 29ms/step - loss: 0.2360 - sparse_categorical_accuracy: 0.9118 - f1: 0.9221 - val_loss: 0.3328 - val_sparse_categorical_accuracy: 0.8815 - val_f1: 0.9209\n",
      "\n",
      "Epoch 00025: val_loss did not improve from 0.31567\n",
      "Epoch 26/1000\n",
      "2517/2517 [==============================] - 57s 22ms/step - loss: 0.2294 - sparse_categorical_accuracy: 0.9170 - f1: 0.9212 - val_loss: 0.3401 - val_sparse_categorical_accuracy: 0.8741 - val_f1: 0.9209\n",
      "\n",
      "Epoch 00026: val_loss did not improve from 0.31567\n",
      "Epoch 27/1000\n",
      "2517/2517 [==============================] - 54s 21ms/step - loss: 0.2275 - sparse_categorical_accuracy: 0.9186 - f1: 0.9221 - val_loss: 0.3476 - val_sparse_categorical_accuracy: 0.8833 - val_f1: 0.9209\n",
      "\n",
      "Epoch 00027: val_loss did not improve from 0.31567\n",
      "Epoch 28/1000\n",
      "2517/2517 [==============================] - 55s 22ms/step - loss: 0.2160 - sparse_categorical_accuracy: 0.9178 - f1: 0.9218 - val_loss: 0.3318 - val_sparse_categorical_accuracy: 0.8815 - val_f1: 0.9209\n",
      "\n",
      "Epoch 00028: val_loss did not improve from 0.31567\n",
      "Epoch 29/1000\n",
      "2517/2517 [==============================] - 56s 22ms/step - loss: 0.2247 - sparse_categorical_accuracy: 0.9162 - f1: 0.9217 - val_loss: 0.3346 - val_sparse_categorical_accuracy: 0.8722 - val_f1: 0.9209\n",
      "\n",
      "Epoch 00029: val_loss did not improve from 0.31567\n",
      "Epoch 30/1000\n"
     ]
    },
    {
     "name": "stdout",
     "output_type": "stream",
     "text": [
      "2517/2517 [==============================] - 56s 22ms/step - loss: 0.2121 - sparse_categorical_accuracy: 0.9225 - f1: 0.9220 - val_loss: 0.3260 - val_sparse_categorical_accuracy: 0.8833 - val_f1: 0.9209\n",
      "\n",
      "Epoch 00030: val_loss did not improve from 0.31567\n",
      "Epoch 31/1000\n",
      "2517/2517 [==============================] - 55s 22ms/step - loss: 0.2041 - sparse_categorical_accuracy: 0.9285 - f1: 0.9219 - val_loss: 0.3398 - val_sparse_categorical_accuracy: 0.8833 - val_f1: 0.9209\n",
      "\n",
      "Epoch 00031: val_loss did not improve from 0.31567\n",
      "Epoch 32/1000\n",
      "2517/2517 [==============================] - 55s 22ms/step - loss: 0.2128 - sparse_categorical_accuracy: 0.9221 - f1: 0.9219 - val_loss: 0.3369 - val_sparse_categorical_accuracy: 0.8815 - val_f1: 0.9209\n",
      "\n",
      "Epoch 00032: val_loss did not improve from 0.31567\n",
      "Epoch 33/1000\n",
      "2517/2517 [==============================] - 55s 22ms/step - loss: 0.1944 - sparse_categorical_accuracy: 0.9257 - f1: 0.9215 - val_loss: 0.4098 - val_sparse_categorical_accuracy: 0.8407 - val_f1: 0.9209\n",
      "\n",
      "Epoch 00033: val_loss did not improve from 0.31567\n",
      "Epoch 34/1000\n",
      "2517/2517 [==============================] - 56s 22ms/step - loss: 0.1914 - sparse_categorical_accuracy: 0.9265 - f1: 0.9216 - val_loss: 0.3754 - val_sparse_categorical_accuracy: 0.8833 - val_f1: 0.9209\n",
      "\n",
      "Epoch 00034: val_loss did not improve from 0.31567\n",
      "Epoch 35/1000\n",
      "2517/2517 [==============================] - 55s 22ms/step - loss: 0.1895 - sparse_categorical_accuracy: 0.9297 - f1: 0.9209 - val_loss: 0.3285 - val_sparse_categorical_accuracy: 0.8833 - val_f1: 0.9209\n",
      "\n",
      "Epoch 00035: val_loss did not improve from 0.31567\n",
      "Epoch 36/1000\n",
      "2517/2517 [==============================] - 55s 22ms/step - loss: 0.1825 - sparse_categorical_accuracy: 0.9329 - f1: 0.9217 - val_loss: 0.3438 - val_sparse_categorical_accuracy: 0.8815 - val_f1: 0.9209\n",
      "\n",
      "Epoch 00036: val_loss did not improve from 0.31567\n",
      "Epoch 37/1000\n",
      "2517/2517 [==============================] - 56s 22ms/step - loss: 0.1757 - sparse_categorical_accuracy: 0.9281 - f1: 0.9218 - val_loss: 0.3871 - val_sparse_categorical_accuracy: 0.8704 - val_f1: 0.9209\n",
      "\n",
      "Epoch 00037: val_loss did not improve from 0.31567\n",
      "Epoch 38/1000\n",
      "2517/2517 [==============================] - 55s 22ms/step - loss: 0.1659 - sparse_categorical_accuracy: 0.9380 - f1: 0.9219 - val_loss: 0.4063 - val_sparse_categorical_accuracy: 0.8630 - val_f1: 0.9209\n",
      "\n",
      "Epoch 00038: val_loss did not improve from 0.31567\n",
      "Epoch 39/1000\n",
      "2517/2517 [==============================] - 55s 22ms/step - loss: 0.1630 - sparse_categorical_accuracy: 0.9388 - f1: 0.9215 - val_loss: 0.3865 - val_sparse_categorical_accuracy: 0.8722 - val_f1: 0.9209\n",
      "\n",
      "Epoch 00039: val_loss did not improve from 0.31567\n",
      "Epoch 40/1000\n",
      "2517/2517 [==============================] - 56s 22ms/step - loss: 0.1669 - sparse_categorical_accuracy: 0.9329 - f1: 0.9218 - val_loss: 0.4350 - val_sparse_categorical_accuracy: 0.8611 - val_f1: 0.9209\n",
      "\n",
      "Epoch 00040: val_loss did not improve from 0.31567\n",
      "Epoch 41/1000\n",
      "2517/2517 [==============================] - 56s 22ms/step - loss: 0.1474 - sparse_categorical_accuracy: 0.9476 - f1: 0.9215 - val_loss: 0.3926 - val_sparse_categorical_accuracy: 0.8722 - val_f1: 0.9209\n",
      "\n",
      "Epoch 00041: val_loss did not improve from 0.31567\n",
      "Epoch 42/1000\n",
      "2517/2517 [==============================] - 56s 22ms/step - loss: 0.1417 - sparse_categorical_accuracy: 0.9432 - f1: 0.9220 - val_loss: 0.4026 - val_sparse_categorical_accuracy: 0.8704 - val_f1: 0.9209\n",
      "\n",
      "Epoch 00042: val_loss did not improve from 0.31567\n",
      "Epoch 00042: early stopping\n"
     ]
    },
    {
     "data": {
      "text/plain": [
       "<keras.callbacks.History at 0x7fad53e43d68>"
      ]
     },
     "execution_count": 12,
     "metadata": {},
     "output_type": "execute_result"
    }
   ],
   "source": [
    "#training\n",
    "model.fit(x=X_train, \n",
    "          y=y_train, \n",
    "          batch_size=32, \n",
    "          epochs=1000, \n",
    "          verbose=1, \n",
    "          callbacks=callbacks_list, \n",
    "          validation_data=(X_val, y_val), \n",
    "          shuffle=True)"
   ]
  },
  {
   "cell_type": "code",
   "execution_count": 13,
   "metadata": {},
   "outputs": [
    {
     "name": "stdout",
     "output_type": "stream",
     "text": [
      "['loss', 'sparse_categorical_accuracy', 'f1']\n"
     ]
    }
   ],
   "source": [
    "#testing\n",
    "from keras.models import load_model\n",
    "trained_model = load_model(model_file, custom_objects={'f1': f1})\n",
    "print(trained_model.metrics_names)"
   ]
  },
  {
   "cell_type": "code",
   "execution_count": 14,
   "metadata": {},
   "outputs": [
    {
     "name": "stdout",
     "output_type": "stream",
     "text": [
      "2517/2517 [==============================] - 14s 6ms/step\n"
     ]
    },
    {
     "data": {
      "text/plain": [
       "[0.2256920928987284, 0.9193484308135192, 0.9220771583290767]"
      ]
     },
     "execution_count": 14,
     "metadata": {},
     "output_type": "execute_result"
    }
   ],
   "source": [
    "trained_model.evaluate(x=X_train, y=y_train)"
   ]
  },
  {
   "cell_type": "code",
   "execution_count": 15,
   "metadata": {},
   "outputs": [
    {
     "name": "stdout",
     "output_type": "stream",
     "text": [
      "540/540 [==============================] - 3s 6ms/step\n"
     ]
    },
    {
     "data": {
      "text/plain": [
       "[0.3156653786147082, 0.8851851843021534, 0.9209009148456432]"
      ]
     },
     "execution_count": 15,
     "metadata": {},
     "output_type": "execute_result"
    }
   ],
   "source": [
    "trained_model.evaluate(x=X_val, y=y_val)"
   ]
  },
  {
   "cell_type": "code",
   "execution_count": 16,
   "metadata": {},
   "outputs": [
    {
     "name": "stdout",
     "output_type": "stream",
     "text": [
      "540/540 [==============================] - 3s 5ms/step\n"
     ]
    },
    {
     "data": {
      "text/plain": [
       "[0.30516873200734457, 0.8888888888888888, 0.9195112025296247]"
      ]
     },
     "execution_count": 16,
     "metadata": {},
     "output_type": "execute_result"
    }
   ],
   "source": [
    "trained_model.evaluate(x=X_test, y=y_test)"
   ]
  },
  {
   "cell_type": "code",
   "execution_count": null,
   "metadata": {},
   "outputs": [],
   "source": []
  }
 ],
 "metadata": {
  "kernelspec": {
   "display_name": "Python 3",
   "language": "python",
   "name": "python3"
  },
  "language_info": {
   "codemirror_mode": {
    "name": "ipython",
    "version": 3
   },
   "file_extension": ".py",
   "mimetype": "text/x-python",
   "name": "python",
   "nbconvert_exporter": "python",
   "pygments_lexer": "ipython3",
   "version": "3.5.6"
  }
 },
 "nbformat": 4,
 "nbformat_minor": 2
}
