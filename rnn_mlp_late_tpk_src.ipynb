{
 "cells": [
  {
   "cell_type": "code",
   "execution_count": 1,
   "metadata": {},
   "outputs": [
    {
     "name": "stderr",
     "output_type": "stream",
     "text": [
      "Using TensorFlow backend.\n"
     ]
    }
   ],
   "source": [
    "import os\n",
    "import sys\n",
    "import numpy as np\n",
    "import keras\n",
    "# from sklearn.model_selection import train_test_split"
   ]
  },
  {
   "cell_type": "code",
   "execution_count": 2,
   "metadata": {},
   "outputs": [],
   "source": [
    "seed = 273\n",
    "kinase = 'tpk_src'\n",
    "model_file = 'rnn_mlp_late_%s.h5' % (kinase)"
   ]
  },
  {
   "cell_type": "code",
   "execution_count": 3,
   "metadata": {},
   "outputs": [],
   "source": [
    "#import data\n",
    "smiles_lines = [line.strip().split(',') for line in open(os.path.join('data', kinase+'_smiles.csv'))]\n",
    "smiles = [line[1] for line in smiles_lines]\n",
    "fingerprint_lines = [line.strip().split(',') for line in open(os.path.join('data', kinase+'_fingerprints.csv'))]\n",
    "fingerprints = [line[2:] for line in fingerprint_lines]\n",
    "X_fingerprints = np.asarray(fingerprints, dtype=np.int16)\n",
    "y = np.asarray([int(line[2]) for line in smiles_lines], dtype=np.int8)"
   ]
  },
  {
   "cell_type": "code",
   "execution_count": 4,
   "metadata": {},
   "outputs": [],
   "source": [
    "#pad smiles with '!' to ensure equal length\n",
    "max_smiles_len = max(len(s) for s in smiles)\n",
    "smiles = [s + '!'*(max_smiles_len + 1 - len(s)) for s in smiles]"
   ]
  },
  {
   "cell_type": "code",
   "execution_count": 5,
   "metadata": {},
   "outputs": [],
   "source": [
    "#one-hot vector representation of smiles\n",
    "char_set = set()\n",
    "for s in smiles:\n",
    "    for c in s:\n",
    "        char_set.add(c)\n",
    "char_set = list(char_set)\n",
    "char_to_index = {char_set[i]: i for i in range(len(char_set))}\n",
    "\n",
    "X_smiles = np.zeros((len(smiles), max_smiles_len + 1, len(char_set)))\n",
    "for i in range(len(smiles)):\n",
    "    code = smiles[i]\n",
    "    for j in range(len(code)):\n",
    "        char = code[j]\n",
    "        X_smiles[i, j, char_to_index[char]] = 1        "
   ]
  },
  {
   "cell_type": "code",
   "execution_count": 6,
   "metadata": {},
   "outputs": [
    {
     "name": "stdout",
     "output_type": "stream",
     "text": [
      "(2972, 6117)\n",
      "(2972, 416, 40)\n",
      "(2972,)\n"
     ]
    }
   ],
   "source": [
    "print(X_fingerprints.shape)\n",
    "print(X_smiles.shape)\n",
    "print(y.shape)"
   ]
  },
  {
   "cell_type": "code",
   "execution_count": 7,
   "metadata": {},
   "outputs": [
    {
     "name": "stdout",
     "output_type": "stream",
     "text": [
      "(2080, 6117)\n",
      "(2080, 416, 40)\n",
      "(2080,)\n",
      "(446, 6117)\n",
      "(446, 416, 40)\n",
      "(446,)\n",
      "(446, 6117)\n",
      "(446, 416, 40)\n",
      "(446,)\n"
     ]
    }
   ],
   "source": [
    "#train val test split\n",
    "n_tot = X_smiles.shape[0]\n",
    "n_test = round(n_tot*0.15)\n",
    "n_val = round(n_tot*0.15)\n",
    "n_train  = n_tot - n_test - n_val\n",
    "indices = np.arange(n_tot, dtype=int)\n",
    "np.random.seed(seed)\n",
    "np.random.shuffle(indices)\n",
    "indices_train = indices[:n_train]\n",
    "indices_val = indices[n_train:n_train+n_val]\n",
    "indices_test = indices[n_train+n_val:]\n",
    "X_fingerprints_train = X_fingerprints[indices_train]\n",
    "print(X_fingerprints_train.shape)\n",
    "X_smiles_train = X_smiles[indices_train]\n",
    "print(X_smiles_train.shape)\n",
    "y_train = y[indices_train]\n",
    "print(y_train.shape)\n",
    "X_fingerprints_val = X_fingerprints[indices_val]\n",
    "print(X_fingerprints_val.shape)\n",
    "X_smiles_val = X_smiles[indices_val]\n",
    "print(X_smiles_val.shape)\n",
    "y_val = y[indices_val]\n",
    "print(y_val.shape)\n",
    "X_fingerprints_test = X_fingerprints[indices_test]\n",
    "print(X_fingerprints_test.shape)\n",
    "X_smiles_test = X_smiles[indices_test]\n",
    "print(X_smiles_test.shape)\n",
    "y_test = y[indices_test]\n",
    "print(y_test.shape)\n",
    "smiles_input_shape = X_smiles_train.shape[1:]\n",
    "fingerprints_input_shape = X_fingerprints_train.shape[1:]"
   ]
  },
  {
   "cell_type": "code",
   "execution_count": 8,
   "metadata": {},
   "outputs": [
    {
     "name": "stdout",
     "output_type": "stream",
     "text": [
      "[]\n"
     ]
    }
   ],
   "source": [
    "#check GPU presence\n",
    "from tensorflow.python.client import device_lib\n",
    "\n",
    "def get_available_gpus():\n",
    "    local_device_protos = device_lib.list_local_devices()\n",
    "    return [x.name for x in local_device_protos if x.device_type == 'GPU']\n",
    "\n",
    "print(get_available_gpus())"
   ]
  },
  {
   "cell_type": "code",
   "execution_count": 9,
   "metadata": {},
   "outputs": [],
   "source": [
    "#keras imports\n",
    "from keras.models import Sequential\n",
    "from keras.layers import TimeDistributed, GlobalAveragePooling2D, Activation, Dense, Input, Bidirectional\n",
    "from keras.layers import BatchNormalization, Conv2D, MaxPooling2D, AveragePooling2D, GlobalAveragePooling2D\n",
    "from keras.layers import GlobalMaxPooling2D\n",
    "from keras.layers.recurrent import LSTM\n",
    "from keras.callbacks import ModelCheckpoint, ReduceLROnPlateau, Callback, EarlyStopping\n",
    "from keras.layers import Dropout, Flatten\n",
    "from keras.layers import concatenate, average\n",
    "from keras import regularizers\n",
    "from keras import initializers\n",
    "from keras import constraints\n",
    "from keras.models import Model\n",
    "# Backend\n",
    "from keras import backend as K\n",
    "# Utils\n",
    "from keras.utils.layer_utils import convert_all_kernels_in_model\n",
    "from keras.utils.data_utils import get_file\n",
    "from keras import metrics"
   ]
  },
  {
   "cell_type": "code",
   "execution_count": 10,
   "metadata": {},
   "outputs": [],
   "source": [
    "#F1 score computation\n",
    "from sklearn.metrics import confusion_matrix, f1_score, precision_score, recall_score\n",
    "from keras import backend as K\n",
    "\n",
    "def f1(y_true, y_pred):\n",
    "    def recall(y_true, y_pred):\n",
    "        \"\"\"Recall metric.\n",
    "\n",
    "        Only computes a batch-wise average of recall.\n",
    "\n",
    "        Computes the recall, a metric for multi-label classification of\n",
    "        how many relevant items are selected.\n",
    "        \"\"\"\n",
    "        true_positives = K.sum(K.round(K.clip(y_true * y_pred, 0, 1)))\n",
    "        possible_positives = K.sum(K.round(K.clip(y_true, 0, 1)))\n",
    "        recall = true_positives / (possible_positives + K.epsilon())\n",
    "        return recall\n",
    "\n",
    "    def precision(y_true, y_pred):\n",
    "        \"\"\"Precision metric.\n",
    "\n",
    "        Only computes a batch-wise average of precision.\n",
    "\n",
    "        Computes the precision, a metric for multi-label classification of\n",
    "        how many selected items are relevant.\n",
    "        \"\"\"\n",
    "        true_positives = K.sum(K.round(K.clip(y_true * y_pred, 0, 1)))\n",
    "        predicted_positives = K.sum(K.round(K.clip(y_pred, 0, 1)))\n",
    "        precision = true_positives / (predicted_positives + K.epsilon())\n",
    "        return precision\n",
    "    precision = precision(y_true, y_pred)\n",
    "    recall = recall(y_true, y_pred)\n",
    "    return 2*((precision*recall)/(precision+recall+K.epsilon()))"
   ]
  },
  {
   "cell_type": "code",
   "execution_count": 11,
   "metadata": {},
   "outputs": [],
   "source": [
    "#basic MLP model\n",
    "def rnn_mlp_early():\n",
    "    si = Input(shape=smiles_input_shape)\n",
    "    s = Bidirectional(LSTM(units=128, return_sequences=False))(si)\n",
    "    s = Dense(128, activation='relu')(s)\n",
    "    fi = Input(shape=fingerprints_input_shape)\n",
    "    f = Dense(128, activation='relu')(fi)\n",
    "    f = Dense(128, activation='relu')(f)\n",
    "    o = concatenate([s, f], axis=-1)\n",
    "    o = Dropout(0.5)(o)\n",
    "    out = Dense(2, activation='softmax')(o) \n",
    "    model = Model(inputs=[si, fi], outputs=out)\n",
    "    return model\n"
   ]
  },
  {
   "cell_type": "code",
   "execution_count": 12,
   "metadata": {},
   "outputs": [
    {
     "name": "stdout",
     "output_type": "stream",
     "text": [
      "__________________________________________________________________________________________________\n",
      "Layer (type)                    Output Shape         Param #     Connected to                     \n",
      "==================================================================================================\n",
      "input_1 (InputLayer)            (None, 416, 40)      0                                            \n",
      "__________________________________________________________________________________________________\n",
      "input_2 (InputLayer)            (None, 6117)         0                                            \n",
      "__________________________________________________________________________________________________\n",
      "bidirectional_1 (Bidirectional) (None, 256)          173056      input_1[0][0]                    \n",
      "__________________________________________________________________________________________________\n",
      "dense_2 (Dense)                 (None, 128)          783104      input_2[0][0]                    \n",
      "__________________________________________________________________________________________________\n",
      "dense_1 (Dense)                 (None, 128)          32896       bidirectional_1[0][0]            \n",
      "__________________________________________________________________________________________________\n",
      "dense_3 (Dense)                 (None, 128)          16512       dense_2[0][0]                    \n",
      "__________________________________________________________________________________________________\n",
      "concatenate_1 (Concatenate)     (None, 256)          0           dense_1[0][0]                    \n",
      "                                                                 dense_3[0][0]                    \n",
      "__________________________________________________________________________________________________\n",
      "dropout_1 (Dropout)             (None, 256)          0           concatenate_1[0][0]              \n",
      "__________________________________________________________________________________________________\n",
      "dense_4 (Dense)                 (None, 2)            514         dropout_1[0][0]                  \n",
      "==================================================================================================\n",
      "Total params: 1,006,082\n",
      "Trainable params: 1,006,082\n",
      "Non-trainable params: 0\n",
      "__________________________________________________________________________________________________\n"
     ]
    }
   ],
   "source": [
    "#compile model\n",
    "model = rnn_mlp_early()\n",
    "adam = keras.optimizers.Adam(lr=0.001, decay=0.0, clipnorm=5.)\n",
    "stop = EarlyStopping(patience=15, verbose=1)\n",
    "model.compile(optimizer=adam, loss='sparse_categorical_crossentropy', metrics=[metrics.sparse_categorical_accuracy, f1])\n",
    "checkpoint = ModelCheckpoint(model_file, monitor='val_loss', verbose=1, save_best_only=True, mode='min')\n",
    "\n",
    "callbacks_list = [checkpoint, stop]\n",
    "\n",
    "model.summary()"
   ]
  },
  {
   "cell_type": "code",
   "execution_count": 13,
   "metadata": {},
   "outputs": [
    {
     "name": "stdout",
     "output_type": "stream",
     "text": [
      "Train on 2080 samples, validate on 446 samples\n",
      "Epoch 1/1000\n",
      "2080/2080 [==============================] - 388s 186ms/step - loss: 0.9714 - sparse_categorical_accuracy: 0.5615 - f1: 0.7717 - val_loss: 0.6657 - val_sparse_categorical_accuracy: 0.6614 - val_f1: 0.7905\n",
      "\n",
      "Epoch 00001: val_loss improved from inf to 0.66575, saving model to rnn_mlp_late_tpk_src.h5\n",
      "Epoch 2/1000\n",
      "2080/2080 [==============================] - 386s 185ms/step - loss: 0.6629 - sparse_categorical_accuracy: 0.6442 - f1: 0.7721 - val_loss: 0.6194 - val_sparse_categorical_accuracy: 0.6816 - val_f1: 0.7905\n",
      "\n",
      "Epoch 00002: val_loss improved from 0.66575 to 0.61940, saving model to rnn_mlp_late_tpk_src.h5\n",
      "Epoch 3/1000\n",
      "2080/2080 [==============================] - 365s 175ms/step - loss: 0.6196 - sparse_categorical_accuracy: 0.6707 - f1: 0.7731 - val_loss: 0.6036 - val_sparse_categorical_accuracy: 0.6682 - val_f1: 0.7905\n",
      "\n",
      "Epoch 00003: val_loss improved from 0.61940 to 0.60364, saving model to rnn_mlp_late_tpk_src.h5\n",
      "Epoch 4/1000\n",
      "2080/2080 [==============================] - 352s 169ms/step - loss: 0.5992 - sparse_categorical_accuracy: 0.6837 - f1: 0.7709 - val_loss: 0.5829 - val_sparse_categorical_accuracy: 0.6726 - val_f1: 0.7905\n",
      "\n",
      "Epoch 00004: val_loss improved from 0.60364 to 0.58287, saving model to rnn_mlp_late_tpk_src.h5\n",
      "Epoch 5/1000\n",
      "2080/2080 [==============================] - 351s 169ms/step - loss: 0.5924 - sparse_categorical_accuracy: 0.6981 - f1: 0.7719 - val_loss: 0.5846 - val_sparse_categorical_accuracy: 0.6771 - val_f1: 0.7905\n",
      "\n",
      "Epoch 00005: val_loss did not improve from 0.58287\n",
      "Epoch 6/1000\n",
      "2080/2080 [==============================] - 311s 149ms/step - loss: 0.5804 - sparse_categorical_accuracy: 0.6990 - f1: 0.7726 - val_loss: 0.5631 - val_sparse_categorical_accuracy: 0.6996 - val_f1: 0.7905\n",
      "\n",
      "Epoch 00006: val_loss improved from 0.58287 to 0.56311, saving model to rnn_mlp_late_tpk_src.h5\n",
      "Epoch 7/1000\n",
      "2080/2080 [==============================] - 295s 142ms/step - loss: 0.5574 - sparse_categorical_accuracy: 0.7197 - f1: 0.7720 - val_loss: 0.5444 - val_sparse_categorical_accuracy: 0.6996 - val_f1: 0.7905\n",
      "\n",
      "Epoch 00007: val_loss improved from 0.56311 to 0.54435, saving model to rnn_mlp_late_tpk_src.h5\n",
      "Epoch 8/1000\n",
      "2080/2080 [==============================] - 292s 140ms/step - loss: 0.5499 - sparse_categorical_accuracy: 0.7178 - f1: 0.7728 - val_loss: 0.5877 - val_sparse_categorical_accuracy: 0.6614 - val_f1: 0.7905\n",
      "\n",
      "Epoch 00008: val_loss did not improve from 0.54435\n",
      "Epoch 9/1000\n",
      "2080/2080 [==============================] - 280s 135ms/step - loss: 0.5531 - sparse_categorical_accuracy: 0.7192 - f1: 0.7726 - val_loss: 0.5768 - val_sparse_categorical_accuracy: 0.6906 - val_f1: 0.7905\n",
      "\n",
      "Epoch 00009: val_loss did not improve from 0.54435\n",
      "Epoch 10/1000\n",
      "2080/2080 [==============================] - 250s 120ms/step - loss: 0.5474 - sparse_categorical_accuracy: 0.7188 - f1: 0.7720 - val_loss: 0.5563 - val_sparse_categorical_accuracy: 0.6726 - val_f1: 0.7905\n",
      "\n",
      "Epoch 00010: val_loss did not improve from 0.54435\n",
      "Epoch 11/1000\n",
      "2080/2080 [==============================] - 203s 97ms/step - loss: 0.5192 - sparse_categorical_accuracy: 0.7365 - f1: 0.7726 - val_loss: 0.5472 - val_sparse_categorical_accuracy: 0.6861 - val_f1: 0.7905\n",
      "\n",
      "Epoch 00011: val_loss did not improve from 0.54435\n",
      "Epoch 12/1000\n",
      "2080/2080 [==============================] - 198s 95ms/step - loss: 0.5214 - sparse_categorical_accuracy: 0.7476 - f1: 0.7708 - val_loss: 0.5349 - val_sparse_categorical_accuracy: 0.7220 - val_f1: 0.7905\n",
      "\n",
      "Epoch 00012: val_loss improved from 0.54435 to 0.53490, saving model to rnn_mlp_late_tpk_src.h5\n",
      "Epoch 13/1000\n",
      "2080/2080 [==============================] - 199s 95ms/step - loss: 0.5146 - sparse_categorical_accuracy: 0.7361 - f1: 0.7726 - val_loss: 0.5359 - val_sparse_categorical_accuracy: 0.7377 - val_f1: 0.7905\n",
      "\n",
      "Epoch 00013: val_loss did not improve from 0.53490\n",
      "Epoch 14/1000\n",
      "2080/2080 [==============================] - 170s 82ms/step - loss: 0.5064 - sparse_categorical_accuracy: 0.7471 - f1: 0.7730 - val_loss: 0.5342 - val_sparse_categorical_accuracy: 0.7197 - val_f1: 0.7905\n",
      "\n",
      "Epoch 00014: val_loss improved from 0.53490 to 0.53422, saving model to rnn_mlp_late_tpk_src.h5\n",
      "Epoch 15/1000\n",
      "2080/2080 [==============================] - 138s 66ms/step - loss: 0.4922 - sparse_categorical_accuracy: 0.7481 - f1: 0.7726 - val_loss: 0.5259 - val_sparse_categorical_accuracy: 0.7399 - val_f1: 0.7905\n",
      "\n",
      "Epoch 00015: val_loss improved from 0.53422 to 0.52588, saving model to rnn_mlp_late_tpk_src.h5\n",
      "Epoch 16/1000\n",
      "2080/2080 [==============================] - 116s 56ms/step - loss: 0.4858 - sparse_categorical_accuracy: 0.7615 - f1: 0.7709 - val_loss: 0.5492 - val_sparse_categorical_accuracy: 0.7444 - val_f1: 0.7905\n",
      "\n",
      "Epoch 00016: val_loss did not improve from 0.52588\n",
      "Epoch 17/1000\n",
      "2080/2080 [==============================] - 112s 54ms/step - loss: 0.4859 - sparse_categorical_accuracy: 0.7577 - f1: 0.7716 - val_loss: 0.5404 - val_sparse_categorical_accuracy: 0.7130 - val_f1: 0.7905\n",
      "\n",
      "Epoch 00017: val_loss did not improve from 0.52588\n",
      "Epoch 18/1000\n",
      "2080/2080 [==============================] - 104s 50ms/step - loss: 0.4812 - sparse_categorical_accuracy: 0.7553 - f1: 0.7719 - val_loss: 0.5275 - val_sparse_categorical_accuracy: 0.7332 - val_f1: 0.7905\n",
      "\n",
      "Epoch 00018: val_loss did not improve from 0.52588\n",
      "Epoch 19/1000\n",
      "2080/2080 [==============================] - 61s 30ms/step - loss: 0.5002 - sparse_categorical_accuracy: 0.7548 - f1: 0.7722 - val_loss: 0.5730 - val_sparse_categorical_accuracy: 0.7399 - val_f1: 0.7905\n",
      "\n",
      "Epoch 00019: val_loss did not improve from 0.52588\n",
      "Epoch 20/1000\n",
      "2080/2080 [==============================] - 54s 26ms/step - loss: 0.4679 - sparse_categorical_accuracy: 0.7673 - f1: 0.7726 - val_loss: 0.5497 - val_sparse_categorical_accuracy: 0.7466 - val_f1: 0.7905\n",
      "\n",
      "Epoch 00020: val_loss did not improve from 0.52588\n",
      "Epoch 21/1000\n",
      "2080/2080 [==============================] - 39s 19ms/step - loss: 0.4503 - sparse_categorical_accuracy: 0.7774 - f1: 0.7728 - val_loss: 0.5936 - val_sparse_categorical_accuracy: 0.7130 - val_f1: 0.7905\n",
      "\n",
      "Epoch 00021: val_loss did not improve from 0.52588\n",
      "Epoch 22/1000\n",
      "2080/2080 [==============================] - 43s 21ms/step - loss: 0.4297 - sparse_categorical_accuracy: 0.7788 - f1: 0.7723 - val_loss: 0.5418 - val_sparse_categorical_accuracy: 0.7377 - val_f1: 0.7905\n",
      "\n",
      "Epoch 00022: val_loss did not improve from 0.52588\n",
      "Epoch 23/1000\n",
      "2080/2080 [==============================] - 28s 13ms/step - loss: 0.4286 - sparse_categorical_accuracy: 0.7938 - f1: 0.7730 - val_loss: 0.5484 - val_sparse_categorical_accuracy: 0.7489 - val_f1: 0.7905\n",
      "\n",
      "Epoch 00023: val_loss did not improve from 0.52588\n",
      "Epoch 24/1000\n",
      "2080/2080 [==============================] - 28s 13ms/step - loss: 0.4269 - sparse_categorical_accuracy: 0.7861 - f1: 0.7722 - val_loss: 0.5343 - val_sparse_categorical_accuracy: 0.7489 - val_f1: 0.7905\n",
      "\n",
      "Epoch 00024: val_loss did not improve from 0.52588\n",
      "Epoch 25/1000\n",
      "2080/2080 [==============================] - 28s 13ms/step - loss: 0.4111 - sparse_categorical_accuracy: 0.7962 - f1: 0.7724 - val_loss: 0.5503 - val_sparse_categorical_accuracy: 0.7466 - val_f1: 0.7905\n",
      "\n",
      "Epoch 00025: val_loss did not improve from 0.52588\n",
      "Epoch 26/1000\n",
      "2080/2080 [==============================] - 28s 13ms/step - loss: 0.3958 - sparse_categorical_accuracy: 0.8144 - f1: 0.7715 - val_loss: 0.5356 - val_sparse_categorical_accuracy: 0.7556 - val_f1: 0.7905\n",
      "\n",
      "Epoch 00026: val_loss did not improve from 0.52588\n",
      "Epoch 27/1000\n",
      "2080/2080 [==============================] - 28s 13ms/step - loss: 0.4041 - sparse_categorical_accuracy: 0.8024 - f1: 0.7720 - val_loss: 0.5402 - val_sparse_categorical_accuracy: 0.7646 - val_f1: 0.7905\n",
      "\n",
      "Epoch 00027: val_loss did not improve from 0.52588\n",
      "Epoch 28/1000\n",
      "2080/2080 [==============================] - 28s 13ms/step - loss: 0.3899 - sparse_categorical_accuracy: 0.7938 - f1: 0.7728 - val_loss: 0.6159 - val_sparse_categorical_accuracy: 0.7399 - val_f1: 0.7905\n",
      "\n",
      "Epoch 00028: val_loss did not improve from 0.52588\n",
      "Epoch 29/1000\n",
      "2080/2080 [==============================] - 38s 18ms/step - loss: 0.3751 - sparse_categorical_accuracy: 0.8178 - f1: 0.7719 - val_loss: 0.5941 - val_sparse_categorical_accuracy: 0.7668 - val_f1: 0.7905\n"
     ]
    },
    {
     "name": "stdout",
     "output_type": "stream",
     "text": [
      "\n",
      "Epoch 00029: val_loss did not improve from 0.52588\n",
      "Epoch 30/1000\n",
      "2080/2080 [==============================] - 37s 18ms/step - loss: 0.3683 - sparse_categorical_accuracy: 0.8207 - f1: 0.7718 - val_loss: 0.5886 - val_sparse_categorical_accuracy: 0.7892 - val_f1: 0.7905\n",
      "\n",
      "Epoch 00030: val_loss did not improve from 0.52588\n",
      "Epoch 00030: early stopping\n"
     ]
    },
    {
     "data": {
      "text/plain": [
       "<keras.callbacks.History at 0x7efd4dd32f28>"
      ]
     },
     "execution_count": 13,
     "metadata": {},
     "output_type": "execute_result"
    }
   ],
   "source": [
    "#training\n",
    "model.fit(x=[X_smiles_train, X_fingerprints_train], \n",
    "          y=y_train, \n",
    "          batch_size=32, \n",
    "          epochs=1000, \n",
    "          verbose=1, \n",
    "          callbacks=callbacks_list, \n",
    "          validation_data=([X_smiles_val, X_fingerprints_val], y_val), \n",
    "          shuffle=True)"
   ]
  },
  {
   "cell_type": "code",
   "execution_count": 14,
   "metadata": {},
   "outputs": [
    {
     "name": "stdout",
     "output_type": "stream",
     "text": [
      "['loss', 'sparse_categorical_accuracy', 'f1']\n"
     ]
    }
   ],
   "source": [
    "#testing\n",
    "from keras.models import load_model\n",
    "trained_model = load_model(model_file, custom_objects={'f1': f1})\n",
    "print(trained_model.metrics_names)"
   ]
  },
  {
   "cell_type": "code",
   "execution_count": 15,
   "metadata": {},
   "outputs": [
    {
     "name": "stdout",
     "output_type": "stream",
     "text": [
      "2080/2080 [==============================] - 13s 6ms/step\n"
     ]
    },
    {
     "data": {
      "text/plain": [
       "[0.4531641675875737, 0.7769230769230769, 0.7720215595685519]"
      ]
     },
     "execution_count": 15,
     "metadata": {},
     "output_type": "execute_result"
    }
   ],
   "source": [
    "trained_model.evaluate(x=[X_smiles_train, X_fingerprints_train], y=y_train)"
   ]
  },
  {
   "cell_type": "code",
   "execution_count": 16,
   "metadata": {},
   "outputs": [
    {
     "name": "stdout",
     "output_type": "stream",
     "text": [
      "446/446 [==============================] - 3s 7ms/step\n"
     ]
    },
    {
     "data": {
      "text/plain": [
       "[0.5258778433895966, 0.7399103147032015, 0.7904687021345301]"
      ]
     },
     "execution_count": 16,
     "metadata": {},
     "output_type": "execute_result"
    }
   ],
   "source": [
    "trained_model.evaluate(x=[X_smiles_val, X_fingerprints_val], y=y_val)"
   ]
  },
  {
   "cell_type": "code",
   "execution_count": 17,
   "metadata": {},
   "outputs": [
    {
     "name": "stdout",
     "output_type": "stream",
     "text": [
      "446/446 [==============================] - 4s 8ms/step\n"
     ]
    },
    {
     "data": {
      "text/plain": [
       "[0.4644646144768582, 0.7690582970332672, 0.7683763963759213]"
      ]
     },
     "execution_count": 17,
     "metadata": {},
     "output_type": "execute_result"
    }
   ],
   "source": [
    "trained_model.evaluate(x=[X_smiles_test, X_fingerprints_test], y=y_test)"
   ]
  },
  {
   "cell_type": "code",
   "execution_count": 18,
   "metadata": {},
   "outputs": [],
   "source": [
    "from sklearn.metrics import roc_curve\n",
    "from sklearn.metrics import roc_auc_score\n",
    "pred_train = trained_model.predict(x=[X_smiles_train, X_fingerprints_train])[:,1]\n",
    "pred_val = trained_model.predict(x=[X_smiles_val, X_fingerprints_val])[:,1]\n",
    "pred_test = trained_model.predict(x=[X_smiles_test, X_fingerprints_test])[:,1]\n",
    "np.savez(model_file[:-2] + 'npz', pred_train=pred_train, pred_val=pred_val, pred_test=pred_test)"
   ]
  }
 ],
 "metadata": {
  "kernelspec": {
   "display_name": "Python 3",
   "language": "python",
   "name": "python3"
  },
  "language_info": {
   "codemirror_mode": {
    "name": "ipython",
    "version": 3
   },
   "file_extension": ".py",
   "mimetype": "text/x-python",
   "name": "python",
   "nbconvert_exporter": "python",
   "pygments_lexer": "ipython3",
   "version": "3.6.7"
  }
 },
 "nbformat": 4,
 "nbformat_minor": 2
}
