{
 "cells": [
  {
   "cell_type": "code",
   "execution_count": 1,
   "metadata": {},
   "outputs": [
    {
     "name": "stderr",
     "output_type": "stream",
     "text": [
      "Using TensorFlow backend.\n"
     ]
    }
   ],
   "source": [
    "import os\n",
    "import sys\n",
    "import numpy as np\n",
    "import keras\n",
    "# from sklearn.model_selection import train_test_split"
   ]
  },
  {
   "cell_type": "code",
   "execution_count": 2,
   "metadata": {},
   "outputs": [],
   "source": [
    "seed = 273\n",
    "kinase = 'vegfr2'\n",
    "model_file = 'rnn_mlp_late_%s.h5' % (kinase)"
   ]
  },
  {
   "cell_type": "code",
   "execution_count": 3,
   "metadata": {},
   "outputs": [],
   "source": [
    "#import data\n",
    "smiles_lines = [line.strip().split(',') for line in open(os.path.join('data', kinase+'_smiles.csv'))]\n",
    "smiles = [line[1] for line in smiles_lines]\n",
    "fingerprint_lines = [line.strip().split(',') for line in open(os.path.join('data', kinase+'_fingerprints.csv'))]\n",
    "fingerprints = [line[2:] for line in fingerprint_lines]\n",
    "X_fingerprints = np.asarray(fingerprints, dtype=np.int16)\n",
    "y = np.asarray([int(line[2]) for line in smiles_lines], dtype=np.int8)"
   ]
  },
  {
   "cell_type": "code",
   "execution_count": 4,
   "metadata": {},
   "outputs": [],
   "source": [
    "#pad smiles with '!' to ensure equal length\n",
    "max_smiles_len = max(len(s) for s in smiles)\n",
    "smiles = [s + '!'*(max_smiles_len + 1 - len(s)) for s in smiles]"
   ]
  },
  {
   "cell_type": "code",
   "execution_count": 5,
   "metadata": {},
   "outputs": [],
   "source": [
    "#one-hot vector representation of smiles\n",
    "char_set = set()\n",
    "for s in smiles:\n",
    "    for c in s:\n",
    "        char_set.add(c)\n",
    "char_set = list(char_set)\n",
    "char_to_index = {char_set[i]: i for i in range(len(char_set))}\n",
    "\n",
    "X_smiles = np.zeros((len(smiles), max_smiles_len + 1, len(char_set)))\n",
    "for i in range(len(smiles)):\n",
    "    code = smiles[i]\n",
    "    for j in range(len(code)):\n",
    "        char = code[j]\n",
    "        X_smiles[i, j, char_to_index[char]] = 1        "
   ]
  },
  {
   "cell_type": "code",
   "execution_count": 6,
   "metadata": {},
   "outputs": [
    {
     "name": "stdout",
     "output_type": "stream",
     "text": [
      "(5123, 4096)\n",
      "(5123, 147, 38)\n",
      "(5123,)\n"
     ]
    }
   ],
   "source": [
    "print(X_fingerprints.shape)\n",
    "print(X_smiles.shape)\n",
    "print(y.shape)"
   ]
  },
  {
   "cell_type": "code",
   "execution_count": 7,
   "metadata": {},
   "outputs": [
    {
     "name": "stdout",
     "output_type": "stream",
     "text": [
      "(3587, 4096)\n",
      "(3587, 147, 38)\n",
      "(3587,)\n",
      "(768, 4096)\n",
      "(768, 147, 38)\n",
      "(768,)\n",
      "(768, 4096)\n",
      "(768, 147, 38)\n",
      "(768,)\n"
     ]
    }
   ],
   "source": [
    "#train val test split\n",
    "n_tot = X_smiles.shape[0]\n",
    "n_test = round(n_tot*0.15)\n",
    "n_val = round(n_tot*0.15)\n",
    "n_train  = n_tot - n_test - n_val\n",
    "indices = np.arange(n_tot, dtype=int)\n",
    "np.random.seed(seed)\n",
    "np.random.shuffle(indices)\n",
    "indices_train = indices[:n_train]\n",
    "indices_val = indices[n_train:n_train+n_val]\n",
    "indices_test = indices[n_train+n_val:]\n",
    "X_fingerprints_train = X_fingerprints[indices_train]\n",
    "print(X_fingerprints_train.shape)\n",
    "X_smiles_train = X_smiles[indices_train]\n",
    "print(X_smiles_train.shape)\n",
    "y_train = y[indices_train]\n",
    "print(y_train.shape)\n",
    "X_fingerprints_val = X_fingerprints[indices_val]\n",
    "print(X_fingerprints_val.shape)\n",
    "X_smiles_val = X_smiles[indices_val]\n",
    "print(X_smiles_val.shape)\n",
    "y_val = y[indices_val]\n",
    "print(y_val.shape)\n",
    "X_fingerprints_test = X_fingerprints[indices_test]\n",
    "print(X_fingerprints_test.shape)\n",
    "X_smiles_test = X_smiles[indices_test]\n",
    "print(X_smiles_test.shape)\n",
    "y_test = y[indices_test]\n",
    "print(y_test.shape)\n",
    "smiles_input_shape = X_smiles_train.shape[1:]\n",
    "fingerprints_input_shape = X_fingerprints_train.shape[1:]"
   ]
  },
  {
   "cell_type": "code",
   "execution_count": 8,
   "metadata": {},
   "outputs": [
    {
     "name": "stdout",
     "output_type": "stream",
     "text": [
      "[]\n"
     ]
    }
   ],
   "source": [
    "#check GPU presence\n",
    "from tensorflow.python.client import device_lib\n",
    "\n",
    "def get_available_gpus():\n",
    "    local_device_protos = device_lib.list_local_devices()\n",
    "    return [x.name for x in local_device_protos if x.device_type == 'GPU']\n",
    "\n",
    "print(get_available_gpus())"
   ]
  },
  {
   "cell_type": "code",
   "execution_count": 9,
   "metadata": {},
   "outputs": [],
   "source": [
    "#keras imports\n",
    "from keras.models import Sequential\n",
    "from keras.layers import TimeDistributed, GlobalAveragePooling2D, Activation, Dense, Input, Bidirectional\n",
    "from keras.layers import BatchNormalization, Conv2D, MaxPooling2D, AveragePooling2D, GlobalAveragePooling2D\n",
    "from keras.layers import GlobalMaxPooling2D\n",
    "from keras.layers.recurrent import LSTM\n",
    "from keras.callbacks import ModelCheckpoint, ReduceLROnPlateau, Callback, EarlyStopping\n",
    "from keras.layers import Dropout, Flatten\n",
    "from keras.layers import concatenate, average\n",
    "from keras import regularizers\n",
    "from keras import initializers\n",
    "from keras import constraints\n",
    "from keras.models import Model\n",
    "# Backend\n",
    "from keras import backend as K\n",
    "# Utils\n",
    "from keras.utils.layer_utils import convert_all_kernels_in_model\n",
    "from keras.utils.data_utils import get_file\n",
    "from keras import metrics"
   ]
  },
  {
   "cell_type": "code",
   "execution_count": 10,
   "metadata": {},
   "outputs": [],
   "source": [
    "#F1 score computation\n",
    "from sklearn.metrics import confusion_matrix, f1_score, precision_score, recall_score\n",
    "from keras import backend as K\n",
    "\n",
    "def f1(y_true, y_pred):\n",
    "    def recall(y_true, y_pred):\n",
    "        \"\"\"Recall metric.\n",
    "\n",
    "        Only computes a batch-wise average of recall.\n",
    "\n",
    "        Computes the recall, a metric for multi-label classification of\n",
    "        how many relevant items are selected.\n",
    "        \"\"\"\n",
    "        true_positives = K.sum(K.round(K.clip(y_true * y_pred, 0, 1)))\n",
    "        possible_positives = K.sum(K.round(K.clip(y_true, 0, 1)))\n",
    "        recall = true_positives / (possible_positives + K.epsilon())\n",
    "        return recall\n",
    "\n",
    "    def precision(y_true, y_pred):\n",
    "        \"\"\"Precision metric.\n",
    "\n",
    "        Only computes a batch-wise average of precision.\n",
    "\n",
    "        Computes the precision, a metric for multi-label classification of\n",
    "        how many selected items are relevant.\n",
    "        \"\"\"\n",
    "        true_positives = K.sum(K.round(K.clip(y_true * y_pred, 0, 1)))\n",
    "        predicted_positives = K.sum(K.round(K.clip(y_pred, 0, 1)))\n",
    "        precision = true_positives / (predicted_positives + K.epsilon())\n",
    "        return precision\n",
    "    precision = precision(y_true, y_pred)\n",
    "    recall = recall(y_true, y_pred)\n",
    "    return 2*((precision*recall)/(precision+recall+K.epsilon()))"
   ]
  },
  {
   "cell_type": "code",
   "execution_count": 11,
   "metadata": {},
   "outputs": [],
   "source": [
    "#basic MLP model\n",
    "def rnn_mlp_early():\n",
    "    si = Input(shape=smiles_input_shape)\n",
    "    s = Bidirectional(LSTM(units=128, return_sequences=False))(si)\n",
    "    s = Dense(128, activation='relu')(s)\n",
    "    fi = Input(shape=fingerprints_input_shape)\n",
    "    f = Dense(128, activation='relu')(fi)\n",
    "    f = Dense(128, activation='relu')(f)\n",
    "    o = concatenate([s, f], axis=-1)\n",
    "    o = Dropout(0.5)(o)\n",
    "    out = Dense(2, activation='softmax')(o) \n",
    "    model = Model(inputs=[si, fi], outputs=out)\n",
    "    return model\n"
   ]
  },
  {
   "cell_type": "code",
   "execution_count": 12,
   "metadata": {},
   "outputs": [
    {
     "name": "stdout",
     "output_type": "stream",
     "text": [
      "__________________________________________________________________________________________________\n",
      "Layer (type)                    Output Shape         Param #     Connected to                     \n",
      "==================================================================================================\n",
      "input_1 (InputLayer)            (None, 147, 38)      0                                            \n",
      "__________________________________________________________________________________________________\n",
      "input_2 (InputLayer)            (None, 4096)         0                                            \n",
      "__________________________________________________________________________________________________\n",
      "bidirectional_1 (Bidirectional) (None, 256)          171008      input_1[0][0]                    \n",
      "__________________________________________________________________________________________________\n",
      "dense_2 (Dense)                 (None, 128)          524416      input_2[0][0]                    \n",
      "__________________________________________________________________________________________________\n",
      "dense_1 (Dense)                 (None, 128)          32896       bidirectional_1[0][0]            \n",
      "__________________________________________________________________________________________________\n",
      "dense_3 (Dense)                 (None, 128)          16512       dense_2[0][0]                    \n",
      "__________________________________________________________________________________________________\n",
      "concatenate_1 (Concatenate)     (None, 256)          0           dense_1[0][0]                    \n",
      "                                                                 dense_3[0][0]                    \n",
      "__________________________________________________________________________________________________\n",
      "dropout_1 (Dropout)             (None, 256)          0           concatenate_1[0][0]              \n",
      "__________________________________________________________________________________________________\n",
      "dense_4 (Dense)                 (None, 2)            514         dropout_1[0][0]                  \n",
      "==================================================================================================\n",
      "Total params: 745,346\n",
      "Trainable params: 745,346\n",
      "Non-trainable params: 0\n",
      "__________________________________________________________________________________________________\n"
     ]
    }
   ],
   "source": [
    "#compile model\n",
    "model = rnn_mlp_early()\n",
    "adam = keras.optimizers.Adam(lr=0.001, decay=0.0, clipnorm=5.)\n",
    "stop = EarlyStopping(patience=15, verbose=1)\n",
    "model.compile(optimizer=adam, loss='sparse_categorical_crossentropy', metrics=[metrics.sparse_categorical_accuracy, f1])\n",
    "checkpoint = ModelCheckpoint(model_file, monitor='val_loss', verbose=1, save_best_only=True, mode='min')\n",
    "\n",
    "callbacks_list = [checkpoint, stop]\n",
    "\n",
    "model.summary()"
   ]
  },
  {
   "cell_type": "code",
   "execution_count": 13,
   "metadata": {},
   "outputs": [
    {
     "name": "stdout",
     "output_type": "stream",
     "text": [
      "Train on 3587 samples, validate on 768 samples\n",
      "Epoch 1/1000\n",
      "3587/3587 [==============================] - 168s 47ms/step - loss: 0.4551 - sparse_categorical_accuracy: 0.8035 - f1: 0.8874 - val_loss: 0.3704 - val_sparse_categorical_accuracy: 0.8268 - val_f1: 0.8852\n",
      "\n",
      "Epoch 00001: val_loss improved from inf to 0.37042, saving model to rnn_mlp_late_vegfr2.h5\n",
      "Epoch 2/1000\n",
      "3587/3587 [==============================] - 171s 48ms/step - loss: 0.3456 - sparse_categorical_accuracy: 0.8534 - f1: 0.8869 - val_loss: 0.3316 - val_sparse_categorical_accuracy: 0.8490 - val_f1: 0.8852\n",
      "\n",
      "Epoch 00002: val_loss improved from 0.37042 to 0.33163, saving model to rnn_mlp_late_vegfr2.h5\n",
      "Epoch 3/1000\n",
      "3587/3587 [==============================] - 165s 46ms/step - loss: 0.2907 - sparse_categorical_accuracy: 0.8748 - f1: 0.8873 - val_loss: 0.3144 - val_sparse_categorical_accuracy: 0.8620 - val_f1: 0.8852\n",
      "\n",
      "Epoch 00003: val_loss improved from 0.33163 to 0.31443, saving model to rnn_mlp_late_vegfr2.h5\n",
      "Epoch 4/1000\n",
      "3587/3587 [==============================] - 168s 47ms/step - loss: 0.2741 - sparse_categorical_accuracy: 0.8829 - f1: 0.8868 - val_loss: 0.3354 - val_sparse_categorical_accuracy: 0.8451 - val_f1: 0.8852\n",
      "\n",
      "Epoch 00004: val_loss did not improve from 0.31443\n",
      "Epoch 5/1000\n",
      "3587/3587 [==============================] - 154s 43ms/step - loss: 0.2301 - sparse_categorical_accuracy: 0.8994 - f1: 0.8863 - val_loss: 0.3138 - val_sparse_categorical_accuracy: 0.8594 - val_f1: 0.8852\n",
      "\n",
      "Epoch 00005: val_loss improved from 0.31443 to 0.31381, saving model to rnn_mlp_late_vegfr2.h5\n",
      "Epoch 6/1000\n",
      "3587/3587 [==============================] - 149s 42ms/step - loss: 0.2156 - sparse_categorical_accuracy: 0.9094 - f1: 0.8867 - val_loss: 0.3347 - val_sparse_categorical_accuracy: 0.8568 - val_f1: 0.8852\n",
      "\n",
      "Epoch 00006: val_loss did not improve from 0.31381\n",
      "Epoch 7/1000\n",
      "3587/3587 [==============================] - 143s 40ms/step - loss: 0.1993 - sparse_categorical_accuracy: 0.9122 - f1: 0.8867 - val_loss: 0.3769 - val_sparse_categorical_accuracy: 0.8698 - val_f1: 0.8852\n",
      "\n",
      "Epoch 00007: val_loss did not improve from 0.31381\n",
      "Epoch 8/1000\n",
      "3587/3587 [==============================] - 149s 42ms/step - loss: 0.1807 - sparse_categorical_accuracy: 0.9205 - f1: 0.8869 - val_loss: 0.3610 - val_sparse_categorical_accuracy: 0.8685 - val_f1: 0.8852\n",
      "\n",
      "Epoch 00008: val_loss did not improve from 0.31381\n",
      "Epoch 9/1000\n",
      "3587/3587 [==============================] - 137s 38ms/step - loss: 0.1609 - sparse_categorical_accuracy: 0.9317 - f1: 0.8869 - val_loss: 0.3709 - val_sparse_categorical_accuracy: 0.8438 - val_f1: 0.8852\n",
      "\n",
      "Epoch 00009: val_loss did not improve from 0.31381\n",
      "Epoch 10/1000\n",
      "3587/3587 [==============================] - 122s 34ms/step - loss: 0.1629 - sparse_categorical_accuracy: 0.9236 - f1: 0.8867 - val_loss: 0.3565 - val_sparse_categorical_accuracy: 0.8789 - val_f1: 0.8852\n",
      "\n",
      "Epoch 00010: val_loss did not improve from 0.31381\n",
      "Epoch 11/1000\n",
      "3587/3587 [==============================] - 110s 31ms/step - loss: 0.1539 - sparse_categorical_accuracy: 0.9311 - f1: 0.8869 - val_loss: 0.3619 - val_sparse_categorical_accuracy: 0.8685 - val_f1: 0.8852\n",
      "\n",
      "Epoch 00011: val_loss did not improve from 0.31381\n",
      "Epoch 12/1000\n",
      "3587/3587 [==============================] - 104s 29ms/step - loss: 0.1415 - sparse_categorical_accuracy: 0.9373 - f1: 0.8867 - val_loss: 0.3737 - val_sparse_categorical_accuracy: 0.8685 - val_f1: 0.8852\n",
      "\n",
      "Epoch 00012: val_loss did not improve from 0.31381\n",
      "Epoch 13/1000\n",
      "3587/3587 [==============================] - 108s 30ms/step - loss: 0.1364 - sparse_categorical_accuracy: 0.9403 - f1: 0.8869 - val_loss: 0.5032 - val_sparse_categorical_accuracy: 0.8633 - val_f1: 0.8852\n",
      "\n",
      "Epoch 00013: val_loss did not improve from 0.31381\n",
      "Epoch 14/1000\n",
      "3587/3587 [==============================] - 103s 29ms/step - loss: 0.1306 - sparse_categorical_accuracy: 0.9389 - f1: 0.8869 - val_loss: 0.3712 - val_sparse_categorical_accuracy: 0.8477 - val_f1: 0.8852\n",
      "\n",
      "Epoch 00014: val_loss did not improve from 0.31381\n",
      "Epoch 15/1000\n",
      "3587/3587 [==============================] - 105s 29ms/step - loss: 0.1256 - sparse_categorical_accuracy: 0.9459 - f1: 0.8867 - val_loss: 0.4002 - val_sparse_categorical_accuracy: 0.8854 - val_f1: 0.8852\n",
      "\n",
      "Epoch 00015: val_loss did not improve from 0.31381\n",
      "Epoch 16/1000\n",
      "3587/3587 [==============================] - 105s 29ms/step - loss: 0.1259 - sparse_categorical_accuracy: 0.9470 - f1: 0.8868 - val_loss: 0.4484 - val_sparse_categorical_accuracy: 0.8659 - val_f1: 0.8852\n",
      "\n",
      "Epoch 00016: val_loss did not improve from 0.31381\n",
      "Epoch 17/1000\n",
      "3587/3587 [==============================] - 111s 31ms/step - loss: 0.1083 - sparse_categorical_accuracy: 0.9529 - f1: 0.8868 - val_loss: 0.4389 - val_sparse_categorical_accuracy: 0.8633 - val_f1: 0.8852\n",
      "\n",
      "Epoch 00017: val_loss did not improve from 0.31381\n",
      "Epoch 18/1000\n",
      "3587/3587 [==============================] - 103s 29ms/step - loss: 0.1102 - sparse_categorical_accuracy: 0.9512 - f1: 0.8865 - val_loss: 0.3753 - val_sparse_categorical_accuracy: 0.8789 - val_f1: 0.8852\n",
      "\n",
      "Epoch 00018: val_loss did not improve from 0.31381\n",
      "Epoch 19/1000\n",
      "3587/3587 [==============================] - 88s 25ms/step - loss: 0.0995 - sparse_categorical_accuracy: 0.9593 - f1: 0.8873 - val_loss: 0.4636 - val_sparse_categorical_accuracy: 0.8724 - val_f1: 0.8852\n",
      "\n",
      "Epoch 00019: val_loss did not improve from 0.31381\n",
      "Epoch 20/1000\n",
      "3587/3587 [==============================] - 90s 25ms/step - loss: 0.0982 - sparse_categorical_accuracy: 0.9604 - f1: 0.8868 - val_loss: 0.5213 - val_sparse_categorical_accuracy: 0.8711 - val_f1: 0.8852\n",
      "\n",
      "Epoch 00020: val_loss did not improve from 0.31381\n",
      "Epoch 00020: early stopping\n"
     ]
    },
    {
     "data": {
      "text/plain": [
       "<keras.callbacks.History at 0x7f587cc9d828>"
      ]
     },
     "execution_count": 13,
     "metadata": {},
     "output_type": "execute_result"
    }
   ],
   "source": [
    "#training\n",
    "model.fit(x=[X_smiles_train, X_fingerprints_train], \n",
    "          y=y_train, \n",
    "          batch_size=32, \n",
    "          epochs=1000, \n",
    "          verbose=1, \n",
    "          callbacks=callbacks_list, \n",
    "          validation_data=([X_smiles_val, X_fingerprints_val], y_val), \n",
    "          shuffle=True)"
   ]
  },
  {
   "cell_type": "code",
   "execution_count": 14,
   "metadata": {},
   "outputs": [
    {
     "name": "stdout",
     "output_type": "stream",
     "text": [
      "['loss', 'sparse_categorical_accuracy', 'f1']\n"
     ]
    }
   ],
   "source": [
    "#testing\n",
    "from keras.models import load_model\n",
    "trained_model = load_model(model_file, custom_objects={'f1': f1})\n",
    "print(trained_model.metrics_names)"
   ]
  },
  {
   "cell_type": "code",
   "execution_count": 15,
   "metadata": {},
   "outputs": [
    {
     "name": "stdout",
     "output_type": "stream",
     "text": [
      "3587/3587 [==============================] - 20s 6ms/step\n"
     ]
    },
    {
     "data": {
      "text/plain": [
       "[0.1741868071081514, 0.9294675216224155, 0.8870105796332873]"
      ]
     },
     "execution_count": 15,
     "metadata": {},
     "output_type": "execute_result"
    }
   ],
   "source": [
    "trained_model.evaluate(x=[X_smiles_train, X_fingerprints_train], y=y_train)"
   ]
  },
  {
   "cell_type": "code",
   "execution_count": 16,
   "metadata": {},
   "outputs": [
    {
     "name": "stdout",
     "output_type": "stream",
     "text": [
      "768/768 [==============================] - 4s 6ms/step\n"
     ]
    },
    {
     "data": {
      "text/plain": [
       "[0.31381184111038846, 0.859375, 0.8851523374517759]"
      ]
     },
     "execution_count": 16,
     "metadata": {},
     "output_type": "execute_result"
    }
   ],
   "source": [
    "trained_model.evaluate(x=[X_smiles_val, X_fingerprints_val], y=y_val)"
   ]
  },
  {
   "cell_type": "code",
   "execution_count": 17,
   "metadata": {},
   "outputs": [
    {
     "name": "stdout",
     "output_type": "stream",
     "text": [
      "768/768 [==============================] - 5s 6ms/step\n"
     ]
    },
    {
     "data": {
      "text/plain": [
       "[0.2958125841493408, 0.8763020833333334, 0.8817864457766215]"
      ]
     },
     "execution_count": 17,
     "metadata": {},
     "output_type": "execute_result"
    }
   ],
   "source": [
    "trained_model.evaluate(x=[X_smiles_test, X_fingerprints_test], y=y_test)"
   ]
  },
  {
   "cell_type": "code",
   "execution_count": 18,
   "metadata": {},
   "outputs": [],
   "source": [
    "from sklearn.metrics import roc_curve\n",
    "from sklearn.metrics import roc_auc_score\n",
    "pred_train = trained_model.predict(x=[X_smiles_train, X_fingerprints_train])[:,1]\n",
    "pred_val = trained_model.predict(x=[X_smiles_val, X_fingerprints_val])[:,1]\n",
    "pred_test = trained_model.predict(x=[X_smiles_test, X_fingerprints_test])[:,1]\n",
    "np.savez(model_file[:-2] + 'npz', pred_train=pred_train, pred_val=pred_val, pred_test=pred_test)"
   ]
  }
 ],
 "metadata": {
  "kernelspec": {
   "display_name": "Python 3",
   "language": "python",
   "name": "python3"
  },
  "language_info": {
   "codemirror_mode": {
    "name": "ipython",
    "version": 3
   },
   "file_extension": ".py",
   "mimetype": "text/x-python",
   "name": "python",
   "nbconvert_exporter": "python",
   "pygments_lexer": "ipython3",
   "version": "3.5.6"
  }
 },
 "nbformat": 4,
 "nbformat_minor": 2
}
