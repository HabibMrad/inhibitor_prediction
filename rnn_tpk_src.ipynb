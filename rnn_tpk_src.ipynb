{
 "cells": [
  {
   "cell_type": "code",
   "execution_count": 1,
   "metadata": {},
   "outputs": [
    {
     "name": "stderr",
     "output_type": "stream",
     "text": [
      "Using TensorFlow backend.\n"
     ]
    }
   ],
   "source": [
    "import os\n",
    "import sys\n",
    "import numpy as np\n",
    "import keras\n",
    "# from sklearn.model_selection import train_test_split"
   ]
  },
  {
   "cell_type": "code",
   "execution_count": 2,
   "metadata": {},
   "outputs": [],
   "source": [
    "seed = 273\n",
    "kinase = 'tpk_src'\n",
    "model_file = 'rnn_%s.h5' % (kinase)"
   ]
  },
  {
   "cell_type": "code",
   "execution_count": 3,
   "metadata": {},
   "outputs": [],
   "source": [
    "#import data\n",
    "smiles_lines = [line.strip().split(',') for line in open(os.path.join('data', kinase+'_smiles.csv'))]\n",
    "smiles = [line[1] for line in smiles_lines]\n",
    "fingerprint_lines = [line.strip().split(',') for line in open(os.path.join('data', kinase+'_fingerprints.csv'))]\n",
    "fingerprints = [line[2:] for line in fingerprint_lines]\n",
    "X_fingerprints = np.asarray(fingerprints, dtype=np.int16)\n",
    "y = np.asarray([int(line[2]) for line in smiles_lines], dtype=np.int8)"
   ]
  },
  {
   "cell_type": "code",
   "execution_count": 4,
   "metadata": {},
   "outputs": [],
   "source": [
    "#pad smiles with '!' to ensure equal length\n",
    "max_smiles_len = max(len(s) for s in smiles)\n",
    "smiles = [s + '!'*(max_smiles_len + 1 - len(s)) for s in smiles]"
   ]
  },
  {
   "cell_type": "code",
   "execution_count": 5,
   "metadata": {},
   "outputs": [],
   "source": [
    "#one-hot vector representation of smiles\n",
    "char_set = set()\n",
    "for s in smiles:\n",
    "    for c in s:\n",
    "        char_set.add(c)\n",
    "char_set = list(char_set)\n",
    "char_to_index = {char_set[i]: i for i in range(len(char_set))}\n",
    "\n",
    "X_smiles = np.zeros((len(smiles), max_smiles_len + 1, len(char_set)))\n",
    "for i in range(len(smiles)):\n",
    "    code = smiles[i]\n",
    "    for j in range(len(code)):\n",
    "        char = code[j]\n",
    "        X_smiles[i, j, char_to_index[char]] = 1        "
   ]
  },
  {
   "cell_type": "code",
   "execution_count": 6,
   "metadata": {},
   "outputs": [
    {
     "name": "stdout",
     "output_type": "stream",
     "text": [
      "(2972, 6117)\n",
      "(2972, 416, 40)\n",
      "(2972,)\n"
     ]
    }
   ],
   "source": [
    "print(X_fingerprints.shape)\n",
    "print(X_smiles.shape)\n",
    "print(y.shape)"
   ]
  },
  {
   "cell_type": "code",
   "execution_count": 7,
   "metadata": {},
   "outputs": [
    {
     "name": "stdout",
     "output_type": "stream",
     "text": [
      "(2080, 6117)\n",
      "(2080, 416, 40)\n",
      "(2080,)\n",
      "(446, 6117)\n",
      "(446, 416, 40)\n",
      "(446,)\n",
      "(446, 6117)\n",
      "(446, 416, 40)\n",
      "(446,)\n"
     ]
    }
   ],
   "source": [
    "#train val test split\n",
    "n_tot = X_smiles.shape[0]\n",
    "n_test = round(n_tot*0.15)\n",
    "n_val = round(n_tot*0.15)\n",
    "n_train  = n_tot - n_test - n_val\n",
    "indices = np.arange(n_tot, dtype=int)\n",
    "np.random.seed(seed)\n",
    "np.random.shuffle(indices)\n",
    "indices_train = indices[:n_train]\n",
    "indices_val = indices[n_train:n_train+n_val]\n",
    "indices_test = indices[n_train+n_val:]\n",
    "X_fingerprints_train = X_fingerprints[indices_train]\n",
    "print(X_fingerprints_train.shape)\n",
    "X_smiles_train = X_smiles[indices_train]\n",
    "print(X_smiles_train.shape)\n",
    "y_train = y[indices_train]\n",
    "print(y_train.shape)\n",
    "X_fingerprints_val = X_fingerprints[indices_val]\n",
    "print(X_fingerprints_val.shape)\n",
    "X_smiles_val = X_smiles[indices_val]\n",
    "print(X_smiles_val.shape)\n",
    "y_val = y[indices_val]\n",
    "print(y_val.shape)\n",
    "X_fingerprints_test = X_fingerprints[indices_test]\n",
    "print(X_fingerprints_test.shape)\n",
    "X_smiles_test = X_smiles[indices_test]\n",
    "print(X_smiles_test.shape)\n",
    "y_test = y[indices_test]\n",
    "print(y_test.shape)\n",
    "smiles_input_shape = X_smiles_train.shape[1:]\n",
    "fingerprints_input_shape = X_fingerprints_train.shape[1:]"
   ]
  },
  {
   "cell_type": "code",
   "execution_count": 8,
   "metadata": {},
   "outputs": [
    {
     "name": "stdout",
     "output_type": "stream",
     "text": [
      "[]\n"
     ]
    }
   ],
   "source": [
    "#check GPU presence\n",
    "from tensorflow.python.client import device_lib\n",
    "\n",
    "def get_available_gpus():\n",
    "    local_device_protos = device_lib.list_local_devices()\n",
    "    return [x.name for x in local_device_protos if x.device_type == 'GPU']\n",
    "\n",
    "print(get_available_gpus())"
   ]
  },
  {
   "cell_type": "code",
   "execution_count": 9,
   "metadata": {},
   "outputs": [],
   "source": [
    "#keras imports\n",
    "from keras.models import Sequential\n",
    "from keras.layers import TimeDistributed, GlobalAveragePooling2D, Activation, Dense, Input, Bidirectional\n",
    "from keras.layers import BatchNormalization, Conv2D, MaxPooling2D, AveragePooling2D, GlobalAveragePooling2D\n",
    "from keras.layers import GlobalMaxPooling2D\n",
    "from keras.layers.recurrent import LSTM\n",
    "from keras.callbacks import ModelCheckpoint, ReduceLROnPlateau, Callback, EarlyStopping\n",
    "from keras.layers import Dropout, Flatten\n",
    "from keras.layers import concatenate\n",
    "from keras import regularizers\n",
    "from keras import initializers\n",
    "from keras import constraints\n",
    "from keras.models import Model\n",
    "# Backend\n",
    "from keras import backend as K\n",
    "# Utils\n",
    "from keras.utils.layer_utils import convert_all_kernels_in_model\n",
    "from keras.utils.data_utils import get_file\n",
    "from keras import metrics"
   ]
  },
  {
   "cell_type": "code",
   "execution_count": 10,
   "metadata": {},
   "outputs": [],
   "source": [
    "#F1 score computation\n",
    "from sklearn.metrics import confusion_matrix, f1_score, precision_score, recall_score\n",
    "from keras import backend as K\n",
    "\n",
    "def f1(y_true, y_pred):\n",
    "    def recall(y_true, y_pred):\n",
    "        \"\"\"Recall metric.\n",
    "\n",
    "        Only computes a batch-wise average of recall.\n",
    "\n",
    "        Computes the recall, a metric for multi-label classification of\n",
    "        how many relevant items are selected.\n",
    "        \"\"\"\n",
    "        true_positives = K.sum(K.round(K.clip(y_true * y_pred, 0, 1)))\n",
    "        possible_positives = K.sum(K.round(K.clip(y_true, 0, 1)))\n",
    "        recall = true_positives / (possible_positives + K.epsilon())\n",
    "        return recall\n",
    "\n",
    "    def precision(y_true, y_pred):\n",
    "        \"\"\"Precision metric.\n",
    "\n",
    "        Only computes a batch-wise average of precision.\n",
    "\n",
    "        Computes the precision, a metric for multi-label classification of\n",
    "        how many selected items are relevant.\n",
    "        \"\"\"\n",
    "        true_positives = K.sum(K.round(K.clip(y_true * y_pred, 0, 1)))\n",
    "        predicted_positives = K.sum(K.round(K.clip(y_pred, 0, 1)))\n",
    "        precision = true_positives / (predicted_positives + K.epsilon())\n",
    "        return precision\n",
    "    precision = precision(y_true, y_pred)\n",
    "    recall = recall(y_true, y_pred)\n",
    "    return 2*((precision*recall)/(precision+recall+K.epsilon()))"
   ]
  },
  {
   "cell_type": "code",
   "execution_count": 11,
   "metadata": {},
   "outputs": [],
   "source": [
    "#basic RNN model\n",
    "model = Sequential()\n",
    "model.add(Bidirectional(LSTM(units=128, return_sequences=False), input_shape=smiles_input_shape))\n",
    "model.add(Dense(128, activation='relu'))\n",
    "model.add(Dropout(0.5))\n",
    "model.add(Dense(2, activation='softmax'))"
   ]
  },
  {
   "cell_type": "code",
   "execution_count": 12,
   "metadata": {},
   "outputs": [
    {
     "name": "stdout",
     "output_type": "stream",
     "text": [
      "_________________________________________________________________\n",
      "Layer (type)                 Output Shape              Param #   \n",
      "=================================================================\n",
      "bidirectional_1 (Bidirection (None, 256)               173056    \n",
      "_________________________________________________________________\n",
      "dense_1 (Dense)              (None, 128)               32896     \n",
      "_________________________________________________________________\n",
      "dropout_1 (Dropout)          (None, 128)               0         \n",
      "_________________________________________________________________\n",
      "dense_2 (Dense)              (None, 2)                 258       \n",
      "=================================================================\n",
      "Total params: 206,210\n",
      "Trainable params: 206,210\n",
      "Non-trainable params: 0\n",
      "_________________________________________________________________\n"
     ]
    }
   ],
   "source": [
    "#compile model\n",
    "adam = keras.optimizers.Adam(lr=0.001, decay=0.0, clipnorm=5.)\n",
    "stop = EarlyStopping(patience=20, verbose=1)\n",
    "model.compile(optimizer=adam, loss='sparse_categorical_crossentropy', metrics=[metrics.sparse_categorical_accuracy, f1])\n",
    "checkpoint = ModelCheckpoint(model_file, monitor='val_loss', verbose=1, save_best_only=True, mode='min')\n",
    "\n",
    "callbacks_list = [checkpoint, stop]\n",
    "\n",
    "model.summary()"
   ]
  },
  {
   "cell_type": "code",
   "execution_count": 13,
   "metadata": {},
   "outputs": [
    {
     "name": "stdout",
     "output_type": "stream",
     "text": [
      "Train on 2080 samples, validate on 446 samples\n",
      "Epoch 1/1000\n",
      "2080/2080 [==============================] - 201s 97ms/step - loss: 0.6574 - sparse_categorical_accuracy: 0.6341 - f1: 0.7721 - val_loss: 0.6188 - val_sparse_categorical_accuracy: 0.6794 - val_f1: 0.7905\n",
      "\n",
      "Epoch 00001: val_loss improved from inf to 0.61879, saving model to rnn_tpk_src.h5\n",
      "Epoch 2/1000\n",
      "2080/2080 [==============================] - 197s 95ms/step - loss: 0.6505 - sparse_categorical_accuracy: 0.6212 - f1: 0.7724 - val_loss: 0.6072 - val_sparse_categorical_accuracy: 0.6637 - val_f1: 0.7905\n",
      "\n",
      "Epoch 00002: val_loss improved from 0.61879 to 0.60721, saving model to rnn_tpk_src.h5\n",
      "Epoch 3/1000\n",
      "2080/2080 [==============================] - 195s 94ms/step - loss: 0.6145 - sparse_categorical_accuracy: 0.6697 - f1: 0.7727 - val_loss: 0.5892 - val_sparse_categorical_accuracy: 0.6839 - val_f1: 0.7905\n",
      "\n",
      "Epoch 00003: val_loss improved from 0.60721 to 0.58918, saving model to rnn_tpk_src.h5\n",
      "Epoch 4/1000\n",
      "2080/2080 [==============================] - 196s 94ms/step - loss: 0.6107 - sparse_categorical_accuracy: 0.6572 - f1: 0.7731 - val_loss: 0.6195 - val_sparse_categorical_accuracy: 0.6996 - val_f1: 0.7905\n",
      "\n",
      "Epoch 00004: val_loss did not improve from 0.58918\n",
      "Epoch 5/1000\n",
      "2080/2080 [==============================] - 196s 94ms/step - loss: 0.5895 - sparse_categorical_accuracy: 0.6769 - f1: 0.7721 - val_loss: 0.5579 - val_sparse_categorical_accuracy: 0.6861 - val_f1: 0.7905\n",
      "\n",
      "Epoch 00005: val_loss improved from 0.58918 to 0.55789, saving model to rnn_tpk_src.h5\n",
      "Epoch 6/1000\n",
      "2080/2080 [==============================] - 198s 95ms/step - loss: 0.5715 - sparse_categorical_accuracy: 0.6875 - f1: 0.7717 - val_loss: 0.5558 - val_sparse_categorical_accuracy: 0.6771 - val_f1: 0.7905\n",
      "\n",
      "Epoch 00006: val_loss improved from 0.55789 to 0.55585, saving model to rnn_tpk_src.h5\n",
      "Epoch 7/1000\n",
      "2080/2080 [==============================] - 196s 94ms/step - loss: 0.5696 - sparse_categorical_accuracy: 0.7072 - f1: 0.7714 - val_loss: 0.5605 - val_sparse_categorical_accuracy: 0.7063 - val_f1: 0.7905\n",
      "\n",
      "Epoch 00007: val_loss did not improve from 0.55585\n",
      "Epoch 8/1000\n",
      "2080/2080 [==============================] - 197s 95ms/step - loss: 0.5559 - sparse_categorical_accuracy: 0.6928 - f1: 0.7723 - val_loss: 0.5967 - val_sparse_categorical_accuracy: 0.6883 - val_f1: 0.7905\n",
      "\n",
      "Epoch 00008: val_loss did not improve from 0.55585\n",
      "Epoch 9/1000\n",
      "2080/2080 [==============================] - 196s 94ms/step - loss: 0.5531 - sparse_categorical_accuracy: 0.7154 - f1: 0.7725 - val_loss: 0.5355 - val_sparse_categorical_accuracy: 0.7197 - val_f1: 0.7905\n",
      "\n",
      "Epoch 00009: val_loss improved from 0.55585 to 0.53547, saving model to rnn_tpk_src.h5\n",
      "Epoch 10/1000\n",
      "2080/2080 [==============================] - 196s 94ms/step - loss: 0.5487 - sparse_categorical_accuracy: 0.7024 - f1: 0.7721 - val_loss: 0.5367 - val_sparse_categorical_accuracy: 0.7175 - val_f1: 0.7905\n",
      "\n",
      "Epoch 00010: val_loss did not improve from 0.53547\n",
      "Epoch 11/1000\n",
      "2080/2080 [==============================] - 197s 95ms/step - loss: 0.5352 - sparse_categorical_accuracy: 0.7192 - f1: 0.7718 - val_loss: 0.5378 - val_sparse_categorical_accuracy: 0.6928 - val_f1: 0.7905\n",
      "\n",
      "Epoch 00011: val_loss did not improve from 0.53547\n",
      "Epoch 12/1000\n",
      "2080/2080 [==============================] - 192s 92ms/step - loss: 0.5390 - sparse_categorical_accuracy: 0.7236 - f1: 0.7720 - val_loss: 0.5278 - val_sparse_categorical_accuracy: 0.7018 - val_f1: 0.7905\n",
      "\n",
      "Epoch 00012: val_loss improved from 0.53547 to 0.52780, saving model to rnn_tpk_src.h5\n",
      "Epoch 13/1000\n",
      "2080/2080 [==============================] - 168s 81ms/step - loss: 0.5372 - sparse_categorical_accuracy: 0.7255 - f1: 0.7717 - val_loss: 0.5193 - val_sparse_categorical_accuracy: 0.6996 - val_f1: 0.7905\n",
      "\n",
      "Epoch 00013: val_loss improved from 0.52780 to 0.51927, saving model to rnn_tpk_src.h5\n",
      "Epoch 14/1000\n",
      "2080/2080 [==============================] - 168s 81ms/step - loss: 0.5171 - sparse_categorical_accuracy: 0.7356 - f1: 0.7725 - val_loss: 0.5348 - val_sparse_categorical_accuracy: 0.7040 - val_f1: 0.7905\n",
      "\n",
      "Epoch 00014: val_loss did not improve from 0.51927\n",
      "Epoch 15/1000\n",
      "2080/2080 [==============================] - 177s 85ms/step - loss: 0.5049 - sparse_categorical_accuracy: 0.7399 - f1: 0.7727 - val_loss: 0.5156 - val_sparse_categorical_accuracy: 0.7332 - val_f1: 0.7905\n",
      "\n",
      "Epoch 00015: val_loss improved from 0.51927 to 0.51564, saving model to rnn_tpk_src.h5\n",
      "Epoch 16/1000\n",
      "2080/2080 [==============================] - 208s 100ms/step - loss: 0.4962 - sparse_categorical_accuracy: 0.7505 - f1: 0.7721 - val_loss: 0.5178 - val_sparse_categorical_accuracy: 0.7309 - val_f1: 0.7905\n",
      "\n",
      "Epoch 00016: val_loss did not improve from 0.51564\n",
      "Epoch 17/1000\n",
      "2080/2080 [==============================] - 238s 114ms/step - loss: 0.5176 - sparse_categorical_accuracy: 0.7413 - f1: 0.7718 - val_loss: 0.5143 - val_sparse_categorical_accuracy: 0.7040 - val_f1: 0.7905\n",
      "\n",
      "Epoch 00017: val_loss improved from 0.51564 to 0.51432, saving model to rnn_tpk_src.h5\n",
      "Epoch 18/1000\n",
      "2080/2080 [==============================] - 232s 112ms/step - loss: 0.4925 - sparse_categorical_accuracy: 0.7543 - f1: 0.7728 - val_loss: 0.4932 - val_sparse_categorical_accuracy: 0.7489 - val_f1: 0.7905\n",
      "\n",
      "Epoch 00018: val_loss improved from 0.51432 to 0.49322, saving model to rnn_tpk_src.h5\n",
      "Epoch 19/1000\n",
      "2080/2080 [==============================] - 222s 107ms/step - loss: 0.4652 - sparse_categorical_accuracy: 0.7673 - f1: 0.7713 - val_loss: 0.5011 - val_sparse_categorical_accuracy: 0.7444 - val_f1: 0.7905\n",
      "\n",
      "Epoch 00019: val_loss did not improve from 0.49322\n",
      "Epoch 20/1000\n",
      "2080/2080 [==============================] - 196s 94ms/step - loss: 0.4744 - sparse_categorical_accuracy: 0.7601 - f1: 0.7732 - val_loss: 0.4893 - val_sparse_categorical_accuracy: 0.7511 - val_f1: 0.7905\n",
      "\n",
      "Epoch 00020: val_loss improved from 0.49322 to 0.48929, saving model to rnn_tpk_src.h5\n",
      "Epoch 21/1000\n",
      "2080/2080 [==============================] - 197s 95ms/step - loss: 0.4567 - sparse_categorical_accuracy: 0.7784 - f1: 0.7710 - val_loss: 0.5163 - val_sparse_categorical_accuracy: 0.7422 - val_f1: 0.7905\n",
      "\n",
      "Epoch 00021: val_loss did not improve from 0.48929\n",
      "Epoch 22/1000\n",
      "2080/2080 [==============================] - 196s 94ms/step - loss: 0.4441 - sparse_categorical_accuracy: 0.7793 - f1: 0.7726 - val_loss: 0.5169 - val_sparse_categorical_accuracy: 0.7646 - val_f1: 0.7905\n",
      "\n",
      "Epoch 00022: val_loss did not improve from 0.48929\n",
      "Epoch 23/1000\n",
      "2080/2080 [==============================] - 196s 94ms/step - loss: 0.4440 - sparse_categorical_accuracy: 0.7894 - f1: 0.7710 - val_loss: 0.5103 - val_sparse_categorical_accuracy: 0.7489 - val_f1: 0.7905\n",
      "\n",
      "Epoch 00023: val_loss did not improve from 0.48929\n",
      "Epoch 24/1000\n",
      "2080/2080 [==============================] - 196s 94ms/step - loss: 0.4432 - sparse_categorical_accuracy: 0.7803 - f1: 0.7718 - val_loss: 0.4830 - val_sparse_categorical_accuracy: 0.7646 - val_f1: 0.7905\n",
      "\n",
      "Epoch 00024: val_loss improved from 0.48929 to 0.48297, saving model to rnn_tpk_src.h5\n",
      "Epoch 25/1000\n",
      "2080/2080 [==============================] - 198s 95ms/step - loss: 0.4445 - sparse_categorical_accuracy: 0.7832 - f1: 0.7717 - val_loss: 0.4756 - val_sparse_categorical_accuracy: 0.7578 - val_f1: 0.7905\n",
      "\n",
      "Epoch 00025: val_loss improved from 0.48297 to 0.47564, saving model to rnn_tpk_src.h5\n",
      "Epoch 26/1000\n",
      "2080/2080 [==============================] - 198s 95ms/step - loss: 0.4169 - sparse_categorical_accuracy: 0.8034 - f1: 0.7726 - val_loss: 0.5399 - val_sparse_categorical_accuracy: 0.7422 - val_f1: 0.7905\n",
      "\n",
      "Epoch 00026: val_loss did not improve from 0.47564\n",
      "Epoch 27/1000\n",
      "2080/2080 [==============================] - 195s 94ms/step - loss: 0.4231 - sparse_categorical_accuracy: 0.7942 - f1: 0.7726 - val_loss: 0.5257 - val_sparse_categorical_accuracy: 0.7444 - val_f1: 0.7905\n",
      "\n",
      "Epoch 00027: val_loss did not improve from 0.47564\n",
      "Epoch 28/1000\n",
      "2080/2080 [==============================] - 197s 95ms/step - loss: 0.4067 - sparse_categorical_accuracy: 0.7986 - f1: 0.7725 - val_loss: 0.4730 - val_sparse_categorical_accuracy: 0.7623 - val_f1: 0.7905\n",
      "\n",
      "Epoch 00028: val_loss improved from 0.47564 to 0.47299, saving model to rnn_tpk_src.h5\n",
      "Epoch 29/1000\n"
     ]
    },
    {
     "name": "stdout",
     "output_type": "stream",
     "text": [
      "2080/2080 [==============================] - 157s 75ms/step - loss: 0.4006 - sparse_categorical_accuracy: 0.8087 - f1: 0.7708 - val_loss: 0.4764 - val_sparse_categorical_accuracy: 0.7556 - val_f1: 0.7905\n",
      "\n",
      "Epoch 00029: val_loss did not improve from 0.47299\n",
      "Epoch 30/1000\n",
      "2080/2080 [==============================] - 141s 68ms/step - loss: 0.3867 - sparse_categorical_accuracy: 0.8216 - f1: 0.7713 - val_loss: 0.5395 - val_sparse_categorical_accuracy: 0.7668 - val_f1: 0.7905\n",
      "\n",
      "Epoch 00030: val_loss did not improve from 0.47299\n",
      "Epoch 31/1000\n",
      "2080/2080 [==============================] - 140s 67ms/step - loss: 0.3763 - sparse_categorical_accuracy: 0.8221 - f1: 0.7727 - val_loss: 0.4839 - val_sparse_categorical_accuracy: 0.7713 - val_f1: 0.7905\n",
      "\n",
      "Epoch 00031: val_loss did not improve from 0.47299\n",
      "Epoch 32/1000\n",
      "2080/2080 [==============================] - 137s 66ms/step - loss: 0.3660 - sparse_categorical_accuracy: 0.8337 - f1: 0.7716 - val_loss: 0.4974 - val_sparse_categorical_accuracy: 0.7758 - val_f1: 0.7905\n",
      "\n",
      "Epoch 00032: val_loss did not improve from 0.47299\n",
      "Epoch 33/1000\n",
      "2080/2080 [==============================] - 138s 67ms/step - loss: 0.3637 - sparse_categorical_accuracy: 0.8288 - f1: 0.7725 - val_loss: 0.5179 - val_sparse_categorical_accuracy: 0.7780 - val_f1: 0.7905\n",
      "\n",
      "Epoch 00033: val_loss did not improve from 0.47299\n",
      "Epoch 34/1000\n",
      "2080/2080 [==============================] - 138s 66ms/step - loss: 0.3468 - sparse_categorical_accuracy: 0.8389 - f1: 0.7723 - val_loss: 0.5280 - val_sparse_categorical_accuracy: 0.7803 - val_f1: 0.7905\n",
      "\n",
      "Epoch 00034: val_loss did not improve from 0.47299\n",
      "Epoch 35/1000\n",
      "2080/2080 [==============================] - 138s 66ms/step - loss: 0.3631 - sparse_categorical_accuracy: 0.8260 - f1: 0.7718 - val_loss: 0.4761 - val_sparse_categorical_accuracy: 0.7870 - val_f1: 0.7905\n",
      "\n",
      "Epoch 00035: val_loss did not improve from 0.47299\n",
      "Epoch 36/1000\n",
      "2080/2080 [==============================] - 115s 55ms/step - loss: 0.3483 - sparse_categorical_accuracy: 0.8438 - f1: 0.7721 - val_loss: 0.5048 - val_sparse_categorical_accuracy: 0.7892 - val_f1: 0.7905\n",
      "\n",
      "Epoch 00036: val_loss did not improve from 0.47299\n",
      "Epoch 37/1000\n",
      "2080/2080 [==============================] - 110s 53ms/step - loss: 0.3492 - sparse_categorical_accuracy: 0.8361 - f1: 0.7729 - val_loss: 0.4970 - val_sparse_categorical_accuracy: 0.7735 - val_f1: 0.7905\n",
      "\n",
      "Epoch 00037: val_loss did not improve from 0.47299\n",
      "Epoch 38/1000\n",
      "2080/2080 [==============================] - 109s 52ms/step - loss: 0.3246 - sparse_categorical_accuracy: 0.8572 - f1: 0.7718 - val_loss: 0.5669 - val_sparse_categorical_accuracy: 0.7668 - val_f1: 0.7905\n",
      "\n",
      "Epoch 00038: val_loss did not improve from 0.47299\n",
      "Epoch 39/1000\n",
      "2080/2080 [==============================] - 111s 53ms/step - loss: 0.3353 - sparse_categorical_accuracy: 0.8500 - f1: 0.7731 - val_loss: 0.5144 - val_sparse_categorical_accuracy: 0.7870 - val_f1: 0.7905\n",
      "\n",
      "Epoch 00039: val_loss did not improve from 0.47299\n",
      "Epoch 40/1000\n",
      "2080/2080 [==============================] - 101s 49ms/step - loss: 0.3112 - sparse_categorical_accuracy: 0.8558 - f1: 0.7727 - val_loss: 0.5566 - val_sparse_categorical_accuracy: 0.7870 - val_f1: 0.7905\n",
      "\n",
      "Epoch 00040: val_loss did not improve from 0.47299\n",
      "Epoch 41/1000\n",
      "2080/2080 [==============================] - 80s 39ms/step - loss: 0.3067 - sparse_categorical_accuracy: 0.8625 - f1: 0.7728 - val_loss: 0.5012 - val_sparse_categorical_accuracy: 0.7780 - val_f1: 0.7905\n",
      "\n",
      "Epoch 00041: val_loss did not improve from 0.47299\n",
      "Epoch 42/1000\n",
      "2080/2080 [==============================] - 70s 33ms/step - loss: 0.3097 - sparse_categorical_accuracy: 0.8615 - f1: 0.7717 - val_loss: 0.4868 - val_sparse_categorical_accuracy: 0.7803 - val_f1: 0.7905\n",
      "\n",
      "Epoch 00042: val_loss did not improve from 0.47299\n",
      "Epoch 43/1000\n",
      "2080/2080 [==============================] - 56s 27ms/step - loss: 0.2952 - sparse_categorical_accuracy: 0.8755 - f1: 0.7727 - val_loss: 0.5733 - val_sparse_categorical_accuracy: 0.7601 - val_f1: 0.7905\n",
      "\n",
      "Epoch 00043: val_loss did not improve from 0.47299\n",
      "Epoch 44/1000\n",
      "2080/2080 [==============================] - 55s 26ms/step - loss: 0.2964 - sparse_categorical_accuracy: 0.8673 - f1: 0.7718 - val_loss: 0.5117 - val_sparse_categorical_accuracy: 0.7870 - val_f1: 0.7905\n",
      "\n",
      "Epoch 00044: val_loss did not improve from 0.47299\n",
      "Epoch 45/1000\n",
      "2080/2080 [==============================] - 55s 26ms/step - loss: 0.2757 - sparse_categorical_accuracy: 0.8750 - f1: 0.7722 - val_loss: 0.5429 - val_sparse_categorical_accuracy: 0.7758 - val_f1: 0.7905\n",
      "\n",
      "Epoch 00045: val_loss did not improve from 0.47299\n",
      "Epoch 46/1000\n",
      "2080/2080 [==============================] - 55s 27ms/step - loss: 0.2707 - sparse_categorical_accuracy: 0.8865 - f1: 0.7722 - val_loss: 0.5416 - val_sparse_categorical_accuracy: 0.7892 - val_f1: 0.7905\n",
      "\n",
      "Epoch 00046: val_loss did not improve from 0.47299\n",
      "Epoch 47/1000\n",
      "2080/2080 [==============================] - 55s 27ms/step - loss: 0.2672 - sparse_categorical_accuracy: 0.8827 - f1: 0.7715 - val_loss: 0.5219 - val_sparse_categorical_accuracy: 0.7915 - val_f1: 0.7905\n",
      "\n",
      "Epoch 00047: val_loss did not improve from 0.47299\n",
      "Epoch 48/1000\n",
      "2080/2080 [==============================] - 54s 26ms/step - loss: 0.2424 - sparse_categorical_accuracy: 0.8962 - f1: 0.7724 - val_loss: 0.5347 - val_sparse_categorical_accuracy: 0.8184 - val_f1: 0.7905\n",
      "\n",
      "Epoch 00048: val_loss did not improve from 0.47299\n",
      "Epoch 00048: early stopping\n"
     ]
    },
    {
     "data": {
      "text/plain": [
       "<keras.callbacks.History at 0x7f16cdb32c88>"
      ]
     },
     "execution_count": 13,
     "metadata": {},
     "output_type": "execute_result"
    }
   ],
   "source": [
    "#training\n",
    "model.fit(x=X_smiles_train, \n",
    "          y=y_train, \n",
    "          batch_size=32, \n",
    "          epochs=1000, \n",
    "          verbose=1, \n",
    "          callbacks=callbacks_list, \n",
    "          validation_data=(X_smiles_val, y_val), \n",
    "          shuffle=True)"
   ]
  },
  {
   "cell_type": "code",
   "execution_count": 14,
   "metadata": {},
   "outputs": [
    {
     "name": "stdout",
     "output_type": "stream",
     "text": [
      "['loss', 'sparse_categorical_accuracy', 'f1']\n"
     ]
    }
   ],
   "source": [
    "#testing\n",
    "from keras.models import load_model\n",
    "trained_model = load_model(model_file, custom_objects={'f1': f1})\n",
    "print(trained_model.metrics_names)"
   ]
  },
  {
   "cell_type": "code",
   "execution_count": 15,
   "metadata": {},
   "outputs": [
    {
     "name": "stdout",
     "output_type": "stream",
     "text": [
      "2080/2080 [==============================] - 14s 7ms/step\n"
     ]
    },
    {
     "data": {
      "text/plain": [
       "[0.36759345187590675, 0.8269230769230769, 0.7720215595685519]"
      ]
     },
     "execution_count": 15,
     "metadata": {},
     "output_type": "execute_result"
    }
   ],
   "source": [
    "trained_model.evaluate(x=X_smiles_train, y=y_train)"
   ]
  },
  {
   "cell_type": "code",
   "execution_count": 16,
   "metadata": {},
   "outputs": [
    {
     "name": "stdout",
     "output_type": "stream",
     "text": [
      "446/446 [==============================] - 3s 7ms/step\n"
     ]
    },
    {
     "data": {
      "text/plain": [
       "[0.4729876733414261, 0.7623318390995932, 0.7904687021345301]"
      ]
     },
     "execution_count": 16,
     "metadata": {},
     "output_type": "execute_result"
    }
   ],
   "source": [
    "trained_model.evaluate(x=X_smiles_val, y=y_val)"
   ]
  },
  {
   "cell_type": "code",
   "execution_count": 17,
   "metadata": {},
   "outputs": [
    {
     "name": "stdout",
     "output_type": "stream",
     "text": [
      "446/446 [==============================] - 3s 7ms/step\n"
     ]
    },
    {
     "data": {
      "text/plain": [
       "[0.41887799640407475, 0.8139013439550528, 0.7683763963759213]"
      ]
     },
     "execution_count": 17,
     "metadata": {},
     "output_type": "execute_result"
    }
   ],
   "source": [
    "trained_model.evaluate(x=X_smiles_test, y=y_test)"
   ]
  },
  {
   "cell_type": "code",
   "execution_count": 18,
   "metadata": {},
   "outputs": [],
   "source": [
    "from sklearn.metrics import roc_curve\n",
    "from sklearn.metrics import roc_auc_score\n",
    "pred_train = trained_model.predict(x=X_smiles_train)[:,1]\n",
    "pred_val = trained_model.predict(x=X_smiles_val)[:,1]\n",
    "pred_test = trained_model.predict(x=X_smiles_test)[:,1]\n",
    "np.savez(model_file[:-2] + 'npz', pred_train=pred_train, pred_val=pred_val, pred_test=pred_test)"
   ]
  }
 ],
 "metadata": {
  "kernelspec": {
   "display_name": "Python 3",
   "language": "python",
   "name": "python3"
  },
  "language_info": {
   "codemirror_mode": {
    "name": "ipython",
    "version": 3
   },
   "file_extension": ".py",
   "mimetype": "text/x-python",
   "name": "python",
   "nbconvert_exporter": "python",
   "pygments_lexer": "ipython3",
   "version": "3.6.7"
  }
 },
 "nbformat": 4,
 "nbformat_minor": 2
}
