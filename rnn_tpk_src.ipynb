{
 "cells": [
  {
   "cell_type": "code",
   "execution_count": 1,
   "metadata": {},
   "outputs": [
    {
     "name": "stderr",
     "output_type": "stream",
     "text": [
      "Using TensorFlow backend.\n"
     ]
    }
   ],
   "source": [
    "import os\n",
    "import sys\n",
    "import numpy as np\n",
    "import keras\n",
    "from sklearn.model_selection import train_test_split"
   ]
  },
  {
   "cell_type": "code",
   "execution_count": 2,
   "metadata": {},
   "outputs": [],
   "source": [
    "seed = 273\n",
    "kinase = 'tpk_src'\n",
    "model_file = 'basic_RNN_%s.h5' % (kinase)"
   ]
  },
  {
   "cell_type": "code",
   "execution_count": 3,
   "metadata": {},
   "outputs": [],
   "source": [
    "#import data\n",
    "lines = [line.strip().split(',') for line in open(os.path.join('data', kinase+'_smiles.csv'))]\n",
    "smiles = [line[1] for line in lines]\n",
    "y = np.asarray([int(line[2]) for line in lines], dtype=np.int8)"
   ]
  },
  {
   "cell_type": "code",
   "execution_count": 4,
   "metadata": {},
   "outputs": [],
   "source": [
    "#pad smiles with '!' to ensure equal length\n",
    "max_smiles_len = max(len(s) for s in smiles)\n",
    "smiles = [s + '!'*(max_smiles_len + 1 - len(s)) for s in smiles]"
   ]
  },
  {
   "cell_type": "code",
   "execution_count": 5,
   "metadata": {},
   "outputs": [],
   "source": [
    "#one-hot vector representation of smiles\n",
    "char_set = set()\n",
    "for s in smiles:\n",
    "    for c in s:\n",
    "        char_set.add(c)\n",
    "char_set = list(char_set)\n",
    "char_to_index = {char_set[i]: i for i in range(len(char_set))}\n",
    "\n",
    "X = np.zeros((len(smiles), max_smiles_len + 1, len(char_set)))\n",
    "for i in range(len(smiles)):\n",
    "    code = smiles[i]\n",
    "    for j in range(len(code)):\n",
    "        char = code[j]\n",
    "        X[i, j, char_to_index[char]] = 1        "
   ]
  },
  {
   "cell_type": "code",
   "execution_count": 6,
   "metadata": {},
   "outputs": [
    {
     "name": "stdout",
     "output_type": "stream",
     "text": [
      "(2080, 416, 40) (2080,)\n",
      "(446, 416, 40) (446,)\n",
      "(446, 416, 40) (446,)\n"
     ]
    }
   ],
   "source": [
    "#train val test split\n",
    "X_train, X_test, y_train, y_test = train_test_split(X, y, test_size=0.3, random_state=seed)\n",
    "X_val, X_test, y_val, y_test = train_test_split(X_test, y_test, test_size=0.5, random_state=seed)\n",
    "\n",
    "print(X_train.shape, y_train.shape)\n",
    "print(X_val.shape, y_val.shape)\n",
    "print(X_test.shape, y_test.shape)\n",
    "\n",
    "input_shape = X_train.shape[1:]"
   ]
  },
  {
   "cell_type": "code",
   "execution_count": 7,
   "metadata": {},
   "outputs": [
    {
     "name": "stdout",
     "output_type": "stream",
     "text": [
      "[]\n"
     ]
    }
   ],
   "source": [
    "#check GPU presence\n",
    "from tensorflow.python.client import device_lib\n",
    "\n",
    "def get_available_gpus():\n",
    "    local_device_protos = device_lib.list_local_devices()\n",
    "    return [x.name for x in local_device_protos if x.device_type == 'GPU']\n",
    "\n",
    "print(get_available_gpus())"
   ]
  },
  {
   "cell_type": "code",
   "execution_count": 8,
   "metadata": {},
   "outputs": [],
   "source": [
    "#keras imports\n",
    "from keras.models import Sequential\n",
    "from keras.layers import TimeDistributed, GlobalAveragePooling2D, Activation, Dense, Input, Bidirectional\n",
    "from keras.layers import BatchNormalization, Conv2D, MaxPooling2D, AveragePooling2D, GlobalAveragePooling2D\n",
    "from keras.layers import GlobalMaxPooling2D\n",
    "from keras.layers.recurrent import LSTM\n",
    "from keras.callbacks import ModelCheckpoint, ReduceLROnPlateau, Callback, EarlyStopping\n",
    "from keras.layers import Dropout, Flatten\n",
    "from keras.layers import concatenate\n",
    "from keras import regularizers\n",
    "from keras import initializers\n",
    "from keras import constraints\n",
    "from keras.models import Model\n",
    "# Backend\n",
    "from keras import backend as K\n",
    "# Utils\n",
    "from keras.utils.layer_utils import convert_all_kernels_in_model\n",
    "from keras.utils.data_utils import get_file\n",
    "from keras import metrics"
   ]
  },
  {
   "cell_type": "code",
   "execution_count": 9,
   "metadata": {},
   "outputs": [],
   "source": [
    "#F1 score computation\n",
    "from sklearn.metrics import confusion_matrix, f1_score, precision_score, recall_score\n",
    "from keras import backend as K\n",
    "\n",
    "def f1(y_true, y_pred):\n",
    "    def recall(y_true, y_pred):\n",
    "        \"\"\"Recall metric.\n",
    "\n",
    "        Only computes a batch-wise average of recall.\n",
    "\n",
    "        Computes the recall, a metric for multi-label classification of\n",
    "        how many relevant items are selected.\n",
    "        \"\"\"\n",
    "        true_positives = K.sum(K.round(K.clip(y_true * y_pred, 0, 1)))\n",
    "        possible_positives = K.sum(K.round(K.clip(y_true, 0, 1)))\n",
    "        recall = true_positives / (possible_positives + K.epsilon())\n",
    "        return recall\n",
    "\n",
    "    def precision(y_true, y_pred):\n",
    "        \"\"\"Precision metric.\n",
    "\n",
    "        Only computes a batch-wise average of precision.\n",
    "\n",
    "        Computes the precision, a metric for multi-label classification of\n",
    "        how many selected items are relevant.\n",
    "        \"\"\"\n",
    "        true_positives = K.sum(K.round(K.clip(y_true * y_pred, 0, 1)))\n",
    "        predicted_positives = K.sum(K.round(K.clip(y_pred, 0, 1)))\n",
    "        precision = true_positives / (predicted_positives + K.epsilon())\n",
    "        return precision\n",
    "    precision = precision(y_true, y_pred)\n",
    "    recall = recall(y_true, y_pred)\n",
    "    return 2*((precision*recall)/(precision+recall+K.epsilon()))"
   ]
  },
  {
   "cell_type": "code",
   "execution_count": 10,
   "metadata": {},
   "outputs": [],
   "source": [
    "#basic RNN model\n",
    "model = Sequential()\n",
    "model.add(Bidirectional(LSTM(units=64, return_sequences=False), input_shape=input_shape))\n",
    "model.add(Dense(64, activation='relu'))\n",
    "model.add(Dropout(0.5))\n",
    "model.add(Dense(2, activation='softmax'))"
   ]
  },
  {
   "cell_type": "code",
   "execution_count": 11,
   "metadata": {},
   "outputs": [
    {
     "name": "stdout",
     "output_type": "stream",
     "text": [
      "_________________________________________________________________\n",
      "Layer (type)                 Output Shape              Param #   \n",
      "=================================================================\n",
      "bidirectional_1 (Bidirection (None, 128)               53760     \n",
      "_________________________________________________________________\n",
      "dense_1 (Dense)              (None, 64)                8256      \n",
      "_________________________________________________________________\n",
      "dropout_1 (Dropout)          (None, 64)                0         \n",
      "_________________________________________________________________\n",
      "dense_2 (Dense)              (None, 2)                 130       \n",
      "=================================================================\n",
      "Total params: 62,146\n",
      "Trainable params: 62,146\n",
      "Non-trainable params: 0\n",
      "_________________________________________________________________\n"
     ]
    }
   ],
   "source": [
    "#compile model\n",
    "adam = keras.optimizers.Adam(lr=0.001, decay=0.0, clipnorm=5.)\n",
    "stop = EarlyStopping(patience=20, verbose=1)\n",
    "model.compile(optimizer=adam, loss='sparse_categorical_crossentropy', metrics=[metrics.sparse_categorical_accuracy, f1])\n",
    "checkpoint = ModelCheckpoint(model_file, monitor='val_loss', verbose=1, save_best_only=True, mode='min')\n",
    "\n",
    "callbacks_list = [checkpoint, stop]\n",
    "\n",
    "model.summary()"
   ]
  },
  {
   "cell_type": "code",
   "execution_count": 12,
   "metadata": {},
   "outputs": [
    {
     "name": "stdout",
     "output_type": "stream",
     "text": [
      "Train on 2080 samples, validate on 446 samples\n",
      "Epoch 1/1000\n",
      "2080/2080 [==============================] - 152s 73ms/step - loss: 0.6610 - sparse_categorical_accuracy: 0.6212 - f1: 0.7723 - val_loss: 0.6286 - val_sparse_categorical_accuracy: 0.6726 - val_f1: 0.7823\n",
      "\n",
      "Epoch 00001: val_loss improved from inf to 0.62864, saving model to basic_RNN_tpk_src.h5\n",
      "Epoch 2/1000\n",
      "2080/2080 [==============================] - 139s 67ms/step - loss: 0.6236 - sparse_categorical_accuracy: 0.6543 - f1: 0.7725 - val_loss: 0.6109 - val_sparse_categorical_accuracy: 0.6861 - val_f1: 0.7823\n",
      "\n",
      "Epoch 00002: val_loss improved from 0.62864 to 0.61090, saving model to basic_RNN_tpk_src.h5\n",
      "Epoch 3/1000\n",
      "2080/2080 [==============================] - 141s 68ms/step - loss: 0.6293 - sparse_categorical_accuracy: 0.6428 - f1: 0.7726 - val_loss: 0.5814 - val_sparse_categorical_accuracy: 0.6996 - val_f1: 0.7823\n",
      "\n",
      "Epoch 00003: val_loss improved from 0.61090 to 0.58142, saving model to basic_RNN_tpk_src.h5\n",
      "Epoch 4/1000\n",
      "2080/2080 [==============================] - 140s 67ms/step - loss: 0.6021 - sparse_categorical_accuracy: 0.6769 - f1: 0.7715 - val_loss: 0.5879 - val_sparse_categorical_accuracy: 0.6794 - val_f1: 0.7823\n",
      "\n",
      "Epoch 00004: val_loss did not improve from 0.58142\n",
      "Epoch 5/1000\n",
      "2080/2080 [==============================] - 127s 61ms/step - loss: 0.6095 - sparse_categorical_accuracy: 0.6697 - f1: 0.7729 - val_loss: 0.5762 - val_sparse_categorical_accuracy: 0.7018 - val_f1: 0.7823\n",
      "\n",
      "Epoch 00005: val_loss improved from 0.58142 to 0.57621, saving model to basic_RNN_tpk_src.h5\n",
      "Epoch 6/1000\n",
      "2080/2080 [==============================] - 124s 60ms/step - loss: 0.5892 - sparse_categorical_accuracy: 0.6861 - f1: 0.7737 - val_loss: 0.5447 - val_sparse_categorical_accuracy: 0.7265 - val_f1: 0.7823\n",
      "\n",
      "Epoch 00006: val_loss improved from 0.57621 to 0.54470, saving model to basic_RNN_tpk_src.h5\n",
      "Epoch 7/1000\n",
      "2080/2080 [==============================] - 122s 58ms/step - loss: 0.5764 - sparse_categorical_accuracy: 0.6957 - f1: 0.7722 - val_loss: 0.5709 - val_sparse_categorical_accuracy: 0.7040 - val_f1: 0.7823\n",
      "\n",
      "Epoch 00007: val_loss did not improve from 0.54470\n",
      "Epoch 8/1000\n",
      "2080/2080 [==============================] - 123s 59ms/step - loss: 0.5785 - sparse_categorical_accuracy: 0.6928 - f1: 0.7719 - val_loss: 0.5582 - val_sparse_categorical_accuracy: 0.7265 - val_f1: 0.7823\n",
      "\n",
      "Epoch 00008: val_loss did not improve from 0.54470\n",
      "Epoch 9/1000\n",
      "2080/2080 [==============================] - 124s 59ms/step - loss: 0.5710 - sparse_categorical_accuracy: 0.7014 - f1: 0.7734 - val_loss: 0.5220 - val_sparse_categorical_accuracy: 0.7265 - val_f1: 0.7823\n",
      "\n",
      "Epoch 00009: val_loss improved from 0.54470 to 0.52196, saving model to basic_RNN_tpk_src.h5\n",
      "Epoch 10/1000\n",
      "2080/2080 [==============================] - 123s 59ms/step - loss: 0.5537 - sparse_categorical_accuracy: 0.7168 - f1: 0.7722 - val_loss: 0.5119 - val_sparse_categorical_accuracy: 0.7444 - val_f1: 0.7823\n",
      "\n",
      "Epoch 00010: val_loss improved from 0.52196 to 0.51187, saving model to basic_RNN_tpk_src.h5\n",
      "Epoch 11/1000\n",
      "2080/2080 [==============================] - 122s 59ms/step - loss: 0.5616 - sparse_categorical_accuracy: 0.7096 - f1: 0.7714 - val_loss: 0.5289 - val_sparse_categorical_accuracy: 0.7130 - val_f1: 0.7823\n",
      "\n",
      "Epoch 00011: val_loss did not improve from 0.51187\n",
      "Epoch 12/1000\n",
      "2080/2080 [==============================] - 118s 57ms/step - loss: 0.5506 - sparse_categorical_accuracy: 0.7115 - f1: 0.7720 - val_loss: 0.5119 - val_sparse_categorical_accuracy: 0.7377 - val_f1: 0.7823\n",
      "\n",
      "Epoch 00012: val_loss did not improve from 0.51187\n",
      "Epoch 13/1000\n",
      "2080/2080 [==============================] - 103s 50ms/step - loss: 0.5452 - sparse_categorical_accuracy: 0.7115 - f1: 0.7714 - val_loss: 0.5063 - val_sparse_categorical_accuracy: 0.7511 - val_f1: 0.7823\n",
      "\n",
      "Epoch 00013: val_loss improved from 0.51187 to 0.50631, saving model to basic_RNN_tpk_src.h5\n",
      "Epoch 14/1000\n",
      "2080/2080 [==============================] - 104s 50ms/step - loss: 0.5351 - sparse_categorical_accuracy: 0.7279 - f1: 0.7716 - val_loss: 0.4969 - val_sparse_categorical_accuracy: 0.7556 - val_f1: 0.7823\n",
      "\n",
      "Epoch 00014: val_loss improved from 0.50631 to 0.49691, saving model to basic_RNN_tpk_src.h5\n",
      "Epoch 15/1000\n",
      "2080/2080 [==============================] - 104s 50ms/step - loss: 0.5264 - sparse_categorical_accuracy: 0.7212 - f1: 0.7729 - val_loss: 0.5025 - val_sparse_categorical_accuracy: 0.7422 - val_f1: 0.7823\n",
      "\n",
      "Epoch 00015: val_loss did not improve from 0.49691\n",
      "Epoch 16/1000\n",
      "2080/2080 [==============================] - 104s 50ms/step - loss: 0.5203 - sparse_categorical_accuracy: 0.7288 - f1: 0.7723 - val_loss: 0.5522 - val_sparse_categorical_accuracy: 0.7197 - val_f1: 0.7823\n",
      "\n",
      "Epoch 00016: val_loss did not improve from 0.49691\n",
      "Epoch 17/1000\n",
      "2080/2080 [==============================] - 104s 50ms/step - loss: 0.5105 - sparse_categorical_accuracy: 0.7327 - f1: 0.7721 - val_loss: 0.4815 - val_sparse_categorical_accuracy: 0.7354 - val_f1: 0.7823\n",
      "\n",
      "Epoch 00017: val_loss improved from 0.49691 to 0.48150, saving model to basic_RNN_tpk_src.h5\n",
      "Epoch 18/1000\n",
      "2080/2080 [==============================] - 104s 50ms/step - loss: 0.5046 - sparse_categorical_accuracy: 0.7409 - f1: 0.7720 - val_loss: 0.4773 - val_sparse_categorical_accuracy: 0.7578 - val_f1: 0.7823\n",
      "\n",
      "Epoch 00018: val_loss improved from 0.48150 to 0.47732, saving model to basic_RNN_tpk_src.h5\n",
      "Epoch 19/1000\n",
      "2080/2080 [==============================] - 105s 50ms/step - loss: 0.4941 - sparse_categorical_accuracy: 0.7567 - f1: 0.7729 - val_loss: 0.4788 - val_sparse_categorical_accuracy: 0.7534 - val_f1: 0.7823\n",
      "\n",
      "Epoch 00019: val_loss did not improve from 0.47732\n",
      "Epoch 20/1000\n",
      "2080/2080 [==============================] - 91s 44ms/step - loss: 0.4937 - sparse_categorical_accuracy: 0.7519 - f1: 0.7733 - val_loss: 0.4922 - val_sparse_categorical_accuracy: 0.7422 - val_f1: 0.7823\n",
      "\n",
      "Epoch 00020: val_loss did not improve from 0.47732\n",
      "Epoch 21/1000\n",
      "2080/2080 [==============================] - 68s 33ms/step - loss: 0.4721 - sparse_categorical_accuracy: 0.7587 - f1: 0.7733 - val_loss: 0.4621 - val_sparse_categorical_accuracy: 0.7578 - val_f1: 0.7823\n",
      "\n",
      "Epoch 00021: val_loss improved from 0.47732 to 0.46210, saving model to basic_RNN_tpk_src.h5\n",
      "Epoch 22/1000\n",
      "2080/2080 [==============================] - 68s 33ms/step - loss: 0.4763 - sparse_categorical_accuracy: 0.7529 - f1: 0.7735 - val_loss: 0.5366 - val_sparse_categorical_accuracy: 0.7309 - val_f1: 0.7823\n",
      "\n",
      "Epoch 00022: val_loss did not improve from 0.46210\n",
      "Epoch 23/1000\n",
      "2080/2080 [==============================] - 69s 33ms/step - loss: 0.4732 - sparse_categorical_accuracy: 0.7572 - f1: 0.7723 - val_loss: 0.4940 - val_sparse_categorical_accuracy: 0.7646 - val_f1: 0.7823\n",
      "\n",
      "Epoch 00023: val_loss did not improve from 0.46210\n",
      "Epoch 24/1000\n",
      "2080/2080 [==============================] - 67s 32ms/step - loss: 0.4536 - sparse_categorical_accuracy: 0.7745 - f1: 0.7710 - val_loss: 0.4568 - val_sparse_categorical_accuracy: 0.7489 - val_f1: 0.7823\n",
      "\n",
      "Epoch 00024: val_loss improved from 0.46210 to 0.45676, saving model to basic_RNN_tpk_src.h5\n",
      "Epoch 25/1000\n",
      "2080/2080 [==============================] - 69s 33ms/step - loss: 0.4508 - sparse_categorical_accuracy: 0.7687 - f1: 0.7729 - val_loss: 0.4759 - val_sparse_categorical_accuracy: 0.7601 - val_f1: 0.7823\n",
      "\n",
      "Epoch 00025: val_loss did not improve from 0.45676\n",
      "Epoch 26/1000\n",
      "2080/2080 [==============================] - 69s 33ms/step - loss: 0.4476 - sparse_categorical_accuracy: 0.7750 - f1: 0.7732 - val_loss: 0.4751 - val_sparse_categorical_accuracy: 0.7332 - val_f1: 0.7823\n",
      "\n",
      "Epoch 00026: val_loss did not improve from 0.45676\n",
      "Epoch 27/1000\n",
      "2080/2080 [==============================] - 68s 33ms/step - loss: 0.4539 - sparse_categorical_accuracy: 0.7808 - f1: 0.7726 - val_loss: 0.4935 - val_sparse_categorical_accuracy: 0.7422 - val_f1: 0.7823\n",
      "\n",
      "Epoch 00027: val_loss did not improve from 0.45676\n",
      "Epoch 28/1000\n",
      "2080/2080 [==============================] - 68s 33ms/step - loss: 0.4286 - sparse_categorical_accuracy: 0.7827 - f1: 0.7726 - val_loss: 0.4779 - val_sparse_categorical_accuracy: 0.7399 - val_f1: 0.7823\n",
      "\n",
      "Epoch 00028: val_loss did not improve from 0.45676\n",
      "Epoch 29/1000\n"
     ]
    },
    {
     "name": "stdout",
     "output_type": "stream",
     "text": [
      "2080/2080 [==============================] - 69s 33ms/step - loss: 0.4337 - sparse_categorical_accuracy: 0.7774 - f1: 0.7726 - val_loss: 0.4909 - val_sparse_categorical_accuracy: 0.7444 - val_f1: 0.7823\n",
      "\n",
      "Epoch 00029: val_loss did not improve from 0.45676\n",
      "Epoch 30/1000\n",
      "2080/2080 [==============================] - 68s 33ms/step - loss: 0.4234 - sparse_categorical_accuracy: 0.7928 - f1: 0.7729 - val_loss: 0.4693 - val_sparse_categorical_accuracy: 0.7646 - val_f1: 0.7823\n",
      "\n",
      "Epoch 00030: val_loss did not improve from 0.45676\n",
      "Epoch 31/1000\n",
      "2080/2080 [==============================] - 68s 33ms/step - loss: 0.4139 - sparse_categorical_accuracy: 0.8000 - f1: 0.7713 - val_loss: 0.4898 - val_sparse_categorical_accuracy: 0.7623 - val_f1: 0.7823\n",
      "\n",
      "Epoch 00031: val_loss did not improve from 0.45676\n",
      "Epoch 32/1000\n",
      "2080/2080 [==============================] - 68s 33ms/step - loss: 0.4179 - sparse_categorical_accuracy: 0.7899 - f1: 0.7723 - val_loss: 0.4733 - val_sparse_categorical_accuracy: 0.7422 - val_f1: 0.7823\n",
      "\n",
      "Epoch 00032: val_loss did not improve from 0.45676\n",
      "Epoch 33/1000\n",
      "2080/2080 [==============================] - 68s 33ms/step - loss: 0.4246 - sparse_categorical_accuracy: 0.7976 - f1: 0.7719 - val_loss: 0.4530 - val_sparse_categorical_accuracy: 0.7758 - val_f1: 0.7823\n",
      "\n",
      "Epoch 00033: val_loss improved from 0.45676 to 0.45301, saving model to basic_RNN_tpk_src.h5\n",
      "Epoch 34/1000\n",
      "2080/2080 [==============================] - 67s 32ms/step - loss: 0.4154 - sparse_categorical_accuracy: 0.7962 - f1: 0.7730 - val_loss: 0.4666 - val_sparse_categorical_accuracy: 0.7691 - val_f1: 0.7823\n",
      "\n",
      "Epoch 00034: val_loss did not improve from 0.45301\n",
      "Epoch 35/1000\n",
      "2080/2080 [==============================] - 39s 19ms/step - loss: 0.4102 - sparse_categorical_accuracy: 0.8063 - f1: 0.7724 - val_loss: 0.4801 - val_sparse_categorical_accuracy: 0.7713 - val_f1: 0.7823\n",
      "\n",
      "Epoch 00035: val_loss did not improve from 0.45301\n",
      "Epoch 36/1000\n",
      "2080/2080 [==============================] - 36s 17ms/step - loss: 0.4130 - sparse_categorical_accuracy: 0.8101 - f1: 0.7719 - val_loss: 0.4647 - val_sparse_categorical_accuracy: 0.7601 - val_f1: 0.7823\n",
      "\n",
      "Epoch 00036: val_loss did not improve from 0.45301\n",
      "Epoch 37/1000\n",
      "2080/2080 [==============================] - 36s 17ms/step - loss: 0.4056 - sparse_categorical_accuracy: 0.8034 - f1: 0.7717 - val_loss: 0.4657 - val_sparse_categorical_accuracy: 0.7578 - val_f1: 0.7823\n",
      "\n",
      "Epoch 00037: val_loss did not improve from 0.45301\n",
      "Epoch 38/1000\n",
      "2080/2080 [==============================] - 36s 17ms/step - loss: 0.3931 - sparse_categorical_accuracy: 0.8111 - f1: 0.7725 - val_loss: 0.4656 - val_sparse_categorical_accuracy: 0.7578 - val_f1: 0.7823\n",
      "\n",
      "Epoch 00038: val_loss did not improve from 0.45301\n",
      "Epoch 39/1000\n",
      "2080/2080 [==============================] - 36s 17ms/step - loss: 0.3855 - sparse_categorical_accuracy: 0.8077 - f1: 0.7722 - val_loss: 0.4849 - val_sparse_categorical_accuracy: 0.7691 - val_f1: 0.7823\n",
      "\n",
      "Epoch 00039: val_loss did not improve from 0.45301\n",
      "Epoch 40/1000\n",
      "2080/2080 [==============================] - 36s 17ms/step - loss: 0.3739 - sparse_categorical_accuracy: 0.8187 - f1: 0.7731 - val_loss: 0.4661 - val_sparse_categorical_accuracy: 0.7713 - val_f1: 0.7823\n",
      "\n",
      "Epoch 00040: val_loss did not improve from 0.45301\n",
      "Epoch 41/1000\n",
      "2080/2080 [==============================] - 36s 17ms/step - loss: 0.3803 - sparse_categorical_accuracy: 0.8159 - f1: 0.7720 - val_loss: 0.4706 - val_sparse_categorical_accuracy: 0.7713 - val_f1: 0.7823\n",
      "\n",
      "Epoch 00041: val_loss did not improve from 0.45301\n",
      "Epoch 42/1000\n",
      "2080/2080 [==============================] - 36s 17ms/step - loss: 0.3714 - sparse_categorical_accuracy: 0.8226 - f1: 0.7714 - val_loss: 0.4754 - val_sparse_categorical_accuracy: 0.7668 - val_f1: 0.7823\n",
      "\n",
      "Epoch 00042: val_loss did not improve from 0.45301\n",
      "Epoch 43/1000\n",
      "2080/2080 [==============================] - 36s 17ms/step - loss: 0.3619 - sparse_categorical_accuracy: 0.8298 - f1: 0.7726 - val_loss: 0.4720 - val_sparse_categorical_accuracy: 0.7825 - val_f1: 0.7823\n",
      "\n",
      "Epoch 00043: val_loss did not improve from 0.45301\n",
      "Epoch 44/1000\n",
      "2080/2080 [==============================] - 36s 17ms/step - loss: 0.3623 - sparse_categorical_accuracy: 0.8327 - f1: 0.7722 - val_loss: 0.4735 - val_sparse_categorical_accuracy: 0.7713 - val_f1: 0.7823\n",
      "\n",
      "Epoch 00044: val_loss did not improve from 0.45301\n",
      "Epoch 45/1000\n",
      "2080/2080 [==============================] - 36s 17ms/step - loss: 0.3495 - sparse_categorical_accuracy: 0.8389 - f1: 0.7726 - val_loss: 0.4740 - val_sparse_categorical_accuracy: 0.7848 - val_f1: 0.7823\n",
      "\n",
      "Epoch 00045: val_loss did not improve from 0.45301\n",
      "Epoch 46/1000\n",
      "2080/2080 [==============================] - 36s 17ms/step - loss: 0.3578 - sparse_categorical_accuracy: 0.8341 - f1: 0.7727 - val_loss: 0.4749 - val_sparse_categorical_accuracy: 0.7713 - val_f1: 0.7823\n",
      "\n",
      "Epoch 00046: val_loss did not improve from 0.45301\n",
      "Epoch 47/1000\n",
      "2080/2080 [==============================] - 36s 17ms/step - loss: 0.3376 - sparse_categorical_accuracy: 0.8466 - f1: 0.7712 - val_loss: 0.4603 - val_sparse_categorical_accuracy: 0.7937 - val_f1: 0.7823\n",
      "\n",
      "Epoch 00047: val_loss did not improve from 0.45301\n",
      "Epoch 48/1000\n",
      "2080/2080 [==============================] - 36s 17ms/step - loss: 0.3359 - sparse_categorical_accuracy: 0.8404 - f1: 0.7723 - val_loss: 0.4710 - val_sparse_categorical_accuracy: 0.7825 - val_f1: 0.7823\n",
      "\n",
      "Epoch 00048: val_loss did not improve from 0.45301\n",
      "Epoch 49/1000\n",
      "2080/2080 [==============================] - 36s 17ms/step - loss: 0.3234 - sparse_categorical_accuracy: 0.8529 - f1: 0.7724 - val_loss: 0.5036 - val_sparse_categorical_accuracy: 0.7646 - val_f1: 0.7823\n",
      "\n",
      "Epoch 00049: val_loss did not improve from 0.45301\n",
      "Epoch 50/1000\n",
      "2080/2080 [==============================] - 36s 17ms/step - loss: 0.3310 - sparse_categorical_accuracy: 0.8495 - f1: 0.7724 - val_loss: 0.4708 - val_sparse_categorical_accuracy: 0.7870 - val_f1: 0.7823\n",
      "\n",
      "Epoch 00050: val_loss did not improve from 0.45301\n",
      "Epoch 51/1000\n",
      "2080/2080 [==============================] - 36s 17ms/step - loss: 0.3242 - sparse_categorical_accuracy: 0.8582 - f1: 0.7719 - val_loss: 0.4572 - val_sparse_categorical_accuracy: 0.8004 - val_f1: 0.7823\n",
      "\n",
      "Epoch 00051: val_loss did not improve from 0.45301\n",
      "Epoch 52/1000\n",
      "2080/2080 [==============================] - 36s 17ms/step - loss: 0.3239 - sparse_categorical_accuracy: 0.8606 - f1: 0.7723 - val_loss: 0.4478 - val_sparse_categorical_accuracy: 0.8072 - val_f1: 0.7823\n",
      "\n",
      "Epoch 00052: val_loss improved from 0.45301 to 0.44778, saving model to basic_RNN_tpk_src.h5\n",
      "Epoch 53/1000\n",
      "2080/2080 [==============================] - 36s 17ms/step - loss: 0.3139 - sparse_categorical_accuracy: 0.8582 - f1: 0.7725 - val_loss: 0.4874 - val_sparse_categorical_accuracy: 0.7780 - val_f1: 0.7823\n",
      "\n",
      "Epoch 00053: val_loss did not improve from 0.44778\n",
      "Epoch 54/1000\n",
      "2080/2080 [==============================] - 36s 17ms/step - loss: 0.3083 - sparse_categorical_accuracy: 0.8649 - f1: 0.7722 - val_loss: 0.4630 - val_sparse_categorical_accuracy: 0.8117 - val_f1: 0.7823\n",
      "\n",
      "Epoch 00054: val_loss did not improve from 0.44778\n",
      "Epoch 55/1000\n",
      "2080/2080 [==============================] - 36s 17ms/step - loss: 0.3094 - sparse_categorical_accuracy: 0.8630 - f1: 0.7716 - val_loss: 0.4504 - val_sparse_categorical_accuracy: 0.7982 - val_f1: 0.7823\n",
      "\n",
      "Epoch 00055: val_loss did not improve from 0.44778\n",
      "Epoch 56/1000\n",
      "2080/2080 [==============================] - 36s 17ms/step - loss: 0.3014 - sparse_categorical_accuracy: 0.8673 - f1: 0.7712 - val_loss: 0.4735 - val_sparse_categorical_accuracy: 0.7803 - val_f1: 0.7823\n",
      "\n",
      "Epoch 00056: val_loss did not improve from 0.44778\n",
      "Epoch 57/1000\n",
      "2080/2080 [==============================] - 36s 17ms/step - loss: 0.2929 - sparse_categorical_accuracy: 0.8750 - f1: 0.7723 - val_loss: 0.4830 - val_sparse_categorical_accuracy: 0.7960 - val_f1: 0.7823\n",
      "\n",
      "Epoch 00057: val_loss did not improve from 0.44778\n",
      "Epoch 58/1000\n",
      "2080/2080 [==============================] - 36s 17ms/step - loss: 0.2806 - sparse_categorical_accuracy: 0.8798 - f1: 0.7730 - val_loss: 0.5393 - val_sparse_categorical_accuracy: 0.7915 - val_f1: 0.7823\n",
      "\n",
      "Epoch 00058: val_loss did not improve from 0.44778\n",
      "Epoch 59/1000\n"
     ]
    },
    {
     "name": "stdout",
     "output_type": "stream",
     "text": [
      "2080/2080 [==============================] - 36s 17ms/step - loss: 0.2853 - sparse_categorical_accuracy: 0.8750 - f1: 0.7727 - val_loss: 0.4795 - val_sparse_categorical_accuracy: 0.7915 - val_f1: 0.7823\n",
      "\n",
      "Epoch 00059: val_loss did not improve from 0.44778\n",
      "Epoch 60/1000\n",
      "2080/2080 [==============================] - 35s 17ms/step - loss: 0.2746 - sparse_categorical_accuracy: 0.8769 - f1: 0.7724 - val_loss: 0.5353 - val_sparse_categorical_accuracy: 0.8072 - val_f1: 0.7823\n",
      "\n",
      "Epoch 00060: val_loss did not improve from 0.44778\n",
      "Epoch 61/1000\n",
      "2080/2080 [==============================] - 24s 11ms/step - loss: 0.2740 - sparse_categorical_accuracy: 0.8832 - f1: 0.7726 - val_loss: 0.4916 - val_sparse_categorical_accuracy: 0.8049 - val_f1: 0.7823\n",
      "\n",
      "Epoch 00061: val_loss did not improve from 0.44778\n",
      "Epoch 62/1000\n",
      "2080/2080 [==============================] - 19s 9ms/step - loss: 0.2669 - sparse_categorical_accuracy: 0.8880 - f1: 0.7725 - val_loss: 0.5097 - val_sparse_categorical_accuracy: 0.8049 - val_f1: 0.7823\n",
      "\n",
      "Epoch 00062: val_loss did not improve from 0.44778\n",
      "Epoch 63/1000\n",
      "2080/2080 [==============================] - 19s 9ms/step - loss: 0.2712 - sparse_categorical_accuracy: 0.8784 - f1: 0.7723 - val_loss: 0.5485 - val_sparse_categorical_accuracy: 0.7848 - val_f1: 0.7823\n",
      "\n",
      "Epoch 00063: val_loss did not improve from 0.44778\n",
      "Epoch 64/1000\n",
      "2080/2080 [==============================] - 19s 9ms/step - loss: 0.2688 - sparse_categorical_accuracy: 0.8846 - f1: 0.7721 - val_loss: 0.4933 - val_sparse_categorical_accuracy: 0.7960 - val_f1: 0.7823\n",
      "\n",
      "Epoch 00064: val_loss did not improve from 0.44778\n",
      "Epoch 65/1000\n",
      "2080/2080 [==============================] - 19s 9ms/step - loss: 0.2498 - sparse_categorical_accuracy: 0.8990 - f1: 0.7726 - val_loss: 0.5418 - val_sparse_categorical_accuracy: 0.7937 - val_f1: 0.7823\n",
      "\n",
      "Epoch 00065: val_loss did not improve from 0.44778\n",
      "Epoch 66/1000\n",
      "2080/2080 [==============================] - 19s 9ms/step - loss: 0.2618 - sparse_categorical_accuracy: 0.8875 - f1: 0.7725 - val_loss: 0.5123 - val_sparse_categorical_accuracy: 0.8027 - val_f1: 0.7823\n",
      "\n",
      "Epoch 00066: val_loss did not improve from 0.44778\n",
      "Epoch 67/1000\n",
      "2080/2080 [==============================] - 19s 9ms/step - loss: 0.2423 - sparse_categorical_accuracy: 0.9000 - f1: 0.7728 - val_loss: 0.5222 - val_sparse_categorical_accuracy: 0.7825 - val_f1: 0.7823\n",
      "\n",
      "Epoch 00067: val_loss did not improve from 0.44778\n",
      "Epoch 68/1000\n",
      "2080/2080 [==============================] - 19s 9ms/step - loss: 0.2570 - sparse_categorical_accuracy: 0.8885 - f1: 0.7730 - val_loss: 0.5499 - val_sparse_categorical_accuracy: 0.7803 - val_f1: 0.7823\n",
      "\n",
      "Epoch 00068: val_loss did not improve from 0.44778\n",
      "Epoch 69/1000\n",
      "2080/2080 [==============================] - 19s 9ms/step - loss: 0.2359 - sparse_categorical_accuracy: 0.9000 - f1: 0.7719 - val_loss: 0.5318 - val_sparse_categorical_accuracy: 0.8094 - val_f1: 0.7823\n",
      "\n",
      "Epoch 00069: val_loss did not improve from 0.44778\n",
      "Epoch 70/1000\n",
      "2080/2080 [==============================] - 19s 9ms/step - loss: 0.2338 - sparse_categorical_accuracy: 0.8962 - f1: 0.7726 - val_loss: 0.5161 - val_sparse_categorical_accuracy: 0.8251 - val_f1: 0.7823\n",
      "\n",
      "Epoch 00070: val_loss did not improve from 0.44778\n",
      "Epoch 71/1000\n",
      "2080/2080 [==============================] - 19s 9ms/step - loss: 0.2325 - sparse_categorical_accuracy: 0.9019 - f1: 0.7736 - val_loss: 0.5665 - val_sparse_categorical_accuracy: 0.8072 - val_f1: 0.7823\n",
      "\n",
      "Epoch 00071: val_loss did not improve from 0.44778\n",
      "Epoch 72/1000\n",
      "2080/2080 [==============================] - 19s 9ms/step - loss: 0.2177 - sparse_categorical_accuracy: 0.9062 - f1: 0.7732 - val_loss: 0.6152 - val_sparse_categorical_accuracy: 0.7982 - val_f1: 0.7823\n",
      "\n",
      "Epoch 00072: val_loss did not improve from 0.44778\n",
      "Epoch 00072: early stopping\n"
     ]
    },
    {
     "data": {
      "text/plain": [
       "<keras.callbacks.History at 0x7f0206538b00>"
      ]
     },
     "execution_count": 12,
     "metadata": {},
     "output_type": "execute_result"
    }
   ],
   "source": [
    "#training\n",
    "model.fit(x=X_train, \n",
    "          y=y_train, \n",
    "          batch_size=32, \n",
    "          epochs=1000, \n",
    "          verbose=1, \n",
    "          callbacks=callbacks_list, \n",
    "          validation_data=(X_val, y_val), \n",
    "          shuffle=True)"
   ]
  },
  {
   "cell_type": "code",
   "execution_count": 13,
   "metadata": {},
   "outputs": [
    {
     "name": "stdout",
     "output_type": "stream",
     "text": [
      "['loss', 'sparse_categorical_accuracy', 'f1']\n"
     ]
    }
   ],
   "source": [
    "#testing\n",
    "from keras.models import load_model\n",
    "trained_model = load_model(model_file, custom_objects={'f1': f1})\n",
    "print(trained_model.metrics_names)"
   ]
  },
  {
   "cell_type": "code",
   "execution_count": 14,
   "metadata": {},
   "outputs": [
    {
     "name": "stdout",
     "output_type": "stream",
     "text": [
      "2080/2080 [==============================] - 4s 2ms/step\n"
     ]
    },
    {
     "data": {
      "text/plain": [
       "[0.2963319501051536, 0.86875, 0.7726043884570782]"
      ]
     },
     "execution_count": 14,
     "metadata": {},
     "output_type": "execute_result"
    }
   ],
   "source": [
    "trained_model.evaluate(x=X_train, y=y_train)"
   ]
  },
  {
   "cell_type": "code",
   "execution_count": 15,
   "metadata": {},
   "outputs": [
    {
     "name": "stdout",
     "output_type": "stream",
     "text": [
      "446/446 [==============================] - 1s 2ms/step\n"
     ]
    },
    {
     "data": {
      "text/plain": [
       "[0.4477790369581214, 0.8071748884269475, 0.7823071862015489]"
      ]
     },
     "execution_count": 15,
     "metadata": {},
     "output_type": "execute_result"
    }
   ],
   "source": [
    "trained_model.evaluate(x=X_val, y=y_val)"
   ]
  },
  {
   "cell_type": "code",
   "execution_count": 16,
   "metadata": {},
   "outputs": [
    {
     "name": "stdout",
     "output_type": "stream",
     "text": [
      "446/446 [==============================] - 1s 2ms/step\n"
     ]
    },
    {
     "data": {
      "text/plain": [
       "[0.49658773445227755, 0.7802690593651057, 0.7777788609667209]"
      ]
     },
     "execution_count": 16,
     "metadata": {},
     "output_type": "execute_result"
    }
   ],
   "source": [
    "trained_model.evaluate(x=X_test, y=y_test)"
   ]
  },
  {
   "cell_type": "code",
   "execution_count": null,
   "metadata": {},
   "outputs": [],
   "source": []
  }
 ],
 "metadata": {
  "kernelspec": {
   "display_name": "Python 3",
   "language": "python",
   "name": "python3"
  },
  "language_info": {
   "codemirror_mode": {
    "name": "ipython",
    "version": 3
   },
   "file_extension": ".py",
   "mimetype": "text/x-python",
   "name": "python",
   "nbconvert_exporter": "python",
   "pygments_lexer": "ipython3",
   "version": "3.5.6"
  }
 },
 "nbformat": 4,
 "nbformat_minor": 2
}
