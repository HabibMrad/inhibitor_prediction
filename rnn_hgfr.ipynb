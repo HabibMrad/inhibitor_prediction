{
 "cells": [
  {
   "cell_type": "code",
   "execution_count": 1,
   "metadata": {},
   "outputs": [
    {
     "name": "stderr",
     "output_type": "stream",
     "text": [
      "Using TensorFlow backend.\n"
     ]
    }
   ],
   "source": [
    "import os\n",
    "import sys\n",
    "import numpy as np\n",
    "import keras\n",
    "# from sklearn.model_selection import train_test_split"
   ]
  },
  {
   "cell_type": "code",
   "execution_count": 2,
   "metadata": {},
   "outputs": [],
   "source": [
    "seed = 273\n",
    "kinase = 'hgfr'\n",
    "model_file = 'rnn_%s.h5' % (kinase)"
   ]
  },
  {
   "cell_type": "code",
   "execution_count": 3,
   "metadata": {},
   "outputs": [],
   "source": [
    "#import data\n",
    "smiles_lines = [line.strip().split(',') for line in open(os.path.join('data', kinase+'_smiles.csv'))]\n",
    "smiles = [line[1] for line in smiles_lines]\n",
    "fingerprint_lines = [line.strip().split(',') for line in open(os.path.join('data', kinase+'_fingerprints.csv'))]\n",
    "fingerprints = [line[2:] for line in fingerprint_lines]\n",
    "X_fingerprints = np.asarray(fingerprints, dtype=np.int16)\n",
    "y = np.asarray([int(line[2]) for line in smiles_lines], dtype=np.int8)"
   ]
  },
  {
   "cell_type": "code",
   "execution_count": 4,
   "metadata": {},
   "outputs": [],
   "source": [
    "#pad smiles with '!' to ensure equal length\n",
    "max_smiles_len = max(len(s) for s in smiles)\n",
    "smiles = [s + '!'*(max_smiles_len + 1 - len(s)) for s in smiles]"
   ]
  },
  {
   "cell_type": "code",
   "execution_count": 5,
   "metadata": {},
   "outputs": [],
   "source": [
    "#one-hot vector representation of smiles\n",
    "char_set = set()\n",
    "for s in smiles:\n",
    "    for c in s:\n",
    "        char_set.add(c)\n",
    "char_set = list(char_set)\n",
    "char_to_index = {char_set[i]: i for i in range(len(char_set))}\n",
    "\n",
    "X_smiles = np.zeros((len(smiles), max_smiles_len + 1, len(char_set)))\n",
    "for i in range(len(smiles)):\n",
    "    code = smiles[i]\n",
    "    for j in range(len(code)):\n",
    "        char = code[j]\n",
    "        X_smiles[i, j, char_to_index[char]] = 1        "
   ]
  },
  {
   "cell_type": "code",
   "execution_count": 6,
   "metadata": {},
   "outputs": [
    {
     "name": "stdout",
     "output_type": "stream",
     "text": [
      "(2145, 6117)\n",
      "(2145, 147, 38)\n",
      "(2145,)\n"
     ]
    }
   ],
   "source": [
    "print(X_fingerprints.shape)\n",
    "print(X_smiles.shape)\n",
    "print(y.shape)"
   ]
  },
  {
   "cell_type": "code",
   "execution_count": 7,
   "metadata": {},
   "outputs": [
    {
     "name": "stdout",
     "output_type": "stream",
     "text": [
      "(1501, 6117)\n",
      "(1501, 147, 38)\n",
      "(1501,)\n",
      "(322, 6117)\n",
      "(322, 147, 38)\n",
      "(322,)\n",
      "(322, 6117)\n",
      "(322, 147, 38)\n",
      "(322,)\n"
     ]
    }
   ],
   "source": [
    "#train val test split\n",
    "n_tot = X_smiles.shape[0]\n",
    "n_test = round(n_tot*0.15)\n",
    "n_val = round(n_tot*0.15)\n",
    "n_train  = n_tot - n_test - n_val\n",
    "indices = np.arange(n_tot, dtype=int)\n",
    "np.random.seed(seed)\n",
    "np.random.shuffle(indices)\n",
    "indices_train = indices[:n_train]\n",
    "indices_val = indices[n_train:n_train+n_val]\n",
    "indices_test = indices[n_train+n_val:]\n",
    "X_fingerprints_train = X_fingerprints[indices_train]\n",
    "print(X_fingerprints_train.shape)\n",
    "X_smiles_train = X_smiles[indices_train]\n",
    "print(X_smiles_train.shape)\n",
    "y_train = y[indices_train]\n",
    "print(y_train.shape)\n",
    "X_fingerprints_val = X_fingerprints[indices_val]\n",
    "print(X_fingerprints_val.shape)\n",
    "X_smiles_val = X_smiles[indices_val]\n",
    "print(X_smiles_val.shape)\n",
    "y_val = y[indices_val]\n",
    "print(y_val.shape)\n",
    "X_fingerprints_test = X_fingerprints[indices_test]\n",
    "print(X_fingerprints_test.shape)\n",
    "X_smiles_test = X_smiles[indices_test]\n",
    "print(X_smiles_test.shape)\n",
    "y_test = y[indices_test]\n",
    "print(y_test.shape)\n",
    "smiles_input_shape = X_smiles_train.shape[1:]\n",
    "fingerprints_input_shape = X_fingerprints_train.shape[1:]"
   ]
  },
  {
   "cell_type": "code",
   "execution_count": 8,
   "metadata": {},
   "outputs": [
    {
     "name": "stdout",
     "output_type": "stream",
     "text": [
      "[]\n"
     ]
    }
   ],
   "source": [
    "#check GPU presence\n",
    "from tensorflow.python.client import device_lib\n",
    "\n",
    "def get_available_gpus():\n",
    "    local_device_protos = device_lib.list_local_devices()\n",
    "    return [x.name for x in local_device_protos if x.device_type == 'GPU']\n",
    "\n",
    "print(get_available_gpus())"
   ]
  },
  {
   "cell_type": "code",
   "execution_count": 9,
   "metadata": {},
   "outputs": [],
   "source": [
    "#keras imports\n",
    "from keras.models import Sequential\n",
    "from keras.layers import TimeDistributed, GlobalAveragePooling2D, Activation, Dense, Input, Bidirectional\n",
    "from keras.layers import BatchNormalization, Conv2D, MaxPooling2D, AveragePooling2D, GlobalAveragePooling2D\n",
    "from keras.layers import GlobalMaxPooling2D\n",
    "from keras.layers.recurrent import LSTM\n",
    "from keras.callbacks import ModelCheckpoint, ReduceLROnPlateau, Callback, EarlyStopping\n",
    "from keras.layers import Dropout, Flatten\n",
    "from keras.layers import concatenate\n",
    "from keras import regularizers\n",
    "from keras import initializers\n",
    "from keras import constraints\n",
    "from keras.models import Model\n",
    "# Backend\n",
    "from keras import backend as K\n",
    "# Utils\n",
    "from keras.utils.layer_utils import convert_all_kernels_in_model\n",
    "from keras.utils.data_utils import get_file\n",
    "from keras import metrics"
   ]
  },
  {
   "cell_type": "code",
   "execution_count": 10,
   "metadata": {},
   "outputs": [],
   "source": [
    "#F1 score computation\n",
    "from sklearn.metrics import confusion_matrix, f1_score, precision_score, recall_score\n",
    "from keras import backend as K\n",
    "\n",
    "def f1(y_true, y_pred):\n",
    "    def recall(y_true, y_pred):\n",
    "        \"\"\"Recall metric.\n",
    "\n",
    "        Only computes a batch-wise average of recall.\n",
    "\n",
    "        Computes the recall, a metric for multi-label classification of\n",
    "        how many relevant items are selected.\n",
    "        \"\"\"\n",
    "        true_positives = K.sum(K.round(K.clip(y_true * y_pred, 0, 1)))\n",
    "        possible_positives = K.sum(K.round(K.clip(y_true, 0, 1)))\n",
    "        recall = true_positives / (possible_positives + K.epsilon())\n",
    "        return recall\n",
    "\n",
    "    def precision(y_true, y_pred):\n",
    "        \"\"\"Precision metric.\n",
    "\n",
    "        Only computes a batch-wise average of precision.\n",
    "\n",
    "        Computes the precision, a metric for multi-label classification of\n",
    "        how many selected items are relevant.\n",
    "        \"\"\"\n",
    "        true_positives = K.sum(K.round(K.clip(y_true * y_pred, 0, 1)))\n",
    "        predicted_positives = K.sum(K.round(K.clip(y_pred, 0, 1)))\n",
    "        precision = true_positives / (predicted_positives + K.epsilon())\n",
    "        return precision\n",
    "    precision = precision(y_true, y_pred)\n",
    "    recall = recall(y_true, y_pred)\n",
    "    return 2*((precision*recall)/(precision+recall+K.epsilon()))"
   ]
  },
  {
   "cell_type": "code",
   "execution_count": 11,
   "metadata": {},
   "outputs": [],
   "source": [
    "#basic RNN model\n",
    "model = Sequential()\n",
    "model.add(Bidirectional(LSTM(units=128, return_sequences=False), input_shape=smiles_input_shape))\n",
    "model.add(Dense(128, activation='relu'))\n",
    "model.add(Dropout(0.5))\n",
    "model.add(Dense(2, activation='softmax'))"
   ]
  },
  {
   "cell_type": "code",
   "execution_count": 12,
   "metadata": {},
   "outputs": [
    {
     "name": "stdout",
     "output_type": "stream",
     "text": [
      "_________________________________________________________________\n",
      "Layer (type)                 Output Shape              Param #   \n",
      "=================================================================\n",
      "bidirectional_1 (Bidirection (None, 256)               171008    \n",
      "_________________________________________________________________\n",
      "dense_1 (Dense)              (None, 128)               32896     \n",
      "_________________________________________________________________\n",
      "dropout_1 (Dropout)          (None, 128)               0         \n",
      "_________________________________________________________________\n",
      "dense_2 (Dense)              (None, 2)                 258       \n",
      "=================================================================\n",
      "Total params: 204,162\n",
      "Trainable params: 204,162\n",
      "Non-trainable params: 0\n",
      "_________________________________________________________________\n"
     ]
    }
   ],
   "source": [
    "#compile model\n",
    "adam = keras.optimizers.Adam(lr=0.001, decay=0.0, clipnorm=5.)\n",
    "stop = EarlyStopping(patience=20, verbose=1)\n",
    "model.compile(optimizer=adam, loss='sparse_categorical_crossentropy', metrics=[metrics.sparse_categorical_accuracy, f1])\n",
    "checkpoint = ModelCheckpoint(model_file, monitor='val_loss', verbose=1, save_best_only=True, mode='min')\n",
    "\n",
    "callbacks_list = [checkpoint, stop]\n",
    "\n",
    "model.summary()"
   ]
  },
  {
   "cell_type": "code",
   "execution_count": 13,
   "metadata": {},
   "outputs": [
    {
     "name": "stdout",
     "output_type": "stream",
     "text": [
      "Train on 1501 samples, validate on 322 samples\n",
      "Epoch 1/1000\n",
      "1501/1501 [==============================] - 56s 37ms/step - loss: 0.4235 - sparse_categorical_accuracy: 0.8568 - f1: 0.9239 - val_loss: 0.4655 - val_sparse_categorical_accuracy: 0.8261 - val_f1: 0.9009\n",
      "\n",
      "Epoch 00001: val_loss improved from inf to 0.46549, saving model to rnn_hgfr.h5\n",
      "Epoch 2/1000\n",
      "1501/1501 [==============================] - 51s 34ms/step - loss: 0.4066 - sparse_categorical_accuracy: 0.8514 - f1: 0.9237 - val_loss: 0.4519 - val_sparse_categorical_accuracy: 0.8261 - val_f1: 0.9009\n",
      "\n",
      "Epoch 00002: val_loss improved from 0.46549 to 0.45192, saving model to rnn_hgfr.h5\n",
      "Epoch 3/1000\n",
      "1501/1501 [==============================] - 51s 34ms/step - loss: 0.3941 - sparse_categorical_accuracy: 0.8601 - f1: 0.9235 - val_loss: 0.4581 - val_sparse_categorical_accuracy: 0.8261 - val_f1: 0.9009\n",
      "\n",
      "Epoch 00003: val_loss did not improve from 0.45192\n",
      "Epoch 4/1000\n",
      "1501/1501 [==============================] - 52s 35ms/step - loss: 0.3846 - sparse_categorical_accuracy: 0.8628 - f1: 0.9236 - val_loss: 0.4289 - val_sparse_categorical_accuracy: 0.8385 - val_f1: 0.9009\n",
      "\n",
      "Epoch 00004: val_loss improved from 0.45192 to 0.42893, saving model to rnn_hgfr.h5\n",
      "Epoch 5/1000\n",
      "1501/1501 [==============================] - 52s 35ms/step - loss: 0.3336 - sparse_categorical_accuracy: 0.8748 - f1: 0.9237 - val_loss: 0.4321 - val_sparse_categorical_accuracy: 0.8447 - val_f1: 0.9009\n",
      "\n",
      "Epoch 00005: val_loss did not improve from 0.42893\n",
      "Epoch 6/1000\n",
      "1501/1501 [==============================] - 53s 35ms/step - loss: 0.3258 - sparse_categorical_accuracy: 0.8781 - f1: 0.9231 - val_loss: 0.3862 - val_sparse_categorical_accuracy: 0.8447 - val_f1: 0.9009\n",
      "\n",
      "Epoch 00006: val_loss improved from 0.42893 to 0.38621, saving model to rnn_hgfr.h5\n",
      "Epoch 7/1000\n",
      "1501/1501 [==============================] - 51s 34ms/step - loss: 0.3238 - sparse_categorical_accuracy: 0.8794 - f1: 0.9233 - val_loss: 0.3620 - val_sparse_categorical_accuracy: 0.8696 - val_f1: 0.9009\n",
      "\n",
      "Epoch 00007: val_loss improved from 0.38621 to 0.36201, saving model to rnn_hgfr.h5\n",
      "Epoch 8/1000\n",
      "1501/1501 [==============================] - 51s 34ms/step - loss: 0.3116 - sparse_categorical_accuracy: 0.8814 - f1: 0.9237 - val_loss: 0.3804 - val_sparse_categorical_accuracy: 0.8478 - val_f1: 0.9009\n",
      "\n",
      "Epoch 00008: val_loss did not improve from 0.36201\n",
      "Epoch 9/1000\n",
      "1501/1501 [==============================] - 52s 35ms/step - loss: 0.3191 - sparse_categorical_accuracy: 0.8807 - f1: 0.9234 - val_loss: 0.3776 - val_sparse_categorical_accuracy: 0.8385 - val_f1: 0.9009\n",
      "\n",
      "Epoch 00009: val_loss did not improve from 0.36201\n",
      "Epoch 10/1000\n",
      "1501/1501 [==============================] - 51s 34ms/step - loss: 0.3104 - sparse_categorical_accuracy: 0.8834 - f1: 0.9241 - val_loss: 0.3504 - val_sparse_categorical_accuracy: 0.8540 - val_f1: 0.9009\n",
      "\n",
      "Epoch 00010: val_loss improved from 0.36201 to 0.35037, saving model to rnn_hgfr.h5\n",
      "Epoch 11/1000\n",
      "1501/1501 [==============================] - 52s 35ms/step - loss: 0.2866 - sparse_categorical_accuracy: 0.8881 - f1: 0.9235 - val_loss: 0.3660 - val_sparse_categorical_accuracy: 0.8696 - val_f1: 0.9009\n",
      "\n",
      "Epoch 00011: val_loss did not improve from 0.35037\n",
      "Epoch 12/1000\n",
      "1501/1501 [==============================] - 52s 35ms/step - loss: 0.2817 - sparse_categorical_accuracy: 0.8981 - f1: 0.9238 - val_loss: 0.3368 - val_sparse_categorical_accuracy: 0.8696 - val_f1: 0.9009\n",
      "\n",
      "Epoch 00012: val_loss improved from 0.35037 to 0.33684, saving model to rnn_hgfr.h5\n",
      "Epoch 13/1000\n",
      "1501/1501 [==============================] - 52s 34ms/step - loss: 0.2774 - sparse_categorical_accuracy: 0.8874 - f1: 0.9236 - val_loss: 0.3605 - val_sparse_categorical_accuracy: 0.8571 - val_f1: 0.9009\n",
      "\n",
      "Epoch 00013: val_loss did not improve from 0.33684\n",
      "Epoch 14/1000\n",
      "1501/1501 [==============================] - 52s 35ms/step - loss: 0.2851 - sparse_categorical_accuracy: 0.8854 - f1: 0.9237 - val_loss: 0.3148 - val_sparse_categorical_accuracy: 0.8882 - val_f1: 0.9009\n",
      "\n",
      "Epoch 00014: val_loss improved from 0.33684 to 0.31477, saving model to rnn_hgfr.h5\n",
      "Epoch 15/1000\n",
      "1501/1501 [==============================] - 51s 34ms/step - loss: 0.2703 - sparse_categorical_accuracy: 0.9021 - f1: 0.9239 - val_loss: 0.3224 - val_sparse_categorical_accuracy: 0.8913 - val_f1: 0.9009\n",
      "\n",
      "Epoch 00015: val_loss did not improve from 0.31477\n",
      "Epoch 16/1000\n",
      "1501/1501 [==============================] - 52s 34ms/step - loss: 0.2788 - sparse_categorical_accuracy: 0.8941 - f1: 0.9236 - val_loss: 0.3458 - val_sparse_categorical_accuracy: 0.8758 - val_f1: 0.9009\n",
      "\n",
      "Epoch 00016: val_loss did not improve from 0.31477\n",
      "Epoch 17/1000\n",
      "1501/1501 [==============================] - 52s 35ms/step - loss: 0.2656 - sparse_categorical_accuracy: 0.9034 - f1: 0.9236 - val_loss: 0.3297 - val_sparse_categorical_accuracy: 0.8820 - val_f1: 0.9009\n",
      "\n",
      "Epoch 00017: val_loss did not improve from 0.31477\n",
      "Epoch 18/1000\n",
      "1501/1501 [==============================] - 52s 35ms/step - loss: 0.2515 - sparse_categorical_accuracy: 0.9021 - f1: 0.9239 - val_loss: 0.3411 - val_sparse_categorical_accuracy: 0.8944 - val_f1: 0.9009\n",
      "\n",
      "Epoch 00018: val_loss did not improve from 0.31477\n",
      "Epoch 19/1000\n",
      "1501/1501 [==============================] - 52s 35ms/step - loss: 0.2676 - sparse_categorical_accuracy: 0.9007 - f1: 0.9236 - val_loss: 0.3176 - val_sparse_categorical_accuracy: 0.8851 - val_f1: 0.9009\n",
      "\n",
      "Epoch 00019: val_loss did not improve from 0.31477\n",
      "Epoch 20/1000\n",
      "1501/1501 [==============================] - 52s 35ms/step - loss: 0.2462 - sparse_categorical_accuracy: 0.9061 - f1: 0.9235 - val_loss: 0.3243 - val_sparse_categorical_accuracy: 0.8851 - val_f1: 0.9009\n",
      "\n",
      "Epoch 00020: val_loss did not improve from 0.31477\n",
      "Epoch 21/1000\n",
      "1501/1501 [==============================] - 50s 34ms/step - loss: 0.2546 - sparse_categorical_accuracy: 0.9067 - f1: 0.9238 - val_loss: 0.3441 - val_sparse_categorical_accuracy: 0.8820 - val_f1: 0.9009\n",
      "\n",
      "Epoch 00021: val_loss did not improve from 0.31477\n",
      "Epoch 22/1000\n",
      "1501/1501 [==============================] - 52s 34ms/step - loss: 0.2516 - sparse_categorical_accuracy: 0.9081 - f1: 0.9239 - val_loss: 0.3232 - val_sparse_categorical_accuracy: 0.8913 - val_f1: 0.9009\n",
      "\n",
      "Epoch 00022: val_loss did not improve from 0.31477\n",
      "Epoch 23/1000\n",
      "1501/1501 [==============================] - 52s 35ms/step - loss: 0.2450 - sparse_categorical_accuracy: 0.9034 - f1: 0.9238 - val_loss: 0.3334 - val_sparse_categorical_accuracy: 0.8820 - val_f1: 0.9009\n",
      "\n",
      "Epoch 00023: val_loss did not improve from 0.31477\n",
      "Epoch 24/1000\n",
      "1501/1501 [==============================] - 52s 35ms/step - loss: 0.2316 - sparse_categorical_accuracy: 0.9147 - f1: 0.9234 - val_loss: 0.2987 - val_sparse_categorical_accuracy: 0.8975 - val_f1: 0.9009\n",
      "\n",
      "Epoch 00024: val_loss improved from 0.31477 to 0.29868, saving model to rnn_hgfr.h5\n",
      "Epoch 25/1000\n",
      "1501/1501 [==============================] - 51s 34ms/step - loss: 0.2260 - sparse_categorical_accuracy: 0.9154 - f1: 0.9233 - val_loss: 0.3788 - val_sparse_categorical_accuracy: 0.8944 - val_f1: 0.9009\n",
      "\n",
      "Epoch 00025: val_loss did not improve from 0.29868\n",
      "Epoch 26/1000\n",
      "1501/1501 [==============================] - 52s 34ms/step - loss: 0.2432 - sparse_categorical_accuracy: 0.9061 - f1: 0.9235 - val_loss: 0.3071 - val_sparse_categorical_accuracy: 0.9006 - val_f1: 0.9009\n",
      "\n",
      "Epoch 00026: val_loss did not improve from 0.29868\n",
      "Epoch 27/1000\n",
      "1501/1501 [==============================] - 53s 35ms/step - loss: 0.2139 - sparse_categorical_accuracy: 0.9161 - f1: 0.9239 - val_loss: 0.3306 - val_sparse_categorical_accuracy: 0.8913 - val_f1: 0.9009\n",
      "\n",
      "Epoch 00027: val_loss did not improve from 0.29868\n",
      "Epoch 28/1000\n",
      "1501/1501 [==============================] - 52s 35ms/step - loss: 0.2194 - sparse_categorical_accuracy: 0.9174 - f1: 0.9235 - val_loss: 0.3162 - val_sparse_categorical_accuracy: 0.8975 - val_f1: 0.9009\n",
      "\n",
      "Epoch 00028: val_loss did not improve from 0.29868\n",
      "Epoch 29/1000\n",
      "1501/1501 [==============================] - 52s 34ms/step - loss: 0.2119 - sparse_categorical_accuracy: 0.9147 - f1: 0.9236 - val_loss: 0.3536 - val_sparse_categorical_accuracy: 0.8727 - val_f1: 0.9009\n",
      "\n",
      "Epoch 00029: val_loss did not improve from 0.29868\n",
      "Epoch 30/1000\n"
     ]
    },
    {
     "name": "stdout",
     "output_type": "stream",
     "text": [
      "1501/1501 [==============================] - 51s 34ms/step - loss: 0.2265 - sparse_categorical_accuracy: 0.9134 - f1: 0.9239 - val_loss: 0.3210 - val_sparse_categorical_accuracy: 0.8975 - val_f1: 0.9009\n",
      "\n",
      "Epoch 00030: val_loss did not improve from 0.29868\n",
      "Epoch 31/1000\n",
      "1501/1501 [==============================] - 51s 34ms/step - loss: 0.2066 - sparse_categorical_accuracy: 0.9227 - f1: 0.9239 - val_loss: 0.3195 - val_sparse_categorical_accuracy: 0.8820 - val_f1: 0.9009\n",
      "\n",
      "Epoch 00031: val_loss did not improve from 0.29868\n",
      "Epoch 32/1000\n",
      "1501/1501 [==============================] - 52s 34ms/step - loss: 0.1983 - sparse_categorical_accuracy: 0.9167 - f1: 0.9240 - val_loss: 0.3603 - val_sparse_categorical_accuracy: 0.8882 - val_f1: 0.9009\n",
      "\n",
      "Epoch 00032: val_loss did not improve from 0.29868\n",
      "Epoch 33/1000\n",
      "1501/1501 [==============================] - 52s 34ms/step - loss: 0.1948 - sparse_categorical_accuracy: 0.9181 - f1: 0.9241 - val_loss: 0.3269 - val_sparse_categorical_accuracy: 0.8882 - val_f1: 0.9009\n",
      "\n",
      "Epoch 00033: val_loss did not improve from 0.29868\n",
      "Epoch 34/1000\n",
      "1501/1501 [==============================] - 53s 35ms/step - loss: 0.1825 - sparse_categorical_accuracy: 0.9267 - f1: 0.9236 - val_loss: 0.3390 - val_sparse_categorical_accuracy: 0.8820 - val_f1: 0.9009\n",
      "\n",
      "Epoch 00034: val_loss did not improve from 0.29868\n",
      "Epoch 35/1000\n",
      "1501/1501 [==============================] - 52s 35ms/step - loss: 0.1848 - sparse_categorical_accuracy: 0.9254 - f1: 0.9231 - val_loss: 0.3281 - val_sparse_categorical_accuracy: 0.8913 - val_f1: 0.9009\n",
      "\n",
      "Epoch 00035: val_loss did not improve from 0.29868\n",
      "Epoch 36/1000\n",
      "1501/1501 [==============================] - 50s 33ms/step - loss: 0.1900 - sparse_categorical_accuracy: 0.9221 - f1: 0.9242 - val_loss: 0.3614 - val_sparse_categorical_accuracy: 0.8851 - val_f1: 0.9009\n",
      "\n",
      "Epoch 00036: val_loss did not improve from 0.29868\n",
      "Epoch 37/1000\n",
      "1501/1501 [==============================] - 52s 35ms/step - loss: 0.1827 - sparse_categorical_accuracy: 0.9207 - f1: 0.9240 - val_loss: 0.3808 - val_sparse_categorical_accuracy: 0.8696 - val_f1: 0.9009\n",
      "\n",
      "Epoch 00037: val_loss did not improve from 0.29868\n",
      "Epoch 38/1000\n",
      "1501/1501 [==============================] - 51s 34ms/step - loss: 0.1810 - sparse_categorical_accuracy: 0.9254 - f1: 0.9237 - val_loss: 0.3436 - val_sparse_categorical_accuracy: 0.8820 - val_f1: 0.9009\n",
      "\n",
      "Epoch 00038: val_loss did not improve from 0.29868\n",
      "Epoch 39/1000\n",
      "1501/1501 [==============================] - 51s 34ms/step - loss: 0.1735 - sparse_categorical_accuracy: 0.9354 - f1: 0.9233 - val_loss: 0.4012 - val_sparse_categorical_accuracy: 0.8602 - val_f1: 0.9009\n",
      "\n",
      "Epoch 00039: val_loss did not improve from 0.29868\n",
      "Epoch 40/1000\n",
      "1501/1501 [==============================] - 52s 35ms/step - loss: 0.1778 - sparse_categorical_accuracy: 0.9221 - f1: 0.9230 - val_loss: 0.3521 - val_sparse_categorical_accuracy: 0.8789 - val_f1: 0.9009\n",
      "\n",
      "Epoch 00040: val_loss did not improve from 0.29868\n",
      "Epoch 41/1000\n",
      "1501/1501 [==============================] - 52s 35ms/step - loss: 0.1711 - sparse_categorical_accuracy: 0.9267 - f1: 0.9242 - val_loss: 0.3385 - val_sparse_categorical_accuracy: 0.8913 - val_f1: 0.9009\n",
      "\n",
      "Epoch 00041: val_loss did not improve from 0.29868\n",
      "Epoch 42/1000\n",
      "1501/1501 [==============================] - 52s 35ms/step - loss: 0.1745 - sparse_categorical_accuracy: 0.9234 - f1: 0.9236 - val_loss: 0.3372 - val_sparse_categorical_accuracy: 0.8944 - val_f1: 0.9009\n",
      "\n",
      "Epoch 00042: val_loss did not improve from 0.29868\n",
      "Epoch 43/1000\n",
      "1501/1501 [==============================] - 51s 34ms/step - loss: 0.1547 - sparse_categorical_accuracy: 0.9327 - f1: 0.9234 - val_loss: 0.4124 - val_sparse_categorical_accuracy: 0.8851 - val_f1: 0.9009\n",
      "\n",
      "Epoch 00043: val_loss did not improve from 0.29868\n",
      "Epoch 44/1000\n",
      "1501/1501 [==============================] - 51s 34ms/step - loss: 0.1754 - sparse_categorical_accuracy: 0.9274 - f1: 0.9238 - val_loss: 0.3044 - val_sparse_categorical_accuracy: 0.8851 - val_f1: 0.9009\n",
      "\n",
      "Epoch 00044: val_loss did not improve from 0.29868\n",
      "Epoch 00044: early stopping\n"
     ]
    },
    {
     "data": {
      "text/plain": [
       "<keras.callbacks.History at 0x7fc40d5168d0>"
      ]
     },
     "execution_count": 13,
     "metadata": {},
     "output_type": "execute_result"
    }
   ],
   "source": [
    "#training\n",
    "model.fit(x=X_smiles_train, \n",
    "          y=y_train, \n",
    "          batch_size=32, \n",
    "          epochs=1000, \n",
    "          verbose=1, \n",
    "          callbacks=callbacks_list, \n",
    "          validation_data=(X_smiles_val, y_val), \n",
    "          shuffle=True)"
   ]
  },
  {
   "cell_type": "code",
   "execution_count": 14,
   "metadata": {},
   "outputs": [
    {
     "name": "stdout",
     "output_type": "stream",
     "text": [
      "['loss', 'sparse_categorical_accuracy', 'f1']\n"
     ]
    }
   ],
   "source": [
    "#testing\n",
    "from keras.models import load_model\n",
    "trained_model = load_model(model_file, custom_objects={'f1': f1})\n",
    "print(trained_model.metrics_names)"
   ]
  },
  {
   "cell_type": "code",
   "execution_count": 15,
   "metadata": {},
   "outputs": [
    {
     "name": "stdout",
     "output_type": "stream",
     "text": [
      "1501/1501 [==============================] - 14s 9ms/step\n"
     ]
    },
    {
     "data": {
      "text/plain": [
       "[0.20551732949897658, 0.9253830779480346, 0.9234115201421454]"
      ]
     },
     "execution_count": 15,
     "metadata": {},
     "output_type": "execute_result"
    }
   ],
   "source": [
    "trained_model.evaluate(x=X_smiles_train, y=y_train)"
   ]
  },
  {
   "cell_type": "code",
   "execution_count": 16,
   "metadata": {},
   "outputs": [
    {
     "name": "stdout",
     "output_type": "stream",
     "text": [
      "322/322 [==============================] - 3s 10ms/step\n"
     ]
    },
    {
     "data": {
      "text/plain": [
       "[0.2986837923526764, 0.8975155279503105, 0.900932412710249]"
      ]
     },
     "execution_count": 16,
     "metadata": {},
     "output_type": "execute_result"
    }
   ],
   "source": [
    "trained_model.evaluate(x=X_smiles_val, y=y_val)"
   ]
  },
  {
   "cell_type": "code",
   "execution_count": 17,
   "metadata": {},
   "outputs": [
    {
     "name": "stdout",
     "output_type": "stream",
     "text": [
      "322/322 [==============================] - 3s 10ms/step\n"
     ]
    },
    {
     "data": {
      "text/plain": [
       "[0.31778123377828127, 0.8788819875776398, 0.9152839468873065]"
      ]
     },
     "execution_count": 17,
     "metadata": {},
     "output_type": "execute_result"
    }
   ],
   "source": [
    "trained_model.evaluate(x=X_smiles_test, y=y_test)"
   ]
  },
  {
   "cell_type": "code",
   "execution_count": 18,
   "metadata": {},
   "outputs": [],
   "source": [
    "from sklearn.metrics import roc_curve\n",
    "from sklearn.metrics import roc_auc_score\n",
    "pred_train = trained_model.predict(x=X_smiles_train)[:,1]\n",
    "pred_val = trained_model.predict(x=X_smiles_val)[:,1]\n",
    "pred_test = trained_model.predict(x=X_smiles_test)[:,1]\n",
    "np.savez(model_file[:-2] + 'npz', pred_train=pred_train, pred_val=pred_val, pred_test=pred_test)"
   ]
  }
 ],
 "metadata": {
  "kernelspec": {
   "display_name": "Python 3",
   "language": "python",
   "name": "python3"
  },
  "language_info": {
   "codemirror_mode": {
    "name": "ipython",
    "version": 3
   },
   "file_extension": ".py",
   "mimetype": "text/x-python",
   "name": "python",
   "nbconvert_exporter": "python",
   "pygments_lexer": "ipython3",
   "version": "3.6.7"
  }
 },
 "nbformat": 4,
 "nbformat_minor": 2
}
