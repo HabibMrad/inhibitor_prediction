{
 "cells": [
  {
   "cell_type": "code",
   "execution_count": 1,
   "metadata": {},
   "outputs": [
    {
     "name": "stderr",
     "output_type": "stream",
     "text": [
      "Using TensorFlow backend.\n"
     ]
    }
   ],
   "source": [
    "import os\n",
    "import sys\n",
    "import numpy as np\n",
    "import keras\n",
    "from sklearn.model_selection import train_test_split"
   ]
  },
  {
   "cell_type": "code",
   "execution_count": 2,
   "metadata": {},
   "outputs": [],
   "source": [
    "seed = 273\n",
    "kinase = 'hgfr'\n",
    "model_file = 'basic_RNN_%s.h5' % (kinase)"
   ]
  },
  {
   "cell_type": "code",
   "execution_count": 3,
   "metadata": {},
   "outputs": [],
   "source": [
    "#import data\n",
    "lines = [line.strip().split(',') for line in open(os.path.join('data', kinase+'_smiles.csv'))]\n",
    "smiles = [line[1] for line in lines]\n",
    "y = np.asarray([int(line[2]) for line in lines], dtype=np.int8)"
   ]
  },
  {
   "cell_type": "code",
   "execution_count": 4,
   "metadata": {},
   "outputs": [],
   "source": [
    "#pad smiles with '!' to ensure equal length\n",
    "max_smiles_len = max(len(s) for s in smiles)\n",
    "smiles = [s + '!'*(max_smiles_len + 1 - len(s)) for s in smiles]"
   ]
  },
  {
   "cell_type": "code",
   "execution_count": 5,
   "metadata": {},
   "outputs": [],
   "source": [
    "#one-hot vector representation of smiles\n",
    "char_set = set()\n",
    "for s in smiles:\n",
    "    for c in s:\n",
    "        char_set.add(c)\n",
    "char_set = list(char_set)\n",
    "char_to_index = {char_set[i]: i for i in range(len(char_set))}\n",
    "\n",
    "X = np.zeros((len(smiles), max_smiles_len + 1, len(char_set)))\n",
    "for i in range(len(smiles)):\n",
    "    code = smiles[i]\n",
    "    for j in range(len(code)):\n",
    "        char = code[j]\n",
    "        X[i, j, char_to_index[char]] = 1        "
   ]
  },
  {
   "cell_type": "code",
   "execution_count": 6,
   "metadata": {},
   "outputs": [
    {
     "name": "stdout",
     "output_type": "stream",
     "text": [
      "(1501, 147, 38) (1501,)\n",
      "(322, 147, 38) (322,)\n",
      "(322, 147, 38) (322,)\n"
     ]
    }
   ],
   "source": [
    "#train val test split\n",
    "X_train, X_test, y_train, y_test = train_test_split(X, y, test_size=0.3, random_state=seed)\n",
    "X_val, X_test, y_val, y_test = train_test_split(X_test, y_test, test_size=0.5, random_state=seed)\n",
    "\n",
    "print(X_train.shape, y_train.shape)\n",
    "print(X_val.shape, y_val.shape)\n",
    "print(X_test.shape, y_test.shape)\n",
    "\n",
    "input_shape = X_train.shape[1:]"
   ]
  },
  {
   "cell_type": "code",
   "execution_count": 7,
   "metadata": {},
   "outputs": [
    {
     "name": "stdout",
     "output_type": "stream",
     "text": [
      "[]\n"
     ]
    }
   ],
   "source": [
    "#check GPU presence\n",
    "from tensorflow.python.client import device_lib\n",
    "\n",
    "def get_available_gpus():\n",
    "    local_device_protos = device_lib.list_local_devices()\n",
    "    return [x.name for x in local_device_protos if x.device_type == 'GPU']\n",
    "\n",
    "print(get_available_gpus())"
   ]
  },
  {
   "cell_type": "code",
   "execution_count": 8,
   "metadata": {},
   "outputs": [],
   "source": [
    "#keras imports\n",
    "from keras.models import Sequential\n",
    "from keras.layers import TimeDistributed, GlobalAveragePooling2D, Activation, Dense, Input, Bidirectional\n",
    "from keras.layers import BatchNormalization, Conv2D, MaxPooling2D, AveragePooling2D, GlobalAveragePooling2D\n",
    "from keras.layers import GlobalMaxPooling2D\n",
    "from keras.layers.recurrent import LSTM\n",
    "from keras.callbacks import ModelCheckpoint, ReduceLROnPlateau, Callback, EarlyStopping\n",
    "from keras.layers import Dropout, Flatten\n",
    "from keras.layers import concatenate\n",
    "from keras import regularizers\n",
    "from keras import initializers\n",
    "from keras import constraints\n",
    "from keras.models import Model\n",
    "# Backend\n",
    "from keras import backend as K\n",
    "# Utils\n",
    "from keras.utils.layer_utils import convert_all_kernels_in_model\n",
    "from keras.utils.data_utils import get_file\n",
    "from keras import metrics"
   ]
  },
  {
   "cell_type": "code",
   "execution_count": 9,
   "metadata": {},
   "outputs": [],
   "source": [
    "#F1 score computation\n",
    "from sklearn.metrics import confusion_matrix, f1_score, precision_score, recall_score\n",
    "from keras import backend as K\n",
    "\n",
    "def f1(y_true, y_pred):\n",
    "    def recall(y_true, y_pred):\n",
    "        \"\"\"Recall metric.\n",
    "\n",
    "        Only computes a batch-wise average of recall.\n",
    "\n",
    "        Computes the recall, a metric for multi-label classification of\n",
    "        how many relevant items are selected.\n",
    "        \"\"\"\n",
    "        true_positives = K.sum(K.round(K.clip(y_true * y_pred, 0, 1)))\n",
    "        possible_positives = K.sum(K.round(K.clip(y_true, 0, 1)))\n",
    "        recall = true_positives / (possible_positives + K.epsilon())\n",
    "        return recall\n",
    "\n",
    "    def precision(y_true, y_pred):\n",
    "        \"\"\"Precision metric.\n",
    "\n",
    "        Only computes a batch-wise average of precision.\n",
    "\n",
    "        Computes the precision, a metric for multi-label classification of\n",
    "        how many selected items are relevant.\n",
    "        \"\"\"\n",
    "        true_positives = K.sum(K.round(K.clip(y_true * y_pred, 0, 1)))\n",
    "        predicted_positives = K.sum(K.round(K.clip(y_pred, 0, 1)))\n",
    "        precision = true_positives / (predicted_positives + K.epsilon())\n",
    "        return precision\n",
    "    precision = precision(y_true, y_pred)\n",
    "    recall = recall(y_true, y_pred)\n",
    "    return 2*((precision*recall)/(precision+recall+K.epsilon()))"
   ]
  },
  {
   "cell_type": "code",
   "execution_count": 10,
   "metadata": {},
   "outputs": [],
   "source": [
    "#basic RNN model\n",
    "model = Sequential()\n",
    "model.add(Bidirectional(LSTM(units=64, return_sequences=False), input_shape=input_shape))\n",
    "model.add(Dense(64, activation='relu'))\n",
    "model.add(Dropout(0.5))\n",
    "model.add(Dense(2, activation='softmax'))"
   ]
  },
  {
   "cell_type": "code",
   "execution_count": 11,
   "metadata": {},
   "outputs": [
    {
     "name": "stdout",
     "output_type": "stream",
     "text": [
      "_________________________________________________________________\n",
      "Layer (type)                 Output Shape              Param #   \n",
      "=================================================================\n",
      "bidirectional_1 (Bidirection (None, 128)               52736     \n",
      "_________________________________________________________________\n",
      "dense_1 (Dense)              (None, 64)                8256      \n",
      "_________________________________________________________________\n",
      "dropout_1 (Dropout)          (None, 64)                0         \n",
      "_________________________________________________________________\n",
      "dense_2 (Dense)              (None, 2)                 130       \n",
      "=================================================================\n",
      "Total params: 61,122\n",
      "Trainable params: 61,122\n",
      "Non-trainable params: 0\n",
      "_________________________________________________________________\n"
     ]
    }
   ],
   "source": [
    "#compile model\n",
    "adam = keras.optimizers.Adam(lr=0.001, decay=0.0, clipnorm=5.)\n",
    "stop = EarlyStopping(patience=20, verbose=1)\n",
    "model.compile(optimizer=adam, loss='sparse_categorical_crossentropy', metrics=[metrics.sparse_categorical_accuracy, f1])\n",
    "checkpoint = ModelCheckpoint(model_file, monitor='val_loss', verbose=1, save_best_only=True, mode='min')\n",
    "\n",
    "callbacks_list = [checkpoint, stop]\n",
    "\n",
    "model.summary()"
   ]
  },
  {
   "cell_type": "code",
   "execution_count": 12,
   "metadata": {},
   "outputs": [
    {
     "name": "stdout",
     "output_type": "stream",
     "text": [
      "Train on 1501 samples, validate on 322 samples\n",
      "Epoch 1/1000\n",
      "1501/1501 [==============================] - 44s 30ms/step - loss: 0.4736 - sparse_categorical_accuracy: 0.8374 - f1: 0.9169 - val_loss: 0.3898 - val_sparse_categorical_accuracy: 0.8696 - val_f1: 0.9289\n",
      "\n",
      "Epoch 00001: val_loss improved from inf to 0.38978, saving model to basic_RNN_hgfr.h5\n",
      "Epoch 2/1000\n",
      "1501/1501 [==============================] - 39s 26ms/step - loss: 0.4212 - sparse_categorical_accuracy: 0.8494 - f1: 0.9174 - val_loss: 0.3877 - val_sparse_categorical_accuracy: 0.8696 - val_f1: 0.9289\n",
      "\n",
      "Epoch 00002: val_loss improved from 0.38978 to 0.38767, saving model to basic_RNN_hgfr.h5\n",
      "Epoch 3/1000\n",
      "1501/1501 [==============================] - 36s 24ms/step - loss: 0.3806 - sparse_categorical_accuracy: 0.8594 - f1: 0.9169 - val_loss: 0.3849 - val_sparse_categorical_accuracy: 0.8696 - val_f1: 0.9289\n",
      "\n",
      "Epoch 00003: val_loss improved from 0.38767 to 0.38487, saving model to basic_RNN_hgfr.h5\n",
      "Epoch 4/1000\n",
      "1501/1501 [==============================] - 36s 24ms/step - loss: 0.3778 - sparse_categorical_accuracy: 0.8641 - f1: 0.9167 - val_loss: 0.3599 - val_sparse_categorical_accuracy: 0.8789 - val_f1: 0.9289\n",
      "\n",
      "Epoch 00004: val_loss improved from 0.38487 to 0.35992, saving model to basic_RNN_hgfr.h5\n",
      "Epoch 5/1000\n",
      "1501/1501 [==============================] - 36s 24ms/step - loss: 0.3422 - sparse_categorical_accuracy: 0.8708 - f1: 0.9165 - val_loss: 0.3839 - val_sparse_categorical_accuracy: 0.8571 - val_f1: 0.9289\n",
      "\n",
      "Epoch 00005: val_loss did not improve from 0.35992\n",
      "Epoch 6/1000\n",
      "1501/1501 [==============================] - 36s 24ms/step - loss: 0.3381 - sparse_categorical_accuracy: 0.8728 - f1: 0.9168 - val_loss: 0.3470 - val_sparse_categorical_accuracy: 0.8820 - val_f1: 0.9289\n",
      "\n",
      "Epoch 00006: val_loss improved from 0.35992 to 0.34695, saving model to basic_RNN_hgfr.h5\n",
      "Epoch 7/1000\n",
      "1501/1501 [==============================] - 36s 24ms/step - loss: 0.3299 - sparse_categorical_accuracy: 0.8841 - f1: 0.9172 - val_loss: 0.3498 - val_sparse_categorical_accuracy: 0.8758 - val_f1: 0.9289\n",
      "\n",
      "Epoch 00007: val_loss did not improve from 0.34695\n",
      "Epoch 8/1000\n",
      "1501/1501 [==============================] - 36s 24ms/step - loss: 0.3265 - sparse_categorical_accuracy: 0.8734 - f1: 0.9165 - val_loss: 0.3400 - val_sparse_categorical_accuracy: 0.8758 - val_f1: 0.9289\n",
      "\n",
      "Epoch 00008: val_loss improved from 0.34695 to 0.33999, saving model to basic_RNN_hgfr.h5\n",
      "Epoch 9/1000\n",
      "1501/1501 [==============================] - 35s 24ms/step - loss: 0.3147 - sparse_categorical_accuracy: 0.8787 - f1: 0.9173 - val_loss: 0.3485 - val_sparse_categorical_accuracy: 0.8789 - val_f1: 0.9289\n",
      "\n",
      "Epoch 00009: val_loss did not improve from 0.33999\n",
      "Epoch 10/1000\n",
      "1501/1501 [==============================] - 36s 24ms/step - loss: 0.3133 - sparse_categorical_accuracy: 0.8861 - f1: 0.9171 - val_loss: 0.3277 - val_sparse_categorical_accuracy: 0.8758 - val_f1: 0.9289\n",
      "\n",
      "Epoch 00010: val_loss improved from 0.33999 to 0.32767, saving model to basic_RNN_hgfr.h5\n",
      "Epoch 11/1000\n",
      "1501/1501 [==============================] - 36s 24ms/step - loss: 0.3023 - sparse_categorical_accuracy: 0.8921 - f1: 0.9173 - val_loss: 0.3338 - val_sparse_categorical_accuracy: 0.8758 - val_f1: 0.9289\n",
      "\n",
      "Epoch 00011: val_loss did not improve from 0.32767\n",
      "Epoch 12/1000\n",
      "1501/1501 [==============================] - 36s 24ms/step - loss: 0.3127 - sparse_categorical_accuracy: 0.8767 - f1: 0.9166 - val_loss: 0.3271 - val_sparse_categorical_accuracy: 0.8727 - val_f1: 0.9289\n",
      "\n",
      "Epoch 00012: val_loss improved from 0.32767 to 0.32706, saving model to basic_RNN_hgfr.h5\n",
      "Epoch 13/1000\n",
      "1501/1501 [==============================] - 36s 24ms/step - loss: 0.2937 - sparse_categorical_accuracy: 0.8967 - f1: 0.9169 - val_loss: 0.3282 - val_sparse_categorical_accuracy: 0.8758 - val_f1: 0.9289\n",
      "\n",
      "Epoch 00013: val_loss did not improve from 0.32706\n",
      "Epoch 14/1000\n",
      "1501/1501 [==============================] - 36s 24ms/step - loss: 0.2986 - sparse_categorical_accuracy: 0.8874 - f1: 0.9166 - val_loss: 0.3240 - val_sparse_categorical_accuracy: 0.8789 - val_f1: 0.9289\n",
      "\n",
      "Epoch 00014: val_loss improved from 0.32706 to 0.32396, saving model to basic_RNN_hgfr.h5\n",
      "Epoch 15/1000\n",
      "1501/1501 [==============================] - 37s 24ms/step - loss: 0.2909 - sparse_categorical_accuracy: 0.8881 - f1: 0.9171 - val_loss: 0.3264 - val_sparse_categorical_accuracy: 0.8696 - val_f1: 0.9289\n",
      "\n",
      "Epoch 00015: val_loss did not improve from 0.32396\n",
      "Epoch 16/1000\n",
      "1501/1501 [==============================] - 36s 24ms/step - loss: 0.2847 - sparse_categorical_accuracy: 0.8914 - f1: 0.9168 - val_loss: 0.3384 - val_sparse_categorical_accuracy: 0.8727 - val_f1: 0.9289\n",
      "\n",
      "Epoch 00016: val_loss did not improve from 0.32396\n",
      "Epoch 17/1000\n",
      "1501/1501 [==============================] - 35s 23ms/step - loss: 0.2795 - sparse_categorical_accuracy: 0.8901 - f1: 0.9174 - val_loss: 0.3183 - val_sparse_categorical_accuracy: 0.8727 - val_f1: 0.9289\n",
      "\n",
      "Epoch 00017: val_loss improved from 0.32396 to 0.31834, saving model to basic_RNN_hgfr.h5\n",
      "Epoch 18/1000\n",
      "1501/1501 [==============================] - 32s 21ms/step - loss: 0.2728 - sparse_categorical_accuracy: 0.9001 - f1: 0.9166 - val_loss: 0.3150 - val_sparse_categorical_accuracy: 0.8820 - val_f1: 0.9289\n",
      "\n",
      "Epoch 00018: val_loss improved from 0.31834 to 0.31499, saving model to basic_RNN_hgfr.h5\n",
      "Epoch 19/1000\n",
      "1501/1501 [==============================] - 32s 21ms/step - loss: 0.2711 - sparse_categorical_accuracy: 0.8941 - f1: 0.9172 - val_loss: 0.3120 - val_sparse_categorical_accuracy: 0.8820 - val_f1: 0.9289\n",
      "\n",
      "Epoch 00019: val_loss improved from 0.31499 to 0.31200, saving model to basic_RNN_hgfr.h5\n",
      "Epoch 20/1000\n",
      "1501/1501 [==============================] - 32s 21ms/step - loss: 0.2917 - sparse_categorical_accuracy: 0.8907 - f1: 0.9170 - val_loss: 0.3066 - val_sparse_categorical_accuracy: 0.8820 - val_f1: 0.9289\n",
      "\n",
      "Epoch 00020: val_loss improved from 0.31200 to 0.30655, saving model to basic_RNN_hgfr.h5\n",
      "Epoch 21/1000\n",
      "1501/1501 [==============================] - 32s 21ms/step - loss: 0.2720 - sparse_categorical_accuracy: 0.8961 - f1: 0.9172 - val_loss: 0.3128 - val_sparse_categorical_accuracy: 0.8758 - val_f1: 0.9289\n",
      "\n",
      "Epoch 00021: val_loss did not improve from 0.30655\n",
      "Epoch 22/1000\n",
      "1501/1501 [==============================] - 31s 21ms/step - loss: 0.2808 - sparse_categorical_accuracy: 0.8881 - f1: 0.9165 - val_loss: 0.3073 - val_sparse_categorical_accuracy: 0.8758 - val_f1: 0.9289\n",
      "\n",
      "Epoch 00022: val_loss did not improve from 0.30655\n",
      "Epoch 23/1000\n",
      "1501/1501 [==============================] - 32s 21ms/step - loss: 0.2575 - sparse_categorical_accuracy: 0.9007 - f1: 0.9171 - val_loss: 0.2961 - val_sparse_categorical_accuracy: 0.8820 - val_f1: 0.9289\n",
      "\n",
      "Epoch 00023: val_loss improved from 0.30655 to 0.29607, saving model to basic_RNN_hgfr.h5\n",
      "Epoch 24/1000\n",
      "1501/1501 [==============================] - 32s 21ms/step - loss: 0.2609 - sparse_categorical_accuracy: 0.8994 - f1: 0.9171 - val_loss: 0.3073 - val_sparse_categorical_accuracy: 0.8727 - val_f1: 0.9289\n",
      "\n",
      "Epoch 00024: val_loss did not improve from 0.29607\n",
      "Epoch 25/1000\n",
      "1501/1501 [==============================] - 32s 21ms/step - loss: 0.2797 - sparse_categorical_accuracy: 0.8861 - f1: 0.9168 - val_loss: 0.3491 - val_sparse_categorical_accuracy: 0.8789 - val_f1: 0.9289\n",
      "\n",
      "Epoch 00025: val_loss did not improve from 0.29607\n",
      "Epoch 26/1000\n",
      "1501/1501 [==============================] - 32s 21ms/step - loss: 0.2590 - sparse_categorical_accuracy: 0.9007 - f1: 0.9170 - val_loss: 0.2878 - val_sparse_categorical_accuracy: 0.8758 - val_f1: 0.9289\n",
      "\n",
      "Epoch 00026: val_loss improved from 0.29607 to 0.28785, saving model to basic_RNN_hgfr.h5\n",
      "Epoch 27/1000\n",
      "1501/1501 [==============================] - 32s 21ms/step - loss: 0.2457 - sparse_categorical_accuracy: 0.9061 - f1: 0.9166 - val_loss: 0.2916 - val_sparse_categorical_accuracy: 0.8758 - val_f1: 0.9289\n",
      "\n",
      "Epoch 00027: val_loss did not improve from 0.28785\n",
      "Epoch 28/1000\n",
      "1501/1501 [==============================] - 31s 21ms/step - loss: 0.2458 - sparse_categorical_accuracy: 0.8961 - f1: 0.9170 - val_loss: 0.3022 - val_sparse_categorical_accuracy: 0.8820 - val_f1: 0.9289\n",
      "\n",
      "Epoch 00028: val_loss did not improve from 0.28785\n",
      "Epoch 29/1000\n"
     ]
    },
    {
     "name": "stdout",
     "output_type": "stream",
     "text": [
      "1501/1501 [==============================] - 31s 21ms/step - loss: 0.2685 - sparse_categorical_accuracy: 0.8941 - f1: 0.9170 - val_loss: 0.3118 - val_sparse_categorical_accuracy: 0.8789 - val_f1: 0.9289\n",
      "\n",
      "Epoch 00029: val_loss did not improve from 0.28785\n",
      "Epoch 30/1000\n",
      "1501/1501 [==============================] - 30s 20ms/step - loss: 0.2499 - sparse_categorical_accuracy: 0.8974 - f1: 0.9172 - val_loss: 0.3000 - val_sparse_categorical_accuracy: 0.8727 - val_f1: 0.9289\n",
      "\n",
      "Epoch 00030: val_loss did not improve from 0.28785\n",
      "Epoch 31/1000\n",
      "1501/1501 [==============================] - 31s 21ms/step - loss: 0.2417 - sparse_categorical_accuracy: 0.9067 - f1: 0.9167 - val_loss: 0.3042 - val_sparse_categorical_accuracy: 0.8820 - val_f1: 0.9289\n",
      "\n",
      "Epoch 00031: val_loss did not improve from 0.28785\n",
      "Epoch 32/1000\n",
      "1501/1501 [==============================] - 33s 22ms/step - loss: 0.2373 - sparse_categorical_accuracy: 0.8994 - f1: 0.9168 - val_loss: 0.3060 - val_sparse_categorical_accuracy: 0.8820 - val_f1: 0.9289\n",
      "\n",
      "Epoch 00032: val_loss did not improve from 0.28785\n",
      "Epoch 33/1000\n",
      "1501/1501 [==============================] - 32s 22ms/step - loss: 0.2199 - sparse_categorical_accuracy: 0.9141 - f1: 0.9175 - val_loss: 0.3096 - val_sparse_categorical_accuracy: 0.8789 - val_f1: 0.9289\n",
      "\n",
      "Epoch 00033: val_loss did not improve from 0.28785\n",
      "Epoch 34/1000\n",
      "1501/1501 [==============================] - 32s 21ms/step - loss: 0.2325 - sparse_categorical_accuracy: 0.9054 - f1: 0.9171 - val_loss: 0.3332 - val_sparse_categorical_accuracy: 0.8820 - val_f1: 0.9289\n",
      "\n",
      "Epoch 00034: val_loss did not improve from 0.28785\n",
      "Epoch 35/1000\n",
      "1501/1501 [==============================] - 31s 21ms/step - loss: 0.2269 - sparse_categorical_accuracy: 0.9047 - f1: 0.9168 - val_loss: 0.3188 - val_sparse_categorical_accuracy: 0.8789 - val_f1: 0.9289\n",
      "\n",
      "Epoch 00035: val_loss did not improve from 0.28785\n",
      "Epoch 36/1000\n",
      "1501/1501 [==============================] - 32s 21ms/step - loss: 0.2194 - sparse_categorical_accuracy: 0.9087 - f1: 0.9172 - val_loss: 0.2880 - val_sparse_categorical_accuracy: 0.8789 - val_f1: 0.9289\n",
      "\n",
      "Epoch 00036: val_loss did not improve from 0.28785\n",
      "Epoch 37/1000\n",
      "1501/1501 [==============================] - 31s 21ms/step - loss: 0.2221 - sparse_categorical_accuracy: 0.9054 - f1: 0.9170 - val_loss: 0.3022 - val_sparse_categorical_accuracy: 0.8820 - val_f1: 0.9289\n",
      "\n",
      "Epoch 00037: val_loss did not improve from 0.28785\n",
      "Epoch 38/1000\n",
      "1501/1501 [==============================] - 32s 21ms/step - loss: 0.2076 - sparse_categorical_accuracy: 0.9201 - f1: 0.9169 - val_loss: 0.3169 - val_sparse_categorical_accuracy: 0.8758 - val_f1: 0.9289\n",
      "\n",
      "Epoch 00038: val_loss did not improve from 0.28785\n",
      "Epoch 39/1000\n",
      "1501/1501 [==============================] - 31s 21ms/step - loss: 0.2031 - sparse_categorical_accuracy: 0.9181 - f1: 0.9165 - val_loss: 0.3104 - val_sparse_categorical_accuracy: 0.8727 - val_f1: 0.9289\n",
      "\n",
      "Epoch 00039: val_loss did not improve from 0.28785\n",
      "Epoch 40/1000\n",
      "1501/1501 [==============================] - 32s 21ms/step - loss: 0.2011 - sparse_categorical_accuracy: 0.9174 - f1: 0.9171 - val_loss: 0.4218 - val_sparse_categorical_accuracy: 0.8851 - val_f1: 0.9289\n",
      "\n",
      "Epoch 00040: val_loss did not improve from 0.28785\n",
      "Epoch 41/1000\n",
      "1501/1501 [==============================] - 32s 22ms/step - loss: 0.2089 - sparse_categorical_accuracy: 0.9081 - f1: 0.9172 - val_loss: 0.3719 - val_sparse_categorical_accuracy: 0.8851 - val_f1: 0.9289\n",
      "\n",
      "Epoch 00041: val_loss did not improve from 0.28785\n",
      "Epoch 42/1000\n",
      "1501/1501 [==============================] - 32s 21ms/step - loss: 0.2003 - sparse_categorical_accuracy: 0.9221 - f1: 0.9164 - val_loss: 0.3600 - val_sparse_categorical_accuracy: 0.8758 - val_f1: 0.9289\n",
      "\n",
      "Epoch 00042: val_loss did not improve from 0.28785\n",
      "Epoch 43/1000\n",
      "1501/1501 [==============================] - 31s 21ms/step - loss: 0.2132 - sparse_categorical_accuracy: 0.9141 - f1: 0.9167 - val_loss: 0.3156 - val_sparse_categorical_accuracy: 0.8758 - val_f1: 0.9289\n",
      "\n",
      "Epoch 00043: val_loss did not improve from 0.28785\n",
      "Epoch 44/1000\n",
      "1501/1501 [==============================] - 31s 21ms/step - loss: 0.1901 - sparse_categorical_accuracy: 0.9174 - f1: 0.9171 - val_loss: 0.3098 - val_sparse_categorical_accuracy: 0.8727 - val_f1: 0.9289\n",
      "\n",
      "Epoch 00044: val_loss did not improve from 0.28785\n",
      "Epoch 45/1000\n",
      "1501/1501 [==============================] - 32s 21ms/step - loss: 0.1919 - sparse_categorical_accuracy: 0.9214 - f1: 0.9170 - val_loss: 0.3265 - val_sparse_categorical_accuracy: 0.8851 - val_f1: 0.9289\n",
      "\n",
      "Epoch 00045: val_loss did not improve from 0.28785\n",
      "Epoch 46/1000\n",
      "1501/1501 [==============================] - 31s 21ms/step - loss: 0.1924 - sparse_categorical_accuracy: 0.9221 - f1: 0.9171 - val_loss: 0.3676 - val_sparse_categorical_accuracy: 0.8820 - val_f1: 0.9289\n",
      "\n",
      "Epoch 00046: val_loss did not improve from 0.28785\n",
      "Epoch 00046: early stopping\n"
     ]
    },
    {
     "data": {
      "text/plain": [
       "<keras.callbacks.History at 0x7fe26d41b2b0>"
      ]
     },
     "execution_count": 12,
     "metadata": {},
     "output_type": "execute_result"
    }
   ],
   "source": [
    "#training\n",
    "model.fit(x=X_train, \n",
    "          y=y_train, \n",
    "          batch_size=32, \n",
    "          epochs=1000, \n",
    "          verbose=1, \n",
    "          callbacks=callbacks_list, \n",
    "          validation_data=(X_val, y_val), \n",
    "          shuffle=True)"
   ]
  },
  {
   "cell_type": "code",
   "execution_count": 13,
   "metadata": {},
   "outputs": [
    {
     "name": "stdout",
     "output_type": "stream",
     "text": [
      "['loss', 'sparse_categorical_accuracy', 'f1']\n"
     ]
    }
   ],
   "source": [
    "#testing\n",
    "from keras.models import load_model\n",
    "trained_model = load_model(model_file, custom_objects={'f1': f1})\n",
    "print(trained_model.metrics_names)"
   ]
  },
  {
   "cell_type": "code",
   "execution_count": 14,
   "metadata": {},
   "outputs": [
    {
     "name": "stdout",
     "output_type": "stream",
     "text": [
      "1501/1501 [==============================] - 8s 5ms/step\n"
     ]
    },
    {
     "data": {
      "text/plain": [
       "[0.2259393919217118, 0.9087275154268162, 0.9166448803284738]"
      ]
     },
     "execution_count": 14,
     "metadata": {},
     "output_type": "execute_result"
    }
   ],
   "source": [
    "trained_model.evaluate(x=X_train, y=y_train)"
   ]
  },
  {
   "cell_type": "code",
   "execution_count": 15,
   "metadata": {},
   "outputs": [
    {
     "name": "stdout",
     "output_type": "stream",
     "text": [
      "322/322 [==============================] - 2s 5ms/step\n"
     ]
    },
    {
     "data": {
      "text/plain": [
       "[0.28784824768948997, 0.8757763975155279, 0.928949581169934]"
      ]
     },
     "execution_count": 15,
     "metadata": {},
     "output_type": "execute_result"
    }
   ],
   "source": [
    "trained_model.evaluate(x=X_val, y=y_val)"
   ]
  },
  {
   "cell_type": "code",
   "execution_count": 16,
   "metadata": {},
   "outputs": [
    {
     "name": "stdout",
     "output_type": "stream",
     "text": [
      "322/322 [==============================] - 2s 5ms/step\n"
     ]
    },
    {
     "data": {
      "text/plain": [
       "[0.30395260157052034, 0.8975155279503105, 0.9191573184469471]"
      ]
     },
     "execution_count": 16,
     "metadata": {},
     "output_type": "execute_result"
    }
   ],
   "source": [
    "trained_model.evaluate(x=X_test, y=y_test)"
   ]
  },
  {
   "cell_type": "code",
   "execution_count": null,
   "metadata": {},
   "outputs": [],
   "source": []
  }
 ],
 "metadata": {
  "kernelspec": {
   "display_name": "Python 3",
   "language": "python",
   "name": "python3"
  },
  "language_info": {
   "codemirror_mode": {
    "name": "ipython",
    "version": 3
   },
   "file_extension": ".py",
   "mimetype": "text/x-python",
   "name": "python",
   "nbconvert_exporter": "python",
   "pygments_lexer": "ipython3",
   "version": "3.5.6"
  }
 },
 "nbformat": 4,
 "nbformat_minor": 2
}
