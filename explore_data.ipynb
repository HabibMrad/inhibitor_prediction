{
 "cells": [
  {
   "cell_type": "code",
   "execution_count": 5,
   "metadata": {},
   "outputs": [],
   "source": [
    "import os\n",
    "import sys\n",
    "import numpy as np\n",
    "import matplotlib.pyplot as plt\n",
    "#import h5py\n",
    "from scipy import sparse"
   ]
  },
  {
   "cell_type": "code",
   "execution_count": 6,
   "metadata": {},
   "outputs": [],
   "source": [
    "PATH = \"./data/train_test\"\n",
    "kinase_list = [\"cdk2\", \"egfr_erbB1\", \"gsk3b\", \"hgfr\", \"map_k_p38a\", \"tpk_lck\", \"tpk_src\", \"vegfr2\"]"
   ]
  },
  {
   "cell_type": "code",
   "execution_count": 7,
   "metadata": {},
   "outputs": [
    {
     "data": {
      "text/plain": [
       "'\\nhf = h5py.File(\"../input/cdk2.h5\", \"r\")\\nids = hf[\"chembl_id\"].value # the name of each molecules\\nap = sparse.csr_matrix((hf[\"ap\"][\"data\"], hf[\"ap\"][\"indices\"], hf[\"ap\"][\"indptr\"]), shape=[len(hf[\"ap\"][\"indptr\"]) - 1, 2039])\\nmg = sparse.csr_matrix((hf[\"mg\"][\"data\"], hf[\"mg\"][\"indices\"], hf[\"mg\"][\"indptr\"]), shape=[len(hf[\"mg\"][\"indptr\"]) - 1, 2039])\\ntt = sparse.csr_matrix((hf[\"tt\"][\"data\"], hf[\"tt\"][\"indices\"], hf[\"tt\"][\"indptr\"]), shape=[len(hf[\"tt\"][\"indptr\"]) - 1, 2039])\\nfeatures = sparse.hstack([ap, mg, tt]).toarray() # the samples\\' features, each row is a sample, and each sample has 3*2039 features\\nlabels = hf[\"label\"].value # the label of each molecule\\n'"
      ]
     },
     "execution_count": 7,
     "metadata": {},
     "output_type": "execute_result"
    }
   ],
   "source": [
    "'''\n",
    "hf = h5py.File(\"../input/cdk2.h5\", \"r\")\n",
    "ids = hf[\"chembl_id\"].value # the name of each molecules\n",
    "ap = sparse.csr_matrix((hf[\"ap\"][\"data\"], hf[\"ap\"][\"indices\"], hf[\"ap\"][\"indptr\"]), shape=[len(hf[\"ap\"][\"indptr\"]) - 1, 2039])\n",
    "mg = sparse.csr_matrix((hf[\"mg\"][\"data\"], hf[\"mg\"][\"indices\"], hf[\"mg\"][\"indptr\"]), shape=[len(hf[\"mg\"][\"indptr\"]) - 1, 2039])\n",
    "tt = sparse.csr_matrix((hf[\"tt\"][\"data\"], hf[\"tt\"][\"indices\"], hf[\"tt\"][\"indptr\"]), shape=[len(hf[\"tt\"][\"indptr\"]) - 1, 2039])\n",
    "features = sparse.hstack([ap, mg, tt]).toarray() # the samples' features, each row is a sample, and each sample has 3*2039 features\n",
    "labels = hf[\"label\"].value # the label of each molecule\n",
    "'''"
   ]
  },
  {
   "cell_type": "code",
   "execution_count": 11,
   "metadata": {},
   "outputs": [
    {
     "ename": "AttributeError",
     "evalue": "module 'numpy' has no attribute 'read_csv'",
     "output_type": "error",
     "traceback": [
      "\u001b[0;31m---------------------------------------------------------------------------\u001b[0m",
      "\u001b[0;31mAttributeError\u001b[0m                            Traceback (most recent call last)",
      "\u001b[0;32m<ipython-input-11-50e72ede4830>\u001b[0m in \u001b[0;36m<module>\u001b[0;34m()\u001b[0m\n\u001b[1;32m      3\u001b[0m     \u001b[0;32mfor\u001b[0m \u001b[0mi\u001b[0m \u001b[0;32min\u001b[0m \u001b[0;34m[\u001b[0m\u001b[0;34m\"_train\"\u001b[0m\u001b[0;34m,\u001b[0m \u001b[0;34m\"_test\"\u001b[0m\u001b[0;34m]\u001b[0m\u001b[0;34m:\u001b[0m\u001b[0;34m\u001b[0m\u001b[0m\n\u001b[1;32m      4\u001b[0m         \u001b[0mfile_path\u001b[0m \u001b[0;34m=\u001b[0m \u001b[0mos\u001b[0m\u001b[0;34m.\u001b[0m\u001b[0mpath\u001b[0m\u001b[0;34m.\u001b[0m\u001b[0mjoin\u001b[0m\u001b[0;34m(\u001b[0m\u001b[0mPATH\u001b[0m\u001b[0;34m,\u001b[0m \u001b[0mkinase\u001b[0m \u001b[0;34m+\u001b[0m \u001b[0mi\u001b[0m\u001b[0;34m)\u001b[0m\u001b[0;34m\u001b[0m\u001b[0m\n\u001b[0;32m----> 5\u001b[0;31m         \u001b[0mdata\u001b[0m \u001b[0;34m=\u001b[0m \u001b[0mnp\u001b[0m\u001b[0;34m.\u001b[0m\u001b[0mread_csv\u001b[0m\u001b[0;34m(\u001b[0m\u001b[0mfile_path\u001b[0m\u001b[0;34m)\u001b[0m\u001b[0;34m\u001b[0m\u001b[0m\n\u001b[0m\u001b[1;32m      6\u001b[0m         \u001b[0mprint\u001b[0m \u001b[0;34m(\u001b[0m\u001b[0mfile_path\u001b[0m\u001b[0;34m,\u001b[0m \u001b[0mdata\u001b[0m\u001b[0;34m.\u001b[0m\u001b[0mshape\u001b[0m\u001b[0;34m)\u001b[0m\u001b[0;34m\u001b[0m\u001b[0m\n",
      "\u001b[0;31mAttributeError\u001b[0m: module 'numpy' has no attribute 'read_csv'"
     ]
    }
   ],
   "source": [
    "#Get dimensions\n",
    "for kinase in kinase_list:\n",
    "    for i in [\"_train\", \"_test\"]:\n",
    "        file_path = os.path.join(PATH, kinase + i)\n",
    "        data = np.read_csv(file_path)\n",
    "        print (file_path, data.shape)"
   ]
  },
  {
   "cell_type": "code",
   "execution_count": 12,
   "metadata": {},
   "outputs": [],
   "source": [
    "#Get distributions of positives and negatives (first column of .csv files)"
   ]
  },
  {
   "cell_type": "code",
   "execution_count": 13,
   "metadata": {},
   "outputs": [],
   "source": [
    "#Figure out what the .h5 files look like"
   ]
  },
  {
   "cell_type": "code",
   "execution_count": 14,
   "metadata": {},
   "outputs": [],
   "source": [
    "#How sparse are the train/test .csv files?"
   ]
  },
  {
   "cell_type": "code",
   "execution_count": 15,
   "metadata": {},
   "outputs": [],
   "source": [
    "#Look into the unlabeled data"
   ]
  },
  {
   "cell_type": "code",
   "execution_count": null,
   "metadata": {},
   "outputs": [],
   "source": []
  }
 ],
 "metadata": {
  "kernelspec": {
   "display_name": "Python 3",
   "language": "python",
   "name": "python3"
  },
  "language_info": {
   "codemirror_mode": {
    "name": "ipython",
    "version": 3
   },
   "file_extension": ".py",
   "mimetype": "text/x-python",
   "name": "python",
   "nbconvert_exporter": "python",
   "pygments_lexer": "ipython3",
   "version": "3.6.5"
  }
 },
 "nbformat": 4,
 "nbformat_minor": 2
}
