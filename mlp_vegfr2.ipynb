{
 "cells": [
  {
   "cell_type": "code",
   "execution_count": 1,
   "metadata": {},
   "outputs": [
    {
     "name": "stderr",
     "output_type": "stream",
     "text": [
      "Using TensorFlow backend.\n"
     ]
    }
   ],
   "source": [
    "import os\n",
    "import sys\n",
    "import numpy as np\n",
    "import keras\n",
    "# from sklearn.model_selection import train_test_split"
   ]
  },
  {
   "cell_type": "code",
   "execution_count": 2,
   "metadata": {},
   "outputs": [],
   "source": [
    "seed = 273\n",
    "kinase = 'vegfr2'\n",
    "model_file = 'mlp_%s.h5' % (kinase)"
   ]
  },
  {
   "cell_type": "code",
   "execution_count": 3,
   "metadata": {},
   "outputs": [],
   "source": [
    "#import data\n",
    "smiles_lines = [line.strip().split(',') for line in open(os.path.join('data', kinase+'_smiles.csv'))]\n",
    "smiles = [line[1] for line in smiles_lines]\n",
    "fingerprint_lines = [line.strip().split(',') for line in open(os.path.join('data', kinase+'_fingerprints.csv'))]\n",
    "fingerprints = [line[2:] for line in fingerprint_lines]\n",
    "X_fingerprints = np.asarray(fingerprints, dtype=np.int16)\n",
    "y = np.asarray([int(line[2]) for line in smiles_lines], dtype=np.int8)"
   ]
  },
  {
   "cell_type": "code",
   "execution_count": 4,
   "metadata": {},
   "outputs": [],
   "source": [
    "#pad smiles with '!' to ensure equal length\n",
    "max_smiles_len = max(len(s) for s in smiles)\n",
    "smiles = [s + '!'*(max_smiles_len + 1 - len(s)) for s in smiles]"
   ]
  },
  {
   "cell_type": "code",
   "execution_count": 5,
   "metadata": {},
   "outputs": [],
   "source": [
    "#one-hot vector representation of smiles\n",
    "char_set = set()\n",
    "for s in smiles:\n",
    "    for c in s:\n",
    "        char_set.add(c)\n",
    "char_set = list(char_set)\n",
    "char_to_index = {char_set[i]: i for i in range(len(char_set))}\n",
    "\n",
    "X_smiles = np.zeros((len(smiles), max_smiles_len + 1, len(char_set)))\n",
    "for i in range(len(smiles)):\n",
    "    code = smiles[i]\n",
    "    for j in range(len(code)):\n",
    "        char = code[j]\n",
    "        X_smiles[i, j, char_to_index[char]] = 1        "
   ]
  },
  {
   "cell_type": "code",
   "execution_count": 6,
   "metadata": {},
   "outputs": [
    {
     "name": "stdout",
     "output_type": "stream",
     "text": [
      "(5123, 4096)\n",
      "(5123, 147, 38)\n",
      "(5123,)\n"
     ]
    }
   ],
   "source": [
    "print(X_fingerprints.shape)\n",
    "print(X_smiles.shape)\n",
    "print(y.shape)"
   ]
  },
  {
   "cell_type": "code",
   "execution_count": 7,
   "metadata": {},
   "outputs": [
    {
     "name": "stdout",
     "output_type": "stream",
     "text": [
      "(3587, 4096)\n",
      "(3587, 147, 38)\n",
      "(3587,)\n",
      "(768, 4096)\n",
      "(768, 147, 38)\n",
      "(768,)\n",
      "(768, 4096)\n",
      "(768, 147, 38)\n",
      "(768,)\n"
     ]
    }
   ],
   "source": [
    "#train val test split\n",
    "n_tot = X_smiles.shape[0]\n",
    "n_test = round(n_tot*0.15)\n",
    "n_val = round(n_tot*0.15)\n",
    "n_train  = n_tot - n_test - n_val\n",
    "indices = np.arange(n_tot, dtype=int)\n",
    "np.random.seed(seed)\n",
    "np.random.shuffle(indices)\n",
    "indices_train = indices[:n_train]\n",
    "indices_val = indices[n_train:n_train+n_val]\n",
    "indices_test = indices[n_train+n_val:]\n",
    "X_fingerprints_train = X_fingerprints[indices_train]\n",
    "print(X_fingerprints_train.shape)\n",
    "X_smiles_train = X_smiles[indices_train]\n",
    "print(X_smiles_train.shape)\n",
    "y_train = y[indices_train]\n",
    "print(y_train.shape)\n",
    "X_fingerprints_val = X_fingerprints[indices_val]\n",
    "print(X_fingerprints_val.shape)\n",
    "X_smiles_val = X_smiles[indices_val]\n",
    "print(X_smiles_val.shape)\n",
    "y_val = y[indices_val]\n",
    "print(y_val.shape)\n",
    "X_fingerprints_test = X_fingerprints[indices_test]\n",
    "print(X_fingerprints_test.shape)\n",
    "X_smiles_test = X_smiles[indices_test]\n",
    "print(X_smiles_test.shape)\n",
    "y_test = y[indices_test]\n",
    "print(y_test.shape)\n",
    "smiles_input_shape = X_smiles_train.shape[1:]\n",
    "fingerprints_input_shape = X_fingerprints_train.shape[1:]"
   ]
  },
  {
   "cell_type": "code",
   "execution_count": 8,
   "metadata": {},
   "outputs": [
    {
     "name": "stdout",
     "output_type": "stream",
     "text": [
      "[]\n"
     ]
    }
   ],
   "source": [
    "#check GPU presence\n",
    "from tensorflow.python.client import device_lib\n",
    "\n",
    "def get_available_gpus():\n",
    "    local_device_protos = device_lib.list_local_devices()\n",
    "    return [x.name for x in local_device_protos if x.device_type == 'GPU']\n",
    "\n",
    "print(get_available_gpus())"
   ]
  },
  {
   "cell_type": "code",
   "execution_count": 9,
   "metadata": {},
   "outputs": [],
   "source": [
    "#keras imports\n",
    "from keras.models import Sequential\n",
    "from keras.layers import TimeDistributed, GlobalAveragePooling2D, Activation, Dense, Input, Bidirectional\n",
    "from keras.layers import BatchNormalization, Conv2D, MaxPooling2D, AveragePooling2D, GlobalAveragePooling2D\n",
    "from keras.layers import GlobalMaxPooling2D\n",
    "from keras.layers.recurrent import LSTM\n",
    "from keras.callbacks import ModelCheckpoint, ReduceLROnPlateau, Callback, EarlyStopping\n",
    "from keras.layers import Dropout, Flatten\n",
    "from keras.layers import concatenate\n",
    "from keras import regularizers\n",
    "from keras import initializers\n",
    "from keras import constraints\n",
    "from keras.models import Model\n",
    "# Backend\n",
    "from keras import backend as K\n",
    "# Utils\n",
    "from keras.utils.layer_utils import convert_all_kernels_in_model\n",
    "from keras.utils.data_utils import get_file\n",
    "from keras import metrics"
   ]
  },
  {
   "cell_type": "code",
   "execution_count": 10,
   "metadata": {},
   "outputs": [],
   "source": [
    "#F1 score computation\n",
    "from sklearn.metrics import confusion_matrix, f1_score, precision_score, recall_score\n",
    "from keras import backend as K\n",
    "\n",
    "def f1(y_true, y_pred):\n",
    "    def recall(y_true, y_pred):\n",
    "        \"\"\"Recall metric.\n",
    "\n",
    "        Only computes a batch-wise average of recall.\n",
    "\n",
    "        Computes the recall, a metric for multi-label classification of\n",
    "        how many relevant items are selected.\n",
    "        \"\"\"\n",
    "        true_positives = K.sum(K.round(K.clip(y_true * y_pred, 0, 1)))\n",
    "        possible_positives = K.sum(K.round(K.clip(y_true, 0, 1)))\n",
    "        recall = true_positives / (possible_positives + K.epsilon())\n",
    "        return recall\n",
    "\n",
    "    def precision(y_true, y_pred):\n",
    "        \"\"\"Precision metric.\n",
    "\n",
    "        Only computes a batch-wise average of precision.\n",
    "\n",
    "        Computes the precision, a metric for multi-label classification of\n",
    "        how many selected items are relevant.\n",
    "        \"\"\"\n",
    "        true_positives = K.sum(K.round(K.clip(y_true * y_pred, 0, 1)))\n",
    "        predicted_positives = K.sum(K.round(K.clip(y_pred, 0, 1)))\n",
    "        precision = true_positives / (predicted_positives + K.epsilon())\n",
    "        return precision\n",
    "    precision = precision(y_true, y_pred)\n",
    "    recall = recall(y_true, y_pred)\n",
    "    return 2*((precision*recall)/(precision+recall+K.epsilon()))"
   ]
  },
  {
   "cell_type": "code",
   "execution_count": 11,
   "metadata": {},
   "outputs": [],
   "source": [
    "#basic MLP model\n",
    "model = Sequential()\n",
    "model.add(Dense(128, activation='relu', input_shape=fingerprints_input_shape))\n",
    "model.add(Dense(128, activation='relu'))\n",
    "model.add(Dropout(0.5))\n",
    "model.add(Dense(2, activation='softmax'))"
   ]
  },
  {
   "cell_type": "code",
   "execution_count": 12,
   "metadata": {},
   "outputs": [
    {
     "name": "stdout",
     "output_type": "stream",
     "text": [
      "_________________________________________________________________\n",
      "Layer (type)                 Output Shape              Param #   \n",
      "=================================================================\n",
      "dense_1 (Dense)              (None, 128)               524416    \n",
      "_________________________________________________________________\n",
      "dense_2 (Dense)              (None, 128)               16512     \n",
      "_________________________________________________________________\n",
      "dropout_1 (Dropout)          (None, 128)               0         \n",
      "_________________________________________________________________\n",
      "dense_3 (Dense)              (None, 2)                 258       \n",
      "=================================================================\n",
      "Total params: 541,186\n",
      "Trainable params: 541,186\n",
      "Non-trainable params: 0\n",
      "_________________________________________________________________\n"
     ]
    }
   ],
   "source": [
    "#compile model\n",
    "adam = keras.optimizers.Adam(lr=0.001, decay=0.0)\n",
    "stop = EarlyStopping(patience=20, verbose=1)\n",
    "model.compile(optimizer=adam, loss='sparse_categorical_crossentropy', metrics=[metrics.sparse_categorical_accuracy, f1])\n",
    "checkpoint = ModelCheckpoint(model_file, monitor='val_loss', verbose=1, save_best_only=True, mode='min')\n",
    "\n",
    "callbacks_list = [checkpoint, stop]\n",
    "\n",
    "model.summary()"
   ]
  },
  {
   "cell_type": "code",
   "execution_count": 13,
   "metadata": {},
   "outputs": [
    {
     "name": "stdout",
     "output_type": "stream",
     "text": [
      "Train on 3587 samples, validate on 768 samples\n",
      "Epoch 1/1000\n",
      "3587/3587 [==============================] - 3s 946us/step - loss: 0.4516 - sparse_categorical_accuracy: 0.8032 - f1: 0.8868 - val_loss: 0.3814 - val_sparse_categorical_accuracy: 0.8125 - val_f1: 0.8852\n",
      "\n",
      "Epoch 00001: val_loss improved from inf to 0.38138, saving model to mlp_vegfr2.h5\n",
      "Epoch 2/1000\n",
      "3587/3587 [==============================] - 3s 716us/step - loss: 0.3422 - sparse_categorical_accuracy: 0.8556 - f1: 0.8874 - val_loss: 0.3379 - val_sparse_categorical_accuracy: 0.8477 - val_f1: 0.8852\n",
      "\n",
      "Epoch 00002: val_loss improved from 0.38138 to 0.33792, saving model to mlp_vegfr2.h5\n",
      "Epoch 3/1000\n",
      "3587/3587 [==============================] - 2s 648us/step - loss: 0.2856 - sparse_categorical_accuracy: 0.8790 - f1: 0.8871 - val_loss: 0.4213 - val_sparse_categorical_accuracy: 0.8034 - val_f1: 0.8852\n",
      "\n",
      "Epoch 00003: val_loss did not improve from 0.33792\n",
      "Epoch 4/1000\n",
      "3587/3587 [==============================] - 2s 605us/step - loss: 0.2691 - sparse_categorical_accuracy: 0.8893 - f1: 0.8868 - val_loss: 0.3601 - val_sparse_categorical_accuracy: 0.8607 - val_f1: 0.8852\n",
      "\n",
      "Epoch 00004: val_loss did not improve from 0.33792\n",
      "Epoch 5/1000\n",
      "3587/3587 [==============================] - 2s 589us/step - loss: 0.2558 - sparse_categorical_accuracy: 0.8890 - f1: 0.8873 - val_loss: 0.3276 - val_sparse_categorical_accuracy: 0.8620 - val_f1: 0.8852\n",
      "\n",
      "Epoch 00005: val_loss improved from 0.33792 to 0.32760, saving model to mlp_vegfr2.h5\n",
      "Epoch 6/1000\n",
      "3587/3587 [==============================] - 2s 582us/step - loss: 0.2159 - sparse_categorical_accuracy: 0.9102 - f1: 0.8870 - val_loss: 0.3517 - val_sparse_categorical_accuracy: 0.8385 - val_f1: 0.8852\n",
      "\n",
      "Epoch 00006: val_loss did not improve from 0.32760\n",
      "Epoch 7/1000\n",
      "3587/3587 [==============================] - 2s 697us/step - loss: 0.2145 - sparse_categorical_accuracy: 0.9102 - f1: 0.8868 - val_loss: 0.3896 - val_sparse_categorical_accuracy: 0.8594 - val_f1: 0.8852\n",
      "\n",
      "Epoch 00007: val_loss did not improve from 0.32760\n",
      "Epoch 8/1000\n",
      "3587/3587 [==============================] - 3s 833us/step - loss: 0.2028 - sparse_categorical_accuracy: 0.9197 - f1: 0.8872 - val_loss: 0.3466 - val_sparse_categorical_accuracy: 0.8594 - val_f1: 0.8852\n",
      "\n",
      "Epoch 00008: val_loss did not improve from 0.32760\n",
      "Epoch 9/1000\n",
      "3587/3587 [==============================] - 2s 629us/step - loss: 0.1830 - sparse_categorical_accuracy: 0.9250 - f1: 0.8870 - val_loss: 0.3582 - val_sparse_categorical_accuracy: 0.8607 - val_f1: 0.8852\n",
      "\n",
      "Epoch 00009: val_loss did not improve from 0.32760\n",
      "Epoch 10/1000\n",
      "3587/3587 [==============================] - 2s 600us/step - loss: 0.1708 - sparse_categorical_accuracy: 0.9295 - f1: 0.8869 - val_loss: 0.3589 - val_sparse_categorical_accuracy: 0.8477 - val_f1: 0.8852\n",
      "\n",
      "Epoch 00010: val_loss did not improve from 0.32760\n",
      "Epoch 11/1000\n",
      "3587/3587 [==============================] - 2s 573us/step - loss: 0.1627 - sparse_categorical_accuracy: 0.9306 - f1: 0.8872 - val_loss: 0.3319 - val_sparse_categorical_accuracy: 0.8711 - val_f1: 0.8852\n",
      "\n",
      "Epoch 00011: val_loss did not improve from 0.32760\n",
      "Epoch 12/1000\n",
      "3587/3587 [==============================] - 2s 594us/step - loss: 0.1512 - sparse_categorical_accuracy: 0.9353 - f1: 0.8866 - val_loss: 0.3324 - val_sparse_categorical_accuracy: 0.8685 - val_f1: 0.8852\n",
      "\n",
      "Epoch 00012: val_loss did not improve from 0.32760\n",
      "Epoch 13/1000\n",
      "3587/3587 [==============================] - 2s 534us/step - loss: 0.1332 - sparse_categorical_accuracy: 0.9445 - f1: 0.8865 - val_loss: 0.3594 - val_sparse_categorical_accuracy: 0.8555 - val_f1: 0.8852\n",
      "\n",
      "Epoch 00013: val_loss did not improve from 0.32760\n",
      "Epoch 14/1000\n",
      "3587/3587 [==============================] - 2s 477us/step - loss: 0.1340 - sparse_categorical_accuracy: 0.9403 - f1: 0.8870 - val_loss: 0.3790 - val_sparse_categorical_accuracy: 0.8659 - val_f1: 0.8852\n",
      "\n",
      "Epoch 00014: val_loss did not improve from 0.32760\n",
      "Epoch 15/1000\n",
      "3587/3587 [==============================] - 1s 339us/step - loss: 0.1426 - sparse_categorical_accuracy: 0.9373 - f1: 0.8869 - val_loss: 0.3700 - val_sparse_categorical_accuracy: 0.8698 - val_f1: 0.8852\n",
      "\n",
      "Epoch 00015: val_loss did not improve from 0.32760\n",
      "Epoch 16/1000\n",
      "3587/3587 [==============================] - 1s 337us/step - loss: 0.1242 - sparse_categorical_accuracy: 0.9473 - f1: 0.8869 - val_loss: 0.3983 - val_sparse_categorical_accuracy: 0.8646 - val_f1: 0.8852\n",
      "\n",
      "Epoch 00016: val_loss did not improve from 0.32760\n",
      "Epoch 17/1000\n",
      "3587/3587 [==============================] - 1s 352us/step - loss: 0.1143 - sparse_categorical_accuracy: 0.9495 - f1: 0.8861 - val_loss: 0.4028 - val_sparse_categorical_accuracy: 0.8711 - val_f1: 0.8852\n",
      "\n",
      "Epoch 00017: val_loss did not improve from 0.32760\n",
      "Epoch 18/1000\n",
      "3587/3587 [==============================] - 1s 346us/step - loss: 0.1174 - sparse_categorical_accuracy: 0.9534 - f1: 0.8871 - val_loss: 0.4006 - val_sparse_categorical_accuracy: 0.8711 - val_f1: 0.8852\n",
      "\n",
      "Epoch 00018: val_loss did not improve from 0.32760\n",
      "Epoch 19/1000\n",
      "3587/3587 [==============================] - 1s 339us/step - loss: 0.1183 - sparse_categorical_accuracy: 0.9479 - f1: 0.8866 - val_loss: 0.3878 - val_sparse_categorical_accuracy: 0.8763 - val_f1: 0.8852\n",
      "\n",
      "Epoch 00019: val_loss did not improve from 0.32760\n",
      "Epoch 20/1000\n",
      "3587/3587 [==============================] - 1s 411us/step - loss: 0.1058 - sparse_categorical_accuracy: 0.9518 - f1: 0.8870 - val_loss: 0.4702 - val_sparse_categorical_accuracy: 0.8724 - val_f1: 0.8852\n",
      "\n",
      "Epoch 00020: val_loss did not improve from 0.32760\n",
      "Epoch 21/1000\n",
      "3587/3587 [==============================] - 1s 368us/step - loss: 0.1027 - sparse_categorical_accuracy: 0.9548 - f1: 0.8869 - val_loss: 0.4561 - val_sparse_categorical_accuracy: 0.8646 - val_f1: 0.8852\n",
      "\n",
      "Epoch 00021: val_loss did not improve from 0.32760\n",
      "Epoch 22/1000\n",
      "3587/3587 [==============================] - 1s 338us/step - loss: 0.0999 - sparse_categorical_accuracy: 0.9585 - f1: 0.8866 - val_loss: 0.5116 - val_sparse_categorical_accuracy: 0.8529 - val_f1: 0.8852\n",
      "\n",
      "Epoch 00022: val_loss did not improve from 0.32760\n",
      "Epoch 23/1000\n",
      "3587/3587 [==============================] - 1s 338us/step - loss: 0.0954 - sparse_categorical_accuracy: 0.9612 - f1: 0.8873 - val_loss: 0.5103 - val_sparse_categorical_accuracy: 0.8711 - val_f1: 0.8852\n",
      "\n",
      "Epoch 00023: val_loss did not improve from 0.32760\n",
      "Epoch 24/1000\n",
      "3587/3587 [==============================] - 1s 337us/step - loss: 0.0843 - sparse_categorical_accuracy: 0.9638 - f1: 0.8873 - val_loss: 0.4632 - val_sparse_categorical_accuracy: 0.8659 - val_f1: 0.8852\n",
      "\n",
      "Epoch 00024: val_loss did not improve from 0.32760\n",
      "Epoch 25/1000\n",
      "3587/3587 [==============================] - 1s 357us/step - loss: 0.0829 - sparse_categorical_accuracy: 0.9679 - f1: 0.8868 - val_loss: 0.5758 - val_sparse_categorical_accuracy: 0.8633 - val_f1: 0.8852\n",
      "\n",
      "Epoch 00025: val_loss did not improve from 0.32760\n",
      "Epoch 00025: early stopping\n"
     ]
    },
    {
     "data": {
      "text/plain": [
       "<keras.callbacks.History at 0x7f490bc7d978>"
      ]
     },
     "execution_count": 13,
     "metadata": {},
     "output_type": "execute_result"
    }
   ],
   "source": [
    "#training\n",
    "model.fit(x=X_fingerprints_train, \n",
    "          y=y_train, \n",
    "          batch_size=32, \n",
    "          epochs=1000, \n",
    "          verbose=1, \n",
    "          callbacks=callbacks_list, \n",
    "          validation_data=(X_fingerprints_val, y_val), \n",
    "          shuffle=True)"
   ]
  },
  {
   "cell_type": "code",
   "execution_count": 14,
   "metadata": {},
   "outputs": [
    {
     "name": "stdout",
     "output_type": "stream",
     "text": [
      "['loss', 'sparse_categorical_accuracy', 'f1']\n"
     ]
    }
   ],
   "source": [
    "#testing\n",
    "from keras.models import load_model\n",
    "trained_model = load_model(model_file, custom_objects={'f1': f1})\n",
    "print(trained_model.metrics_names)"
   ]
  },
  {
   "cell_type": "code",
   "execution_count": 15,
   "metadata": {},
   "outputs": [
    {
     "name": "stdout",
     "output_type": "stream",
     "text": [
      "3587/3587 [==============================] - 0s 90us/step\n"
     ]
    },
    {
     "data": {
      "text/plain": [
       "[0.18546184485324885, 0.9163646501420699, 0.8870105796332873]"
      ]
     },
     "execution_count": 15,
     "metadata": {},
     "output_type": "execute_result"
    }
   ],
   "source": [
    "trained_model.evaluate(x=X_fingerprints_train, y=y_train)"
   ]
  },
  {
   "cell_type": "code",
   "execution_count": 16,
   "metadata": {},
   "outputs": [
    {
     "name": "stdout",
     "output_type": "stream",
     "text": [
      "768/768 [==============================] - 0s 83us/step\n"
     ]
    },
    {
     "data": {
      "text/plain": [
       "[0.32759579612563056, 0.8619791666666666, 0.8851523374517759]"
      ]
     },
     "execution_count": 16,
     "metadata": {},
     "output_type": "execute_result"
    }
   ],
   "source": [
    "trained_model.evaluate(x=X_fingerprints_val, y=y_val)"
   ]
  },
  {
   "cell_type": "code",
   "execution_count": 17,
   "metadata": {},
   "outputs": [
    {
     "name": "stdout",
     "output_type": "stream",
     "text": [
      "768/768 [==============================] - 0s 78us/step\n"
     ]
    },
    {
     "data": {
      "text/plain": [
       "[0.3234821629400055, 0.8645833333333334, 0.8817864457766215]"
      ]
     },
     "execution_count": 17,
     "metadata": {},
     "output_type": "execute_result"
    }
   ],
   "source": [
    "trained_model.evaluate(x=X_fingerprints_test, y=y_test)"
   ]
  },
  {
   "cell_type": "code",
   "execution_count": 18,
   "metadata": {},
   "outputs": [],
   "source": [
    "from sklearn.metrics import roc_curve\n",
    "from sklearn.metrics import roc_auc_score\n",
    "pred_train = trained_model.predict(x=X_fingerprints_train)[:,1]\n",
    "pred_val = trained_model.predict(x=X_fingerprints_val)[:,1]\n",
    "pred_test = trained_model.predict(x=X_fingerprints_test)[:,1]\n",
    "np.savez(model_file[:-2] + 'npz', pred_train=pred_train, pred_val=pred_val, pred_test=pred_test)"
   ]
  }
 ],
 "metadata": {
  "kernelspec": {
   "display_name": "Python 3",
   "language": "python",
   "name": "python3"
  },
  "language_info": {
   "codemirror_mode": {
    "name": "ipython",
    "version": 3
   },
   "file_extension": ".py",
   "mimetype": "text/x-python",
   "name": "python",
   "nbconvert_exporter": "python",
   "pygments_lexer": "ipython3",
   "version": "3.5.6"
  }
 },
 "nbformat": 4,
 "nbformat_minor": 2
}
