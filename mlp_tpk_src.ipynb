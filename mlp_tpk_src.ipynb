{
 "cells": [
  {
   "cell_type": "code",
   "execution_count": 1,
   "metadata": {},
   "outputs": [
    {
     "name": "stderr",
     "output_type": "stream",
     "text": [
      "Using TensorFlow backend.\n"
     ]
    }
   ],
   "source": [
    "import os\n",
    "import sys\n",
    "import numpy as np\n",
    "import keras\n",
    "# from sklearn.model_selection import train_test_split"
   ]
  },
  {
   "cell_type": "code",
   "execution_count": 2,
   "metadata": {},
   "outputs": [],
   "source": [
    "seed = 273\n",
    "kinase = 'tpk_src'\n",
    "model_file = 'mlp_%s.h5' % (kinase)"
   ]
  },
  {
   "cell_type": "code",
   "execution_count": 3,
   "metadata": {},
   "outputs": [],
   "source": [
    "#import data\n",
    "smiles_lines = [line.strip().split(',') for line in open(os.path.join('data', kinase+'_smiles.csv'))]\n",
    "smiles = [line[1] for line in smiles_lines]\n",
    "fingerprint_lines = [line.strip().split(',') for line in open(os.path.join('data', kinase+'_fingerprints.csv'))]\n",
    "fingerprints = [line[2:] for line in fingerprint_lines]\n",
    "X_fingerprints = np.asarray(fingerprints, dtype=np.int16)\n",
    "y = np.asarray([int(line[2]) for line in smiles_lines], dtype=np.int8)"
   ]
  },
  {
   "cell_type": "code",
   "execution_count": 4,
   "metadata": {},
   "outputs": [],
   "source": [
    "#pad smiles with '!' to ensure equal length\n",
    "max_smiles_len = max(len(s) for s in smiles)\n",
    "smiles = [s + '!'*(max_smiles_len + 1 - len(s)) for s in smiles]"
   ]
  },
  {
   "cell_type": "code",
   "execution_count": 5,
   "metadata": {},
   "outputs": [],
   "source": [
    "#one-hot vector representation of smiles\n",
    "char_set = set()\n",
    "for s in smiles:\n",
    "    for c in s:\n",
    "        char_set.add(c)\n",
    "char_set = list(char_set)\n",
    "char_to_index = {char_set[i]: i for i in range(len(char_set))}\n",
    "\n",
    "X_smiles = np.zeros((len(smiles), max_smiles_len + 1, len(char_set)))\n",
    "for i in range(len(smiles)):\n",
    "    code = smiles[i]\n",
    "    for j in range(len(code)):\n",
    "        char = code[j]\n",
    "        X_smiles[i, j, char_to_index[char]] = 1        "
   ]
  },
  {
   "cell_type": "code",
   "execution_count": 6,
   "metadata": {},
   "outputs": [
    {
     "name": "stdout",
     "output_type": "stream",
     "text": [
      "(2972, 4096)\n",
      "(2972, 416, 40)\n",
      "(2972,)\n"
     ]
    }
   ],
   "source": [
    "print(X_fingerprints.shape)\n",
    "print(X_smiles.shape)\n",
    "print(y.shape)"
   ]
  },
  {
   "cell_type": "code",
   "execution_count": 7,
   "metadata": {},
   "outputs": [
    {
     "name": "stdout",
     "output_type": "stream",
     "text": [
      "(2080, 4096)\n",
      "(2080, 416, 40)\n",
      "(2080,)\n",
      "(446, 4096)\n",
      "(446, 416, 40)\n",
      "(446,)\n",
      "(446, 4096)\n",
      "(446, 416, 40)\n",
      "(446,)\n"
     ]
    }
   ],
   "source": [
    "#train val test split\n",
    "n_tot = X_smiles.shape[0]\n",
    "n_test = round(n_tot*0.15)\n",
    "n_val = round(n_tot*0.15)\n",
    "n_train  = n_tot - n_test - n_val\n",
    "indices = np.arange(n_tot, dtype=int)\n",
    "np.random.seed(seed)\n",
    "np.random.shuffle(indices)\n",
    "indices_train = indices[:n_train]\n",
    "indices_val = indices[n_train:n_train+n_val]\n",
    "indices_test = indices[n_train+n_val:]\n",
    "X_fingerprints_train = X_fingerprints[indices_train]\n",
    "print(X_fingerprints_train.shape)\n",
    "X_smiles_train = X_smiles[indices_train]\n",
    "print(X_smiles_train.shape)\n",
    "y_train = y[indices_train]\n",
    "print(y_train.shape)\n",
    "X_fingerprints_val = X_fingerprints[indices_val]\n",
    "print(X_fingerprints_val.shape)\n",
    "X_smiles_val = X_smiles[indices_val]\n",
    "print(X_smiles_val.shape)\n",
    "y_val = y[indices_val]\n",
    "print(y_val.shape)\n",
    "X_fingerprints_test = X_fingerprints[indices_test]\n",
    "print(X_fingerprints_test.shape)\n",
    "X_smiles_test = X_smiles[indices_test]\n",
    "print(X_smiles_test.shape)\n",
    "y_test = y[indices_test]\n",
    "print(y_test.shape)\n",
    "smiles_input_shape = X_smiles_train.shape[1:]\n",
    "fingerprints_input_shape = X_fingerprints_train.shape[1:]"
   ]
  },
  {
   "cell_type": "code",
   "execution_count": 8,
   "metadata": {},
   "outputs": [
    {
     "name": "stdout",
     "output_type": "stream",
     "text": [
      "[]\n"
     ]
    }
   ],
   "source": [
    "#check GPU presence\n",
    "from tensorflow.python.client import device_lib\n",
    "\n",
    "def get_available_gpus():\n",
    "    local_device_protos = device_lib.list_local_devices()\n",
    "    return [x.name for x in local_device_protos if x.device_type == 'GPU']\n",
    "\n",
    "print(get_available_gpus())"
   ]
  },
  {
   "cell_type": "code",
   "execution_count": 9,
   "metadata": {},
   "outputs": [],
   "source": [
    "#keras imports\n",
    "from keras.models import Sequential\n",
    "from keras.layers import TimeDistributed, GlobalAveragePooling2D, Activation, Dense, Input, Bidirectional\n",
    "from keras.layers import BatchNormalization, Conv2D, MaxPooling2D, AveragePooling2D, GlobalAveragePooling2D\n",
    "from keras.layers import GlobalMaxPooling2D\n",
    "from keras.layers.recurrent import LSTM\n",
    "from keras.callbacks import ModelCheckpoint, ReduceLROnPlateau, Callback, EarlyStopping\n",
    "from keras.layers import Dropout, Flatten\n",
    "from keras.layers import concatenate\n",
    "from keras import regularizers\n",
    "from keras import initializers\n",
    "from keras import constraints\n",
    "from keras.models import Model\n",
    "# Backend\n",
    "from keras import backend as K\n",
    "# Utils\n",
    "from keras.utils.layer_utils import convert_all_kernels_in_model\n",
    "from keras.utils.data_utils import get_file\n",
    "from keras import metrics"
   ]
  },
  {
   "cell_type": "code",
   "execution_count": 10,
   "metadata": {},
   "outputs": [],
   "source": [
    "#F1 score computation\n",
    "from sklearn.metrics import confusion_matrix, f1_score, precision_score, recall_score\n",
    "from keras import backend as K\n",
    "\n",
    "def f1(y_true, y_pred):\n",
    "    def recall(y_true, y_pred):\n",
    "        \"\"\"Recall metric.\n",
    "\n",
    "        Only computes a batch-wise average of recall.\n",
    "\n",
    "        Computes the recall, a metric for multi-label classification of\n",
    "        how many relevant items are selected.\n",
    "        \"\"\"\n",
    "        true_positives = K.sum(K.round(K.clip(y_true * y_pred, 0, 1)))\n",
    "        possible_positives = K.sum(K.round(K.clip(y_true, 0, 1)))\n",
    "        recall = true_positives / (possible_positives + K.epsilon())\n",
    "        return recall\n",
    "\n",
    "    def precision(y_true, y_pred):\n",
    "        \"\"\"Precision metric.\n",
    "\n",
    "        Only computes a batch-wise average of precision.\n",
    "\n",
    "        Computes the precision, a metric for multi-label classification of\n",
    "        how many selected items are relevant.\n",
    "        \"\"\"\n",
    "        true_positives = K.sum(K.round(K.clip(y_true * y_pred, 0, 1)))\n",
    "        predicted_positives = K.sum(K.round(K.clip(y_pred, 0, 1)))\n",
    "        precision = true_positives / (predicted_positives + K.epsilon())\n",
    "        return precision\n",
    "    precision = precision(y_true, y_pred)\n",
    "    recall = recall(y_true, y_pred)\n",
    "    return 2*((precision*recall)/(precision+recall+K.epsilon()))"
   ]
  },
  {
   "cell_type": "code",
   "execution_count": 11,
   "metadata": {},
   "outputs": [],
   "source": [
    "#basic MLP model\n",
    "model = Sequential()\n",
    "model.add(Dense(128, activation='relu', input_shape=fingerprints_input_shape))\n",
    "model.add(Dense(128, activation='relu'))\n",
    "model.add(Dropout(0.5))\n",
    "model.add(Dense(2, activation='softmax'))"
   ]
  },
  {
   "cell_type": "code",
   "execution_count": 12,
   "metadata": {},
   "outputs": [
    {
     "name": "stdout",
     "output_type": "stream",
     "text": [
      "_________________________________________________________________\n",
      "Layer (type)                 Output Shape              Param #   \n",
      "=================================================================\n",
      "dense_1 (Dense)              (None, 128)               524416    \n",
      "_________________________________________________________________\n",
      "dense_2 (Dense)              (None, 128)               16512     \n",
      "_________________________________________________________________\n",
      "dropout_1 (Dropout)          (None, 128)               0         \n",
      "_________________________________________________________________\n",
      "dense_3 (Dense)              (None, 2)                 258       \n",
      "=================================================================\n",
      "Total params: 541,186\n",
      "Trainable params: 541,186\n",
      "Non-trainable params: 0\n",
      "_________________________________________________________________\n"
     ]
    }
   ],
   "source": [
    "#compile model\n",
    "adam = keras.optimizers.Adam(lr=0.001, decay=0.0)\n",
    "stop = EarlyStopping(patience=20, verbose=1)\n",
    "model.compile(optimizer=adam, loss='sparse_categorical_crossentropy', metrics=[metrics.sparse_categorical_accuracy, f1])\n",
    "checkpoint = ModelCheckpoint(model_file, monitor='val_loss', verbose=1, save_best_only=True, mode='min')\n",
    "\n",
    "callbacks_list = [checkpoint, stop]\n",
    "\n",
    "model.summary()"
   ]
  },
  {
   "cell_type": "code",
   "execution_count": 13,
   "metadata": {},
   "outputs": [
    {
     "name": "stdout",
     "output_type": "stream",
     "text": [
      "Train on 2080 samples, validate on 446 samples\n",
      "Epoch 1/1000\n",
      "2080/2080 [==============================] - 2s 773us/step - loss: 0.5609 - sparse_categorical_accuracy: 0.7192 - f1: 0.7717 - val_loss: 0.3587 - val_sparse_categorical_accuracy: 0.8139 - val_f1: 0.7905\n",
      "\n",
      "Epoch 00001: val_loss improved from inf to 0.35874, saving model to mlp_tpk_src.h5\n",
      "Epoch 2/1000\n",
      "2080/2080 [==============================] - 1s 551us/step - loss: 0.4023 - sparse_categorical_accuracy: 0.8082 - f1: 0.7723 - val_loss: 0.3056 - val_sparse_categorical_accuracy: 0.8475 - val_f1: 0.7905\n",
      "\n",
      "Epoch 00002: val_loss improved from 0.35874 to 0.30560, saving model to mlp_tpk_src.h5\n",
      "Epoch 3/1000\n",
      "2080/2080 [==============================] - 1s 580us/step - loss: 0.3476 - sparse_categorical_accuracy: 0.8476 - f1: 0.7722 - val_loss: 0.3076 - val_sparse_categorical_accuracy: 0.8677 - val_f1: 0.7905\n",
      "\n",
      "Epoch 00003: val_loss did not improve from 0.30560\n",
      "Epoch 4/1000\n",
      "2080/2080 [==============================] - 1s 647us/step - loss: 0.3027 - sparse_categorical_accuracy: 0.8639 - f1: 0.7710 - val_loss: 0.3139 - val_sparse_categorical_accuracy: 0.8722 - val_f1: 0.7905\n",
      "\n",
      "Epoch 00004: val_loss did not improve from 0.30560\n",
      "Epoch 5/1000\n",
      "2080/2080 [==============================] - 1s 717us/step - loss: 0.2854 - sparse_categorical_accuracy: 0.8760 - f1: 0.7716 - val_loss: 0.3076 - val_sparse_categorical_accuracy: 0.8700 - val_f1: 0.7905\n",
      "\n",
      "Epoch 00005: val_loss did not improve from 0.30560\n",
      "Epoch 6/1000\n",
      "2080/2080 [==============================] - 2s 826us/step - loss: 0.2440 - sparse_categorical_accuracy: 0.8875 - f1: 0.7720 - val_loss: 0.2964 - val_sparse_categorical_accuracy: 0.8834 - val_f1: 0.7905\n",
      "\n",
      "Epoch 00006: val_loss improved from 0.30560 to 0.29641, saving model to mlp_tpk_src.h5\n",
      "Epoch 7/1000\n",
      "2080/2080 [==============================] - 2s 815us/step - loss: 0.2303 - sparse_categorical_accuracy: 0.9019 - f1: 0.7714 - val_loss: 0.2927 - val_sparse_categorical_accuracy: 0.8946 - val_f1: 0.7905\n",
      "\n",
      "Epoch 00007: val_loss improved from 0.29641 to 0.29267, saving model to mlp_tpk_src.h5\n",
      "Epoch 8/1000\n",
      "2080/2080 [==============================] - 2s 757us/step - loss: 0.1948 - sparse_categorical_accuracy: 0.9183 - f1: 0.7737 - val_loss: 0.3660 - val_sparse_categorical_accuracy: 0.8632 - val_f1: 0.7905\n",
      "\n",
      "Epoch 00008: val_loss did not improve from 0.29267\n",
      "Epoch 9/1000\n",
      "2080/2080 [==============================] - 1s 681us/step - loss: 0.2179 - sparse_categorical_accuracy: 0.9111 - f1: 0.7723 - val_loss: 0.3330 - val_sparse_categorical_accuracy: 0.8722 - val_f1: 0.7905\n",
      "\n",
      "Epoch 00009: val_loss did not improve from 0.29267\n",
      "Epoch 10/1000\n",
      "2080/2080 [==============================] - 1s 619us/step - loss: 0.1828 - sparse_categorical_accuracy: 0.9255 - f1: 0.7721 - val_loss: 0.3431 - val_sparse_categorical_accuracy: 0.8722 - val_f1: 0.7905\n",
      "\n",
      "Epoch 00010: val_loss did not improve from 0.29267\n",
      "Epoch 11/1000\n",
      "2080/2080 [==============================] - 1s 581us/step - loss: 0.1555 - sparse_categorical_accuracy: 0.9288 - f1: 0.7717 - val_loss: 0.3584 - val_sparse_categorical_accuracy: 0.8610 - val_f1: 0.7905\n",
      "\n",
      "Epoch 00011: val_loss did not improve from 0.29267\n",
      "Epoch 12/1000\n",
      "2080/2080 [==============================] - 1s 628us/step - loss: 0.1446 - sparse_categorical_accuracy: 0.9394 - f1: 0.7724 - val_loss: 0.4830 - val_sparse_categorical_accuracy: 0.8632 - val_f1: 0.7905\n",
      "\n",
      "Epoch 00012: val_loss did not improve from 0.29267\n",
      "Epoch 13/1000\n",
      "2080/2080 [==============================] - 1s 594us/step - loss: 0.1550 - sparse_categorical_accuracy: 0.9380 - f1: 0.7716 - val_loss: 0.5036 - val_sparse_categorical_accuracy: 0.8498 - val_f1: 0.7905\n",
      "\n",
      "Epoch 00013: val_loss did not improve from 0.29267\n",
      "Epoch 14/1000\n",
      "2080/2080 [==============================] - 1s 590us/step - loss: 0.1688 - sparse_categorical_accuracy: 0.9293 - f1: 0.7727 - val_loss: 0.4324 - val_sparse_categorical_accuracy: 0.8498 - val_f1: 0.7905\n",
      "\n",
      "Epoch 00014: val_loss did not improve from 0.29267\n",
      "Epoch 15/1000\n",
      "2080/2080 [==============================] - 1s 620us/step - loss: 0.1374 - sparse_categorical_accuracy: 0.9437 - f1: 0.7709 - val_loss: 0.4593 - val_sparse_categorical_accuracy: 0.8677 - val_f1: 0.7905\n",
      "\n",
      "Epoch 00015: val_loss did not improve from 0.29267\n",
      "Epoch 16/1000\n",
      "2080/2080 [==============================] - 1s 571us/step - loss: 0.1323 - sparse_categorical_accuracy: 0.9447 - f1: 0.7723 - val_loss: 0.4615 - val_sparse_categorical_accuracy: 0.8610 - val_f1: 0.7905\n",
      "\n",
      "Epoch 00016: val_loss did not improve from 0.29267\n",
      "Epoch 17/1000\n",
      "2080/2080 [==============================] - 1s 674us/step - loss: 0.1108 - sparse_categorical_accuracy: 0.9524 - f1: 0.7720 - val_loss: 0.5512 - val_sparse_categorical_accuracy: 0.8610 - val_f1: 0.7905\n",
      "\n",
      "Epoch 00017: val_loss did not improve from 0.29267\n",
      "Epoch 18/1000\n",
      "2080/2080 [==============================] - 2s 852us/step - loss: 0.1143 - sparse_categorical_accuracy: 0.9567 - f1: 0.7719 - val_loss: 0.5007 - val_sparse_categorical_accuracy: 0.8677 - val_f1: 0.7905\n",
      "\n",
      "Epoch 00018: val_loss did not improve from 0.29267\n",
      "Epoch 19/1000\n",
      "2080/2080 [==============================] - 2s 815us/step - loss: 0.1244 - sparse_categorical_accuracy: 0.9418 - f1: 0.7721 - val_loss: 0.5283 - val_sparse_categorical_accuracy: 0.8632 - val_f1: 0.7905\n",
      "\n",
      "Epoch 00019: val_loss did not improve from 0.29267\n",
      "Epoch 20/1000\n",
      "2080/2080 [==============================] - 1s 647us/step - loss: 0.1059 - sparse_categorical_accuracy: 0.9534 - f1: 0.7718 - val_loss: 0.5237 - val_sparse_categorical_accuracy: 0.8655 - val_f1: 0.7905\n",
      "\n",
      "Epoch 00020: val_loss did not improve from 0.29267\n",
      "Epoch 21/1000\n",
      "2080/2080 [==============================] - 1s 611us/step - loss: 0.1182 - sparse_categorical_accuracy: 0.9462 - f1: 0.7719 - val_loss: 0.5270 - val_sparse_categorical_accuracy: 0.8610 - val_f1: 0.7905\n",
      "\n",
      "Epoch 00021: val_loss did not improve from 0.29267\n",
      "Epoch 22/1000\n",
      "2080/2080 [==============================] - 1s 635us/step - loss: 0.1157 - sparse_categorical_accuracy: 0.9514 - f1: 0.7723 - val_loss: 0.5448 - val_sparse_categorical_accuracy: 0.8587 - val_f1: 0.7905\n",
      "\n",
      "Epoch 00022: val_loss did not improve from 0.29267\n",
      "Epoch 23/1000\n",
      "2080/2080 [==============================] - 1s 612us/step - loss: 0.1256 - sparse_categorical_accuracy: 0.9471 - f1: 0.7730 - val_loss: 0.5535 - val_sparse_categorical_accuracy: 0.8655 - val_f1: 0.7905\n",
      "\n",
      "Epoch 00023: val_loss did not improve from 0.29267\n",
      "Epoch 24/1000\n",
      "2080/2080 [==============================] - 1s 613us/step - loss: 0.0963 - sparse_categorical_accuracy: 0.9558 - f1: 0.7719 - val_loss: 0.5195 - val_sparse_categorical_accuracy: 0.8632 - val_f1: 0.7905\n",
      "\n",
      "Epoch 00024: val_loss did not improve from 0.29267\n",
      "Epoch 25/1000\n",
      "2080/2080 [==============================] - 1s 568us/step - loss: 0.0996 - sparse_categorical_accuracy: 0.9562 - f1: 0.7721 - val_loss: 0.5475 - val_sparse_categorical_accuracy: 0.8498 - val_f1: 0.7905\n",
      "\n",
      "Epoch 00025: val_loss did not improve from 0.29267\n",
      "Epoch 26/1000\n",
      "2080/2080 [==============================] - 1s 580us/step - loss: 0.0876 - sparse_categorical_accuracy: 0.9596 - f1: 0.7721 - val_loss: 0.5343 - val_sparse_categorical_accuracy: 0.8789 - val_f1: 0.7905\n",
      "\n",
      "Epoch 00026: val_loss did not improve from 0.29267\n",
      "Epoch 27/1000\n",
      "2080/2080 [==============================] - 1s 612us/step - loss: 0.0867 - sparse_categorical_accuracy: 0.9630 - f1: 0.7725 - val_loss: 0.6318 - val_sparse_categorical_accuracy: 0.8677 - val_f1: 0.7905\n",
      "\n",
      "Epoch 00027: val_loss did not improve from 0.29267\n",
      "Epoch 00027: early stopping\n"
     ]
    },
    {
     "data": {
      "text/plain": [
       "<keras.callbacks.History at 0x7f2fdafe9358>"
      ]
     },
     "execution_count": 13,
     "metadata": {},
     "output_type": "execute_result"
    }
   ],
   "source": [
    "#training\n",
    "model.fit(x=X_fingerprints_train, \n",
    "          y=y_train, \n",
    "          batch_size=32, \n",
    "          epochs=1000, \n",
    "          verbose=1, \n",
    "          callbacks=callbacks_list, \n",
    "          validation_data=(X_fingerprints_val, y_val), \n",
    "          shuffle=True)"
   ]
  },
  {
   "cell_type": "code",
   "execution_count": 14,
   "metadata": {},
   "outputs": [
    {
     "name": "stdout",
     "output_type": "stream",
     "text": [
      "['loss', 'sparse_categorical_accuracy', 'f1']\n"
     ]
    }
   ],
   "source": [
    "#testing\n",
    "from keras.models import load_model\n",
    "trained_model = load_model(model_file, custom_objects={'f1': f1})\n",
    "print(trained_model.metrics_names)"
   ]
  },
  {
   "cell_type": "code",
   "execution_count": 15,
   "metadata": {},
   "outputs": [
    {
     "name": "stdout",
     "output_type": "stream",
     "text": [
      "2080/2080 [==============================] - 0s 162us/step\n"
     ]
    },
    {
     "data": {
      "text/plain": [
       "[0.16159576166134615, 0.9427884615384615, 0.7720215595685519]"
      ]
     },
     "execution_count": 15,
     "metadata": {},
     "output_type": "execute_result"
    }
   ],
   "source": [
    "trained_model.evaluate(x=X_fingerprints_train, y=y_train)"
   ]
  },
  {
   "cell_type": "code",
   "execution_count": 16,
   "metadata": {},
   "outputs": [
    {
     "name": "stdout",
     "output_type": "stream",
     "text": [
      "446/446 [==============================] - 0s 128us/step\n"
     ]
    },
    {
     "data": {
      "text/plain": [
       "[0.2926687794015012, 0.8946188322097197, 0.7904687021345301]"
      ]
     },
     "execution_count": 16,
     "metadata": {},
     "output_type": "execute_result"
    }
   ],
   "source": [
    "trained_model.evaluate(x=X_fingerprints_val, y=y_val)"
   ]
  },
  {
   "cell_type": "code",
   "execution_count": 17,
   "metadata": {},
   "outputs": [
    {
     "name": "stdout",
     "output_type": "stream",
     "text": [
      "446/446 [==============================] - 0s 144us/step\n"
     ]
    },
    {
     "data": {
      "text/plain": [
       "[0.2983097948568284, 0.8609865476197726, 0.7683763963759213]"
      ]
     },
     "execution_count": 17,
     "metadata": {},
     "output_type": "execute_result"
    }
   ],
   "source": [
    "trained_model.evaluate(x=X_fingerprints_test, y=y_test)"
   ]
  },
  {
   "cell_type": "code",
   "execution_count": 18,
   "metadata": {},
   "outputs": [],
   "source": [
    "from sklearn.metrics import roc_curve\n",
    "from sklearn.metrics import roc_auc_score\n",
    "pred_train = trained_model.predict(x=X_fingerprints_train)[:,1]\n",
    "pred_val = trained_model.predict(x=X_fingerprints_val)[:,1]\n",
    "pred_test = trained_model.predict(x=X_fingerprints_test)[:,1]\n",
    "np.savez(model_file[:-2] + 'npz', pred_train=pred_train, pred_val=pred_val, pred_test=pred_test)"
   ]
  }
 ],
 "metadata": {
  "kernelspec": {
   "display_name": "Python 3",
   "language": "python",
   "name": "python3"
  },
  "language_info": {
   "codemirror_mode": {
    "name": "ipython",
    "version": 3
   },
   "file_extension": ".py",
   "mimetype": "text/x-python",
   "name": "python",
   "nbconvert_exporter": "python",
   "pygments_lexer": "ipython3",
   "version": "3.5.6"
  }
 },
 "nbformat": 4,
 "nbformat_minor": 2
}
