{
 "cells": [
  {
   "cell_type": "code",
   "execution_count": 1,
   "metadata": {},
   "outputs": [
    {
     "name": "stderr",
     "output_type": "stream",
     "text": [
      "Using TensorFlow backend.\n"
     ]
    }
   ],
   "source": [
    "import os\n",
    "import sys\n",
    "import numpy as np\n",
    "import keras\n",
    "# from sklearn.model_selection import train_test_split"
   ]
  },
  {
   "cell_type": "code",
   "execution_count": 2,
   "metadata": {},
   "outputs": [],
   "source": [
    "seed = 273\n",
    "kinase = 'gsk3b'\n",
    "model_file = 'rnn_%s.h5' % (kinase)"
   ]
  },
  {
   "cell_type": "code",
   "execution_count": 3,
   "metadata": {},
   "outputs": [],
   "source": [
    "#import data\n",
    "smiles_lines = [line.strip().split(',') for line in open(os.path.join('data', kinase+'_smiles.csv'))]\n",
    "smiles = [line[1] for line in smiles_lines]\n",
    "fingerprint_lines = [line.strip().split(',') for line in open(os.path.join('data', kinase+'_fingerprints.csv'))]\n",
    "fingerprints = [line[2:] for line in fingerprint_lines]\n",
    "X_fingerprints = np.asarray(fingerprints, dtype=np.int16)\n",
    "y = np.asarray([int(line[2]) for line in smiles_lines], dtype=np.int8)"
   ]
  },
  {
   "cell_type": "code",
   "execution_count": 4,
   "metadata": {},
   "outputs": [],
   "source": [
    "#pad smiles with '!' to ensure equal length\n",
    "max_smiles_len = max(len(s) for s in smiles)\n",
    "smiles = [s + '!'*(max_smiles_len + 1 - len(s)) for s in smiles]"
   ]
  },
  {
   "cell_type": "code",
   "execution_count": 5,
   "metadata": {},
   "outputs": [],
   "source": [
    "#one-hot vector representation of smiles\n",
    "char_set = set()\n",
    "for s in smiles:\n",
    "    for c in s:\n",
    "        char_set.add(c)\n",
    "char_set = list(char_set)\n",
    "char_to_index = {char_set[i]: i for i in range(len(char_set))}\n",
    "\n",
    "X_smiles = np.zeros((len(smiles), max_smiles_len + 1, len(char_set)))\n",
    "for i in range(len(smiles)):\n",
    "    code = smiles[i]\n",
    "    for j in range(len(code)):\n",
    "        char = code[j]\n",
    "        X_smiles[i, j, char_to_index[char]] = 1        "
   ]
  },
  {
   "cell_type": "code",
   "execution_count": 6,
   "metadata": {},
   "outputs": [
    {
     "name": "stdout",
     "output_type": "stream",
     "text": [
      "(1950, 6117)\n",
      "(1950, 337, 39)\n",
      "(1950,)\n"
     ]
    }
   ],
   "source": [
    "print(X_fingerprints.shape)\n",
    "print(X_smiles.shape)\n",
    "print(y.shape)"
   ]
  },
  {
   "cell_type": "code",
   "execution_count": 7,
   "metadata": {},
   "outputs": [
    {
     "name": "stdout",
     "output_type": "stream",
     "text": [
      "(1366, 6117)\n",
      "(1366, 337, 39)\n",
      "(1366,)\n",
      "(292, 6117)\n",
      "(292, 337, 39)\n",
      "(292,)\n",
      "(292, 6117)\n",
      "(292, 337, 39)\n",
      "(292,)\n"
     ]
    }
   ],
   "source": [
    "#train val test split\n",
    "n_tot = X_smiles.shape[0]\n",
    "n_test = round(n_tot*0.15)\n",
    "n_val = round(n_tot*0.15)\n",
    "n_train  = n_tot - n_test - n_val\n",
    "indices = np.arange(n_tot, dtype=int)\n",
    "np.random.seed(seed)\n",
    "np.random.shuffle(indices)\n",
    "indices_train = indices[:n_train]\n",
    "indices_val = indices[n_train:n_train+n_val]\n",
    "indices_test = indices[n_train+n_val:]\n",
    "X_fingerprints_train = X_fingerprints[indices_train]\n",
    "print(X_fingerprints_train.shape)\n",
    "X_smiles_train = X_smiles[indices_train]\n",
    "print(X_smiles_train.shape)\n",
    "y_train = y[indices_train]\n",
    "print(y_train.shape)\n",
    "X_fingerprints_val = X_fingerprints[indices_val]\n",
    "print(X_fingerprints_val.shape)\n",
    "X_smiles_val = X_smiles[indices_val]\n",
    "print(X_smiles_val.shape)\n",
    "y_val = y[indices_val]\n",
    "print(y_val.shape)\n",
    "X_fingerprints_test = X_fingerprints[indices_test]\n",
    "print(X_fingerprints_test.shape)\n",
    "X_smiles_test = X_smiles[indices_test]\n",
    "print(X_smiles_test.shape)\n",
    "y_test = y[indices_test]\n",
    "print(y_test.shape)\n",
    "smiles_input_shape = X_smiles_train.shape[1:]\n",
    "fingerprints_input_shape = X_fingerprints_train.shape[1:]"
   ]
  },
  {
   "cell_type": "code",
   "execution_count": 8,
   "metadata": {},
   "outputs": [
    {
     "name": "stdout",
     "output_type": "stream",
     "text": [
      "[]\n"
     ]
    }
   ],
   "source": [
    "#check GPU presence\n",
    "from tensorflow.python.client import device_lib\n",
    "\n",
    "def get_available_gpus():\n",
    "    local_device_protos = device_lib.list_local_devices()\n",
    "    return [x.name for x in local_device_protos if x.device_type == 'GPU']\n",
    "\n",
    "print(get_available_gpus())"
   ]
  },
  {
   "cell_type": "code",
   "execution_count": 9,
   "metadata": {},
   "outputs": [],
   "source": [
    "#keras imports\n",
    "from keras.models import Sequential\n",
    "from keras.layers import TimeDistributed, GlobalAveragePooling2D, Activation, Dense, Input, Bidirectional\n",
    "from keras.layers import BatchNormalization, Conv2D, MaxPooling2D, AveragePooling2D, GlobalAveragePooling2D\n",
    "from keras.layers import GlobalMaxPooling2D\n",
    "from keras.layers.recurrent import LSTM\n",
    "from keras.callbacks import ModelCheckpoint, ReduceLROnPlateau, Callback, EarlyStopping\n",
    "from keras.layers import Dropout, Flatten\n",
    "from keras.layers import concatenate\n",
    "from keras import regularizers\n",
    "from keras import initializers\n",
    "from keras import constraints\n",
    "from keras.models import Model\n",
    "# Backend\n",
    "from keras import backend as K\n",
    "# Utils\n",
    "from keras.utils.layer_utils import convert_all_kernels_in_model\n",
    "from keras.utils.data_utils import get_file\n",
    "from keras import metrics"
   ]
  },
  {
   "cell_type": "code",
   "execution_count": 10,
   "metadata": {},
   "outputs": [],
   "source": [
    "#F1 score computation\n",
    "from sklearn.metrics import confusion_matrix, f1_score, precision_score, recall_score\n",
    "from keras import backend as K\n",
    "\n",
    "def f1(y_true, y_pred):\n",
    "    def recall(y_true, y_pred):\n",
    "        \"\"\"Recall metric.\n",
    "\n",
    "        Only computes a batch-wise average of recall.\n",
    "\n",
    "        Computes the recall, a metric for multi-label classification of\n",
    "        how many relevant items are selected.\n",
    "        \"\"\"\n",
    "        true_positives = K.sum(K.round(K.clip(y_true * y_pred, 0, 1)))\n",
    "        possible_positives = K.sum(K.round(K.clip(y_true, 0, 1)))\n",
    "        recall = true_positives / (possible_positives + K.epsilon())\n",
    "        return recall\n",
    "\n",
    "    def precision(y_true, y_pred):\n",
    "        \"\"\"Precision metric.\n",
    "\n",
    "        Only computes a batch-wise average of precision.\n",
    "\n",
    "        Computes the precision, a metric for multi-label classification of\n",
    "        how many selected items are relevant.\n",
    "        \"\"\"\n",
    "        true_positives = K.sum(K.round(K.clip(y_true * y_pred, 0, 1)))\n",
    "        predicted_positives = K.sum(K.round(K.clip(y_pred, 0, 1)))\n",
    "        precision = true_positives / (predicted_positives + K.epsilon())\n",
    "        return precision\n",
    "    precision = precision(y_true, y_pred)\n",
    "    recall = recall(y_true, y_pred)\n",
    "    return 2*((precision*recall)/(precision+recall+K.epsilon()))"
   ]
  },
  {
   "cell_type": "code",
   "execution_count": 11,
   "metadata": {},
   "outputs": [],
   "source": [
    "#basic RNN model\n",
    "model = Sequential()\n",
    "model.add(Bidirectional(LSTM(units=128, return_sequences=False), input_shape=smiles_input_shape))\n",
    "model.add(Dense(128, activation='relu'))\n",
    "model.add(Dropout(0.5))\n",
    "model.add(Dense(2, activation='softmax'))"
   ]
  },
  {
   "cell_type": "code",
   "execution_count": 12,
   "metadata": {},
   "outputs": [
    {
     "name": "stdout",
     "output_type": "stream",
     "text": [
      "_________________________________________________________________\n",
      "Layer (type)                 Output Shape              Param #   \n",
      "=================================================================\n",
      "bidirectional_1 (Bidirection (None, 256)               172032    \n",
      "_________________________________________________________________\n",
      "dense_1 (Dense)              (None, 128)               32896     \n",
      "_________________________________________________________________\n",
      "dropout_1 (Dropout)          (None, 128)               0         \n",
      "_________________________________________________________________\n",
      "dense_2 (Dense)              (None, 2)                 258       \n",
      "=================================================================\n",
      "Total params: 205,186\n",
      "Trainable params: 205,186\n",
      "Non-trainable params: 0\n",
      "_________________________________________________________________\n"
     ]
    }
   ],
   "source": [
    "#compile model\n",
    "adam = keras.optimizers.Adam(lr=0.001, decay=0.0, clipnorm=5.)\n",
    "stop = EarlyStopping(patience=20, verbose=1)\n",
    "model.compile(optimizer=adam, loss='sparse_categorical_crossentropy', metrics=[metrics.sparse_categorical_accuracy, f1])\n",
    "checkpoint = ModelCheckpoint(model_file, monitor='val_loss', verbose=1, save_best_only=True, mode='min')\n",
    "\n",
    "callbacks_list = [checkpoint, stop]\n",
    "\n",
    "model.summary()"
   ]
  },
  {
   "cell_type": "code",
   "execution_count": 13,
   "metadata": {},
   "outputs": [
    {
     "name": "stdout",
     "output_type": "stream",
     "text": [
      "Train on 1366 samples, validate on 292 samples\n",
      "Epoch 1/1000\n",
      "1366/1366 [==============================] - 113s 83ms/step - loss: 0.6001 - sparse_categorical_accuracy: 0.7225 - f1: 0.8410 - val_loss: 0.5666 - val_sparse_categorical_accuracy: 0.7397 - val_f1: 0.8496\n",
      "\n",
      "Epoch 00001: val_loss improved from inf to 0.56660, saving model to rnn_gsk3b.h5\n",
      "Epoch 2/1000\n",
      "1366/1366 [==============================] - 108s 79ms/step - loss: 0.5761 - sparse_categorical_accuracy: 0.7277 - f1: 0.8419 - val_loss: 0.5558 - val_sparse_categorical_accuracy: 0.7397 - val_f1: 0.8496\n",
      "\n",
      "Epoch 00002: val_loss improved from 0.56660 to 0.55578, saving model to rnn_gsk3b.h5\n",
      "Epoch 3/1000\n",
      "1366/1366 [==============================] - 107s 78ms/step - loss: 0.5699 - sparse_categorical_accuracy: 0.7284 - f1: 0.8418 - val_loss: 0.5329 - val_sparse_categorical_accuracy: 0.7397 - val_f1: 0.8496\n",
      "\n",
      "Epoch 00003: val_loss improved from 0.55578 to 0.53289, saving model to rnn_gsk3b.h5\n",
      "Epoch 4/1000\n",
      "1366/1366 [==============================] - 106s 77ms/step - loss: 0.5403 - sparse_categorical_accuracy: 0.7321 - f1: 0.8421 - val_loss: 0.5221 - val_sparse_categorical_accuracy: 0.7397 - val_f1: 0.8496\n",
      "\n",
      "Epoch 00004: val_loss improved from 0.53289 to 0.52206, saving model to rnn_gsk3b.h5\n",
      "Epoch 5/1000\n",
      "1366/1366 [==============================] - 108s 79ms/step - loss: 0.5294 - sparse_categorical_accuracy: 0.7321 - f1: 0.8416 - val_loss: 0.4927 - val_sparse_categorical_accuracy: 0.7671 - val_f1: 0.8496\n",
      "\n",
      "Epoch 00005: val_loss improved from 0.52206 to 0.49274, saving model to rnn_gsk3b.h5\n",
      "Epoch 6/1000\n",
      "1366/1366 [==============================] - 106s 78ms/step - loss: 0.5041 - sparse_categorical_accuracy: 0.7540 - f1: 0.8418 - val_loss: 0.5015 - val_sparse_categorical_accuracy: 0.7671 - val_f1: 0.8496\n",
      "\n",
      "Epoch 00006: val_loss did not improve from 0.49274\n",
      "Epoch 7/1000\n",
      "1366/1366 [==============================] - 106s 77ms/step - loss: 0.5129 - sparse_categorical_accuracy: 0.7606 - f1: 0.8411 - val_loss: 0.5332 - val_sparse_categorical_accuracy: 0.7705 - val_f1: 0.8496\n",
      "\n",
      "Epoch 00007: val_loss did not improve from 0.49274\n",
      "Epoch 8/1000\n",
      "1366/1366 [==============================] - 107s 78ms/step - loss: 0.5147 - sparse_categorical_accuracy: 0.7548 - f1: 0.8402 - val_loss: 0.4724 - val_sparse_categorical_accuracy: 0.7842 - val_f1: 0.8496\n",
      "\n",
      "Epoch 00008: val_loss improved from 0.49274 to 0.47235, saving model to rnn_gsk3b.h5\n",
      "Epoch 9/1000\n",
      "1366/1366 [==============================] - 109s 80ms/step - loss: 0.4918 - sparse_categorical_accuracy: 0.7665 - f1: 0.8412 - val_loss: 0.4761 - val_sparse_categorical_accuracy: 0.7774 - val_f1: 0.8496\n",
      "\n",
      "Epoch 00009: val_loss did not improve from 0.47235\n",
      "Epoch 10/1000\n",
      "1366/1366 [==============================] - 108s 79ms/step - loss: 0.4695 - sparse_categorical_accuracy: 0.7767 - f1: 0.8418 - val_loss: 0.4471 - val_sparse_categorical_accuracy: 0.8151 - val_f1: 0.8496\n",
      "\n",
      "Epoch 00010: val_loss improved from 0.47235 to 0.44706, saving model to rnn_gsk3b.h5\n",
      "Epoch 11/1000\n",
      "1366/1366 [==============================] - 109s 80ms/step - loss: 0.4812 - sparse_categorical_accuracy: 0.7709 - f1: 0.8415 - val_loss: 0.4925 - val_sparse_categorical_accuracy: 0.7877 - val_f1: 0.8496\n",
      "\n",
      "Epoch 00011: val_loss did not improve from 0.44706\n",
      "Epoch 12/1000\n",
      "1366/1366 [==============================] - 107s 78ms/step - loss: 0.4703 - sparse_categorical_accuracy: 0.7731 - f1: 0.8421 - val_loss: 0.4585 - val_sparse_categorical_accuracy: 0.8048 - val_f1: 0.8496\n",
      "\n",
      "Epoch 00012: val_loss did not improve from 0.44706\n",
      "Epoch 13/1000\n",
      "1366/1366 [==============================] - 107s 79ms/step - loss: 0.4617 - sparse_categorical_accuracy: 0.7840 - f1: 0.8420 - val_loss: 0.4653 - val_sparse_categorical_accuracy: 0.7945 - val_f1: 0.8496\n",
      "\n",
      "Epoch 00013: val_loss did not improve from 0.44706\n",
      "Epoch 14/1000\n",
      "1366/1366 [==============================] - 107s 78ms/step - loss: 0.4571 - sparse_categorical_accuracy: 0.7906 - f1: 0.8419 - val_loss: 0.4489 - val_sparse_categorical_accuracy: 0.8219 - val_f1: 0.8496\n",
      "\n",
      "Epoch 00014: val_loss did not improve from 0.44706\n",
      "Epoch 15/1000\n",
      "1366/1366 [==============================] - 108s 79ms/step - loss: 0.4394 - sparse_categorical_accuracy: 0.7980 - f1: 0.8422 - val_loss: 0.4545 - val_sparse_categorical_accuracy: 0.7911 - val_f1: 0.8496\n",
      "\n",
      "Epoch 00015: val_loss did not improve from 0.44706\n",
      "Epoch 16/1000\n",
      "1366/1366 [==============================] - 107s 78ms/step - loss: 0.4438 - sparse_categorical_accuracy: 0.8009 - f1: 0.8414 - val_loss: 0.4565 - val_sparse_categorical_accuracy: 0.8048 - val_f1: 0.8496\n",
      "\n",
      "Epoch 00016: val_loss did not improve from 0.44706\n",
      "Epoch 17/1000\n",
      "1366/1366 [==============================] - 107s 78ms/step - loss: 0.4266 - sparse_categorical_accuracy: 0.8089 - f1: 0.8409 - val_loss: 0.4527 - val_sparse_categorical_accuracy: 0.8185 - val_f1: 0.8496\n",
      "\n",
      "Epoch 00017: val_loss did not improve from 0.44706\n",
      "Epoch 18/1000\n",
      "1366/1366 [==============================] - 108s 79ms/step - loss: 0.4249 - sparse_categorical_accuracy: 0.8075 - f1: 0.8415 - val_loss: 0.4575 - val_sparse_categorical_accuracy: 0.7842 - val_f1: 0.8496\n",
      "\n",
      "Epoch 00018: val_loss did not improve from 0.44706\n",
      "Epoch 19/1000\n",
      "1366/1366 [==============================] - 109s 80ms/step - loss: 0.4139 - sparse_categorical_accuracy: 0.8177 - f1: 0.8417 - val_loss: 0.4380 - val_sparse_categorical_accuracy: 0.8253 - val_f1: 0.8496\n",
      "\n",
      "Epoch 00019: val_loss improved from 0.44706 to 0.43796, saving model to rnn_gsk3b.h5\n",
      "Epoch 20/1000\n",
      "1366/1366 [==============================] - 108s 79ms/step - loss: 0.4036 - sparse_categorical_accuracy: 0.8199 - f1: 0.8412 - val_loss: 0.4585 - val_sparse_categorical_accuracy: 0.7979 - val_f1: 0.8496\n",
      "\n",
      "Epoch 00020: val_loss did not improve from 0.43796\n",
      "Epoch 21/1000\n",
      "1366/1366 [==============================] - 108s 79ms/step - loss: 0.3938 - sparse_categorical_accuracy: 0.8294 - f1: 0.8418 - val_loss: 0.5010 - val_sparse_categorical_accuracy: 0.8151 - val_f1: 0.8496\n",
      "\n",
      "Epoch 00021: val_loss did not improve from 0.43796\n",
      "Epoch 22/1000\n",
      "1366/1366 [==============================] - 102s 75ms/step - loss: 0.3993 - sparse_categorical_accuracy: 0.8199 - f1: 0.8425 - val_loss: 0.4603 - val_sparse_categorical_accuracy: 0.8151 - val_f1: 0.8496\n",
      "\n",
      "Epoch 00022: val_loss did not improve from 0.43796\n",
      "Epoch 23/1000\n",
      "1366/1366 [==============================] - 91s 67ms/step - loss: 0.3998 - sparse_categorical_accuracy: 0.8309 - f1: 0.8419 - val_loss: 0.4549 - val_sparse_categorical_accuracy: 0.8116 - val_f1: 0.8496\n",
      "\n",
      "Epoch 00023: val_loss did not improve from 0.43796\n",
      "Epoch 24/1000\n",
      "1366/1366 [==============================] - 92s 67ms/step - loss: 0.3870 - sparse_categorical_accuracy: 0.8272 - f1: 0.8418 - val_loss: 0.4400 - val_sparse_categorical_accuracy: 0.8151 - val_f1: 0.8496\n",
      "\n",
      "Epoch 00024: val_loss did not improve from 0.43796\n",
      "Epoch 25/1000\n",
      "1366/1366 [==============================] - 92s 67ms/step - loss: 0.3761 - sparse_categorical_accuracy: 0.8346 - f1: 0.8417 - val_loss: 0.4311 - val_sparse_categorical_accuracy: 0.8288 - val_f1: 0.8496\n",
      "\n",
      "Epoch 00025: val_loss improved from 0.43796 to 0.43114, saving model to rnn_gsk3b.h5\n",
      "Epoch 26/1000\n",
      "1366/1366 [==============================] - 91s 67ms/step - loss: 0.3906 - sparse_categorical_accuracy: 0.8316 - f1: 0.8418 - val_loss: 0.4629 - val_sparse_categorical_accuracy: 0.8253 - val_f1: 0.8496\n",
      "\n",
      "Epoch 00026: val_loss did not improve from 0.43114\n",
      "Epoch 27/1000\n",
      "1366/1366 [==============================] - 94s 69ms/step - loss: 0.3538 - sparse_categorical_accuracy: 0.8470 - f1: 0.8416 - val_loss: 0.4653 - val_sparse_categorical_accuracy: 0.8185 - val_f1: 0.8496\n",
      "\n",
      "Epoch 00027: val_loss did not improve from 0.43114\n",
      "Epoch 28/1000\n",
      "1366/1366 [==============================] - 108s 79ms/step - loss: 0.3574 - sparse_categorical_accuracy: 0.8463 - f1: 0.8420 - val_loss: 0.4550 - val_sparse_categorical_accuracy: 0.8356 - val_f1: 0.8496\n",
      "\n",
      "Epoch 00028: val_loss did not improve from 0.43114\n",
      "Epoch 29/1000\n",
      "1366/1366 [==============================] - 108s 79ms/step - loss: 0.3507 - sparse_categorical_accuracy: 0.8477 - f1: 0.8417 - val_loss: 0.4297 - val_sparse_categorical_accuracy: 0.8253 - val_f1: 0.8496\n",
      "\n",
      "Epoch 00029: val_loss improved from 0.43114 to 0.42974, saving model to rnn_gsk3b.h5\n",
      "Epoch 30/1000\n"
     ]
    },
    {
     "name": "stdout",
     "output_type": "stream",
     "text": [
      "1366/1366 [==============================] - 132s 96ms/step - loss: 0.3474 - sparse_categorical_accuracy: 0.8616 - f1: 0.8417 - val_loss: 0.4257 - val_sparse_categorical_accuracy: 0.8664 - val_f1: 0.8496\n",
      "\n",
      "Epoch 00030: val_loss improved from 0.42974 to 0.42568, saving model to rnn_gsk3b.h5\n",
      "Epoch 31/1000\n",
      "1366/1366 [==============================] - 123s 90ms/step - loss: 0.3373 - sparse_categorical_accuracy: 0.8616 - f1: 0.8421 - val_loss: 0.4183 - val_sparse_categorical_accuracy: 0.8596 - val_f1: 0.8496\n",
      "\n",
      "Epoch 00031: val_loss improved from 0.42568 to 0.41826, saving model to rnn_gsk3b.h5\n",
      "Epoch 32/1000\n",
      "1366/1366 [==============================] - 129s 95ms/step - loss: 0.3206 - sparse_categorical_accuracy: 0.8631 - f1: 0.8414 - val_loss: 0.4520 - val_sparse_categorical_accuracy: 0.8459 - val_f1: 0.8496\n",
      "\n",
      "Epoch 00032: val_loss did not improve from 0.41826\n",
      "Epoch 33/1000\n",
      "1366/1366 [==============================] - 123s 90ms/step - loss: 0.3222 - sparse_categorical_accuracy: 0.8660 - f1: 0.8417 - val_loss: 0.4261 - val_sparse_categorical_accuracy: 0.8425 - val_f1: 0.8496\n",
      "\n",
      "Epoch 00033: val_loss did not improve from 0.41826\n",
      "Epoch 34/1000\n",
      "1366/1366 [==============================] - 122s 90ms/step - loss: 0.3340 - sparse_categorical_accuracy: 0.8616 - f1: 0.8417 - val_loss: 0.5299 - val_sparse_categorical_accuracy: 0.7774 - val_f1: 0.8496\n",
      "\n",
      "Epoch 00034: val_loss did not improve from 0.41826\n",
      "Epoch 35/1000\n",
      "1366/1366 [==============================] - 117s 86ms/step - loss: 0.3437 - sparse_categorical_accuracy: 0.8594 - f1: 0.8408 - val_loss: 0.4401 - val_sparse_categorical_accuracy: 0.8356 - val_f1: 0.8496\n",
      "\n",
      "Epoch 00035: val_loss did not improve from 0.41826\n",
      "Epoch 36/1000\n",
      "1366/1366 [==============================] - 106s 78ms/step - loss: 0.3188 - sparse_categorical_accuracy: 0.8580 - f1: 0.8427 - val_loss: 0.4530 - val_sparse_categorical_accuracy: 0.8253 - val_f1: 0.8496\n",
      "\n",
      "Epoch 00036: val_loss did not improve from 0.41826\n",
      "Epoch 37/1000\n",
      "1366/1366 [==============================] - 106s 77ms/step - loss: 0.2934 - sparse_categorical_accuracy: 0.8792 - f1: 0.8413 - val_loss: 0.4479 - val_sparse_categorical_accuracy: 0.8425 - val_f1: 0.8496\n",
      "\n",
      "Epoch 00037: val_loss did not improve from 0.41826\n",
      "Epoch 38/1000\n",
      "1366/1366 [==============================] - 108s 79ms/step - loss: 0.2964 - sparse_categorical_accuracy: 0.8873 - f1: 0.8414 - val_loss: 0.4890 - val_sparse_categorical_accuracy: 0.8151 - val_f1: 0.8496\n",
      "\n",
      "Epoch 00038: val_loss did not improve from 0.41826\n",
      "Epoch 39/1000\n",
      "1366/1366 [==============================] - 106s 78ms/step - loss: 0.3071 - sparse_categorical_accuracy: 0.8829 - f1: 0.8411 - val_loss: 0.4481 - val_sparse_categorical_accuracy: 0.8390 - val_f1: 0.8496\n",
      "\n",
      "Epoch 00039: val_loss did not improve from 0.41826\n",
      "Epoch 40/1000\n",
      "1366/1366 [==============================] - 105s 77ms/step - loss: 0.2910 - sparse_categorical_accuracy: 0.8777 - f1: 0.8412 - val_loss: 0.5208 - val_sparse_categorical_accuracy: 0.8356 - val_f1: 0.8496\n",
      "\n",
      "Epoch 00040: val_loss did not improve from 0.41826\n",
      "Epoch 41/1000\n",
      "1366/1366 [==============================] - 107s 78ms/step - loss: 0.2753 - sparse_categorical_accuracy: 0.8902 - f1: 0.8419 - val_loss: 0.4660 - val_sparse_categorical_accuracy: 0.8288 - val_f1: 0.8496\n",
      "\n",
      "Epoch 00041: val_loss did not improve from 0.41826\n",
      "Epoch 42/1000\n",
      "1366/1366 [==============================] - 106s 78ms/step - loss: 0.2667 - sparse_categorical_accuracy: 0.8946 - f1: 0.8418 - val_loss: 0.4545 - val_sparse_categorical_accuracy: 0.8390 - val_f1: 0.8496\n",
      "\n",
      "Epoch 00042: val_loss did not improve from 0.41826\n",
      "Epoch 43/1000\n",
      "1366/1366 [==============================] - 105s 77ms/step - loss: 0.2665 - sparse_categorical_accuracy: 0.8946 - f1: 0.8416 - val_loss: 0.4196 - val_sparse_categorical_accuracy: 0.8527 - val_f1: 0.8496\n",
      "\n",
      "Epoch 00043: val_loss did not improve from 0.41826\n",
      "Epoch 44/1000\n",
      "1366/1366 [==============================] - 106s 78ms/step - loss: 0.2599 - sparse_categorical_accuracy: 0.8990 - f1: 0.8409 - val_loss: 0.4495 - val_sparse_categorical_accuracy: 0.8664 - val_f1: 0.8496\n",
      "\n",
      "Epoch 00044: val_loss did not improve from 0.41826\n",
      "Epoch 45/1000\n",
      "1366/1366 [==============================] - 108s 79ms/step - loss: 0.2361 - sparse_categorical_accuracy: 0.9136 - f1: 0.8413 - val_loss: 0.4561 - val_sparse_categorical_accuracy: 0.8459 - val_f1: 0.8496\n",
      "\n",
      "Epoch 00045: val_loss did not improve from 0.41826\n",
      "Epoch 46/1000\n",
      "1366/1366 [==============================] - 107s 78ms/step - loss: 0.2416 - sparse_categorical_accuracy: 0.8975 - f1: 0.8426 - val_loss: 0.4765 - val_sparse_categorical_accuracy: 0.8390 - val_f1: 0.8496\n",
      "\n",
      "Epoch 00046: val_loss did not improve from 0.41826\n",
      "Epoch 47/1000\n",
      "1366/1366 [==============================] - 107s 78ms/step - loss: 0.2432 - sparse_categorical_accuracy: 0.9026 - f1: 0.8413 - val_loss: 0.5582 - val_sparse_categorical_accuracy: 0.8288 - val_f1: 0.8496\n",
      "\n",
      "Epoch 00047: val_loss did not improve from 0.41826\n",
      "Epoch 48/1000\n",
      "1366/1366 [==============================] - 105s 77ms/step - loss: 0.2427 - sparse_categorical_accuracy: 0.9048 - f1: 0.8416 - val_loss: 0.4915 - val_sparse_categorical_accuracy: 0.8185 - val_f1: 0.8496\n",
      "\n",
      "Epoch 00048: val_loss did not improve from 0.41826\n",
      "Epoch 49/1000\n",
      "1366/1366 [==============================] - 106s 78ms/step - loss: 0.2417 - sparse_categorical_accuracy: 0.9041 - f1: 0.8424 - val_loss: 0.4512 - val_sparse_categorical_accuracy: 0.8493 - val_f1: 0.8496\n",
      "\n",
      "Epoch 00049: val_loss did not improve from 0.41826\n",
      "Epoch 50/1000\n",
      "1366/1366 [==============================] - 106s 78ms/step - loss: 0.2137 - sparse_categorical_accuracy: 0.9180 - f1: 0.8415 - val_loss: 0.4622 - val_sparse_categorical_accuracy: 0.8630 - val_f1: 0.8496\n",
      "\n",
      "Epoch 00050: val_loss did not improve from 0.41826\n",
      "Epoch 51/1000\n",
      "1366/1366 [==============================] - 106s 78ms/step - loss: 0.1942 - sparse_categorical_accuracy: 0.9209 - f1: 0.8414 - val_loss: 0.4669 - val_sparse_categorical_accuracy: 0.8425 - val_f1: 0.8496\n",
      "\n",
      "Epoch 00051: val_loss did not improve from 0.41826\n",
      "Epoch 00051: early stopping\n"
     ]
    },
    {
     "data": {
      "text/plain": [
       "<keras.callbacks.History at 0x7f3535a03d30>"
      ]
     },
     "execution_count": 13,
     "metadata": {},
     "output_type": "execute_result"
    }
   ],
   "source": [
    "#training\n",
    "model.fit(x=X_smiles_train, \n",
    "          y=y_train, \n",
    "          batch_size=32, \n",
    "          epochs=1000, \n",
    "          verbose=1, \n",
    "          callbacks=callbacks_list, \n",
    "          validation_data=(X_smiles_val, y_val), \n",
    "          shuffle=True)"
   ]
  },
  {
   "cell_type": "code",
   "execution_count": 14,
   "metadata": {},
   "outputs": [
    {
     "name": "stdout",
     "output_type": "stream",
     "text": [
      "['loss', 'sparse_categorical_accuracy', 'f1']\n"
     ]
    }
   ],
   "source": [
    "#testing\n",
    "from keras.models import load_model\n",
    "trained_model = load_model(model_file, custom_objects={'f1': f1})\n",
    "print(trained_model.metrics_names)"
   ]
  },
  {
   "cell_type": "code",
   "execution_count": 15,
   "metadata": {},
   "outputs": [
    {
     "name": "stdout",
     "output_type": "stream",
     "text": [
      "1366/1366 [==============================] - 28s 20ms/step\n"
     ]
    },
    {
     "data": {
      "text/plain": [
       "[0.3058558604727727, 0.876281112650652, 0.8410294677293143]"
      ]
     },
     "execution_count": 15,
     "metadata": {},
     "output_type": "execute_result"
    }
   ],
   "source": [
    "trained_model.evaluate(x=X_smiles_train, y=y_train)"
   ]
  },
  {
   "cell_type": "code",
   "execution_count": 16,
   "metadata": {},
   "outputs": [
    {
     "name": "stdout",
     "output_type": "stream",
     "text": [
      "292/292 [==============================] - 6s 21ms/step\n"
     ]
    },
    {
     "data": {
      "text/plain": [
       "[0.41825757043002404, 0.8595890410958904, 0.8495737608164957]"
      ]
     },
     "execution_count": 16,
     "metadata": {},
     "output_type": "execute_result"
    }
   ],
   "source": [
    "trained_model.evaluate(x=X_smiles_val, y=y_val)"
   ]
  },
  {
   "cell_type": "code",
   "execution_count": 17,
   "metadata": {},
   "outputs": [
    {
     "name": "stdout",
     "output_type": "stream",
     "text": [
      "292/292 [==============================] - 6s 21ms/step\n"
     ]
    },
    {
     "data": {
      "text/plain": [
       "[0.46619755601229734, 0.8082191780821918, 0.8578559421513179]"
      ]
     },
     "execution_count": 17,
     "metadata": {},
     "output_type": "execute_result"
    }
   ],
   "source": [
    "trained_model.evaluate(x=X_smiles_test, y=y_test)"
   ]
  },
  {
   "cell_type": "code",
   "execution_count": 18,
   "metadata": {},
   "outputs": [],
   "source": [
    "from sklearn.metrics import roc_curve\n",
    "from sklearn.metrics import roc_auc_score\n",
    "pred_train = trained_model.predict(x=X_smiles_train)[:,1]\n",
    "pred_val = trained_model.predict(x=X_smiles_val)[:,1]\n",
    "pred_test = trained_model.predict(x=X_smiles_test)[:,1]\n",
    "np.savez(model_file[:-2] + 'npz', pred_train=pred_train, pred_val=pred_val, pred_test=pred_test)"
   ]
  }
 ],
 "metadata": {
  "kernelspec": {
   "display_name": "Python 3",
   "language": "python",
   "name": "python3"
  },
  "language_info": {
   "codemirror_mode": {
    "name": "ipython",
    "version": 3
   },
   "file_extension": ".py",
   "mimetype": "text/x-python",
   "name": "python",
   "nbconvert_exporter": "python",
   "pygments_lexer": "ipython3",
   "version": "3.6.7"
  }
 },
 "nbformat": 4,
 "nbformat_minor": 2
}
