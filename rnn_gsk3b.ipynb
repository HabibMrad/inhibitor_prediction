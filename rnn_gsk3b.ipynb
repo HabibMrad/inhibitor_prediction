{
 "cells": [
  {
   "cell_type": "code",
   "execution_count": 1,
   "metadata": {},
   "outputs": [
    {
     "name": "stderr",
     "output_type": "stream",
     "text": [
      "Using TensorFlow backend.\n"
     ]
    }
   ],
   "source": [
    "import os\n",
    "import sys\n",
    "import numpy as np\n",
    "import keras\n",
    "from sklearn.model_selection import train_test_split"
   ]
  },
  {
   "cell_type": "code",
   "execution_count": 2,
   "metadata": {},
   "outputs": [],
   "source": [
    "seed = 273\n",
    "kinase = 'gsk3b'\n",
    "model_file = 'basic_RNN_%s.h5' % (kinase)"
   ]
  },
  {
   "cell_type": "code",
   "execution_count": 3,
   "metadata": {},
   "outputs": [],
   "source": [
    "#import data\n",
    "lines = [line.strip().split(',') for line in open(os.path.join('data', kinase+'_smiles.csv'))]\n",
    "smiles = [line[1] for line in lines]\n",
    "y = np.asarray([int(line[2]) for line in lines], dtype=np.int8)"
   ]
  },
  {
   "cell_type": "code",
   "execution_count": 4,
   "metadata": {},
   "outputs": [],
   "source": [
    "#pad smiles with '!' to ensure equal length\n",
    "max_smiles_len = max(len(s) for s in smiles)\n",
    "smiles = [s + '!'*(max_smiles_len + 1 - len(s)) for s in smiles]"
   ]
  },
  {
   "cell_type": "code",
   "execution_count": 5,
   "metadata": {},
   "outputs": [],
   "source": [
    "#one-hot vector representation of smiles\n",
    "char_set = set()\n",
    "for s in smiles:\n",
    "    for c in s:\n",
    "        char_set.add(c)\n",
    "char_set = list(char_set)\n",
    "char_to_index = {char_set[i]: i for i in range(len(char_set))}\n",
    "\n",
    "X = np.zeros((len(smiles), max_smiles_len + 1, len(char_set)))\n",
    "for i in range(len(smiles)):\n",
    "    code = smiles[i]\n",
    "    for j in range(len(code)):\n",
    "        char = code[j]\n",
    "        X[i, j, char_to_index[char]] = 1        "
   ]
  },
  {
   "cell_type": "code",
   "execution_count": 6,
   "metadata": {},
   "outputs": [
    {
     "name": "stdout",
     "output_type": "stream",
     "text": [
      "(1365, 337, 39) (1365,)\n",
      "(292, 337, 39) (292,)\n",
      "(293, 337, 39) (293,)\n"
     ]
    }
   ],
   "source": [
    "#train val test split\n",
    "X_train, X_test, y_train, y_test = train_test_split(X, y, test_size=0.3, random_state=seed)\n",
    "X_val, X_test, y_val, y_test = train_test_split(X_test, y_test, test_size=0.5, random_state=seed)\n",
    "\n",
    "print(X_train.shape, y_train.shape)\n",
    "print(X_val.shape, y_val.shape)\n",
    "print(X_test.shape, y_test.shape)\n",
    "\n",
    "input_shape = X_train.shape[1:]"
   ]
  },
  {
   "cell_type": "code",
   "execution_count": 7,
   "metadata": {},
   "outputs": [
    {
     "name": "stdout",
     "output_type": "stream",
     "text": [
      "[]\n"
     ]
    }
   ],
   "source": [
    "#check GPU presence\n",
    "from tensorflow.python.client import device_lib\n",
    "\n",
    "def get_available_gpus():\n",
    "    local_device_protos = device_lib.list_local_devices()\n",
    "    return [x.name for x in local_device_protos if x.device_type == 'GPU']\n",
    "\n",
    "print(get_available_gpus())"
   ]
  },
  {
   "cell_type": "code",
   "execution_count": 8,
   "metadata": {},
   "outputs": [],
   "source": [
    "#keras imports\n",
    "from keras.models import Sequential\n",
    "from keras.layers import TimeDistributed, GlobalAveragePooling2D, Activation, Dense, Input, Bidirectional\n",
    "from keras.layers import BatchNormalization, Conv2D, MaxPooling2D, AveragePooling2D, GlobalAveragePooling2D\n",
    "from keras.layers import GlobalMaxPooling2D\n",
    "from keras.layers.recurrent import LSTM\n",
    "from keras.callbacks import ModelCheckpoint, ReduceLROnPlateau, Callback, EarlyStopping\n",
    "from keras.layers import Dropout, Flatten\n",
    "from keras.layers import concatenate\n",
    "from keras import regularizers\n",
    "from keras import initializers\n",
    "from keras import constraints\n",
    "from keras.models import Model\n",
    "# Backend\n",
    "from keras import backend as K\n",
    "# Utils\n",
    "from keras.utils.layer_utils import convert_all_kernels_in_model\n",
    "from keras.utils.data_utils import get_file\n",
    "from keras import metrics"
   ]
  },
  {
   "cell_type": "code",
   "execution_count": 9,
   "metadata": {},
   "outputs": [],
   "source": [
    "#F1 score computation\n",
    "from sklearn.metrics import confusion_matrix, f1_score, precision_score, recall_score\n",
    "from keras import backend as K\n",
    "\n",
    "def f1(y_true, y_pred):\n",
    "    def recall(y_true, y_pred):\n",
    "        \"\"\"Recall metric.\n",
    "\n",
    "        Only computes a batch-wise average of recall.\n",
    "\n",
    "        Computes the recall, a metric for multi-label classification of\n",
    "        how many relevant items are selected.\n",
    "        \"\"\"\n",
    "        true_positives = K.sum(K.round(K.clip(y_true * y_pred, 0, 1)))\n",
    "        possible_positives = K.sum(K.round(K.clip(y_true, 0, 1)))\n",
    "        recall = true_positives / (possible_positives + K.epsilon())\n",
    "        return recall\n",
    "\n",
    "    def precision(y_true, y_pred):\n",
    "        \"\"\"Precision metric.\n",
    "\n",
    "        Only computes a batch-wise average of precision.\n",
    "\n",
    "        Computes the precision, a metric for multi-label classification of\n",
    "        how many selected items are relevant.\n",
    "        \"\"\"\n",
    "        true_positives = K.sum(K.round(K.clip(y_true * y_pred, 0, 1)))\n",
    "        predicted_positives = K.sum(K.round(K.clip(y_pred, 0, 1)))\n",
    "        precision = true_positives / (predicted_positives + K.epsilon())\n",
    "        return precision\n",
    "    precision = precision(y_true, y_pred)\n",
    "    recall = recall(y_true, y_pred)\n",
    "    return 2*((precision*recall)/(precision+recall+K.epsilon()))"
   ]
  },
  {
   "cell_type": "code",
   "execution_count": 10,
   "metadata": {},
   "outputs": [],
   "source": [
    "#basic RNN model\n",
    "model = Sequential()\n",
    "model.add(Bidirectional(LSTM(units=64, return_sequences=False), input_shape=input_shape))\n",
    "model.add(Dense(64, activation='relu'))\n",
    "model.add(Dropout(0.5))\n",
    "model.add(Dense(2, activation='softmax'))"
   ]
  },
  {
   "cell_type": "code",
   "execution_count": 11,
   "metadata": {},
   "outputs": [
    {
     "name": "stdout",
     "output_type": "stream",
     "text": [
      "_________________________________________________________________\n",
      "Layer (type)                 Output Shape              Param #   \n",
      "=================================================================\n",
      "bidirectional_1 (Bidirection (None, 128)               53248     \n",
      "_________________________________________________________________\n",
      "dense_1 (Dense)              (None, 64)                8256      \n",
      "_________________________________________________________________\n",
      "dropout_1 (Dropout)          (None, 64)                0         \n",
      "_________________________________________________________________\n",
      "dense_2 (Dense)              (None, 2)                 130       \n",
      "=================================================================\n",
      "Total params: 61,634\n",
      "Trainable params: 61,634\n",
      "Non-trainable params: 0\n",
      "_________________________________________________________________\n"
     ]
    }
   ],
   "source": [
    "#compile model\n",
    "adam = keras.optimizers.Adam(lr=0.001, decay=0.0, clipnorm=5.)\n",
    "stop = EarlyStopping(patience=20, verbose=1)\n",
    "model.compile(optimizer=adam, loss='sparse_categorical_crossentropy', metrics=[metrics.sparse_categorical_accuracy, f1])\n",
    "checkpoint = ModelCheckpoint(model_file, monitor='val_loss', verbose=1, save_best_only=True, mode='min')\n",
    "\n",
    "callbacks_list = [checkpoint, stop]\n",
    "\n",
    "model.summary()"
   ]
  },
  {
   "cell_type": "code",
   "execution_count": 12,
   "metadata": {},
   "outputs": [
    {
     "name": "stdout",
     "output_type": "stream",
     "text": [
      "Train on 1365 samples, validate on 292 samples\n",
      "Epoch 1/1000\n",
      "1365/1365 [==============================] - 85s 62ms/step - loss: 0.5988 - sparse_categorical_accuracy: 0.7282 - f1: 0.8442 - val_loss: 0.5694 - val_sparse_categorical_accuracy: 0.7500 - val_f1: 0.8546\n",
      "\n",
      "Epoch 00001: val_loss improved from inf to 0.56936, saving model to basic_RNN_gsk3b.h5\n",
      "Epoch 2/1000\n",
      "1365/1365 [==============================] - 74s 54ms/step - loss: 0.5835 - sparse_categorical_accuracy: 0.7341 - f1: 0.8450 - val_loss: 0.5596 - val_sparse_categorical_accuracy: 0.7500 - val_f1: 0.8546\n",
      "\n",
      "Epoch 00002: val_loss improved from 0.56936 to 0.55962, saving model to basic_RNN_gsk3b.h5\n",
      "Epoch 3/1000\n",
      "1365/1365 [==============================] - 75s 55ms/step - loss: 0.5663 - sparse_categorical_accuracy: 0.7341 - f1: 0.8442 - val_loss: 0.5169 - val_sparse_categorical_accuracy: 0.7500 - val_f1: 0.8546\n",
      "\n",
      "Epoch 00003: val_loss improved from 0.55962 to 0.51693, saving model to basic_RNN_gsk3b.h5\n",
      "Epoch 4/1000\n",
      "1365/1365 [==============================] - 75s 55ms/step - loss: 0.5566 - sparse_categorical_accuracy: 0.7363 - f1: 0.8444 - val_loss: 0.5687 - val_sparse_categorical_accuracy: 0.7603 - val_f1: 0.8546\n",
      "\n",
      "Epoch 00004: val_loss did not improve from 0.51693\n",
      "Epoch 5/1000\n",
      "1365/1365 [==============================] - 75s 55ms/step - loss: 0.5430 - sparse_categorical_accuracy: 0.7355 - f1: 0.8440 - val_loss: 0.4961 - val_sparse_categorical_accuracy: 0.7432 - val_f1: 0.8546\n",
      "\n",
      "Epoch 00005: val_loss improved from 0.51693 to 0.49605, saving model to basic_RNN_gsk3b.h5\n",
      "Epoch 6/1000\n",
      "1365/1365 [==============================] - 76s 56ms/step - loss: 0.5160 - sparse_categorical_accuracy: 0.7465 - f1: 0.8438 - val_loss: 0.4694 - val_sparse_categorical_accuracy: 0.7705 - val_f1: 0.8546\n",
      "\n",
      "Epoch 00006: val_loss improved from 0.49605 to 0.46935, saving model to basic_RNN_gsk3b.h5\n",
      "Epoch 7/1000\n",
      "1365/1365 [==============================] - 74s 54ms/step - loss: 0.5046 - sparse_categorical_accuracy: 0.7465 - f1: 0.8444 - val_loss: 0.4739 - val_sparse_categorical_accuracy: 0.7671 - val_f1: 0.8546\n",
      "\n",
      "Epoch 00007: val_loss did not improve from 0.46935\n",
      "Epoch 8/1000\n",
      "1365/1365 [==============================] - 74s 54ms/step - loss: 0.4880 - sparse_categorical_accuracy: 0.7590 - f1: 0.8444 - val_loss: 0.4617 - val_sparse_categorical_accuracy: 0.7842 - val_f1: 0.8546\n",
      "\n",
      "Epoch 00008: val_loss improved from 0.46935 to 0.46173, saving model to basic_RNN_gsk3b.h5\n",
      "Epoch 9/1000\n",
      "1365/1365 [==============================] - 67s 49ms/step - loss: 0.4804 - sparse_categorical_accuracy: 0.7722 - f1: 0.8438 - val_loss: 0.4752 - val_sparse_categorical_accuracy: 0.7740 - val_f1: 0.8546\n",
      "\n",
      "Epoch 00009: val_loss did not improve from 0.46173\n",
      "Epoch 10/1000\n",
      "1365/1365 [==============================] - 65s 48ms/step - loss: 0.4755 - sparse_categorical_accuracy: 0.7758 - f1: 0.8448 - val_loss: 0.4560 - val_sparse_categorical_accuracy: 0.7842 - val_f1: 0.8546\n",
      "\n",
      "Epoch 00010: val_loss improved from 0.46173 to 0.45601, saving model to basic_RNN_gsk3b.h5\n",
      "Epoch 11/1000\n",
      "1365/1365 [==============================] - 67s 49ms/step - loss: 0.4552 - sparse_categorical_accuracy: 0.7919 - f1: 0.8438 - val_loss: 0.4552 - val_sparse_categorical_accuracy: 0.7911 - val_f1: 0.8546\n",
      "\n",
      "Epoch 00011: val_loss improved from 0.45601 to 0.45524, saving model to basic_RNN_gsk3b.h5\n",
      "Epoch 12/1000\n",
      "1365/1365 [==============================] - 65s 48ms/step - loss: 0.4542 - sparse_categorical_accuracy: 0.7883 - f1: 0.8441 - val_loss: 0.4547 - val_sparse_categorical_accuracy: 0.7842 - val_f1: 0.8546\n",
      "\n",
      "Epoch 00012: val_loss improved from 0.45524 to 0.45473, saving model to basic_RNN_gsk3b.h5\n",
      "Epoch 13/1000\n",
      "1365/1365 [==============================] - 67s 49ms/step - loss: 0.4576 - sparse_categorical_accuracy: 0.7919 - f1: 0.8445 - val_loss: 0.4543 - val_sparse_categorical_accuracy: 0.7774 - val_f1: 0.8546\n",
      "\n",
      "Epoch 00013: val_loss improved from 0.45473 to 0.45426, saving model to basic_RNN_gsk3b.h5\n",
      "Epoch 14/1000\n",
      "1365/1365 [==============================] - 66s 48ms/step - loss: 0.4355 - sparse_categorical_accuracy: 0.8081 - f1: 0.8439 - val_loss: 0.4345 - val_sparse_categorical_accuracy: 0.7979 - val_f1: 0.8546\n",
      "\n",
      "Epoch 00014: val_loss improved from 0.45426 to 0.43446, saving model to basic_RNN_gsk3b.h5\n",
      "Epoch 15/1000\n",
      "1365/1365 [==============================] - 65s 47ms/step - loss: 0.4326 - sparse_categorical_accuracy: 0.8037 - f1: 0.8443 - val_loss: 0.4423 - val_sparse_categorical_accuracy: 0.7842 - val_f1: 0.8546\n",
      "\n",
      "Epoch 00015: val_loss did not improve from 0.43446\n",
      "Epoch 16/1000\n",
      "1365/1365 [==============================] - 65s 48ms/step - loss: 0.4269 - sparse_categorical_accuracy: 0.8139 - f1: 0.8444 - val_loss: 0.4199 - val_sparse_categorical_accuracy: 0.8116 - val_f1: 0.8546\n",
      "\n",
      "Epoch 00016: val_loss improved from 0.43446 to 0.41990, saving model to basic_RNN_gsk3b.h5\n",
      "Epoch 17/1000\n",
      "1365/1365 [==============================] - 64s 47ms/step - loss: 0.4203 - sparse_categorical_accuracy: 0.8168 - f1: 0.8453 - val_loss: 0.4612 - val_sparse_categorical_accuracy: 0.7842 - val_f1: 0.8546\n",
      "\n",
      "Epoch 00017: val_loss did not improve from 0.41990\n",
      "Epoch 18/1000\n",
      "1365/1365 [==============================] - 66s 48ms/step - loss: 0.4165 - sparse_categorical_accuracy: 0.8168 - f1: 0.8447 - val_loss: 0.4341 - val_sparse_categorical_accuracy: 0.8082 - val_f1: 0.8546\n",
      "\n",
      "Epoch 00018: val_loss did not improve from 0.41990\n",
      "Epoch 19/1000\n",
      "1365/1365 [==============================] - 66s 48ms/step - loss: 0.4153 - sparse_categorical_accuracy: 0.8212 - f1: 0.8440 - val_loss: 0.4562 - val_sparse_categorical_accuracy: 0.7911 - val_f1: 0.8546\n",
      "\n",
      "Epoch 00019: val_loss did not improve from 0.41990\n",
      "Epoch 20/1000\n",
      "1365/1365 [==============================] - 67s 49ms/step - loss: 0.3942 - sparse_categorical_accuracy: 0.8352 - f1: 0.8443 - val_loss: 0.4279 - val_sparse_categorical_accuracy: 0.8048 - val_f1: 0.8546\n",
      "\n",
      "Epoch 00020: val_loss did not improve from 0.41990\n",
      "Epoch 21/1000\n",
      "1365/1365 [==============================] - 66s 48ms/step - loss: 0.4051 - sparse_categorical_accuracy: 0.8256 - f1: 0.8443 - val_loss: 0.4666 - val_sparse_categorical_accuracy: 0.7877 - val_f1: 0.8546\n",
      "\n",
      "Epoch 00021: val_loss did not improve from 0.41990\n",
      "Epoch 22/1000\n",
      "1365/1365 [==============================] - 65s 48ms/step - loss: 0.3992 - sparse_categorical_accuracy: 0.8315 - f1: 0.8439 - val_loss: 0.4369 - val_sparse_categorical_accuracy: 0.8219 - val_f1: 0.8546\n",
      "\n",
      "Epoch 00022: val_loss did not improve from 0.41990\n",
      "Epoch 23/1000\n",
      "1365/1365 [==============================] - 62s 46ms/step - loss: 0.3591 - sparse_categorical_accuracy: 0.8542 - f1: 0.8448 - val_loss: 0.4451 - val_sparse_categorical_accuracy: 0.7911 - val_f1: 0.8546\n",
      "\n",
      "Epoch 00023: val_loss did not improve from 0.41990\n",
      "Epoch 24/1000\n",
      "1365/1365 [==============================] - 56s 41ms/step - loss: 0.3640 - sparse_categorical_accuracy: 0.8440 - f1: 0.8441 - val_loss: 0.4263 - val_sparse_categorical_accuracy: 0.8219 - val_f1: 0.8546\n",
      "\n",
      "Epoch 00024: val_loss did not improve from 0.41990\n",
      "Epoch 25/1000\n",
      "1365/1365 [==============================] - 56s 41ms/step - loss: 0.3687 - sparse_categorical_accuracy: 0.8432 - f1: 0.8438 - val_loss: 0.4594 - val_sparse_categorical_accuracy: 0.7979 - val_f1: 0.8546\n",
      "\n",
      "Epoch 00025: val_loss did not improve from 0.41990\n",
      "Epoch 26/1000\n",
      "1365/1365 [==============================] - 56s 41ms/step - loss: 0.3541 - sparse_categorical_accuracy: 0.8491 - f1: 0.8444 - val_loss: 0.4541 - val_sparse_categorical_accuracy: 0.8116 - val_f1: 0.8546\n",
      "\n",
      "Epoch 00026: val_loss did not improve from 0.41990\n",
      "Epoch 27/1000\n",
      "1365/1365 [==============================] - 55s 41ms/step - loss: 0.3733 - sparse_categorical_accuracy: 0.8425 - f1: 0.8453 - val_loss: 0.4367 - val_sparse_categorical_accuracy: 0.8048 - val_f1: 0.8546\n",
      "\n",
      "Epoch 00027: val_loss did not improve from 0.41990\n",
      "Epoch 28/1000\n",
      "1365/1365 [==============================] - 56s 41ms/step - loss: 0.3342 - sparse_categorical_accuracy: 0.8623 - f1: 0.8445 - val_loss: 0.4888 - val_sparse_categorical_accuracy: 0.7911 - val_f1: 0.8546\n",
      "\n",
      "Epoch 00028: val_loss did not improve from 0.41990\n",
      "Epoch 29/1000\n",
      "1365/1365 [==============================] - 54s 40ms/step - loss: 0.3517 - sparse_categorical_accuracy: 0.8462 - f1: 0.8438 - val_loss: 0.4939 - val_sparse_categorical_accuracy: 0.7842 - val_f1: 0.8546\n"
     ]
    },
    {
     "name": "stdout",
     "output_type": "stream",
     "text": [
      "\n",
      "Epoch 00029: val_loss did not improve from 0.41990\n",
      "Epoch 30/1000\n",
      "1365/1365 [==============================] - 56s 41ms/step - loss: 0.3438 - sparse_categorical_accuracy: 0.8549 - f1: 0.8449 - val_loss: 0.4521 - val_sparse_categorical_accuracy: 0.8048 - val_f1: 0.8546\n",
      "\n",
      "Epoch 00030: val_loss did not improve from 0.41990\n",
      "Epoch 31/1000\n",
      "1365/1365 [==============================] - 55s 40ms/step - loss: 0.3316 - sparse_categorical_accuracy: 0.8601 - f1: 0.8437 - val_loss: 0.4477 - val_sparse_categorical_accuracy: 0.8116 - val_f1: 0.8546\n",
      "\n",
      "Epoch 00031: val_loss did not improve from 0.41990\n",
      "Epoch 32/1000\n",
      "1365/1365 [==============================] - 55s 40ms/step - loss: 0.3353 - sparse_categorical_accuracy: 0.8557 - f1: 0.8451 - val_loss: 0.4966 - val_sparse_categorical_accuracy: 0.7945 - val_f1: 0.8546\n",
      "\n",
      "Epoch 00032: val_loss did not improve from 0.41990\n",
      "Epoch 33/1000\n",
      "1365/1365 [==============================] - 55s 41ms/step - loss: 0.3225 - sparse_categorical_accuracy: 0.8667 - f1: 0.8451 - val_loss: 0.5136 - val_sparse_categorical_accuracy: 0.7808 - val_f1: 0.8546\n",
      "\n",
      "Epoch 00033: val_loss did not improve from 0.41990\n",
      "Epoch 34/1000\n",
      "1365/1365 [==============================] - 56s 41ms/step - loss: 0.3174 - sparse_categorical_accuracy: 0.8652 - f1: 0.8434 - val_loss: 0.5244 - val_sparse_categorical_accuracy: 0.7911 - val_f1: 0.8546\n",
      "\n",
      "Epoch 00034: val_loss did not improve from 0.41990\n",
      "Epoch 35/1000\n",
      "1365/1365 [==============================] - 56s 41ms/step - loss: 0.3254 - sparse_categorical_accuracy: 0.8542 - f1: 0.8448 - val_loss: 0.4523 - val_sparse_categorical_accuracy: 0.8048 - val_f1: 0.8546\n",
      "\n",
      "Epoch 00035: val_loss did not improve from 0.41990\n",
      "Epoch 36/1000\n",
      "1365/1365 [==============================] - 56s 41ms/step - loss: 0.3023 - sparse_categorical_accuracy: 0.8689 - f1: 0.8439 - val_loss: 0.5020 - val_sparse_categorical_accuracy: 0.7774 - val_f1: 0.8546\n",
      "\n",
      "Epoch 00036: val_loss did not improve from 0.41990\n",
      "Epoch 00036: early stopping\n"
     ]
    },
    {
     "data": {
      "text/plain": [
       "<keras.callbacks.History at 0x7f7363b6ce10>"
      ]
     },
     "execution_count": 12,
     "metadata": {},
     "output_type": "execute_result"
    }
   ],
   "source": [
    "#training\n",
    "model.fit(x=X_train, \n",
    "          y=y_train, \n",
    "          batch_size=32, \n",
    "          epochs=1000, \n",
    "          verbose=1, \n",
    "          callbacks=callbacks_list, \n",
    "          validation_data=(X_val, y_val), \n",
    "          shuffle=True)"
   ]
  },
  {
   "cell_type": "code",
   "execution_count": 13,
   "metadata": {},
   "outputs": [
    {
     "name": "stdout",
     "output_type": "stream",
     "text": [
      "['loss', 'sparse_categorical_accuracy', 'f1']\n"
     ]
    }
   ],
   "source": [
    "#testing\n",
    "from keras.models import load_model\n",
    "trained_model = load_model(model_file, custom_objects={'f1': f1})\n",
    "print(trained_model.metrics_names)"
   ]
  },
  {
   "cell_type": "code",
   "execution_count": 14,
   "metadata": {},
   "outputs": [
    {
     "name": "stdout",
     "output_type": "stream",
     "text": [
      "1365/1365 [==============================] - 14s 10ms/step\n"
     ]
    },
    {
     "data": {
      "text/plain": [
       "[0.38608757639542607, 0.8329670330980322, 0.8441166983419286]"
      ]
     },
     "execution_count": 14,
     "metadata": {},
     "output_type": "execute_result"
    }
   ],
   "source": [
    "trained_model.evaluate(x=X_train, y=y_train)"
   ]
  },
  {
   "cell_type": "code",
   "execution_count": 15,
   "metadata": {},
   "outputs": [
    {
     "name": "stdout",
     "output_type": "stream",
     "text": [
      "292/292 [==============================] - 3s 10ms/step\n"
     ]
    },
    {
     "data": {
      "text/plain": [
       "[0.41989547749088235, 0.8116438356164384, 0.8546410129494864]"
      ]
     },
     "execution_count": 15,
     "metadata": {},
     "output_type": "execute_result"
    }
   ],
   "source": [
    "trained_model.evaluate(x=X_val, y=y_val)"
   ]
  },
  {
   "cell_type": "code",
   "execution_count": 16,
   "metadata": {},
   "outputs": [
    {
     "name": "stdout",
     "output_type": "stream",
     "text": [
      "293/293 [==============================] - 3s 10ms/step\n"
     ]
    },
    {
     "data": {
      "text/plain": [
       "[0.4754353157489373, 0.7952218432068417, 0.840117566007803]"
      ]
     },
     "execution_count": 16,
     "metadata": {},
     "output_type": "execute_result"
    }
   ],
   "source": [
    "trained_model.evaluate(x=X_test, y=y_test)"
   ]
  },
  {
   "cell_type": "code",
   "execution_count": null,
   "metadata": {},
   "outputs": [],
   "source": []
  }
 ],
 "metadata": {
  "kernelspec": {
   "display_name": "Python 3",
   "language": "python",
   "name": "python3"
  },
  "language_info": {
   "codemirror_mode": {
    "name": "ipython",
    "version": 3
   },
   "file_extension": ".py",
   "mimetype": "text/x-python",
   "name": "python",
   "nbconvert_exporter": "python",
   "pygments_lexer": "ipython3",
   "version": "3.5.6"
  }
 },
 "nbformat": 4,
 "nbformat_minor": 2
}
