{
 "cells": [
  {
   "cell_type": "code",
   "execution_count": 1,
   "metadata": {},
   "outputs": [
    {
     "name": "stderr",
     "output_type": "stream",
     "text": [
      "Using TensorFlow backend.\n"
     ]
    }
   ],
   "source": [
    "import os\n",
    "import sys\n",
    "import numpy as np\n",
    "import keras\n",
    "from sklearn.model_selection import train_test_split"
   ]
  },
  {
   "cell_type": "code",
   "execution_count": 2,
   "metadata": {},
   "outputs": [],
   "source": [
    "seed = 273\n",
    "kinase = 'egfr_erbB1'\n",
    "model_file = 'basic_RNN_%s.h5' % (kinase)"
   ]
  },
  {
   "cell_type": "code",
   "execution_count": 3,
   "metadata": {},
   "outputs": [],
   "source": [
    "#import data\n",
    "lines = [line.strip().split(',') for line in open(os.path.join('data', kinase+'_smiles.csv'))]\n",
    "smiles = [line[1] for line in lines]\n",
    "y = np.asarray([int(line[2]) for line in lines], dtype=np.int8)"
   ]
  },
  {
   "cell_type": "code",
   "execution_count": 4,
   "metadata": {},
   "outputs": [],
   "source": [
    "#pad smiles with '!' to ensure equal length\n",
    "max_smiles_len = max(len(s) for s in smiles)\n",
    "smiles = [s + '!'*(max_smiles_len + 1 - len(s)) for s in smiles]"
   ]
  },
  {
   "cell_type": "code",
   "execution_count": 5,
   "metadata": {},
   "outputs": [],
   "source": [
    "#one-hot vector representation of smiles\n",
    "char_set = set()\n",
    "for s in smiles:\n",
    "    for c in s:\n",
    "        char_set.add(c)\n",
    "char_set = list(char_set)\n",
    "char_to_index = {char_set[i]: i for i in range(len(char_set))}\n",
    "\n",
    "X = np.zeros((len(smiles), max_smiles_len + 1, len(char_set)))\n",
    "for i in range(len(smiles)):\n",
    "    code = smiles[i]\n",
    "    for j in range(len(code)):\n",
    "        char = code[j]\n",
    "        X[i, j, char_to_index[char]] = 1        "
   ]
  },
  {
   "cell_type": "code",
   "execution_count": 6,
   "metadata": {},
   "outputs": [
    {
     "name": "stdout",
     "output_type": "stream",
     "text": [
      "(3623, 252, 43) (3623,)\n",
      "(776, 252, 43) (776,)\n",
      "(777, 252, 43) (777,)\n"
     ]
    }
   ],
   "source": [
    "#train val test split\n",
    "X_train, X_test, y_train, y_test = train_test_split(X, y, test_size=0.3, random_state=seed)\n",
    "X_val, X_test, y_val, y_test = train_test_split(X_test, y_test, test_size=0.5, random_state=seed)\n",
    "\n",
    "print(X_train.shape, y_train.shape)\n",
    "print(X_val.shape, y_val.shape)\n",
    "print(X_test.shape, y_test.shape)\n",
    "\n",
    "input_shape = X_train.shape[1:]"
   ]
  },
  {
   "cell_type": "code",
   "execution_count": 7,
   "metadata": {},
   "outputs": [
    {
     "name": "stdout",
     "output_type": "stream",
     "text": [
      "[]\n"
     ]
    }
   ],
   "source": [
    "#check GPU presence\n",
    "from tensorflow.python.client import device_lib\n",
    "\n",
    "def get_available_gpus():\n",
    "    local_device_protos = device_lib.list_local_devices()\n",
    "    return [x.name for x in local_device_protos if x.device_type == 'GPU']\n",
    "\n",
    "print(get_available_gpus())"
   ]
  },
  {
   "cell_type": "code",
   "execution_count": 8,
   "metadata": {},
   "outputs": [],
   "source": [
    "#keras imports\n",
    "from keras.models import Sequential\n",
    "from keras.layers import TimeDistributed, GlobalAveragePooling2D, Activation, Dense, Input, Bidirectional\n",
    "from keras.layers import BatchNormalization, Conv2D, MaxPooling2D, AveragePooling2D, GlobalAveragePooling2D\n",
    "from keras.layers import GlobalMaxPooling2D\n",
    "from keras.layers.recurrent import LSTM\n",
    "from keras.callbacks import ModelCheckpoint, ReduceLROnPlateau, Callback, EarlyStopping\n",
    "from keras.layers import Dropout, Flatten\n",
    "from keras.layers import concatenate\n",
    "from keras import regularizers\n",
    "from keras import initializers\n",
    "from keras import constraints\n",
    "from keras.models import Model\n",
    "# Backend\n",
    "from keras import backend as K\n",
    "# Utils\n",
    "from keras.utils.layer_utils import convert_all_kernels_in_model\n",
    "from keras.utils.data_utils import get_file\n",
    "from keras import metrics"
   ]
  },
  {
   "cell_type": "code",
   "execution_count": 9,
   "metadata": {},
   "outputs": [],
   "source": [
    "#F1 score computation\n",
    "from sklearn.metrics import confusion_matrix, f1_score, precision_score, recall_score\n",
    "from keras import backend as K\n",
    "\n",
    "def f1(y_true, y_pred):\n",
    "    def recall(y_true, y_pred):\n",
    "        \"\"\"Recall metric.\n",
    "\n",
    "        Only computes a batch-wise average of recall.\n",
    "\n",
    "        Computes the recall, a metric for multi-label classification of\n",
    "        how many relevant items are selected.\n",
    "        \"\"\"\n",
    "        true_positives = K.sum(K.round(K.clip(y_true * y_pred, 0, 1)))\n",
    "        possible_positives = K.sum(K.round(K.clip(y_true, 0, 1)))\n",
    "        recall = true_positives / (possible_positives + K.epsilon())\n",
    "        return recall\n",
    "\n",
    "    def precision(y_true, y_pred):\n",
    "        \"\"\"Precision metric.\n",
    "\n",
    "        Only computes a batch-wise average of precision.\n",
    "\n",
    "        Computes the precision, a metric for multi-label classification of\n",
    "        how many selected items are relevant.\n",
    "        \"\"\"\n",
    "        true_positives = K.sum(K.round(K.clip(y_true * y_pred, 0, 1)))\n",
    "        predicted_positives = K.sum(K.round(K.clip(y_pred, 0, 1)))\n",
    "        precision = true_positives / (predicted_positives + K.epsilon())\n",
    "        return precision\n",
    "    precision = precision(y_true, y_pred)\n",
    "    recall = recall(y_true, y_pred)\n",
    "    return 2*((precision*recall)/(precision+recall+K.epsilon()))"
   ]
  },
  {
   "cell_type": "code",
   "execution_count": 10,
   "metadata": {},
   "outputs": [],
   "source": [
    "#basic RNN model\n",
    "model = Sequential()\n",
    "model.add(Bidirectional(LSTM(units=64, return_sequences=False), input_shape=input_shape))\n",
    "model.add(Dense(64, activation='relu'))\n",
    "model.add(Dropout(0.5))\n",
    "model.add(Dense(2, activation='softmax'))"
   ]
  },
  {
   "cell_type": "code",
   "execution_count": 11,
   "metadata": {},
   "outputs": [
    {
     "name": "stdout",
     "output_type": "stream",
     "text": [
      "_________________________________________________________________\n",
      "Layer (type)                 Output Shape              Param #   \n",
      "=================================================================\n",
      "bidirectional_1 (Bidirection (None, 128)               55296     \n",
      "_________________________________________________________________\n",
      "dense_1 (Dense)              (None, 64)                8256      \n",
      "_________________________________________________________________\n",
      "dropout_1 (Dropout)          (None, 64)                0         \n",
      "_________________________________________________________________\n",
      "dense_2 (Dense)              (None, 2)                 130       \n",
      "=================================================================\n",
      "Total params: 63,682\n",
      "Trainable params: 63,682\n",
      "Non-trainable params: 0\n",
      "_________________________________________________________________\n"
     ]
    }
   ],
   "source": [
    "#compile model\n",
    "adam = keras.optimizers.Adam(lr=0.001, decay=0.0, clipnorm=5.)\n",
    "stop = EarlyStopping(patience=20, verbose=1)\n",
    "model.compile(optimizer=adam, loss='sparse_categorical_crossentropy', metrics=[metrics.sparse_categorical_accuracy, f1])\n",
    "checkpoint = ModelCheckpoint(model_file, monitor='val_loss', verbose=1, save_best_only=True, mode='min')\n",
    "\n",
    "callbacks_list = [checkpoint, stop]\n",
    "\n",
    "model.summary()"
   ]
  },
  {
   "cell_type": "code",
   "execution_count": 12,
   "metadata": {},
   "outputs": [
    {
     "name": "stdout",
     "output_type": "stream",
     "text": [
      "Train on 3623 samples, validate on 776 samples\n",
      "Epoch 1/1000\n",
      "3623/3623 [==============================] - 160s 44ms/step - loss: 0.6284 - sparse_categorical_accuracy: 0.6834 - f1: 0.8106 - val_loss: 0.5930 - val_sparse_categorical_accuracy: 0.6959 - val_f1: 0.8153\n",
      "\n",
      "Epoch 00001: val_loss improved from inf to 0.59300, saving model to basic_RNN_egfr_erbB1.h5\n",
      "Epoch 2/1000\n",
      "3623/3623 [==============================] - 151s 42ms/step - loss: 0.5935 - sparse_categorical_accuracy: 0.6809 - f1: 0.8103 - val_loss: 0.5648 - val_sparse_categorical_accuracy: 0.6817 - val_f1: 0.8153\n",
      "\n",
      "Epoch 00002: val_loss improved from 0.59300 to 0.56481, saving model to basic_RNN_egfr_erbB1.h5\n",
      "Epoch 3/1000\n",
      "3623/3623 [==============================] - 151s 42ms/step - loss: 0.5599 - sparse_categorical_accuracy: 0.6983 - f1: 0.8093 - val_loss: 0.5485 - val_sparse_categorical_accuracy: 0.6856 - val_f1: 0.8153\n",
      "\n",
      "Epoch 00003: val_loss improved from 0.56481 to 0.54852, saving model to basic_RNN_egfr_erbB1.h5\n",
      "Epoch 4/1000\n",
      "3623/3623 [==============================] - 151s 42ms/step - loss: 0.5517 - sparse_categorical_accuracy: 0.7163 - f1: 0.8099 - val_loss: 0.5478 - val_sparse_categorical_accuracy: 0.6946 - val_f1: 0.8153\n",
      "\n",
      "Epoch 00004: val_loss improved from 0.54852 to 0.54776, saving model to basic_RNN_egfr_erbB1.h5\n",
      "Epoch 5/1000\n",
      "3623/3623 [==============================] - 135s 37ms/step - loss: 0.5487 - sparse_categorical_accuracy: 0.7132 - f1: 0.8095 - val_loss: 0.5400 - val_sparse_categorical_accuracy: 0.7088 - val_f1: 0.8153\n",
      "\n",
      "Epoch 00005: val_loss improved from 0.54776 to 0.54000, saving model to basic_RNN_egfr_erbB1.h5\n",
      "Epoch 6/1000\n",
      "3623/3623 [==============================] - 133s 37ms/step - loss: 0.5366 - sparse_categorical_accuracy: 0.7116 - f1: 0.8093 - val_loss: 0.5343 - val_sparse_categorical_accuracy: 0.7139 - val_f1: 0.8153\n",
      "\n",
      "Epoch 00006: val_loss improved from 0.54000 to 0.53434, saving model to basic_RNN_egfr_erbB1.h5\n",
      "Epoch 7/1000\n",
      "3623/3623 [==============================] - 134s 37ms/step - loss: 0.5283 - sparse_categorical_accuracy: 0.7221 - f1: 0.8101 - val_loss: 0.5508 - val_sparse_categorical_accuracy: 0.7216 - val_f1: 0.8153\n",
      "\n",
      "Epoch 00007: val_loss did not improve from 0.53434\n",
      "Epoch 8/1000\n",
      "3623/3623 [==============================] - 133s 37ms/step - loss: 0.5218 - sparse_categorical_accuracy: 0.7207 - f1: 0.8105 - val_loss: 0.5333 - val_sparse_categorical_accuracy: 0.7307 - val_f1: 0.8153\n",
      "\n",
      "Epoch 00008: val_loss improved from 0.53434 to 0.53326, saving model to basic_RNN_egfr_erbB1.h5\n",
      "Epoch 9/1000\n",
      "3623/3623 [==============================] - 132s 36ms/step - loss: 0.5146 - sparse_categorical_accuracy: 0.7245 - f1: 0.8099 - val_loss: 0.5186 - val_sparse_categorical_accuracy: 0.7307 - val_f1: 0.8153\n",
      "\n",
      "Epoch 00009: val_loss improved from 0.53326 to 0.51862, saving model to basic_RNN_egfr_erbB1.h5\n",
      "Epoch 10/1000\n",
      "3623/3623 [==============================] - 131s 36ms/step - loss: 0.5032 - sparse_categorical_accuracy: 0.7342 - f1: 0.8097 - val_loss: 0.5191 - val_sparse_categorical_accuracy: 0.7371 - val_f1: 0.8153\n",
      "\n",
      "Epoch 00010: val_loss did not improve from 0.51862\n",
      "Epoch 11/1000\n",
      "3623/3623 [==============================] - 132s 36ms/step - loss: 0.5089 - sparse_categorical_accuracy: 0.7323 - f1: 0.8096 - val_loss: 0.5237 - val_sparse_categorical_accuracy: 0.7448 - val_f1: 0.8153\n",
      "\n",
      "Epoch 00011: val_loss did not improve from 0.51862\n",
      "Epoch 12/1000\n",
      "3623/3623 [==============================] - 118s 33ms/step - loss: 0.4986 - sparse_categorical_accuracy: 0.7414 - f1: 0.8101 - val_loss: 0.5009 - val_sparse_categorical_accuracy: 0.7423 - val_f1: 0.8153\n",
      "\n",
      "Epoch 00012: val_loss improved from 0.51862 to 0.50085, saving model to basic_RNN_egfr_erbB1.h5\n",
      "Epoch 13/1000\n",
      "3623/3623 [==============================] - 114s 31ms/step - loss: 0.4918 - sparse_categorical_accuracy: 0.7530 - f1: 0.8100 - val_loss: 0.5372 - val_sparse_categorical_accuracy: 0.7461 - val_f1: 0.8153\n",
      "\n",
      "Epoch 00013: val_loss did not improve from 0.50085\n",
      "Epoch 14/1000\n",
      "3623/3623 [==============================] - 114s 32ms/step - loss: 0.4817 - sparse_categorical_accuracy: 0.7560 - f1: 0.8101 - val_loss: 0.5414 - val_sparse_categorical_accuracy: 0.7590 - val_f1: 0.8153\n",
      "\n",
      "Epoch 00014: val_loss did not improve from 0.50085\n",
      "Epoch 15/1000\n",
      "3623/3623 [==============================] - 113s 31ms/step - loss: 0.4839 - sparse_categorical_accuracy: 0.7601 - f1: 0.8097 - val_loss: 0.4947 - val_sparse_categorical_accuracy: 0.7500 - val_f1: 0.8153\n",
      "\n",
      "Epoch 00015: val_loss improved from 0.50085 to 0.49474, saving model to basic_RNN_egfr_erbB1.h5\n",
      "Epoch 16/1000\n",
      "3623/3623 [==============================] - 112s 31ms/step - loss: 0.4717 - sparse_categorical_accuracy: 0.7701 - f1: 0.8096 - val_loss: 0.5044 - val_sparse_categorical_accuracy: 0.7603 - val_f1: 0.8153\n",
      "\n",
      "Epoch 00016: val_loss did not improve from 0.49474\n",
      "Epoch 17/1000\n",
      "3623/3623 [==============================] - 115s 32ms/step - loss: 0.4718 - sparse_categorical_accuracy: 0.7621 - f1: 0.8095 - val_loss: 0.4910 - val_sparse_categorical_accuracy: 0.7590 - val_f1: 0.8153\n",
      "\n",
      "Epoch 00017: val_loss improved from 0.49474 to 0.49095, saving model to basic_RNN_egfr_erbB1.h5\n",
      "Epoch 18/1000\n",
      "3623/3623 [==============================] - 115s 32ms/step - loss: 0.4604 - sparse_categorical_accuracy: 0.7687 - f1: 0.8106 - val_loss: 0.5154 - val_sparse_categorical_accuracy: 0.7668 - val_f1: 0.8153\n",
      "\n",
      "Epoch 00018: val_loss did not improve from 0.49095\n",
      "Epoch 19/1000\n",
      "3623/3623 [==============================] - 88s 24ms/step - loss: 0.4695 - sparse_categorical_accuracy: 0.7748 - f1: 0.8105 - val_loss: 0.4872 - val_sparse_categorical_accuracy: 0.7552 - val_f1: 0.8153\n",
      "\n",
      "Epoch 00019: val_loss improved from 0.49095 to 0.48722, saving model to basic_RNN_egfr_erbB1.h5\n",
      "Epoch 20/1000\n",
      "3623/3623 [==============================] - 75s 21ms/step - loss: 0.4592 - sparse_categorical_accuracy: 0.7687 - f1: 0.8102 - val_loss: 0.5001 - val_sparse_categorical_accuracy: 0.7577 - val_f1: 0.8153\n",
      "\n",
      "Epoch 00020: val_loss did not improve from 0.48722\n",
      "Epoch 21/1000\n",
      "3623/3623 [==============================] - 75s 21ms/step - loss: 0.4432 - sparse_categorical_accuracy: 0.7800 - f1: 0.8098 - val_loss: 0.5387 - val_sparse_categorical_accuracy: 0.7461 - val_f1: 0.8153\n",
      "\n",
      "Epoch 00021: val_loss did not improve from 0.48722\n",
      "Epoch 22/1000\n",
      "3623/3623 [==============================] - 76s 21ms/step - loss: 0.4440 - sparse_categorical_accuracy: 0.7844 - f1: 0.8099 - val_loss: 0.4959 - val_sparse_categorical_accuracy: 0.7629 - val_f1: 0.8153\n",
      "\n",
      "Epoch 00022: val_loss did not improve from 0.48722\n",
      "Epoch 23/1000\n",
      "3623/3623 [==============================] - 76s 21ms/step - loss: 0.4393 - sparse_categorical_accuracy: 0.7775 - f1: 0.8105 - val_loss: 0.4956 - val_sparse_categorical_accuracy: 0.7397 - val_f1: 0.8153\n",
      "\n",
      "Epoch 00023: val_loss did not improve from 0.48722\n",
      "Epoch 24/1000\n",
      "3623/3623 [==============================] - 74s 21ms/step - loss: 0.4329 - sparse_categorical_accuracy: 0.7883 - f1: 0.8103 - val_loss: 0.4896 - val_sparse_categorical_accuracy: 0.7668 - val_f1: 0.8153\n",
      "\n",
      "Epoch 00024: val_loss did not improve from 0.48722\n",
      "Epoch 25/1000\n",
      "3623/3623 [==============================] - 75s 21ms/step - loss: 0.4263 - sparse_categorical_accuracy: 0.7905 - f1: 0.8104 - val_loss: 0.5095 - val_sparse_categorical_accuracy: 0.7732 - val_f1: 0.8153\n",
      "\n",
      "Epoch 00025: val_loss did not improve from 0.48722\n",
      "Epoch 26/1000\n",
      "3623/3623 [==============================] - 75s 21ms/step - loss: 0.4159 - sparse_categorical_accuracy: 0.7966 - f1: 0.8105 - val_loss: 0.4793 - val_sparse_categorical_accuracy: 0.7758 - val_f1: 0.8153\n",
      "\n",
      "Epoch 00026: val_loss improved from 0.48722 to 0.47935, saving model to basic_RNN_egfr_erbB1.h5\n",
      "Epoch 27/1000\n",
      "3623/3623 [==============================] - 75s 21ms/step - loss: 0.4162 - sparse_categorical_accuracy: 0.7991 - f1: 0.8097 - val_loss: 0.4909 - val_sparse_categorical_accuracy: 0.7487 - val_f1: 0.8153\n",
      "\n",
      "Epoch 00027: val_loss did not improve from 0.47935\n",
      "Epoch 28/1000\n",
      "3623/3623 [==============================] - 75s 21ms/step - loss: 0.4176 - sparse_categorical_accuracy: 0.8007 - f1: 0.8098 - val_loss: 0.4972 - val_sparse_categorical_accuracy: 0.7887 - val_f1: 0.8153\n",
      "\n",
      "Epoch 00028: val_loss did not improve from 0.47935\n",
      "Epoch 29/1000\n"
     ]
    },
    {
     "name": "stdout",
     "output_type": "stream",
     "text": [
      "3623/3623 [==============================] - 75s 21ms/step - loss: 0.4076 - sparse_categorical_accuracy: 0.8093 - f1: 0.8100 - val_loss: 0.5065 - val_sparse_categorical_accuracy: 0.7629 - val_f1: 0.8153\n",
      "\n",
      "Epoch 00029: val_loss did not improve from 0.47935\n",
      "Epoch 30/1000\n",
      "3623/3623 [==============================] - 75s 21ms/step - loss: 0.4101 - sparse_categorical_accuracy: 0.8087 - f1: 0.8103 - val_loss: 0.5048 - val_sparse_categorical_accuracy: 0.7332 - val_f1: 0.8153\n",
      "\n",
      "Epoch 00030: val_loss did not improve from 0.47935\n",
      "Epoch 31/1000\n",
      "3623/3623 [==============================] - 74s 20ms/step - loss: 0.4083 - sparse_categorical_accuracy: 0.8043 - f1: 0.8101 - val_loss: 0.4720 - val_sparse_categorical_accuracy: 0.7680 - val_f1: 0.8153\n",
      "\n",
      "Epoch 00031: val_loss improved from 0.47935 to 0.47205, saving model to basic_RNN_egfr_erbB1.h5\n",
      "Epoch 32/1000\n",
      "3623/3623 [==============================] - 53s 15ms/step - loss: 0.3981 - sparse_categorical_accuracy: 0.8120 - f1: 0.8100 - val_loss: 0.4788 - val_sparse_categorical_accuracy: 0.7668 - val_f1: 0.8153\n",
      "\n",
      "Epoch 00032: val_loss did not improve from 0.47205\n",
      "Epoch 33/1000\n",
      "3623/3623 [==============================] - 39s 11ms/step - loss: 0.3856 - sparse_categorical_accuracy: 0.8178 - f1: 0.8102 - val_loss: 0.4869 - val_sparse_categorical_accuracy: 0.7564 - val_f1: 0.8153\n",
      "\n",
      "Epoch 00033: val_loss did not improve from 0.47205\n",
      "Epoch 34/1000\n",
      "3623/3623 [==============================] - 39s 11ms/step - loss: 0.3870 - sparse_categorical_accuracy: 0.8211 - f1: 0.8099 - val_loss: 0.4779 - val_sparse_categorical_accuracy: 0.7668 - val_f1: 0.8153\n",
      "\n",
      "Epoch 00034: val_loss did not improve from 0.47205\n",
      "Epoch 35/1000\n",
      "3623/3623 [==============================] - 39s 11ms/step - loss: 0.3862 - sparse_categorical_accuracy: 0.8176 - f1: 0.8102 - val_loss: 0.4713 - val_sparse_categorical_accuracy: 0.7732 - val_f1: 0.8153\n",
      "\n",
      "Epoch 00035: val_loss improved from 0.47205 to 0.47127, saving model to basic_RNN_egfr_erbB1.h5\n",
      "Epoch 36/1000\n",
      "3623/3623 [==============================] - 39s 11ms/step - loss: 0.3823 - sparse_categorical_accuracy: 0.8225 - f1: 0.8099 - val_loss: 0.5244 - val_sparse_categorical_accuracy: 0.7680 - val_f1: 0.8153\n",
      "\n",
      "Epoch 00036: val_loss did not improve from 0.47127\n",
      "Epoch 37/1000\n",
      "3623/3623 [==============================] - 39s 11ms/step - loss: 0.3816 - sparse_categorical_accuracy: 0.8228 - f1: 0.8101 - val_loss: 0.4831 - val_sparse_categorical_accuracy: 0.7784 - val_f1: 0.8153\n",
      "\n",
      "Epoch 00037: val_loss did not improve from 0.47127\n",
      "Epoch 38/1000\n",
      "3623/3623 [==============================] - 39s 11ms/step - loss: 0.3716 - sparse_categorical_accuracy: 0.8275 - f1: 0.8106 - val_loss: 0.5103 - val_sparse_categorical_accuracy: 0.7758 - val_f1: 0.8153\n",
      "\n",
      "Epoch 00038: val_loss did not improve from 0.47127\n",
      "Epoch 39/1000\n",
      "3623/3623 [==============================] - 39s 11ms/step - loss: 0.3707 - sparse_categorical_accuracy: 0.8322 - f1: 0.8102 - val_loss: 0.5354 - val_sparse_categorical_accuracy: 0.7603 - val_f1: 0.8153\n",
      "\n",
      "Epoch 00039: val_loss did not improve from 0.47127\n",
      "Epoch 40/1000\n",
      "3623/3623 [==============================] - 40s 11ms/step - loss: 0.3634 - sparse_categorical_accuracy: 0.8303 - f1: 0.8100 - val_loss: 0.5404 - val_sparse_categorical_accuracy: 0.7487 - val_f1: 0.8153\n",
      "\n",
      "Epoch 00040: val_loss did not improve from 0.47127\n",
      "Epoch 41/1000\n",
      "3623/3623 [==============================] - 39s 11ms/step - loss: 0.3600 - sparse_categorical_accuracy: 0.8374 - f1: 0.8106 - val_loss: 0.5411 - val_sparse_categorical_accuracy: 0.7835 - val_f1: 0.8153\n",
      "\n",
      "Epoch 00041: val_loss did not improve from 0.47127\n",
      "Epoch 42/1000\n",
      "3623/3623 [==============================] - 40s 11ms/step - loss: 0.3646 - sparse_categorical_accuracy: 0.8416 - f1: 0.8097 - val_loss: 0.4857 - val_sparse_categorical_accuracy: 0.7680 - val_f1: 0.8153\n",
      "\n",
      "Epoch 00042: val_loss did not improve from 0.47127\n",
      "Epoch 43/1000\n",
      "3623/3623 [==============================] - 40s 11ms/step - loss: 0.3509 - sparse_categorical_accuracy: 0.8432 - f1: 0.8094 - val_loss: 0.4816 - val_sparse_categorical_accuracy: 0.7680 - val_f1: 0.8153\n",
      "\n",
      "Epoch 00043: val_loss did not improve from 0.47127\n",
      "Epoch 44/1000\n",
      "3623/3623 [==============================] - 40s 11ms/step - loss: 0.3391 - sparse_categorical_accuracy: 0.8443 - f1: 0.8102 - val_loss: 0.5140 - val_sparse_categorical_accuracy: 0.7526 - val_f1: 0.8153\n",
      "\n",
      "Epoch 00044: val_loss did not improve from 0.47127\n",
      "Epoch 45/1000\n",
      "3623/3623 [==============================] - 40s 11ms/step - loss: 0.3463 - sparse_categorical_accuracy: 0.8360 - f1: 0.8101 - val_loss: 0.5149 - val_sparse_categorical_accuracy: 0.7706 - val_f1: 0.8153\n",
      "\n",
      "Epoch 00045: val_loss did not improve from 0.47127\n",
      "Epoch 46/1000\n",
      "3623/3623 [==============================] - 40s 11ms/step - loss: 0.3477 - sparse_categorical_accuracy: 0.8418 - f1: 0.8099 - val_loss: 0.5041 - val_sparse_categorical_accuracy: 0.7758 - val_f1: 0.8153\n",
      "\n",
      "Epoch 00046: val_loss did not improve from 0.47127\n",
      "Epoch 47/1000\n",
      "3623/3623 [==============================] - 39s 11ms/step - loss: 0.3403 - sparse_categorical_accuracy: 0.8476 - f1: 0.8094 - val_loss: 0.6137 - val_sparse_categorical_accuracy: 0.7706 - val_f1: 0.8153\n",
      "\n",
      "Epoch 00047: val_loss did not improve from 0.47127\n",
      "Epoch 48/1000\n",
      "3623/3623 [==============================] - 39s 11ms/step - loss: 0.3313 - sparse_categorical_accuracy: 0.8501 - f1: 0.8106 - val_loss: 0.5463 - val_sparse_categorical_accuracy: 0.7784 - val_f1: 0.8153\n",
      "\n",
      "Epoch 00048: val_loss did not improve from 0.47127\n",
      "Epoch 49/1000\n",
      "3623/3623 [==============================] - 40s 11ms/step - loss: 0.3296 - sparse_categorical_accuracy: 0.8515 - f1: 0.8100 - val_loss: 0.4973 - val_sparse_categorical_accuracy: 0.7771 - val_f1: 0.8153\n",
      "\n",
      "Epoch 00049: val_loss did not improve from 0.47127\n",
      "Epoch 50/1000\n",
      "3623/3623 [==============================] - 40s 11ms/step - loss: 0.3129 - sparse_categorical_accuracy: 0.8556 - f1: 0.8094 - val_loss: 0.5869 - val_sparse_categorical_accuracy: 0.7745 - val_f1: 0.8153\n",
      "\n",
      "Epoch 00050: val_loss did not improve from 0.47127\n",
      "Epoch 51/1000\n",
      "3623/3623 [==============================] - 39s 11ms/step - loss: 0.3157 - sparse_categorical_accuracy: 0.8648 - f1: 0.8105 - val_loss: 0.5629 - val_sparse_categorical_accuracy: 0.7732 - val_f1: 0.8153\n",
      "\n",
      "Epoch 00051: val_loss did not improve from 0.47127\n",
      "Epoch 52/1000\n",
      "3623/3623 [==============================] - 40s 11ms/step - loss: 0.3075 - sparse_categorical_accuracy: 0.8570 - f1: 0.8097 - val_loss: 0.5192 - val_sparse_categorical_accuracy: 0.7796 - val_f1: 0.8153\n",
      "\n",
      "Epoch 00052: val_loss did not improve from 0.47127\n",
      "Epoch 53/1000\n",
      "3623/3623 [==============================] - 39s 11ms/step - loss: 0.3004 - sparse_categorical_accuracy: 0.8659 - f1: 0.8098 - val_loss: 0.4972 - val_sparse_categorical_accuracy: 0.7912 - val_f1: 0.8153\n",
      "\n",
      "Epoch 00053: val_loss did not improve from 0.47127\n",
      "Epoch 54/1000\n",
      "3623/3623 [==============================] - 40s 11ms/step - loss: 0.2994 - sparse_categorical_accuracy: 0.8689 - f1: 0.8097 - val_loss: 0.5529 - val_sparse_categorical_accuracy: 0.7809 - val_f1: 0.8153\n",
      "\n",
      "Epoch 00054: val_loss did not improve from 0.47127\n",
      "Epoch 55/1000\n",
      "3623/3623 [==============================] - 39s 11ms/step - loss: 0.2920 - sparse_categorical_accuracy: 0.8777 - f1: 0.8103 - val_loss: 0.5190 - val_sparse_categorical_accuracy: 0.7861 - val_f1: 0.8153\n",
      "\n",
      "Epoch 00055: val_loss did not improve from 0.47127\n",
      "Epoch 00055: early stopping\n"
     ]
    },
    {
     "data": {
      "text/plain": [
       "<keras.callbacks.History at 0x7f8053825b70>"
      ]
     },
     "execution_count": 12,
     "metadata": {},
     "output_type": "execute_result"
    }
   ],
   "source": [
    "#training\n",
    "model.fit(x=X_train, \n",
    "          y=y_train, \n",
    "          batch_size=32, \n",
    "          epochs=1000, \n",
    "          verbose=1, \n",
    "          callbacks=callbacks_list, \n",
    "          validation_data=(X_val, y_val), \n",
    "          shuffle=True)"
   ]
  },
  {
   "cell_type": "code",
   "execution_count": 13,
   "metadata": {},
   "outputs": [
    {
     "name": "stdout",
     "output_type": "stream",
     "text": [
      "['loss', 'sparse_categorical_accuracy', 'f1']\n"
     ]
    }
   ],
   "source": [
    "#testing\n",
    "from keras.models import load_model\n",
    "trained_model = load_model(model_file, custom_objects={'f1': f1})\n",
    "print(trained_model.metrics_names)"
   ]
  },
  {
   "cell_type": "code",
   "execution_count": 14,
   "metadata": {},
   "outputs": [
    {
     "name": "stdout",
     "output_type": "stream",
     "text": [
      "3623/3623 [==============================] - 9s 2ms/step\n"
     ]
    },
    {
     "data": {
      "text/plain": [
       "[0.3568355553870105, 0.834391388368646, 0.8108855039251466]"
      ]
     },
     "execution_count": 14,
     "metadata": {},
     "output_type": "execute_result"
    }
   ],
   "source": [
    "trained_model.evaluate(x=X_train, y=y_train)"
   ]
  },
  {
   "cell_type": "code",
   "execution_count": 15,
   "metadata": {},
   "outputs": [
    {
     "name": "stdout",
     "output_type": "stream",
     "text": [
      "776/776 [==============================] - 2s 2ms/step\n"
     ]
    },
    {
     "data": {
      "text/plain": [
       "[0.4712651167640981, 0.7731958762886598, 0.8152599641957234]"
      ]
     },
     "execution_count": 15,
     "metadata": {},
     "output_type": "execute_result"
    }
   ],
   "source": [
    "trained_model.evaluate(x=X_val, y=y_val)"
   ]
  },
  {
   "cell_type": "code",
   "execution_count": 16,
   "metadata": {},
   "outputs": [
    {
     "name": "stdout",
     "output_type": "stream",
     "text": [
      "777/777 [==============================] - 2s 2ms/step\n"
     ]
    },
    {
     "data": {
      "text/plain": [
       "[0.4762976199503571, 0.7683397683397684, 0.8108281598281369]"
      ]
     },
     "execution_count": 16,
     "metadata": {},
     "output_type": "execute_result"
    }
   ],
   "source": [
    "trained_model.evaluate(x=X_test, y=y_test)"
   ]
  },
  {
   "cell_type": "code",
   "execution_count": null,
   "metadata": {},
   "outputs": [],
   "source": []
  }
 ],
 "metadata": {
  "kernelspec": {
   "display_name": "Python 3",
   "language": "python",
   "name": "python3"
  },
  "language_info": {
   "codemirror_mode": {
    "name": "ipython",
    "version": 3
   },
   "file_extension": ".py",
   "mimetype": "text/x-python",
   "name": "python",
   "nbconvert_exporter": "python",
   "pygments_lexer": "ipython3",
   "version": "3.5.6"
  }
 },
 "nbformat": 4,
 "nbformat_minor": 2
}
