{
 "cells": [
  {
   "cell_type": "code",
   "execution_count": 1,
   "metadata": {},
   "outputs": [
    {
     "name": "stderr",
     "output_type": "stream",
     "text": [
      "Using TensorFlow backend.\n"
     ]
    }
   ],
   "source": [
    "import os\n",
    "import sys\n",
    "import numpy as np\n",
    "import keras\n",
    "# from sklearn.model_selection import train_test_split"
   ]
  },
  {
   "cell_type": "code",
   "execution_count": 2,
   "metadata": {},
   "outputs": [],
   "source": [
    "seed = 273\n",
    "kinase = 'egfr_erbB1'\n",
    "model_file = 'rnn_%s.h5' % (kinase)"
   ]
  },
  {
   "cell_type": "code",
   "execution_count": 3,
   "metadata": {},
   "outputs": [],
   "source": [
    "#import data\n",
    "smiles_lines = [line.strip().split(',') for line in open(os.path.join('data', kinase+'_smiles.csv'))]\n",
    "smiles = [line[1] for line in smiles_lines]\n",
    "fingerprint_lines = [line.strip().split(',') for line in open(os.path.join('data', kinase+'_fingerprints.csv'))]\n",
    "fingerprints = [line[2:] for line in fingerprint_lines]\n",
    "X_fingerprints = np.asarray(fingerprints, dtype=np.int16)\n",
    "y = np.asarray([int(line[2]) for line in smiles_lines], dtype=np.int8)"
   ]
  },
  {
   "cell_type": "code",
   "execution_count": 4,
   "metadata": {},
   "outputs": [],
   "source": [
    "#pad smiles with '!' to ensure equal length\n",
    "max_smiles_len = max(len(s) for s in smiles)\n",
    "smiles = [s + '!'*(max_smiles_len + 1 - len(s)) for s in smiles]"
   ]
  },
  {
   "cell_type": "code",
   "execution_count": 5,
   "metadata": {},
   "outputs": [],
   "source": [
    "#one-hot vector representation of smiles\n",
    "char_set = set()\n",
    "for s in smiles:\n",
    "    for c in s:\n",
    "        char_set.add(c)\n",
    "char_set = list(char_set)\n",
    "char_to_index = {char_set[i]: i for i in range(len(char_set))}\n",
    "\n",
    "X_smiles = np.zeros((len(smiles), max_smiles_len + 1, len(char_set)))\n",
    "for i in range(len(smiles)):\n",
    "    code = smiles[i]\n",
    "    for j in range(len(code)):\n",
    "        char = code[j]\n",
    "        X_smiles[i, j, char_to_index[char]] = 1        "
   ]
  },
  {
   "cell_type": "code",
   "execution_count": 6,
   "metadata": {},
   "outputs": [
    {
     "name": "stdout",
     "output_type": "stream",
     "text": [
      "(5176, 6117)\n",
      "(5176, 252, 43)\n",
      "(5176,)\n"
     ]
    }
   ],
   "source": [
    "print(X_fingerprints.shape)\n",
    "print(X_smiles.shape)\n",
    "print(y.shape)"
   ]
  },
  {
   "cell_type": "code",
   "execution_count": 7,
   "metadata": {},
   "outputs": [
    {
     "name": "stdout",
     "output_type": "stream",
     "text": [
      "(3624, 6117)\n",
      "(3624, 252, 43)\n",
      "(3624,)\n",
      "(776, 6117)\n",
      "(776, 252, 43)\n",
      "(776,)\n",
      "(776, 6117)\n",
      "(776, 252, 43)\n",
      "(776,)\n"
     ]
    }
   ],
   "source": [
    "#train val test split\n",
    "n_tot = X_smiles.shape[0]\n",
    "n_test = round(n_tot*0.15)\n",
    "n_val = round(n_tot*0.15)\n",
    "n_train  = n_tot - n_test - n_val\n",
    "indices = np.arange(n_tot, dtype=int)\n",
    "np.random.seed(seed)\n",
    "np.random.shuffle(indices)\n",
    "indices_train = indices[:n_train]\n",
    "indices_val = indices[n_train:n_train+n_val]\n",
    "indices_test = indices[n_train+n_val:]\n",
    "X_fingerprints_train = X_fingerprints[indices_train]\n",
    "print(X_fingerprints_train.shape)\n",
    "X_smiles_train = X_smiles[indices_train]\n",
    "print(X_smiles_train.shape)\n",
    "y_train = y[indices_train]\n",
    "print(y_train.shape)\n",
    "X_fingerprints_val = X_fingerprints[indices_val]\n",
    "print(X_fingerprints_val.shape)\n",
    "X_smiles_val = X_smiles[indices_val]\n",
    "print(X_smiles_val.shape)\n",
    "y_val = y[indices_val]\n",
    "print(y_val.shape)\n",
    "X_fingerprints_test = X_fingerprints[indices_test]\n",
    "print(X_fingerprints_test.shape)\n",
    "X_smiles_test = X_smiles[indices_test]\n",
    "print(X_smiles_test.shape)\n",
    "y_test = y[indices_test]\n",
    "print(y_test.shape)\n",
    "smiles_input_shape = X_smiles_train.shape[1:]\n",
    "fingerprints_input_shape = X_fingerprints_train.shape[1:]"
   ]
  },
  {
   "cell_type": "code",
   "execution_count": 8,
   "metadata": {},
   "outputs": [
    {
     "name": "stdout",
     "output_type": "stream",
     "text": [
      "[]\n"
     ]
    }
   ],
   "source": [
    "#check GPU presence\n",
    "from tensorflow.python.client import device_lib\n",
    "\n",
    "def get_available_gpus():\n",
    "    local_device_protos = device_lib.list_local_devices()\n",
    "    return [x.name for x in local_device_protos if x.device_type == 'GPU']\n",
    "\n",
    "print(get_available_gpus())"
   ]
  },
  {
   "cell_type": "code",
   "execution_count": 9,
   "metadata": {},
   "outputs": [],
   "source": [
    "#keras imports\n",
    "from keras.models import Sequential\n",
    "from keras.layers import TimeDistributed, GlobalAveragePooling2D, Activation, Dense, Input, Bidirectional\n",
    "from keras.layers import BatchNormalization, Conv2D, MaxPooling2D, AveragePooling2D, GlobalAveragePooling2D\n",
    "from keras.layers import GlobalMaxPooling2D\n",
    "from keras.layers.recurrent import LSTM\n",
    "from keras.callbacks import ModelCheckpoint, ReduceLROnPlateau, Callback, EarlyStopping\n",
    "from keras.layers import Dropout, Flatten\n",
    "from keras.layers import concatenate\n",
    "from keras import regularizers\n",
    "from keras import initializers\n",
    "from keras import constraints\n",
    "from keras.models import Model\n",
    "# Backend\n",
    "from keras import backend as K\n",
    "# Utils\n",
    "from keras.utils.layer_utils import convert_all_kernels_in_model\n",
    "from keras.utils.data_utils import get_file\n",
    "from keras import metrics"
   ]
  },
  {
   "cell_type": "code",
   "execution_count": 10,
   "metadata": {},
   "outputs": [],
   "source": [
    "#F1 score computation\n",
    "from sklearn.metrics import confusion_matrix, f1_score, precision_score, recall_score\n",
    "from keras import backend as K\n",
    "\n",
    "def f1(y_true, y_pred):\n",
    "    def recall(y_true, y_pred):\n",
    "        \"\"\"Recall metric.\n",
    "\n",
    "        Only computes a batch-wise average of recall.\n",
    "\n",
    "        Computes the recall, a metric for multi-label classification of\n",
    "        how many relevant items are selected.\n",
    "        \"\"\"\n",
    "        true_positives = K.sum(K.round(K.clip(y_true * y_pred, 0, 1)))\n",
    "        possible_positives = K.sum(K.round(K.clip(y_true, 0, 1)))\n",
    "        recall = true_positives / (possible_positives + K.epsilon())\n",
    "        return recall\n",
    "\n",
    "    def precision(y_true, y_pred):\n",
    "        \"\"\"Precision metric.\n",
    "\n",
    "        Only computes a batch-wise average of precision.\n",
    "\n",
    "        Computes the precision, a metric for multi-label classification of\n",
    "        how many selected items are relevant.\n",
    "        \"\"\"\n",
    "        true_positives = K.sum(K.round(K.clip(y_true * y_pred, 0, 1)))\n",
    "        predicted_positives = K.sum(K.round(K.clip(y_pred, 0, 1)))\n",
    "        precision = true_positives / (predicted_positives + K.epsilon())\n",
    "        return precision\n",
    "    precision = precision(y_true, y_pred)\n",
    "    recall = recall(y_true, y_pred)\n",
    "    return 2*((precision*recall)/(precision+recall+K.epsilon()))"
   ]
  },
  {
   "cell_type": "code",
   "execution_count": 11,
   "metadata": {},
   "outputs": [],
   "source": [
    "#basic RNN model\n",
    "model = Sequential()\n",
    "model.add(Bidirectional(LSTM(units=128, return_sequences=False), input_shape=smiles_input_shape))\n",
    "model.add(Dense(128, activation='relu'))\n",
    "model.add(Dropout(0.5))\n",
    "model.add(Dense(2, activation='softmax'))"
   ]
  },
  {
   "cell_type": "code",
   "execution_count": 12,
   "metadata": {},
   "outputs": [
    {
     "name": "stdout",
     "output_type": "stream",
     "text": [
      "_________________________________________________________________\n",
      "Layer (type)                 Output Shape              Param #   \n",
      "=================================================================\n",
      "bidirectional_1 (Bidirection (None, 256)               176128    \n",
      "_________________________________________________________________\n",
      "dense_1 (Dense)              (None, 128)               32896     \n",
      "_________________________________________________________________\n",
      "dropout_1 (Dropout)          (None, 128)               0         \n",
      "_________________________________________________________________\n",
      "dense_2 (Dense)              (None, 2)                 258       \n",
      "=================================================================\n",
      "Total params: 209,282\n",
      "Trainable params: 209,282\n",
      "Non-trainable params: 0\n",
      "_________________________________________________________________\n"
     ]
    }
   ],
   "source": [
    "#compile model\n",
    "adam = keras.optimizers.Adam(lr=0.001, decay=0.0, clipnorm=5.)\n",
    "stop = EarlyStopping(patience=20, verbose=1)\n",
    "model.compile(optimizer=adam, loss='sparse_categorical_crossentropy', metrics=[metrics.sparse_categorical_accuracy, f1])\n",
    "checkpoint = ModelCheckpoint(model_file, monitor='val_loss', verbose=1, save_best_only=True, mode='min')\n",
    "\n",
    "callbacks_list = [checkpoint, stop]\n",
    "\n",
    "model.summary()"
   ]
  },
  {
   "cell_type": "code",
   "execution_count": 13,
   "metadata": {},
   "outputs": [
    {
     "name": "stdout",
     "output_type": "stream",
     "text": [
      "Train on 3624 samples, validate on 776 samples\n",
      "Epoch 1/1000\n",
      "3624/3624 [==============================] - 218s 60ms/step - loss: 0.6098 - sparse_categorical_accuracy: 0.6849 - f1: 0.8089 - val_loss: 0.5689 - val_sparse_categorical_accuracy: 0.7062 - val_f1: 0.8309\n",
      "\n",
      "Epoch 00001: val_loss improved from inf to 0.56891, saving model to rnn_egfr_erbB1.h5\n",
      "Epoch 2/1000\n",
      "3624/3624 [==============================] - 215s 59ms/step - loss: 0.5759 - sparse_categorical_accuracy: 0.6843 - f1: 0.8091 - val_loss: 0.5507 - val_sparse_categorical_accuracy: 0.7242 - val_f1: 0.8309\n",
      "\n",
      "Epoch 00002: val_loss improved from 0.56891 to 0.55068, saving model to rnn_egfr_erbB1.h5\n",
      "Epoch 3/1000\n",
      "3624/3624 [==============================] - 214s 59ms/step - loss: 0.5660 - sparse_categorical_accuracy: 0.6992 - f1: 0.8081 - val_loss: 0.5388 - val_sparse_categorical_accuracy: 0.7229 - val_f1: 0.8309\n",
      "\n",
      "Epoch 00003: val_loss improved from 0.55068 to 0.53882, saving model to rnn_egfr_erbB1.h5\n",
      "Epoch 4/1000\n",
      "3624/3624 [==============================] - 212s 59ms/step - loss: 0.5462 - sparse_categorical_accuracy: 0.7061 - f1: 0.8090 - val_loss: 0.5347 - val_sparse_categorical_accuracy: 0.7229 - val_f1: 0.8309\n",
      "\n",
      "Epoch 00004: val_loss improved from 0.53882 to 0.53466, saving model to rnn_egfr_erbB1.h5\n",
      "Epoch 5/1000\n",
      "3624/3624 [==============================] - 214s 59ms/step - loss: 0.5323 - sparse_categorical_accuracy: 0.7166 - f1: 0.8098 - val_loss: 0.5237 - val_sparse_categorical_accuracy: 0.7268 - val_f1: 0.8309\n",
      "\n",
      "Epoch 00005: val_loss improved from 0.53466 to 0.52370, saving model to rnn_egfr_erbB1.h5\n",
      "Epoch 6/1000\n",
      "3624/3624 [==============================] - 214s 59ms/step - loss: 0.5178 - sparse_categorical_accuracy: 0.7257 - f1: 0.8092 - val_loss: 0.5273 - val_sparse_categorical_accuracy: 0.7500 - val_f1: 0.8309\n",
      "\n",
      "Epoch 00006: val_loss did not improve from 0.52370\n",
      "Epoch 7/1000\n",
      "3624/3624 [==============================] - 214s 59ms/step - loss: 0.5219 - sparse_categorical_accuracy: 0.7227 - f1: 0.8090 - val_loss: 0.5059 - val_sparse_categorical_accuracy: 0.7487 - val_f1: 0.8309\n",
      "\n",
      "Epoch 00007: val_loss improved from 0.52370 to 0.50590, saving model to rnn_egfr_erbB1.h5\n",
      "Epoch 8/1000\n",
      "3624/3624 [==============================] - 214s 59ms/step - loss: 0.5043 - sparse_categorical_accuracy: 0.7343 - f1: 0.8093 - val_loss: 0.5032 - val_sparse_categorical_accuracy: 0.7539 - val_f1: 0.8309\n",
      "\n",
      "Epoch 00008: val_loss improved from 0.50590 to 0.50323, saving model to rnn_egfr_erbB1.h5\n",
      "Epoch 9/1000\n",
      "3624/3624 [==============================] - 214s 59ms/step - loss: 0.5022 - sparse_categorical_accuracy: 0.7326 - f1: 0.8090 - val_loss: 0.4987 - val_sparse_categorical_accuracy: 0.7539 - val_f1: 0.8309\n",
      "\n",
      "Epoch 00009: val_loss improved from 0.50323 to 0.49874, saving model to rnn_egfr_erbB1.h5\n",
      "Epoch 10/1000\n",
      "3624/3624 [==============================] - 215s 59ms/step - loss: 0.4901 - sparse_categorical_accuracy: 0.7500 - f1: 0.8086 - val_loss: 0.4963 - val_sparse_categorical_accuracy: 0.7552 - val_f1: 0.8309\n",
      "\n",
      "Epoch 00010: val_loss improved from 0.49874 to 0.49627, saving model to rnn_egfr_erbB1.h5\n",
      "Epoch 11/1000\n",
      "3624/3624 [==============================] - 207s 57ms/step - loss: 0.4834 - sparse_categorical_accuracy: 0.7439 - f1: 0.8094 - val_loss: 0.4962 - val_sparse_categorical_accuracy: 0.7719 - val_f1: 0.8309\n",
      "\n",
      "Epoch 00011: val_loss improved from 0.49627 to 0.49615, saving model to rnn_egfr_erbB1.h5\n",
      "Epoch 12/1000\n",
      "3624/3624 [==============================] - 183s 50ms/step - loss: 0.4714 - sparse_categorical_accuracy: 0.7517 - f1: 0.8097 - val_loss: 0.5018 - val_sparse_categorical_accuracy: 0.7539 - val_f1: 0.8309\n",
      "\n",
      "Epoch 00012: val_loss did not improve from 0.49615\n",
      "Epoch 13/1000\n",
      "3624/3624 [==============================] - 183s 50ms/step - loss: 0.4690 - sparse_categorical_accuracy: 0.7580 - f1: 0.8086 - val_loss: 0.5024 - val_sparse_categorical_accuracy: 0.7590 - val_f1: 0.8309\n",
      "\n",
      "Epoch 00013: val_loss did not improve from 0.49615\n",
      "Epoch 14/1000\n",
      "3624/3624 [==============================] - 199s 55ms/step - loss: 0.4642 - sparse_categorical_accuracy: 0.7638 - f1: 0.8094 - val_loss: 0.5159 - val_sparse_categorical_accuracy: 0.7590 - val_f1: 0.8309\n",
      "\n",
      "Epoch 00014: val_loss did not improve from 0.49615\n",
      "Epoch 15/1000\n",
      "3624/3624 [==============================] - 243s 67ms/step - loss: 0.4600 - sparse_categorical_accuracy: 0.7690 - f1: 0.8094 - val_loss: 0.4910 - val_sparse_categorical_accuracy: 0.7693 - val_f1: 0.8309\n",
      "\n",
      "Epoch 00015: val_loss improved from 0.49615 to 0.49100, saving model to rnn_egfr_erbB1.h5\n",
      "Epoch 16/1000\n",
      "3624/3624 [==============================] - 253s 70ms/step - loss: 0.4500 - sparse_categorical_accuracy: 0.7795 - f1: 0.8096 - val_loss: 0.5118 - val_sparse_categorical_accuracy: 0.7706 - val_f1: 0.8309\n",
      "\n",
      "Epoch 00016: val_loss did not improve from 0.49100\n",
      "Epoch 17/1000\n",
      "3624/3624 [==============================] - 244s 67ms/step - loss: 0.4556 - sparse_categorical_accuracy: 0.7712 - f1: 0.8091 - val_loss: 0.5008 - val_sparse_categorical_accuracy: 0.7552 - val_f1: 0.8309\n",
      "\n",
      "Epoch 00017: val_loss did not improve from 0.49100\n",
      "Epoch 18/1000\n",
      "3624/3624 [==============================] - 222s 61ms/step - loss: 0.4369 - sparse_categorical_accuracy: 0.7889 - f1: 0.8094 - val_loss: 0.4918 - val_sparse_categorical_accuracy: 0.7655 - val_f1: 0.8309\n",
      "\n",
      "Epoch 00018: val_loss did not improve from 0.49100\n",
      "Epoch 19/1000\n",
      "3624/3624 [==============================] - 214s 59ms/step - loss: 0.4317 - sparse_categorical_accuracy: 0.7988 - f1: 0.8089 - val_loss: 0.5066 - val_sparse_categorical_accuracy: 0.7564 - val_f1: 0.8309\n",
      "\n",
      "Epoch 00019: val_loss did not improve from 0.49100\n",
      "Epoch 20/1000\n",
      "3624/3624 [==============================] - 213s 59ms/step - loss: 0.4292 - sparse_categorical_accuracy: 0.7911 - f1: 0.8090 - val_loss: 0.4970 - val_sparse_categorical_accuracy: 0.7719 - val_f1: 0.8309\n",
      "\n",
      "Epoch 00020: val_loss did not improve from 0.49100\n",
      "Epoch 21/1000\n",
      "3624/3624 [==============================] - 214s 59ms/step - loss: 0.4251 - sparse_categorical_accuracy: 0.8068 - f1: 0.8092 - val_loss: 0.5022 - val_sparse_categorical_accuracy: 0.7564 - val_f1: 0.8309\n",
      "\n",
      "Epoch 00021: val_loss did not improve from 0.49100\n",
      "Epoch 22/1000\n",
      "3624/3624 [==============================] - 213s 59ms/step - loss: 0.4126 - sparse_categorical_accuracy: 0.8091 - f1: 0.8088 - val_loss: 0.4831 - val_sparse_categorical_accuracy: 0.7809 - val_f1: 0.8309\n",
      "\n",
      "Epoch 00022: val_loss improved from 0.49100 to 0.48313, saving model to rnn_egfr_erbB1.h5\n",
      "Epoch 23/1000\n",
      "3624/3624 [==============================] - 214s 59ms/step - loss: 0.3985 - sparse_categorical_accuracy: 0.8184 - f1: 0.8089 - val_loss: 0.4901 - val_sparse_categorical_accuracy: 0.7706 - val_f1: 0.8309\n",
      "\n",
      "Epoch 00023: val_loss did not improve from 0.48313\n",
      "Epoch 24/1000\n",
      "3624/3624 [==============================] - 213s 59ms/step - loss: 0.3907 - sparse_categorical_accuracy: 0.8231 - f1: 0.8091 - val_loss: 0.4629 - val_sparse_categorical_accuracy: 0.7758 - val_f1: 0.8309\n",
      "\n",
      "Epoch 00024: val_loss improved from 0.48313 to 0.46292, saving model to rnn_egfr_erbB1.h5\n",
      "Epoch 25/1000\n",
      "3624/3624 [==============================] - 213s 59ms/step - loss: 0.3864 - sparse_categorical_accuracy: 0.8300 - f1: 0.8084 - val_loss: 0.4647 - val_sparse_categorical_accuracy: 0.7951 - val_f1: 0.8309\n",
      "\n",
      "Epoch 00025: val_loss did not improve from 0.46292\n",
      "Epoch 26/1000\n",
      "3624/3624 [==============================] - 209s 58ms/step - loss: 0.3755 - sparse_categorical_accuracy: 0.8331 - f1: 0.8088 - val_loss: 0.5329 - val_sparse_categorical_accuracy: 0.7655 - val_f1: 0.8309\n",
      "\n",
      "Epoch 00026: val_loss did not improve from 0.46292\n",
      "Epoch 27/1000\n",
      "3624/3624 [==============================] - 161s 44ms/step - loss: 0.3804 - sparse_categorical_accuracy: 0.8231 - f1: 0.8090 - val_loss: 0.4812 - val_sparse_categorical_accuracy: 0.7771 - val_f1: 0.8309\n",
      "\n",
      "Epoch 00027: val_loss did not improve from 0.46292\n",
      "Epoch 28/1000\n",
      "3624/3624 [==============================] - 153s 42ms/step - loss: 0.3711 - sparse_categorical_accuracy: 0.8314 - f1: 0.8095 - val_loss: 0.4914 - val_sparse_categorical_accuracy: 0.7655 - val_f1: 0.8309\n",
      "\n",
      "Epoch 00028: val_loss did not improve from 0.46292\n",
      "Epoch 29/1000\n"
     ]
    },
    {
     "name": "stdout",
     "output_type": "stream",
     "text": [
      "3624/3624 [==============================] - 150s 41ms/step - loss: 0.3609 - sparse_categorical_accuracy: 0.8386 - f1: 0.8090 - val_loss: 0.4922 - val_sparse_categorical_accuracy: 0.7784 - val_f1: 0.8309\n",
      "\n",
      "Epoch 00029: val_loss did not improve from 0.46292\n",
      "Epoch 30/1000\n",
      "3624/3624 [==============================] - 153s 42ms/step - loss: 0.3563 - sparse_categorical_accuracy: 0.8383 - f1: 0.8091 - val_loss: 0.4712 - val_sparse_categorical_accuracy: 0.7938 - val_f1: 0.8309\n",
      "\n",
      "Epoch 00030: val_loss did not improve from 0.46292\n",
      "Epoch 31/1000\n",
      "3624/3624 [==============================] - 150s 41ms/step - loss: 0.3502 - sparse_categorical_accuracy: 0.8458 - f1: 0.8088 - val_loss: 0.4922 - val_sparse_categorical_accuracy: 0.7835 - val_f1: 0.8309\n",
      "\n",
      "Epoch 00031: val_loss did not improve from 0.46292\n",
      "Epoch 32/1000\n",
      "3624/3624 [==============================] - 149s 41ms/step - loss: 0.3525 - sparse_categorical_accuracy: 0.8413 - f1: 0.8087 - val_loss: 0.5063 - val_sparse_categorical_accuracy: 0.7977 - val_f1: 0.8309\n",
      "\n",
      "Epoch 00032: val_loss did not improve from 0.46292\n",
      "Epoch 33/1000\n",
      "3624/3624 [==============================] - 131s 36ms/step - loss: 0.3348 - sparse_categorical_accuracy: 0.8502 - f1: 0.8089 - val_loss: 0.4907 - val_sparse_categorical_accuracy: 0.7887 - val_f1: 0.8309\n",
      "\n",
      "Epoch 00033: val_loss did not improve from 0.46292\n",
      "Epoch 34/1000\n",
      "3624/3624 [==============================] - 120s 33ms/step - loss: 0.3313 - sparse_categorical_accuracy: 0.8546 - f1: 0.8093 - val_loss: 0.5052 - val_sparse_categorical_accuracy: 0.7925 - val_f1: 0.8309\n",
      "\n",
      "Epoch 00034: val_loss did not improve from 0.46292\n",
      "Epoch 35/1000\n",
      "3624/3624 [==============================] - 120s 33ms/step - loss: 0.3282 - sparse_categorical_accuracy: 0.8568 - f1: 0.8080 - val_loss: 0.4988 - val_sparse_categorical_accuracy: 0.7964 - val_f1: 0.8309\n",
      "\n",
      "Epoch 00035: val_loss did not improve from 0.46292\n",
      "Epoch 36/1000\n",
      "3624/3624 [==============================] - 118s 32ms/step - loss: 0.3244 - sparse_categorical_accuracy: 0.8609 - f1: 0.8088 - val_loss: 0.5110 - val_sparse_categorical_accuracy: 0.7848 - val_f1: 0.8309\n",
      "\n",
      "Epoch 00036: val_loss did not improve from 0.46292\n",
      "Epoch 37/1000\n",
      "3624/3624 [==============================] - 103s 28ms/step - loss: 0.3039 - sparse_categorical_accuracy: 0.8684 - f1: 0.8095 - val_loss: 0.5092 - val_sparse_categorical_accuracy: 0.7848 - val_f1: 0.8309\n",
      "\n",
      "Epoch 00037: val_loss did not improve from 0.46292\n",
      "Epoch 38/1000\n",
      "3624/3624 [==============================] - 89s 25ms/step - loss: 0.3059 - sparse_categorical_accuracy: 0.8692 - f1: 0.8092 - val_loss: 0.5256 - val_sparse_categorical_accuracy: 0.7835 - val_f1: 0.8309\n",
      "\n",
      "Epoch 00038: val_loss did not improve from 0.46292\n",
      "Epoch 39/1000\n",
      "3624/3624 [==============================] - 66s 18ms/step - loss: 0.2955 - sparse_categorical_accuracy: 0.8653 - f1: 0.8086 - val_loss: 0.5354 - val_sparse_categorical_accuracy: 0.7912 - val_f1: 0.8309\n",
      "\n",
      "Epoch 00039: val_loss did not improve from 0.46292\n",
      "Epoch 40/1000\n",
      "3624/3624 [==============================] - 60s 17ms/step - loss: 0.2832 - sparse_categorical_accuracy: 0.8756 - f1: 0.8095 - val_loss: 0.5613 - val_sparse_categorical_accuracy: 0.7861 - val_f1: 0.8309\n",
      "\n",
      "Epoch 00040: val_loss did not improve from 0.46292\n",
      "Epoch 41/1000\n",
      "3624/3624 [==============================] - 60s 17ms/step - loss: 0.3018 - sparse_categorical_accuracy: 0.8645 - f1: 0.8093 - val_loss: 0.6177 - val_sparse_categorical_accuracy: 0.7822 - val_f1: 0.8309\n",
      "\n",
      "Epoch 00041: val_loss did not improve from 0.46292\n",
      "Epoch 42/1000\n",
      "3624/3624 [==============================] - 60s 17ms/step - loss: 0.2903 - sparse_categorical_accuracy: 0.8692 - f1: 0.8089 - val_loss: 0.5378 - val_sparse_categorical_accuracy: 0.7822 - val_f1: 0.8309\n",
      "\n",
      "Epoch 00042: val_loss did not improve from 0.46292\n",
      "Epoch 43/1000\n",
      "3624/3624 [==============================] - 60s 16ms/step - loss: 0.2714 - sparse_categorical_accuracy: 0.8794 - f1: 0.8094 - val_loss: 0.5418 - val_sparse_categorical_accuracy: 0.7732 - val_f1: 0.8309\n",
      "\n",
      "Epoch 00043: val_loss did not improve from 0.46292\n",
      "Epoch 44/1000\n",
      "3624/3624 [==============================] - 60s 17ms/step - loss: 0.2619 - sparse_categorical_accuracy: 0.8852 - f1: 0.8088 - val_loss: 0.5503 - val_sparse_categorical_accuracy: 0.7925 - val_f1: 0.8309\n",
      "\n",
      "Epoch 00044: val_loss did not improve from 0.46292\n",
      "Epoch 00044: early stopping\n"
     ]
    },
    {
     "data": {
      "text/plain": [
       "<keras.callbacks.History at 0x7f7b311aad30>"
      ]
     },
     "execution_count": 13,
     "metadata": {},
     "output_type": "execute_result"
    }
   ],
   "source": [
    "#training\n",
    "model.fit(x=X_smiles_train, \n",
    "          y=y_train, \n",
    "          batch_size=32, \n",
    "          epochs=1000, \n",
    "          verbose=1, \n",
    "          callbacks=callbacks_list, \n",
    "          validation_data=(X_smiles_val, y_val), \n",
    "          shuffle=True)"
   ]
  },
  {
   "cell_type": "code",
   "execution_count": 14,
   "metadata": {},
   "outputs": [
    {
     "name": "stdout",
     "output_type": "stream",
     "text": [
      "['loss', 'sparse_categorical_accuracy', 'f1']\n"
     ]
    }
   ],
   "source": [
    "#testing\n",
    "from keras.models import load_model\n",
    "trained_model = load_model(model_file, custom_objects={'f1': f1})\n",
    "print(trained_model.metrics_names)"
   ]
  },
  {
   "cell_type": "code",
   "execution_count": 15,
   "metadata": {},
   "outputs": [
    {
     "name": "stdout",
     "output_type": "stream",
     "text": [
      "3624/3624 [==============================] - 13s 4ms/step\n"
     ]
    },
    {
     "data": {
      "text/plain": [
       "[0.3684829401785701, 0.8327814569536424, 0.8094977503580763]"
      ]
     },
     "execution_count": 15,
     "metadata": {},
     "output_type": "execute_result"
    }
   ],
   "source": [
    "trained_model.evaluate(x=X_smiles_train, y=y_train)"
   ]
  },
  {
   "cell_type": "code",
   "execution_count": 16,
   "metadata": {},
   "outputs": [
    {
     "name": "stdout",
     "output_type": "stream",
     "text": [
      "776/776 [==============================] - 3s 4ms/step\n"
     ]
    },
    {
     "data": {
      "text/plain": [
       "[0.46292419163222165, 0.7757731958762887, 0.8308834980443581]"
      ]
     },
     "execution_count": 16,
     "metadata": {},
     "output_type": "execute_result"
    }
   ],
   "source": [
    "trained_model.evaluate(x=X_smiles_val, y=y_val)"
   ]
  },
  {
   "cell_type": "code",
   "execution_count": 17,
   "metadata": {},
   "outputs": [
    {
     "name": "stdout",
     "output_type": "stream",
     "text": [
      "776/776 [==============================] - 3s 4ms/step\n"
     ]
    },
    {
     "data": {
      "text/plain": [
       "[0.473690249256252, 0.7654639175257731, 0.8034391489225564]"
      ]
     },
     "execution_count": 17,
     "metadata": {},
     "output_type": "execute_result"
    }
   ],
   "source": [
    "trained_model.evaluate(x=X_smiles_test, y=y_test)"
   ]
  },
  {
   "cell_type": "code",
   "execution_count": 18,
   "metadata": {},
   "outputs": [],
   "source": [
    "from sklearn.metrics import roc_curve\n",
    "from sklearn.metrics import roc_auc_score\n",
    "pred_train = trained_model.predict(x=X_smiles_train)[:,1]\n",
    "pred_val = trained_model.predict(x=X_smiles_val)[:,1]\n",
    "pred_test = trained_model.predict(x=X_smiles_test)[:,1]\n",
    "np.savez(model_file[:-2] + 'npz', pred_train=pred_train, pred_val=pred_val, pred_test=pred_test)"
   ]
  }
 ],
 "metadata": {
  "kernelspec": {
   "display_name": "Python 3",
   "language": "python",
   "name": "python3"
  },
  "language_info": {
   "codemirror_mode": {
    "name": "ipython",
    "version": 3
   },
   "file_extension": ".py",
   "mimetype": "text/x-python",
   "name": "python",
   "nbconvert_exporter": "python",
   "pygments_lexer": "ipython3",
   "version": "3.6.7"
  }
 },
 "nbformat": 4,
 "nbformat_minor": 2
}
