{
 "cells": [
  {
   "cell_type": "code",
   "execution_count": 1,
   "metadata": {},
   "outputs": [
    {
     "name": "stderr",
     "output_type": "stream",
     "text": [
      "Using TensorFlow backend.\n"
     ]
    }
   ],
   "source": [
    "import os\n",
    "import sys\n",
    "import numpy as np\n",
    "import keras\n",
    "# from sklearn.model_selection import train_test_split"
   ]
  },
  {
   "cell_type": "code",
   "execution_count": 2,
   "metadata": {},
   "outputs": [],
   "source": [
    "seed = 273\n",
    "kinase = 'egfr_erbB1'\n",
    "model_file = 'rnn_mlp_early_%s.h5' % (kinase)"
   ]
  },
  {
   "cell_type": "code",
   "execution_count": 3,
   "metadata": {},
   "outputs": [],
   "source": [
    "#import data\n",
    "smiles_lines = [line.strip().split(',') for line in open(os.path.join('data', kinase+'_smiles.csv'))]\n",
    "smiles = [line[1] for line in smiles_lines]\n",
    "fingerprint_lines = [line.strip().split(',') for line in open(os.path.join('data', kinase+'_fingerprints.csv'))]\n",
    "fingerprints = [line[2:] for line in fingerprint_lines]\n",
    "X_fingerprints = np.asarray(fingerprints, dtype=np.int16)\n",
    "y = np.asarray([int(line[2]) for line in smiles_lines], dtype=np.int8)"
   ]
  },
  {
   "cell_type": "code",
   "execution_count": 4,
   "metadata": {},
   "outputs": [],
   "source": [
    "#pad smiles with '!' to ensure equal length\n",
    "max_smiles_len = max(len(s) for s in smiles)\n",
    "smiles = [s + '!'*(max_smiles_len + 1 - len(s)) for s in smiles]"
   ]
  },
  {
   "cell_type": "code",
   "execution_count": 5,
   "metadata": {},
   "outputs": [],
   "source": [
    "#one-hot vector representation of smiles\n",
    "char_set = set()\n",
    "for s in smiles:\n",
    "    for c in s:\n",
    "        char_set.add(c)\n",
    "char_set = list(char_set)\n",
    "char_to_index = {char_set[i]: i for i in range(len(char_set))}\n",
    "\n",
    "X_smiles = np.zeros((len(smiles), max_smiles_len + 1, len(char_set)))\n",
    "for i in range(len(smiles)):\n",
    "    code = smiles[i]\n",
    "    for j in range(len(code)):\n",
    "        char = code[j]\n",
    "        X_smiles[i, j, char_to_index[char]] = 1        "
   ]
  },
  {
   "cell_type": "code",
   "execution_count": 6,
   "metadata": {},
   "outputs": [
    {
     "name": "stdout",
     "output_type": "stream",
     "text": [
      "(5176, 6117)\n",
      "(5176, 252, 43)\n",
      "(5176,)\n"
     ]
    }
   ],
   "source": [
    "print(X_fingerprints.shape)\n",
    "print(X_smiles.shape)\n",
    "print(y.shape)"
   ]
  },
  {
   "cell_type": "code",
   "execution_count": 7,
   "metadata": {},
   "outputs": [
    {
     "name": "stdout",
     "output_type": "stream",
     "text": [
      "(3624, 6117)\n",
      "(3624, 252, 43)\n",
      "(3624,)\n",
      "(776, 6117)\n",
      "(776, 252, 43)\n",
      "(776,)\n",
      "(776, 6117)\n",
      "(776, 252, 43)\n",
      "(776,)\n"
     ]
    }
   ],
   "source": [
    "#train val test split\n",
    "n_tot = X_smiles.shape[0]\n",
    "n_test = round(n_tot*0.15)\n",
    "n_val = round(n_tot*0.15)\n",
    "n_train  = n_tot - n_test - n_val\n",
    "indices = np.arange(n_tot, dtype=int)\n",
    "np.random.seed(seed)\n",
    "np.random.shuffle(indices)\n",
    "indices_train = indices[:n_train]\n",
    "indices_val = indices[n_train:n_train+n_val]\n",
    "indices_test = indices[n_train+n_val:]\n",
    "X_fingerprints_train = X_fingerprints[indices_train]\n",
    "print(X_fingerprints_train.shape)\n",
    "X_smiles_train = X_smiles[indices_train]\n",
    "print(X_smiles_train.shape)\n",
    "y_train = y[indices_train]\n",
    "print(y_train.shape)\n",
    "X_fingerprints_val = X_fingerprints[indices_val]\n",
    "print(X_fingerprints_val.shape)\n",
    "X_smiles_val = X_smiles[indices_val]\n",
    "print(X_smiles_val.shape)\n",
    "y_val = y[indices_val]\n",
    "print(y_val.shape)\n",
    "X_fingerprints_test = X_fingerprints[indices_test]\n",
    "print(X_fingerprints_test.shape)\n",
    "X_smiles_test = X_smiles[indices_test]\n",
    "print(X_smiles_test.shape)\n",
    "y_test = y[indices_test]\n",
    "print(y_test.shape)\n",
    "smiles_input_shape = X_smiles_train.shape[1:]\n",
    "fingerprints_input_shape = X_fingerprints_train.shape[1:]"
   ]
  },
  {
   "cell_type": "code",
   "execution_count": 8,
   "metadata": {},
   "outputs": [
    {
     "name": "stdout",
     "output_type": "stream",
     "text": [
      "[]\n"
     ]
    }
   ],
   "source": [
    "#check GPU presence\n",
    "from tensorflow.python.client import device_lib\n",
    "\n",
    "def get_available_gpus():\n",
    "    local_device_protos = device_lib.list_local_devices()\n",
    "    return [x.name for x in local_device_protos if x.device_type == 'GPU']\n",
    "\n",
    "print(get_available_gpus())"
   ]
  },
  {
   "cell_type": "code",
   "execution_count": 9,
   "metadata": {},
   "outputs": [],
   "source": [
    "#keras imports\n",
    "from keras.models import Sequential\n",
    "from keras.layers import TimeDistributed, GlobalAveragePooling2D, Activation, Dense, Input, Bidirectional\n",
    "from keras.layers import BatchNormalization, Conv2D, MaxPooling2D, AveragePooling2D, GlobalAveragePooling2D\n",
    "from keras.layers import GlobalMaxPooling2D\n",
    "from keras.layers.recurrent import LSTM\n",
    "from keras.callbacks import ModelCheckpoint, ReduceLROnPlateau, Callback, EarlyStopping\n",
    "from keras.layers import Dropout, Flatten\n",
    "from keras.layers import concatenate\n",
    "from keras import regularizers\n",
    "from keras import initializers\n",
    "from keras import constraints\n",
    "from keras.models import Model\n",
    "# Backend\n",
    "from keras import backend as K\n",
    "# Utils\n",
    "from keras.utils.layer_utils import convert_all_kernels_in_model\n",
    "from keras.utils.data_utils import get_file\n",
    "from keras import metrics"
   ]
  },
  {
   "cell_type": "code",
   "execution_count": 10,
   "metadata": {},
   "outputs": [],
   "source": [
    "#F1 score computation\n",
    "from sklearn.metrics import confusion_matrix, f1_score, precision_score, recall_score\n",
    "from keras import backend as K\n",
    "\n",
    "def f1(y_true, y_pred):\n",
    "    def recall(y_true, y_pred):\n",
    "        \"\"\"Recall metric.\n",
    "\n",
    "        Only computes a batch-wise average of recall.\n",
    "\n",
    "        Computes the recall, a metric for multi-label classification of\n",
    "        how many relevant items are selected.\n",
    "        \"\"\"\n",
    "        true_positives = K.sum(K.round(K.clip(y_true * y_pred, 0, 1)))\n",
    "        possible_positives = K.sum(K.round(K.clip(y_true, 0, 1)))\n",
    "        recall = true_positives / (possible_positives + K.epsilon())\n",
    "        return recall\n",
    "\n",
    "    def precision(y_true, y_pred):\n",
    "        \"\"\"Precision metric.\n",
    "\n",
    "        Only computes a batch-wise average of precision.\n",
    "\n",
    "        Computes the precision, a metric for multi-label classification of\n",
    "        how many selected items are relevant.\n",
    "        \"\"\"\n",
    "        true_positives = K.sum(K.round(K.clip(y_true * y_pred, 0, 1)))\n",
    "        predicted_positives = K.sum(K.round(K.clip(y_pred, 0, 1)))\n",
    "        precision = true_positives / (predicted_positives + K.epsilon())\n",
    "        return precision\n",
    "    precision = precision(y_true, y_pred)\n",
    "    recall = recall(y_true, y_pred)\n",
    "    return 2*((precision*recall)/(precision+recall+K.epsilon()))"
   ]
  },
  {
   "cell_type": "code",
   "execution_count": 11,
   "metadata": {},
   "outputs": [],
   "source": [
    "#basic MLP model\n",
    "def rnn_mlp_early():\n",
    "    si = Input(shape=smiles_input_shape)\n",
    "    s = Bidirectional(LSTM(units=128, return_sequences=False))(si)\n",
    "    fi = Input(shape=fingerprints_input_shape)\n",
    "    o = concatenate([s,fi],axis=-1)\n",
    "    o = Dense(128, activation='relu')(o)\n",
    "    o = Dense(128, activation='relu')(o)\n",
    "    o = Dropout(0.5)(o)\n",
    "    out = Dense(2, activation='softmax')(o)\n",
    "    model = Model(inputs=[si, fi], outputs=out)\n",
    "    return model\n"
   ]
  },
  {
   "cell_type": "code",
   "execution_count": 12,
   "metadata": {},
   "outputs": [
    {
     "name": "stdout",
     "output_type": "stream",
     "text": [
      "__________________________________________________________________________________________________\n",
      "Layer (type)                    Output Shape         Param #     Connected to                     \n",
      "==================================================================================================\n",
      "input_1 (InputLayer)            (None, 252, 43)      0                                            \n",
      "__________________________________________________________________________________________________\n",
      "bidirectional_1 (Bidirectional) (None, 256)          176128      input_1[0][0]                    \n",
      "__________________________________________________________________________________________________\n",
      "input_2 (InputLayer)            (None, 6117)         0                                            \n",
      "__________________________________________________________________________________________________\n",
      "concatenate_1 (Concatenate)     (None, 6373)         0           bidirectional_1[0][0]            \n",
      "                                                                 input_2[0][0]                    \n",
      "__________________________________________________________________________________________________\n",
      "dense_1 (Dense)                 (None, 128)          815872      concatenate_1[0][0]              \n",
      "__________________________________________________________________________________________________\n",
      "dense_2 (Dense)                 (None, 128)          16512       dense_1[0][0]                    \n",
      "__________________________________________________________________________________________________\n",
      "dropout_1 (Dropout)             (None, 128)          0           dense_2[0][0]                    \n",
      "__________________________________________________________________________________________________\n",
      "dense_3 (Dense)                 (None, 2)            258         dropout_1[0][0]                  \n",
      "==================================================================================================\n",
      "Total params: 1,008,770\n",
      "Trainable params: 1,008,770\n",
      "Non-trainable params: 0\n",
      "__________________________________________________________________________________________________\n"
     ]
    }
   ],
   "source": [
    "#compile model\n",
    "model = rnn_mlp_early()\n",
    "adam = keras.optimizers.Adam(lr=0.001, decay=0.0, clipnorm=5.)\n",
    "stop = EarlyStopping(patience=15, verbose=1)\n",
    "model.compile(optimizer=adam, loss='sparse_categorical_crossentropy', metrics=[metrics.sparse_categorical_accuracy, f1])\n",
    "checkpoint = ModelCheckpoint(model_file, monitor='val_loss', verbose=1, save_best_only=True, mode='min')\n",
    "\n",
    "callbacks_list = [checkpoint, stop]\n",
    "\n",
    "model.summary()"
   ]
  },
  {
   "cell_type": "code",
   "execution_count": 13,
   "metadata": {},
   "outputs": [
    {
     "name": "stdout",
     "output_type": "stream",
     "text": [
      "Train on 3624 samples, validate on 776 samples\n",
      "Epoch 1/1000\n",
      "3624/3624 [==============================] - 31s 9ms/step - loss: 0.7622 - sparse_categorical_accuracy: 0.6256 - f1: 0.8085 - val_loss: 0.6090 - val_sparse_categorical_accuracy: 0.7152 - val_f1: 0.8309\n",
      "\n",
      "Epoch 00001: val_loss improved from inf to 0.60900, saving model to rnn_mlp_early_egfr_erbB1.h5\n",
      "Epoch 2/1000\n",
      "3624/3624 [==============================] - 31s 8ms/step - loss: 0.6437 - sparse_categorical_accuracy: 0.6774 - f1: 0.8084 - val_loss: 0.6236 - val_sparse_categorical_accuracy: 0.7152 - val_f1: 0.8309\n",
      "\n",
      "Epoch 00002: val_loss did not improve from 0.60900\n",
      "Epoch 3/1000\n",
      "3624/3624 [==============================] - 31s 8ms/step - loss: 0.6294 - sparse_categorical_accuracy: 0.6810 - f1: 0.8091 - val_loss: 0.6095 - val_sparse_categorical_accuracy: 0.7152 - val_f1: 0.8309\n",
      "\n",
      "Epoch 00003: val_loss did not improve from 0.60900\n",
      "Epoch 4/1000\n",
      "3624/3624 [==============================] - 31s 9ms/step - loss: 0.6207 - sparse_categorical_accuracy: 0.6821 - f1: 0.8095 - val_loss: 0.6105 - val_sparse_categorical_accuracy: 0.7152 - val_f1: 0.8309\n",
      "\n",
      "Epoch 00004: val_loss did not improve from 0.60900\n",
      "Epoch 5/1000\n",
      "3624/3624 [==============================] - 31s 8ms/step - loss: 0.6170 - sparse_categorical_accuracy: 0.6816 - f1: 0.8090 - val_loss: 0.6032 - val_sparse_categorical_accuracy: 0.7152 - val_f1: 0.8309\n",
      "\n",
      "Epoch 00005: val_loss improved from 0.60900 to 0.60324, saving model to rnn_mlp_early_egfr_erbB1.h5\n",
      "Epoch 6/1000\n",
      "3624/3624 [==============================] - 31s 8ms/step - loss: 0.6082 - sparse_categorical_accuracy: 0.6838 - f1: 0.8093 - val_loss: 0.6144 - val_sparse_categorical_accuracy: 0.7165 - val_f1: 0.8309\n",
      "\n",
      "Epoch 00006: val_loss did not improve from 0.60324\n",
      "Epoch 7/1000\n",
      "3624/3624 [==============================] - 31s 8ms/step - loss: 0.6003 - sparse_categorical_accuracy: 0.6816 - f1: 0.8092 - val_loss: 0.6387 - val_sparse_categorical_accuracy: 0.7139 - val_f1: 0.8309\n",
      "\n",
      "Epoch 00007: val_loss did not improve from 0.60324\n",
      "Epoch 8/1000\n",
      "3624/3624 [==============================] - 31s 8ms/step - loss: 0.5973 - sparse_categorical_accuracy: 0.6780 - f1: 0.8091 - val_loss: 0.6175 - val_sparse_categorical_accuracy: 0.7152 - val_f1: 0.8309\n",
      "\n",
      "Epoch 00008: val_loss did not improve from 0.60324\n",
      "Epoch 9/1000\n",
      "3624/3624 [==============================] - 30s 8ms/step - loss: 0.5901 - sparse_categorical_accuracy: 0.6843 - f1: 0.8082 - val_loss: 0.6467 - val_sparse_categorical_accuracy: 0.7088 - val_f1: 0.8309\n",
      "\n",
      "Epoch 00009: val_loss did not improve from 0.60324\n",
      "Epoch 10/1000\n",
      "3624/3624 [==============================] - 31s 8ms/step - loss: 0.5583 - sparse_categorical_accuracy: 0.6937 - f1: 0.8094 - val_loss: 0.6513 - val_sparse_categorical_accuracy: 0.6881 - val_f1: 0.8309\n",
      "\n",
      "Epoch 00010: val_loss did not improve from 0.60324\n",
      "Epoch 11/1000\n",
      "3624/3624 [==============================] - 30s 8ms/step - loss: 0.5400 - sparse_categorical_accuracy: 0.7141 - f1: 0.8090 - val_loss: 0.6499 - val_sparse_categorical_accuracy: 0.7113 - val_f1: 0.8309\n",
      "\n",
      "Epoch 00011: val_loss did not improve from 0.60324\n",
      "Epoch 12/1000\n",
      "3624/3624 [==============================] - 31s 8ms/step - loss: 0.5210 - sparse_categorical_accuracy: 0.7252 - f1: 0.8089 - val_loss: 0.6880 - val_sparse_categorical_accuracy: 0.7101 - val_f1: 0.8309\n",
      "\n",
      "Epoch 00012: val_loss did not improve from 0.60324\n",
      "Epoch 13/1000\n",
      "3624/3624 [==============================] - 31s 8ms/step - loss: 0.5203 - sparse_categorical_accuracy: 0.7326 - f1: 0.8087 - val_loss: 0.6921 - val_sparse_categorical_accuracy: 0.6817 - val_f1: 0.8309\n",
      "\n",
      "Epoch 00013: val_loss did not improve from 0.60324\n",
      "Epoch 14/1000\n",
      "3624/3624 [==============================] - 31s 8ms/step - loss: 0.4935 - sparse_categorical_accuracy: 0.7459 - f1: 0.8093 - val_loss: 0.7307 - val_sparse_categorical_accuracy: 0.6753 - val_f1: 0.8309\n",
      "\n",
      "Epoch 00014: val_loss did not improve from 0.60324\n",
      "Epoch 15/1000\n",
      "3624/3624 [==============================] - 30s 8ms/step - loss: 0.4758 - sparse_categorical_accuracy: 0.7619 - f1: 0.8083 - val_loss: 0.8473 - val_sparse_categorical_accuracy: 0.6843 - val_f1: 0.8309\n",
      "\n",
      "Epoch 00015: val_loss did not improve from 0.60324\n",
      "Epoch 16/1000\n",
      "3624/3624 [==============================] - 31s 8ms/step - loss: 0.4572 - sparse_categorical_accuracy: 0.7627 - f1: 0.8088 - val_loss: 0.8473 - val_sparse_categorical_accuracy: 0.5954 - val_f1: 0.8309\n",
      "\n",
      "Epoch 00016: val_loss did not improve from 0.60324\n",
      "Epoch 17/1000\n",
      "3624/3624 [==============================] - 30s 8ms/step - loss: 0.4293 - sparse_categorical_accuracy: 0.7842 - f1: 0.8085 - val_loss: 0.8072 - val_sparse_categorical_accuracy: 0.6418 - val_f1: 0.8309\n",
      "\n",
      "Epoch 00017: val_loss did not improve from 0.60324\n",
      "Epoch 18/1000\n",
      "3624/3624 [==============================] - 31s 8ms/step - loss: 0.4319 - sparse_categorical_accuracy: 0.7944 - f1: 0.8084 - val_loss: 0.9168 - val_sparse_categorical_accuracy: 0.6907 - val_f1: 0.8309\n",
      "\n",
      "Epoch 00018: val_loss did not improve from 0.60324\n",
      "Epoch 19/1000\n",
      "3624/3624 [==============================] - 31s 8ms/step - loss: 0.3796 - sparse_categorical_accuracy: 0.8220 - f1: 0.8091 - val_loss: 0.9830 - val_sparse_categorical_accuracy: 0.5541 - val_f1: 0.8309\n",
      "\n",
      "Epoch 00019: val_loss did not improve from 0.60324\n",
      "Epoch 20/1000\n",
      "3624/3624 [==============================] - 31s 8ms/step - loss: 0.3620 - sparse_categorical_accuracy: 0.8217 - f1: 0.8087 - val_loss: 1.0693 - val_sparse_categorical_accuracy: 0.6456 - val_f1: 0.8309\n",
      "\n",
      "Epoch 00020: val_loss did not improve from 0.60324\n",
      "Epoch 00020: early stopping\n"
     ]
    },
    {
     "data": {
      "text/plain": [
       "<keras.callbacks.History at 0x7f034b9c89b0>"
      ]
     },
     "execution_count": 13,
     "metadata": {},
     "output_type": "execute_result"
    }
   ],
   "source": [
    "#training\n",
    "model.fit(x=[X_smiles_train, X_fingerprints_train], \n",
    "          y=y_train, \n",
    "          batch_size=32, \n",
    "          epochs=1000, \n",
    "          verbose=1, \n",
    "          callbacks=callbacks_list, \n",
    "          validation_data=([X_smiles_val, X_fingerprints_val], y_val), \n",
    "          shuffle=True)"
   ]
  },
  {
   "cell_type": "code",
   "execution_count": 14,
   "metadata": {},
   "outputs": [
    {
     "name": "stdout",
     "output_type": "stream",
     "text": [
      "['loss', 'sparse_categorical_accuracy', 'f1']\n"
     ]
    }
   ],
   "source": [
    "#testing\n",
    "from keras.models import load_model\n",
    "trained_model = load_model(model_file, custom_objects={'f1': f1})\n",
    "print(trained_model.metrics_names)"
   ]
  },
  {
   "cell_type": "code",
   "execution_count": 15,
   "metadata": {},
   "outputs": [
    {
     "name": "stdout",
     "output_type": "stream",
     "text": [
      "3624/3624 [==============================] - 8s 2ms/step\n"
     ]
    },
    {
     "data": {
      "text/plain": [
       "[0.5972564069114247, 0.6834988962472406, 0.8094977503580763]"
      ]
     },
     "execution_count": 15,
     "metadata": {},
     "output_type": "execute_result"
    }
   ],
   "source": [
    "trained_model.evaluate(x=[X_smiles_train, X_fingerprints_train], y=y_train)"
   ]
  },
  {
   "cell_type": "code",
   "execution_count": 16,
   "metadata": {},
   "outputs": [
    {
     "name": "stdout",
     "output_type": "stream",
     "text": [
      "776/776 [==============================] - 2s 2ms/step\n"
     ]
    },
    {
     "data": {
      "text/plain": [
       "[0.6032371078569865, 0.7152061855670103, 0.8308834980443581]"
      ]
     },
     "execution_count": 16,
     "metadata": {},
     "output_type": "execute_result"
    }
   ],
   "source": [
    "trained_model.evaluate(x=[X_smiles_val, X_fingerprints_val], y=y_val)"
   ]
  },
  {
   "cell_type": "code",
   "execution_count": 17,
   "metadata": {},
   "outputs": [
    {
     "name": "stdout",
     "output_type": "stream",
     "text": [
      "776/776 [==============================] - 2s 2ms/step\n"
     ]
    },
    {
     "data": {
      "text/plain": [
       "[0.6402109547988656, 0.6739690721649485, 0.8034391489225564]"
      ]
     },
     "execution_count": 17,
     "metadata": {},
     "output_type": "execute_result"
    }
   ],
   "source": [
    "trained_model.evaluate(x=[X_smiles_test, X_fingerprints_test], y=y_test)"
   ]
  },
  {
   "cell_type": "code",
   "execution_count": 18,
   "metadata": {},
   "outputs": [],
   "source": [
    "from sklearn.metrics import roc_curve\n",
    "from sklearn.metrics import roc_auc_score\n",
    "pred_train = trained_model.predict(x=[X_smiles_train, X_fingerprints_train])[:,1]\n",
    "pred_val = trained_model.predict(x=[X_smiles_val, X_fingerprints_val])[:,1]\n",
    "pred_test = trained_model.predict(x=[X_smiles_test, X_fingerprints_test])[:,1]\n",
    "np.savez(model_file[:-2] + 'npz', pred_train=pred_train, pred_val=pred_val, pred_test=pred_test)"
   ]
  }
 ],
 "metadata": {
  "kernelspec": {
   "display_name": "Python 3",
   "language": "python",
   "name": "python3"
  },
  "language_info": {
   "codemirror_mode": {
    "name": "ipython",
    "version": 3
   },
   "file_extension": ".py",
   "mimetype": "text/x-python",
   "name": "python",
   "nbconvert_exporter": "python",
   "pygments_lexer": "ipython3",
   "version": "3.6.7"
  }
 },
 "nbformat": 4,
 "nbformat_minor": 2
}
