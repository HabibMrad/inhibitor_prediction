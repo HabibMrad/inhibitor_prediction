{
 "cells": [
  {
   "cell_type": "code",
   "execution_count": 1,
   "metadata": {},
   "outputs": [
    {
     "name": "stderr",
     "output_type": "stream",
     "text": [
      "Using TensorFlow backend.\n"
     ]
    }
   ],
   "source": [
    "import os\n",
    "import sys\n",
    "import numpy as np\n",
    "import keras\n",
    "from sklearn.model_selection import train_test_split"
   ]
  },
  {
   "cell_type": "code",
   "execution_count": 2,
   "metadata": {},
   "outputs": [],
   "source": [
    "seed = 273\n",
    "kinase = 'cdk2'\n",
    "model_file = 'basic_RNN_%s.h5' % (kinase)"
   ]
  },
  {
   "cell_type": "code",
   "execution_count": 3,
   "metadata": {},
   "outputs": [],
   "source": [
    "#import data\n",
    "lines = [line.strip().split(',') for line in open(os.path.join('data', kinase+'_smiles.csv'))]\n",
    "smiles = [line[1] for line in lines]\n",
    "y = np.asarray([int(line[2]) for line in lines], dtype=np.int8)"
   ]
  },
  {
   "cell_type": "code",
   "execution_count": 4,
   "metadata": {},
   "outputs": [],
   "source": [
    "#pad smiles with '!' to ensure equal length\n",
    "max_smiles_len = max(len(s) for s in smiles)\n",
    "smiles = [s + '!'*(max_smiles_len + 1 - len(s)) for s in smiles]"
   ]
  },
  {
   "cell_type": "code",
   "execution_count": 5,
   "metadata": {},
   "outputs": [],
   "source": [
    "#one-hot vector representation of smiles\n",
    "char_set = set()\n",
    "for s in smiles:\n",
    "    for c in s:\n",
    "        char_set.add(c)\n",
    "char_set = list(char_set)\n",
    "char_to_index = {char_set[i]: i for i in range(len(char_set))}\n",
    "\n",
    "X = np.zeros((len(smiles), max_smiles_len + 1, len(char_set)))\n",
    "for i in range(len(smiles)):\n",
    "    code = smiles[i]\n",
    "    for j in range(len(code)):\n",
    "        char = code[j]\n",
    "        X[i, j, char_to_index[char]] = 1        "
   ]
  },
  {
   "cell_type": "code",
   "execution_count": 6,
   "metadata": {},
   "outputs": [
    {
     "name": "stdout",
     "output_type": "stream",
     "text": [
      "(1144, 84, 36) (1144,)\n",
      "(245, 84, 36) (245,)\n",
      "(246, 84, 36) (246,)\n"
     ]
    }
   ],
   "source": [
    "#train val test split\n",
    "X_train, X_test, y_train, y_test = train_test_split(X, y, test_size=0.3, random_state=seed)\n",
    "X_val, X_test, y_val, y_test = train_test_split(X_test, y_test, test_size=0.5, random_state=seed)\n",
    "\n",
    "print(X_train.shape, y_train.shape)\n",
    "print(X_val.shape, y_val.shape)\n",
    "print(X_test.shape, y_test.shape)\n",
    "\n",
    "input_shape = X_train.shape[1:]"
   ]
  },
  {
   "cell_type": "code",
   "execution_count": 7,
   "metadata": {},
   "outputs": [
    {
     "name": "stdout",
     "output_type": "stream",
     "text": [
      "[]\n"
     ]
    }
   ],
   "source": [
    "#check GPU presence\n",
    "from tensorflow.python.client import device_lib\n",
    "\n",
    "def get_available_gpus():\n",
    "    local_device_protos = device_lib.list_local_devices()\n",
    "    return [x.name for x in local_device_protos if x.device_type == 'GPU']\n",
    "\n",
    "print(get_available_gpus())"
   ]
  },
  {
   "cell_type": "code",
   "execution_count": 8,
   "metadata": {},
   "outputs": [],
   "source": [
    "#keras imports\n",
    "from keras.models import Sequential\n",
    "from keras.layers import TimeDistributed, GlobalAveragePooling2D, Activation, Dense, Input, Bidirectional\n",
    "from keras.layers import BatchNormalization, Conv2D, MaxPooling2D, AveragePooling2D, GlobalAveragePooling2D\n",
    "from keras.layers import GlobalMaxPooling2D\n",
    "from keras.layers.recurrent import LSTM\n",
    "from keras.callbacks import ModelCheckpoint, ReduceLROnPlateau, Callback, EarlyStopping\n",
    "from keras.layers import Dropout, Flatten\n",
    "from keras.layers import concatenate\n",
    "from keras import regularizers\n",
    "from keras import initializers\n",
    "from keras import constraints\n",
    "from keras.models import Model\n",
    "# Backend\n",
    "from keras import backend as K\n",
    "# Utils\n",
    "from keras.utils.layer_utils import convert_all_kernels_in_model\n",
    "from keras.utils.data_utils import get_file\n",
    "from keras import metrics"
   ]
  },
  {
   "cell_type": "code",
   "execution_count": 9,
   "metadata": {},
   "outputs": [],
   "source": [
    "#F1 score computation\n",
    "from sklearn.metrics import confusion_matrix, f1_score, precision_score, recall_score\n",
    "from keras import backend as K\n",
    "\n",
    "def f1(y_true, y_pred):\n",
    "    def recall(y_true, y_pred):\n",
    "        \"\"\"Recall metric.\n",
    "\n",
    "        Only computes a batch-wise average of recall.\n",
    "\n",
    "        Computes the recall, a metric for multi-label classification of\n",
    "        how many relevant items are selected.\n",
    "        \"\"\"\n",
    "        true_positives = K.sum(K.round(K.clip(y_true * y_pred, 0, 1)))\n",
    "        possible_positives = K.sum(K.round(K.clip(y_true, 0, 1)))\n",
    "        recall = true_positives / (possible_positives + K.epsilon())\n",
    "        return recall\n",
    "\n",
    "    def precision(y_true, y_pred):\n",
    "        \"\"\"Precision metric.\n",
    "\n",
    "        Only computes a batch-wise average of precision.\n",
    "\n",
    "        Computes the precision, a metric for multi-label classification of\n",
    "        how many selected items are relevant.\n",
    "        \"\"\"\n",
    "        true_positives = K.sum(K.round(K.clip(y_true * y_pred, 0, 1)))\n",
    "        predicted_positives = K.sum(K.round(K.clip(y_pred, 0, 1)))\n",
    "        precision = true_positives / (predicted_positives + K.epsilon())\n",
    "        return precision\n",
    "    precision = precision(y_true, y_pred)\n",
    "    recall = recall(y_true, y_pred)\n",
    "    return 2*((precision*recall)/(precision+recall+K.epsilon()))"
   ]
  },
  {
   "cell_type": "code",
   "execution_count": 10,
   "metadata": {},
   "outputs": [],
   "source": [
    "#basic RNN model\n",
    "model = Sequential()\n",
    "model.add(Bidirectional(LSTM(units=64, return_sequences=False), input_shape=input_shape))\n",
    "model.add(Dense(64, activation='relu'))\n",
    "model.add(Dropout(0.5))\n",
    "model.add(Dense(2, activation='softmax'))"
   ]
  },
  {
   "cell_type": "code",
   "execution_count": 11,
   "metadata": {},
   "outputs": [
    {
     "name": "stdout",
     "output_type": "stream",
     "text": [
      "_________________________________________________________________\n",
      "Layer (type)                 Output Shape              Param #   \n",
      "=================================================================\n",
      "bidirectional_1 (Bidirection (None, 128)               51712     \n",
      "_________________________________________________________________\n",
      "dense_1 (Dense)              (None, 64)                8256      \n",
      "_________________________________________________________________\n",
      "dropout_1 (Dropout)          (None, 64)                0         \n",
      "_________________________________________________________________\n",
      "dense_2 (Dense)              (None, 2)                 130       \n",
      "=================================================================\n",
      "Total params: 60,098\n",
      "Trainable params: 60,098\n",
      "Non-trainable params: 0\n",
      "_________________________________________________________________\n"
     ]
    }
   ],
   "source": [
    "#compile model\n",
    "adam = keras.optimizers.Adam(lr=0.001, decay=0.0, clipnorm=5.)\n",
    "stop = EarlyStopping(patience=20, verbose=1)\n",
    "model.compile(optimizer=adam, loss='sparse_categorical_crossentropy', metrics=[metrics.sparse_categorical_accuracy, f1])\n",
    "checkpoint = ModelCheckpoint(model_file, monitor='val_loss', verbose=1, save_best_only=True, mode='min')\n",
    "\n",
    "callbacks_list = [checkpoint, stop]\n",
    "\n",
    "model.summary()"
   ]
  },
  {
   "cell_type": "code",
   "execution_count": 12,
   "metadata": {},
   "outputs": [
    {
     "name": "stdout",
     "output_type": "stream",
     "text": [
      "Train on 1144 samples, validate on 245 samples\n",
      "Epoch 1/1000\n",
      "1144/1144 [==============================] - 7s 7ms/step - loss: 0.6608 - sparse_categorical_accuracy: 0.6285 - f1: 0.7713 - val_loss: 0.6249 - val_sparse_categorical_accuracy: 0.6449 - val_f1: 0.7806\n",
      "\n",
      "Epoch 00001: val_loss improved from inf to 0.62492, saving model to basic_RNN_cdk2.h5\n",
      "Epoch 2/1000\n",
      "1144/1144 [==============================] - 12s 11ms/step - loss: 0.6346 - sparse_categorical_accuracy: 0.6469 - f1: 0.7686 - val_loss: 0.6049 - val_sparse_categorical_accuracy: 0.6449 - val_f1: 0.7806\n",
      "\n",
      "Epoch 00002: val_loss improved from 0.62492 to 0.60489, saving model to basic_RNN_cdk2.h5\n",
      "Epoch 3/1000\n",
      "1144/1144 [==============================] - 18s 15ms/step - loss: 0.6228 - sparse_categorical_accuracy: 0.6451 - f1: 0.7725 - val_loss: 0.6039 - val_sparse_categorical_accuracy: 0.6816 - val_f1: 0.7806\n",
      "\n",
      "Epoch 00003: val_loss improved from 0.60489 to 0.60387, saving model to basic_RNN_cdk2.h5\n",
      "Epoch 4/1000\n",
      "1144/1144 [==============================] - 19s 16ms/step - loss: 0.6081 - sparse_categorical_accuracy: 0.6748 - f1: 0.7722 - val_loss: 0.5996 - val_sparse_categorical_accuracy: 0.6776 - val_f1: 0.7806\n",
      "\n",
      "Epoch 00004: val_loss improved from 0.60387 to 0.59959, saving model to basic_RNN_cdk2.h5\n",
      "Epoch 5/1000\n",
      "1144/1144 [==============================] - 18s 16ms/step - loss: 0.5806 - sparse_categorical_accuracy: 0.6958 - f1: 0.7702 - val_loss: 0.5897 - val_sparse_categorical_accuracy: 0.6653 - val_f1: 0.7806\n",
      "\n",
      "Epoch 00005: val_loss improved from 0.59959 to 0.58974, saving model to basic_RNN_cdk2.h5\n",
      "Epoch 6/1000\n",
      "1144/1144 [==============================] - 17s 15ms/step - loss: 0.5678 - sparse_categorical_accuracy: 0.6871 - f1: 0.7694 - val_loss: 0.5505 - val_sparse_categorical_accuracy: 0.7388 - val_f1: 0.7806\n",
      "\n",
      "Epoch 00006: val_loss improved from 0.58974 to 0.55050, saving model to basic_RNN_cdk2.h5\n",
      "Epoch 7/1000\n",
      "1144/1144 [==============================] - 15s 13ms/step - loss: 0.5386 - sparse_categorical_accuracy: 0.7360 - f1: 0.7721 - val_loss: 0.5827 - val_sparse_categorical_accuracy: 0.6816 - val_f1: 0.7806\n",
      "\n",
      "Epoch 00007: val_loss did not improve from 0.55050\n",
      "Epoch 8/1000\n",
      "1144/1144 [==============================] - 16s 14ms/step - loss: 0.5442 - sparse_categorical_accuracy: 0.7290 - f1: 0.7711 - val_loss: 0.5470 - val_sparse_categorical_accuracy: 0.7061 - val_f1: 0.7806\n",
      "\n",
      "Epoch 00008: val_loss improved from 0.55050 to 0.54697, saving model to basic_RNN_cdk2.h5\n",
      "Epoch 9/1000\n",
      "1144/1144 [==============================] - 16s 14ms/step - loss: 0.5266 - sparse_categorical_accuracy: 0.7334 - f1: 0.7714 - val_loss: 0.5431 - val_sparse_categorical_accuracy: 0.7265 - val_f1: 0.7806\n",
      "\n",
      "Epoch 00009: val_loss improved from 0.54697 to 0.54305, saving model to basic_RNN_cdk2.h5\n",
      "Epoch 10/1000\n",
      "1144/1144 [==============================] - 16s 14ms/step - loss: 0.5225 - sparse_categorical_accuracy: 0.7509 - f1: 0.7707 - val_loss: 0.5402 - val_sparse_categorical_accuracy: 0.7224 - val_f1: 0.7806\n",
      "\n",
      "Epoch 00010: val_loss improved from 0.54305 to 0.54021, saving model to basic_RNN_cdk2.h5\n",
      "Epoch 11/1000\n",
      "1144/1144 [==============================] - 16s 14ms/step - loss: 0.5045 - sparse_categorical_accuracy: 0.7544 - f1: 0.7703 - val_loss: 0.5396 - val_sparse_categorical_accuracy: 0.7347 - val_f1: 0.7806\n",
      "\n",
      "Epoch 00011: val_loss improved from 0.54021 to 0.53957, saving model to basic_RNN_cdk2.h5\n",
      "Epoch 12/1000\n",
      "1144/1144 [==============================] - 16s 14ms/step - loss: 0.5034 - sparse_categorical_accuracy: 0.7561 - f1: 0.7710 - val_loss: 0.5314 - val_sparse_categorical_accuracy: 0.7347 - val_f1: 0.7806\n",
      "\n",
      "Epoch 00012: val_loss improved from 0.53957 to 0.53136, saving model to basic_RNN_cdk2.h5\n",
      "Epoch 13/1000\n",
      "1144/1144 [==============================] - 16s 14ms/step - loss: 0.4812 - sparse_categorical_accuracy: 0.7762 - f1: 0.7714 - val_loss: 0.5791 - val_sparse_categorical_accuracy: 0.7020 - val_f1: 0.7806\n",
      "\n",
      "Epoch 00013: val_loss did not improve from 0.53136\n",
      "Epoch 14/1000\n",
      "1144/1144 [==============================] - 16s 14ms/step - loss: 0.4872 - sparse_categorical_accuracy: 0.7649 - f1: 0.7703 - val_loss: 0.5352 - val_sparse_categorical_accuracy: 0.7306 - val_f1: 0.7806\n",
      "\n",
      "Epoch 00014: val_loss did not improve from 0.53136\n",
      "Epoch 15/1000\n",
      "1144/1144 [==============================] - 15s 13ms/step - loss: 0.4830 - sparse_categorical_accuracy: 0.7701 - f1: 0.7703 - val_loss: 0.5353 - val_sparse_categorical_accuracy: 0.7265 - val_f1: 0.7806\n",
      "\n",
      "Epoch 00015: val_loss did not improve from 0.53136\n",
      "Epoch 16/1000\n",
      "1144/1144 [==============================] - 16s 14ms/step - loss: 0.4681 - sparse_categorical_accuracy: 0.7719 - f1: 0.7722 - val_loss: 0.5370 - val_sparse_categorical_accuracy: 0.6939 - val_f1: 0.7806\n",
      "\n",
      "Epoch 00016: val_loss did not improve from 0.53136\n",
      "Epoch 17/1000\n",
      "1144/1144 [==============================] - 16s 14ms/step - loss: 0.4667 - sparse_categorical_accuracy: 0.7762 - f1: 0.7713 - val_loss: 0.5452 - val_sparse_categorical_accuracy: 0.7102 - val_f1: 0.7806\n",
      "\n",
      "Epoch 00017: val_loss did not improve from 0.53136\n",
      "Epoch 18/1000\n",
      "1144/1144 [==============================] - 16s 14ms/step - loss: 0.4413 - sparse_categorical_accuracy: 0.7928 - f1: 0.7718 - val_loss: 0.5263 - val_sparse_categorical_accuracy: 0.7184 - val_f1: 0.7806\n",
      "\n",
      "Epoch 00018: val_loss improved from 0.53136 to 0.52629, saving model to basic_RNN_cdk2.h5\n",
      "Epoch 19/1000\n",
      "1144/1144 [==============================] - 16s 14ms/step - loss: 0.4276 - sparse_categorical_accuracy: 0.7990 - f1: 0.7717 - val_loss: 0.5152 - val_sparse_categorical_accuracy: 0.7184 - val_f1: 0.7806\n",
      "\n",
      "Epoch 00019: val_loss improved from 0.52629 to 0.51523, saving model to basic_RNN_cdk2.h5\n",
      "Epoch 20/1000\n",
      "1144/1144 [==============================] - 16s 14ms/step - loss: 0.4376 - sparse_categorical_accuracy: 0.7981 - f1: 0.7703 - val_loss: 0.5330 - val_sparse_categorical_accuracy: 0.7184 - val_f1: 0.7806\n",
      "\n",
      "Epoch 00020: val_loss did not improve from 0.51523\n",
      "Epoch 21/1000\n",
      "1144/1144 [==============================] - 16s 14ms/step - loss: 0.4295 - sparse_categorical_accuracy: 0.8068 - f1: 0.7693 - val_loss: 0.5308 - val_sparse_categorical_accuracy: 0.7429 - val_f1: 0.7806\n",
      "\n",
      "Epoch 00021: val_loss did not improve from 0.51523\n",
      "Epoch 22/1000\n",
      "1144/1144 [==============================] - 16s 14ms/step - loss: 0.4133 - sparse_categorical_accuracy: 0.8182 - f1: 0.7723 - val_loss: 0.5420 - val_sparse_categorical_accuracy: 0.7510 - val_f1: 0.7806\n",
      "\n",
      "Epoch 00022: val_loss did not improve from 0.51523\n",
      "Epoch 23/1000\n",
      "1144/1144 [==============================] - 16s 14ms/step - loss: 0.3979 - sparse_categorical_accuracy: 0.8173 - f1: 0.7716 - val_loss: 0.5316 - val_sparse_categorical_accuracy: 0.7673 - val_f1: 0.7806\n",
      "\n",
      "Epoch 00023: val_loss did not improve from 0.51523\n",
      "Epoch 24/1000\n",
      "1144/1144 [==============================] - 15s 14ms/step - loss: 0.4052 - sparse_categorical_accuracy: 0.8191 - f1: 0.7710 - val_loss: 0.5275 - val_sparse_categorical_accuracy: 0.7592 - val_f1: 0.7806\n",
      "\n",
      "Epoch 00024: val_loss did not improve from 0.51523\n",
      "Epoch 25/1000\n",
      "1144/1144 [==============================] - 16s 14ms/step - loss: 0.3807 - sparse_categorical_accuracy: 0.8348 - f1: 0.7714 - val_loss: 0.5879 - val_sparse_categorical_accuracy: 0.7265 - val_f1: 0.7806\n",
      "\n",
      "Epoch 00025: val_loss did not improve from 0.51523\n",
      "Epoch 26/1000\n",
      "1144/1144 [==============================] - 16s 14ms/step - loss: 0.3835 - sparse_categorical_accuracy: 0.8304 - f1: 0.7715 - val_loss: 0.5377 - val_sparse_categorical_accuracy: 0.7551 - val_f1: 0.7806\n",
      "\n",
      "Epoch 00026: val_loss did not improve from 0.51523\n",
      "Epoch 27/1000\n",
      "1144/1144 [==============================] - 16s 14ms/step - loss: 0.3559 - sparse_categorical_accuracy: 0.8392 - f1: 0.7715 - val_loss: 0.5685 - val_sparse_categorical_accuracy: 0.7347 - val_f1: 0.7806\n",
      "\n",
      "Epoch 00027: val_loss did not improve from 0.51523\n",
      "Epoch 28/1000\n",
      "1144/1144 [==============================] - 16s 14ms/step - loss: 0.3688 - sparse_categorical_accuracy: 0.8400 - f1: 0.7722 - val_loss: 0.5597 - val_sparse_categorical_accuracy: 0.7265 - val_f1: 0.7806\n",
      "\n",
      "Epoch 00028: val_loss did not improve from 0.51523\n",
      "Epoch 29/1000\n",
      "1144/1144 [==============================] - 16s 14ms/step - loss: 0.3651 - sparse_categorical_accuracy: 0.8427 - f1: 0.7702 - val_loss: 0.5407 - val_sparse_categorical_accuracy: 0.7306 - val_f1: 0.7806\n",
      "\n",
      "Epoch 00029: val_loss did not improve from 0.51523\n",
      "Epoch 30/1000\n",
      "1144/1144 [==============================] - 16s 14ms/step - loss: 0.3716 - sparse_categorical_accuracy: 0.8304 - f1: 0.7722 - val_loss: 0.5529 - val_sparse_categorical_accuracy: 0.7469 - val_f1: 0.7806\n",
      "\n",
      "Epoch 00030: val_loss did not improve from 0.51523\n",
      "Epoch 31/1000\n",
      "1144/1144 [==============================] - 16s 14ms/step - loss: 0.3468 - sparse_categorical_accuracy: 0.8409 - f1: 0.7710 - val_loss: 0.5806 - val_sparse_categorical_accuracy: 0.7429 - val_f1: 0.7806\n",
      "\n",
      "Epoch 00031: val_loss did not improve from 0.51523\n",
      "Epoch 32/1000\n",
      "1144/1144 [==============================] - 16s 14ms/step - loss: 0.3580 - sparse_categorical_accuracy: 0.8470 - f1: 0.7726 - val_loss: 0.5765 - val_sparse_categorical_accuracy: 0.7714 - val_f1: 0.7806\n",
      "\n",
      "Epoch 00032: val_loss did not improve from 0.51523\n",
      "Epoch 33/1000\n",
      "1144/1144 [==============================] - 16s 14ms/step - loss: 0.3306 - sparse_categorical_accuracy: 0.8523 - f1: 0.7713 - val_loss: 0.5836 - val_sparse_categorical_accuracy: 0.7592 - val_f1: 0.7806\n",
      "\n",
      "Epoch 00033: val_loss did not improve from 0.51523\n",
      "Epoch 34/1000\n",
      "1144/1144 [==============================] - 16s 14ms/step - loss: 0.3308 - sparse_categorical_accuracy: 0.8470 - f1: 0.7710 - val_loss: 0.5746 - val_sparse_categorical_accuracy: 0.7714 - val_f1: 0.7806\n",
      "\n",
      "Epoch 00034: val_loss did not improve from 0.51523\n",
      "Epoch 35/1000\n",
      "1144/1144 [==============================] - 16s 14ms/step - loss: 0.3315 - sparse_categorical_accuracy: 0.8558 - f1: 0.7714 - val_loss: 0.5827 - val_sparse_categorical_accuracy: 0.7388 - val_f1: 0.7806\n",
      "\n",
      "Epoch 00035: val_loss did not improve from 0.51523\n",
      "Epoch 36/1000\n",
      "1144/1144 [==============================] - 16s 14ms/step - loss: 0.3113 - sparse_categorical_accuracy: 0.8759 - f1: 0.7715 - val_loss: 0.6697 - val_sparse_categorical_accuracy: 0.7429 - val_f1: 0.7806\n",
      "\n",
      "Epoch 00036: val_loss did not improve from 0.51523\n",
      "Epoch 37/1000\n",
      "1144/1144 [==============================] - 16s 14ms/step - loss: 0.3061 - sparse_categorical_accuracy: 0.8619 - f1: 0.7698 - val_loss: 0.5965 - val_sparse_categorical_accuracy: 0.7837 - val_f1: 0.7806\n",
      "\n",
      "Epoch 00037: val_loss did not improve from 0.51523\n",
      "Epoch 38/1000\n",
      "1144/1144 [==============================] - 16s 14ms/step - loss: 0.3074 - sparse_categorical_accuracy: 0.8663 - f1: 0.7708 - val_loss: 0.6223 - val_sparse_categorical_accuracy: 0.7755 - val_f1: 0.7806\n",
      "\n",
      "Epoch 00038: val_loss did not improve from 0.51523\n",
      "Epoch 39/1000\n",
      "1144/1144 [==============================] - 16s 14ms/step - loss: 0.3077 - sparse_categorical_accuracy: 0.8654 - f1: 0.7725 - val_loss: 0.5901 - val_sparse_categorical_accuracy: 0.7755 - val_f1: 0.7806\n",
      "\n",
      "Epoch 00039: val_loss did not improve from 0.51523\n",
      "Epoch 00039: early stopping\n"
     ]
    },
    {
     "data": {
      "text/plain": [
       "<keras.callbacks.History at 0x7f5d7f7809e8>"
      ]
     },
     "execution_count": 12,
     "metadata": {},
     "output_type": "execute_result"
    }
   ],
   "source": [
    "#training\n",
    "model.fit(x=X_train, \n",
    "          y=y_train, \n",
    "          batch_size=32, \n",
    "          epochs=1000, \n",
    "          verbose=1, \n",
    "          callbacks=callbacks_list, \n",
    "          validation_data=(X_val, y_val), \n",
    "          shuffle=True)"
   ]
  },
  {
   "cell_type": "code",
   "execution_count": 13,
   "metadata": {},
   "outputs": [
    {
     "name": "stdout",
     "output_type": "stream",
     "text": [
      "['loss', 'sparse_categorical_accuracy', 'f1']\n"
     ]
    }
   ],
   "source": [
    "#testing\n",
    "from keras.models import load_model\n",
    "trained_model = load_model(model_file, custom_objects={'f1': f1})\n",
    "print(trained_model.metrics_names)"
   ]
  },
  {
   "cell_type": "code",
   "execution_count": 14,
   "metadata": {},
   "outputs": [
    {
     "name": "stdout",
     "output_type": "stream",
     "text": [
      "1144/1144 [==============================] - 5s 4ms/step\n"
     ]
    },
    {
     "data": {
      "text/plain": [
       "[0.42011021463187426, 0.8024475528643682, 0.7722203198012773]"
      ]
     },
     "execution_count": 14,
     "metadata": {},
     "output_type": "execute_result"
    }
   ],
   "source": [
    "trained_model.evaluate(x=X_train, y=y_train)"
   ]
  },
  {
   "cell_type": "code",
   "execution_count": 15,
   "metadata": {},
   "outputs": [
    {
     "name": "stdout",
     "output_type": "stream",
     "text": [
      "245/245 [==============================] - 1s 4ms/step\n"
     ]
    },
    {
     "data": {
      "text/plain": [
       "[0.5152337536519888, 0.7183673491283339, 0.7805602387506134]"
      ]
     },
     "execution_count": 15,
     "metadata": {},
     "output_type": "execute_result"
    }
   ],
   "source": [
    "trained_model.evaluate(x=X_val, y=y_val)"
   ]
  },
  {
   "cell_type": "code",
   "execution_count": 16,
   "metadata": {},
   "outputs": [
    {
     "name": "stdout",
     "output_type": "stream",
     "text": [
      "246/246 [==============================] - 1s 4ms/step\n"
     ]
    },
    {
     "data": {
      "text/plain": [
       "[0.4127228754322703, 0.8089430918538474, 0.7763766908064121]"
      ]
     },
     "execution_count": 16,
     "metadata": {},
     "output_type": "execute_result"
    }
   ],
   "source": [
    "trained_model.evaluate(x=X_test, y=y_test)"
   ]
  },
  {
   "cell_type": "code",
   "execution_count": null,
   "metadata": {},
   "outputs": [],
   "source": []
  }
 ],
 "metadata": {
  "kernelspec": {
   "display_name": "Python 3",
   "language": "python",
   "name": "python3"
  },
  "language_info": {
   "codemirror_mode": {
    "name": "ipython",
    "version": 3
   },
   "file_extension": ".py",
   "mimetype": "text/x-python",
   "name": "python",
   "nbconvert_exporter": "python",
   "pygments_lexer": "ipython3",
   "version": "3.5.6"
  }
 },
 "nbformat": 4,
 "nbformat_minor": 2
}
