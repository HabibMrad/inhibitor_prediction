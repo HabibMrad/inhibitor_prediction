{
 "cells": [
  {
   "cell_type": "code",
   "execution_count": 1,
   "metadata": {},
   "outputs": [
    {
     "name": "stderr",
     "output_type": "stream",
     "text": [
      "Using TensorFlow backend.\n"
     ]
    }
   ],
   "source": [
    "import os\n",
    "import sys\n",
    "import numpy as np\n",
    "import keras\n",
    "from sklearn.model_selection import train_test_split"
   ]
  },
  {
   "cell_type": "code",
   "execution_count": 2,
   "metadata": {},
   "outputs": [],
   "source": [
    "seed = 273\n",
    "kinase = 'cdk2'\n",
    "model_file = 'basic_RNN_%s.h5' % (kinase)"
   ]
  },
  {
   "cell_type": "code",
   "execution_count": 3,
   "metadata": {},
   "outputs": [],
   "source": [
    "#import data\n",
    "lines = [line.strip().split(',') for line in open(os.path.join('data', kinase+'_smiles.csv'))]\n",
    "smiles = [line[1] for line in lines]\n",
    "y = np.asarray([int(line[2]) for line in lines], dtype=np.int8)"
   ]
  },
  {
   "cell_type": "code",
   "execution_count": 4,
   "metadata": {},
   "outputs": [],
   "source": [
    "#pad smiles with '!' to ensure equal length\n",
    "max_smiles_len = max(len(s) for s in smiles)\n",
    "smiles = [s + '!'*(max_smiles_len + 1 - len(s)) for s in smiles]"
   ]
  },
  {
   "cell_type": "code",
   "execution_count": 5,
   "metadata": {},
   "outputs": [],
   "source": [
    "#one-hot vector representation of smiles\n",
    "char_set = set()\n",
    "for s in smiles:\n",
    "    for c in s:\n",
    "        char_set.add(c)\n",
    "char_set = list(char_set)\n",
    "char_to_index = {char_set[i]: i for i in range(len(char_set))}\n",
    "\n",
    "X = np.zeros((len(smiles), max_smiles_len + 1, len(char_set)))\n",
    "for i in range(len(smiles)):\n",
    "    code = smiles[i]\n",
    "    for j in range(len(code)):\n",
    "        char = code[j]\n",
    "        X[i, j, char_to_index[char]] = 1        "
   ]
  },
  {
   "cell_type": "code",
   "execution_count": 6,
   "metadata": {},
   "outputs": [
    {
     "name": "stdout",
     "output_type": "stream",
     "text": [
      "(1322, 84, 36) (1322,)\n",
      "(283, 84, 36) (283,)\n",
      "(284, 84, 36) (284,)\n"
     ]
    }
   ],
   "source": [
    "#train val test split\n",
    "X_train, X_test, y_train, y_test = train_test_split(X, y, test_size=0.3, random_state=seed)\n",
    "X_val, X_test, y_val, y_test = train_test_split(X_test, y_test, test_size=0.5, random_state=seed)\n",
    "\n",
    "print(X_train.shape, y_train.shape)\n",
    "print(X_val.shape, y_val.shape)\n",
    "print(X_test.shape, y_test.shape)\n",
    "\n",
    "input_shape = X_train.shape[1:]"
   ]
  },
  {
   "cell_type": "code",
   "execution_count": 7,
   "metadata": {},
   "outputs": [
    {
     "name": "stdout",
     "output_type": "stream",
     "text": [
      "[]\n"
     ]
    }
   ],
   "source": [
    "#check GPU presence\n",
    "from tensorflow.python.client import device_lib\n",
    "\n",
    "def get_available_gpus():\n",
    "    local_device_protos = device_lib.list_local_devices()\n",
    "    return [x.name for x in local_device_protos if x.device_type == 'GPU']\n",
    "\n",
    "print(get_available_gpus())"
   ]
  },
  {
   "cell_type": "code",
   "execution_count": 8,
   "metadata": {},
   "outputs": [],
   "source": [
    "#keras imports\n",
    "from keras.models import Sequential\n",
    "from keras.layers import TimeDistributed, GlobalAveragePooling2D, Activation, Dense, Input, Bidirectional\n",
    "from keras.layers import BatchNormalization, Conv2D, MaxPooling2D, AveragePooling2D, GlobalAveragePooling2D\n",
    "from keras.layers import GlobalMaxPooling2D\n",
    "from keras.layers.recurrent import LSTM\n",
    "from keras.callbacks import ModelCheckpoint, ReduceLROnPlateau, Callback, EarlyStopping\n",
    "from keras.layers import Dropout, Flatten\n",
    "from keras.layers import concatenate\n",
    "from keras import regularizers\n",
    "from keras import initializers\n",
    "from keras import constraints\n",
    "from keras.models import Model\n",
    "# Backend\n",
    "from keras import backend as K\n",
    "# Utils\n",
    "from keras.utils.layer_utils import convert_all_kernels_in_model\n",
    "from keras.utils.data_utils import get_file\n",
    "from keras import metrics"
   ]
  },
  {
   "cell_type": "code",
   "execution_count": 9,
   "metadata": {},
   "outputs": [],
   "source": [
    "#F1 score computation\n",
    "from sklearn.metrics import confusion_matrix, f1_score, precision_score, recall_score\n",
    "from keras import backend as K\n",
    "\n",
    "def f1(y_true, y_pred):\n",
    "    def recall(y_true, y_pred):\n",
    "        \"\"\"Recall metric.\n",
    "\n",
    "        Only computes a batch-wise average of recall.\n",
    "\n",
    "        Computes the recall, a metric for multi-label classification of\n",
    "        how many relevant items are selected.\n",
    "        \"\"\"\n",
    "        true_positives = K.sum(K.round(K.clip(y_true * y_pred, 0, 1)))\n",
    "        possible_positives = K.sum(K.round(K.clip(y_true, 0, 1)))\n",
    "        recall = true_positives / (possible_positives + K.epsilon())\n",
    "        return recall\n",
    "\n",
    "    def precision(y_true, y_pred):\n",
    "        \"\"\"Precision metric.\n",
    "\n",
    "        Only computes a batch-wise average of precision.\n",
    "\n",
    "        Computes the precision, a metric for multi-label classification of\n",
    "        how many selected items are relevant.\n",
    "        \"\"\"\n",
    "        true_positives = K.sum(K.round(K.clip(y_true * y_pred, 0, 1)))\n",
    "        predicted_positives = K.sum(K.round(K.clip(y_pred, 0, 1)))\n",
    "        precision = true_positives / (predicted_positives + K.epsilon())\n",
    "        return precision\n",
    "    precision = precision(y_true, y_pred)\n",
    "    recall = recall(y_true, y_pred)\n",
    "    return 2*((precision*recall)/(precision+recall+K.epsilon()))\n"
   ]
  },
  {
   "cell_type": "code",
   "execution_count": 10,
   "metadata": {},
   "outputs": [],
   "source": [
    "#basic RNN model\n",
    "model = Sequential()\n",
    "model.add(Bidirectional(LSTM(units=64, return_sequences=False), input_shape=input_shape))\n",
    "model.add(Dense(64, activation='relu'))\n",
    "model.add(Dropout(0.5))\n",
    "model.add(Dense(2, activation='softmax'))"
   ]
  },
  {
   "cell_type": "code",
   "execution_count": 11,
   "metadata": {},
   "outputs": [
    {
     "name": "stdout",
     "output_type": "stream",
     "text": [
      "_________________________________________________________________\n",
      "Layer (type)                 Output Shape              Param #   \n",
      "=================================================================\n",
      "bidirectional_1 (Bidirection (None, 128)               51712     \n",
      "_________________________________________________________________\n",
      "dense_1 (Dense)              (None, 64)                8256      \n",
      "_________________________________________________________________\n",
      "dropout_1 (Dropout)          (None, 64)                0         \n",
      "_________________________________________________________________\n",
      "dense_2 (Dense)              (None, 2)                 130       \n",
      "=================================================================\n",
      "Total params: 60,098\n",
      "Trainable params: 60,098\n",
      "Non-trainable params: 0\n",
      "_________________________________________________________________\n"
     ]
    }
   ],
   "source": [
    "#compile model\n",
    "adam = keras.optimizers.Adam(lr=0.001, decay=0.0, clipnorm=5.)\n",
    "stop = EarlyStopping(patience=20, verbose=1)\n",
    "model.compile(optimizer=adam, loss='sparse_categorical_crossentropy', metrics=[metrics.sparse_categorical_accuracy, f1])\n",
    "checkpoint = ModelCheckpoint(model_file, monitor='val_loss', verbose=1, save_best_only=True, mode='min')\n",
    "\n",
    "callbacks_list = [checkpoint, stop]\n",
    "\n",
    "model.summary()"
   ]
  },
  {
   "cell_type": "code",
   "execution_count": 12,
   "metadata": {},
   "outputs": [
    {
     "name": "stdout",
     "output_type": "stream",
     "text": [
      "Train on 1322 samples, validate on 283 samples\n",
      "Epoch 1/1000\n",
      "1322/1322 [==============================] - 9s 7ms/step - loss: 0.6416 - sparse_categorical_accuracy: 0.6513 - f1: 0.7905 - val_loss: 0.5752 - val_sparse_categorical_accuracy: 0.6996 - val_f1: 0.8199\n",
      "\n",
      "Epoch 00001: val_loss improved from inf to 0.57523, saving model to basic_RNN.h5\n",
      "Epoch 2/1000\n",
      "1322/1322 [==============================] - 6s 4ms/step - loss: 0.5984 - sparse_categorical_accuracy: 0.6838 - f1: 0.7918 - val_loss: 0.5496 - val_sparse_categorical_accuracy: 0.7208 - val_f1: 0.8199\n",
      "\n",
      "Epoch 00002: val_loss improved from 0.57523 to 0.54964, saving model to basic_RNN.h5\n",
      "Epoch 3/1000\n",
      "1322/1322 [==============================] - 5s 3ms/step - loss: 0.5848 - sparse_categorical_accuracy: 0.6891 - f1: 0.7926 - val_loss: 0.4911 - val_sparse_categorical_accuracy: 0.7597 - val_f1: 0.8199\n",
      "\n",
      "Epoch 00003: val_loss improved from 0.54964 to 0.49114, saving model to basic_RNN.h5\n",
      "Epoch 4/1000\n",
      "1322/1322 [==============================] - 4s 3ms/step - loss: 0.5605 - sparse_categorical_accuracy: 0.7171 - f1: 0.7918 - val_loss: 0.5199 - val_sparse_categorical_accuracy: 0.7491 - val_f1: 0.8199\n",
      "\n",
      "Epoch 00004: val_loss did not improve from 0.49114\n",
      "Epoch 5/1000\n",
      "1322/1322 [==============================] - 5s 4ms/step - loss: 0.5393 - sparse_categorical_accuracy: 0.7322 - f1: 0.7914 - val_loss: 0.4836 - val_sparse_categorical_accuracy: 0.7491 - val_f1: 0.8199\n",
      "\n",
      "Epoch 00005: val_loss improved from 0.49114 to 0.48360, saving model to basic_RNN.h5\n",
      "Epoch 6/1000\n",
      "1322/1322 [==============================] - 4s 3ms/step - loss: 0.5326 - sparse_categorical_accuracy: 0.7368 - f1: 0.7919 - val_loss: 0.4703 - val_sparse_categorical_accuracy: 0.7739 - val_f1: 0.8199\n",
      "\n",
      "Epoch 00006: val_loss improved from 0.48360 to 0.47029, saving model to basic_RNN.h5\n",
      "Epoch 7/1000\n",
      "1322/1322 [==============================] - 5s 4ms/step - loss: 0.5114 - sparse_categorical_accuracy: 0.7443 - f1: 0.7922 - val_loss: 0.4920 - val_sparse_categorical_accuracy: 0.7562 - val_f1: 0.8199\n",
      "\n",
      "Epoch 00007: val_loss did not improve from 0.47029\n",
      "Epoch 8/1000\n",
      "1322/1322 [==============================] - 5s 4ms/step - loss: 0.5126 - sparse_categorical_accuracy: 0.7542 - f1: 0.7914 - val_loss: 0.4523 - val_sparse_categorical_accuracy: 0.7739 - val_f1: 0.8199\n",
      "\n",
      "Epoch 00008: val_loss improved from 0.47029 to 0.45231, saving model to basic_RNN.h5\n",
      "Epoch 9/1000\n",
      "1322/1322 [==============================] - 4s 3ms/step - loss: 0.4944 - sparse_categorical_accuracy: 0.7602 - f1: 0.7915 - val_loss: 0.4733 - val_sparse_categorical_accuracy: 0.7633 - val_f1: 0.8199\n",
      "\n",
      "Epoch 00009: val_loss did not improve from 0.45231\n",
      "Epoch 10/1000\n",
      "1322/1322 [==============================] - 4s 3ms/step - loss: 0.4912 - sparse_categorical_accuracy: 0.7617 - f1: 0.7910 - val_loss: 0.4823 - val_sparse_categorical_accuracy: 0.7491 - val_f1: 0.8199\n",
      "\n",
      "Epoch 00010: val_loss did not improve from 0.45231\n",
      "Epoch 11/1000\n",
      "1322/1322 [==============================] - 3s 2ms/step - loss: 0.4832 - sparse_categorical_accuracy: 0.7708 - f1: 0.7915 - val_loss: 0.4584 - val_sparse_categorical_accuracy: 0.7703 - val_f1: 0.8199\n",
      "\n",
      "Epoch 00011: val_loss did not improve from 0.45231\n",
      "Epoch 12/1000\n",
      "1322/1322 [==============================] - 3s 3ms/step - loss: 0.4708 - sparse_categorical_accuracy: 0.7670 - f1: 0.7913 - val_loss: 0.4601 - val_sparse_categorical_accuracy: 0.7880 - val_f1: 0.8199\n",
      "\n",
      "Epoch 00012: val_loss did not improve from 0.45231\n",
      "Epoch 13/1000\n",
      "1322/1322 [==============================] - 4s 3ms/step - loss: 0.4590 - sparse_categorical_accuracy: 0.7829 - f1: 0.7918 - val_loss: 0.4428 - val_sparse_categorical_accuracy: 0.7880 - val_f1: 0.8199\n",
      "\n",
      "Epoch 00013: val_loss improved from 0.45231 to 0.44285, saving model to basic_RNN.h5\n",
      "Epoch 14/1000\n",
      "1322/1322 [==============================] - 5s 4ms/step - loss: 0.4549 - sparse_categorical_accuracy: 0.7821 - f1: 0.7902 - val_loss: 0.4758 - val_sparse_categorical_accuracy: 0.7562 - val_f1: 0.8199\n",
      "\n",
      "Epoch 00014: val_loss did not improve from 0.44285\n",
      "Epoch 15/1000\n",
      "1322/1322 [==============================] - 4s 3ms/step - loss: 0.4337 - sparse_categorical_accuracy: 0.7958 - f1: 0.7919 - val_loss: 0.4464 - val_sparse_categorical_accuracy: 0.7880 - val_f1: 0.8199\n",
      "\n",
      "Epoch 00015: val_loss did not improve from 0.44285\n",
      "Epoch 16/1000\n",
      "1322/1322 [==============================] - 4s 3ms/step - loss: 0.4203 - sparse_categorical_accuracy: 0.7965 - f1: 0.7923 - val_loss: 0.4333 - val_sparse_categorical_accuracy: 0.8021 - val_f1: 0.8199\n",
      "\n",
      "Epoch 00016: val_loss improved from 0.44285 to 0.43331, saving model to basic_RNN.h5\n",
      "Epoch 17/1000\n",
      "1322/1322 [==============================] - 4s 3ms/step - loss: 0.4232 - sparse_categorical_accuracy: 0.8101 - f1: 0.7922 - val_loss: 0.4240 - val_sparse_categorical_accuracy: 0.7880 - val_f1: 0.8199\n",
      "\n",
      "Epoch 00017: val_loss improved from 0.43331 to 0.42402, saving model to basic_RNN.h5\n",
      "Epoch 18/1000\n",
      "1322/1322 [==============================] - 3s 3ms/step - loss: 0.4165 - sparse_categorical_accuracy: 0.8018 - f1: 0.7902 - val_loss: 0.4532 - val_sparse_categorical_accuracy: 0.8057 - val_f1: 0.8199\n",
      "\n",
      "Epoch 00018: val_loss did not improve from 0.42402\n",
      "Epoch 19/1000\n",
      "1322/1322 [==============================] - 4s 3ms/step - loss: 0.4048 - sparse_categorical_accuracy: 0.8215 - f1: 0.7897 - val_loss: 0.4358 - val_sparse_categorical_accuracy: 0.8021 - val_f1: 0.8199\n",
      "\n",
      "Epoch 00019: val_loss did not improve from 0.42402\n",
      "Epoch 20/1000\n",
      "1322/1322 [==============================] - 4s 3ms/step - loss: 0.3701 - sparse_categorical_accuracy: 0.8351 - f1: 0.7916 - val_loss: 0.4217 - val_sparse_categorical_accuracy: 0.8304 - val_f1: 0.8199\n",
      "\n",
      "Epoch 00020: val_loss improved from 0.42402 to 0.42169, saving model to basic_RNN.h5\n",
      "Epoch 21/1000\n",
      "1322/1322 [==============================] - 4s 3ms/step - loss: 0.3874 - sparse_categorical_accuracy: 0.8359 - f1: 0.7924 - val_loss: 0.4414 - val_sparse_categorical_accuracy: 0.8163 - val_f1: 0.8199\n",
      "\n",
      "Epoch 00021: val_loss did not improve from 0.42169\n",
      "Epoch 22/1000\n",
      "1322/1322 [==============================] - 3s 3ms/step - loss: 0.3741 - sparse_categorical_accuracy: 0.8306 - f1: 0.7907 - val_loss: 0.4117 - val_sparse_categorical_accuracy: 0.8021 - val_f1: 0.8199\n",
      "\n",
      "Epoch 00022: val_loss improved from 0.42169 to 0.41174, saving model to basic_RNN.h5\n",
      "Epoch 23/1000\n",
      "1322/1322 [==============================] - 3s 2ms/step - loss: 0.3483 - sparse_categorical_accuracy: 0.8472 - f1: 0.7905 - val_loss: 0.4369 - val_sparse_categorical_accuracy: 0.8057 - val_f1: 0.8199\n",
      "\n",
      "Epoch 00023: val_loss did not improve from 0.41174\n",
      "Epoch 24/1000\n",
      "1322/1322 [==============================] - 3s 2ms/step - loss: 0.3578 - sparse_categorical_accuracy: 0.8336 - f1: 0.7917 - val_loss: 0.4491 - val_sparse_categorical_accuracy: 0.8092 - val_f1: 0.8199\n",
      "\n",
      "Epoch 00024: val_loss did not improve from 0.41174\n",
      "Epoch 25/1000\n",
      "1322/1322 [==============================] - 3s 2ms/step - loss: 0.3624 - sparse_categorical_accuracy: 0.8366 - f1: 0.7917 - val_loss: 0.4359 - val_sparse_categorical_accuracy: 0.8092 - val_f1: 0.8199\n",
      "\n",
      "Epoch 00025: val_loss did not improve from 0.41174\n",
      "Epoch 26/1000\n",
      "1322/1322 [==============================] - 3s 2ms/step - loss: 0.3288 - sparse_categorical_accuracy: 0.8578 - f1: 0.7902 - val_loss: 0.4842 - val_sparse_categorical_accuracy: 0.8092 - val_f1: 0.8199\n",
      "\n",
      "Epoch 00026: val_loss did not improve from 0.41174\n",
      "Epoch 27/1000\n",
      "1322/1322 [==============================] - 3s 2ms/step - loss: 0.3457 - sparse_categorical_accuracy: 0.8457 - f1: 0.7905 - val_loss: 0.4601 - val_sparse_categorical_accuracy: 0.8021 - val_f1: 0.8199\n",
      "\n",
      "Epoch 00027: val_loss did not improve from 0.41174\n",
      "Epoch 28/1000\n",
      "1322/1322 [==============================] - 3s 2ms/step - loss: 0.3318 - sparse_categorical_accuracy: 0.8608 - f1: 0.7913 - val_loss: 0.4434 - val_sparse_categorical_accuracy: 0.8163 - val_f1: 0.8199\n",
      "\n",
      "Epoch 00028: val_loss did not improve from 0.41174\n",
      "Epoch 29/1000\n",
      "1322/1322 [==============================] - 3s 2ms/step - loss: 0.3136 - sparse_categorical_accuracy: 0.8676 - f1: 0.7918 - val_loss: 0.4089 - val_sparse_categorical_accuracy: 0.8304 - val_f1: 0.8199\n",
      "\n",
      "Epoch 00029: val_loss improved from 0.41174 to 0.40886, saving model to basic_RNN.h5\n",
      "Epoch 30/1000\n"
     ]
    },
    {
     "name": "stdout",
     "output_type": "stream",
     "text": [
      "1322/1322 [==============================] - 3s 2ms/step - loss: 0.3036 - sparse_categorical_accuracy: 0.8661 - f1: 0.7918 - val_loss: 0.4683 - val_sparse_categorical_accuracy: 0.8375 - val_f1: 0.8199\n",
      "\n",
      "Epoch 00030: val_loss did not improve from 0.40886\n",
      "Epoch 31/1000\n",
      "1322/1322 [==============================] - 3s 2ms/step - loss: 0.3010 - sparse_categorical_accuracy: 0.8646 - f1: 0.7910 - val_loss: 0.4125 - val_sparse_categorical_accuracy: 0.8163 - val_f1: 0.8199\n",
      "\n",
      "Epoch 00031: val_loss did not improve from 0.40886\n",
      "Epoch 32/1000\n",
      "1322/1322 [==============================] - 3s 2ms/step - loss: 0.3128 - sparse_categorical_accuracy: 0.8707 - f1: 0.7912 - val_loss: 0.4362 - val_sparse_categorical_accuracy: 0.8233 - val_f1: 0.8199\n",
      "\n",
      "Epoch 00032: val_loss did not improve from 0.40886\n",
      "Epoch 33/1000\n",
      "1322/1322 [==============================] - 3s 2ms/step - loss: 0.2999 - sparse_categorical_accuracy: 0.8714 - f1: 0.7914 - val_loss: 0.4400 - val_sparse_categorical_accuracy: 0.8233 - val_f1: 0.8199\n",
      "\n",
      "Epoch 00033: val_loss did not improve from 0.40886\n",
      "Epoch 34/1000\n",
      "1322/1322 [==============================] - 3s 2ms/step - loss: 0.2860 - sparse_categorical_accuracy: 0.8782 - f1: 0.7921 - val_loss: 0.4486 - val_sparse_categorical_accuracy: 0.8233 - val_f1: 0.8199\n",
      "\n",
      "Epoch 00034: val_loss did not improve from 0.40886\n",
      "Epoch 35/1000\n",
      "1322/1322 [==============================] - 3s 2ms/step - loss: 0.2766 - sparse_categorical_accuracy: 0.8782 - f1: 0.7908 - val_loss: 0.4259 - val_sparse_categorical_accuracy: 0.8375 - val_f1: 0.8199\n",
      "\n",
      "Epoch 00035: val_loss did not improve from 0.40886\n",
      "Epoch 36/1000\n",
      "1322/1322 [==============================] - 3s 2ms/step - loss: 0.2907 - sparse_categorical_accuracy: 0.8684 - f1: 0.7920 - val_loss: 0.4665 - val_sparse_categorical_accuracy: 0.8233 - val_f1: 0.8199\n",
      "\n",
      "Epoch 00036: val_loss did not improve from 0.40886\n",
      "Epoch 37/1000\n",
      "1322/1322 [==============================] - 3s 2ms/step - loss: 0.2891 - sparse_categorical_accuracy: 0.8850 - f1: 0.7920 - val_loss: 0.4344 - val_sparse_categorical_accuracy: 0.8269 - val_f1: 0.8199\n",
      "\n",
      "Epoch 00037: val_loss did not improve from 0.40886\n",
      "Epoch 38/1000\n",
      "1322/1322 [==============================] - 3s 2ms/step - loss: 0.2880 - sparse_categorical_accuracy: 0.8850 - f1: 0.7913 - val_loss: 0.4841 - val_sparse_categorical_accuracy: 0.7951 - val_f1: 0.8199\n",
      "\n",
      "Epoch 00038: val_loss did not improve from 0.40886\n",
      "Epoch 39/1000\n",
      "1322/1322 [==============================] - 3s 2ms/step - loss: 0.2727 - sparse_categorical_accuracy: 0.8880 - f1: 0.7916 - val_loss: 0.4833 - val_sparse_categorical_accuracy: 0.8198 - val_f1: 0.8199\n",
      "\n",
      "Epoch 00039: val_loss did not improve from 0.40886\n",
      "Epoch 40/1000\n",
      "1322/1322 [==============================] - 3s 2ms/step - loss: 0.2667 - sparse_categorical_accuracy: 0.8911 - f1: 0.7912 - val_loss: 0.5030 - val_sparse_categorical_accuracy: 0.8304 - val_f1: 0.8199\n",
      "\n",
      "Epoch 00040: val_loss did not improve from 0.40886\n",
      "Epoch 41/1000\n",
      "1322/1322 [==============================] - 3s 2ms/step - loss: 0.2687 - sparse_categorical_accuracy: 0.8918 - f1: 0.7913 - val_loss: 0.4546 - val_sparse_categorical_accuracy: 0.8304 - val_f1: 0.8199\n",
      "\n",
      "Epoch 00041: val_loss did not improve from 0.40886\n",
      "Epoch 42/1000\n",
      "1322/1322 [==============================] - 3s 2ms/step - loss: 0.2718 - sparse_categorical_accuracy: 0.8888 - f1: 0.7918 - val_loss: 0.4438 - val_sparse_categorical_accuracy: 0.8339 - val_f1: 0.8199\n",
      "\n",
      "Epoch 00042: val_loss did not improve from 0.40886\n",
      "Epoch 43/1000\n",
      "1322/1322 [==============================] - 3s 2ms/step - loss: 0.2658 - sparse_categorical_accuracy: 0.8911 - f1: 0.7908 - val_loss: 0.4769 - val_sparse_categorical_accuracy: 0.7915 - val_f1: 0.8199\n",
      "\n",
      "Epoch 00043: val_loss did not improve from 0.40886\n",
      "Epoch 44/1000\n",
      "1322/1322 [==============================] - 3s 2ms/step - loss: 0.2563 - sparse_categorical_accuracy: 0.8979 - f1: 0.7924 - val_loss: 0.4696 - val_sparse_categorical_accuracy: 0.8198 - val_f1: 0.8199\n",
      "\n",
      "Epoch 00044: val_loss did not improve from 0.40886\n",
      "Epoch 45/1000\n",
      "1322/1322 [==============================] - 3s 2ms/step - loss: 0.2409 - sparse_categorical_accuracy: 0.8956 - f1: 0.7909 - val_loss: 0.4809 - val_sparse_categorical_accuracy: 0.8198 - val_f1: 0.8199\n",
      "\n",
      "Epoch 00045: val_loss did not improve from 0.40886\n",
      "Epoch 46/1000\n",
      "1322/1322 [==============================] - 3s 2ms/step - loss: 0.2476 - sparse_categorical_accuracy: 0.8986 - f1: 0.7907 - val_loss: 0.4828 - val_sparse_categorical_accuracy: 0.8269 - val_f1: 0.8199\n",
      "\n",
      "Epoch 00046: val_loss did not improve from 0.40886\n",
      "Epoch 47/1000\n",
      "1322/1322 [==============================] - 3s 2ms/step - loss: 0.2526 - sparse_categorical_accuracy: 0.8911 - f1: 0.7919 - val_loss: 0.4873 - val_sparse_categorical_accuracy: 0.8304 - val_f1: 0.8199\n",
      "\n",
      "Epoch 00047: val_loss did not improve from 0.40886\n",
      "Epoch 48/1000\n",
      "1322/1322 [==============================] - 3s 2ms/step - loss: 0.2432 - sparse_categorical_accuracy: 0.9039 - f1: 0.7923 - val_loss: 0.4614 - val_sparse_categorical_accuracy: 0.8198 - val_f1: 0.8199\n",
      "\n",
      "Epoch 00048: val_loss did not improve from 0.40886\n",
      "Epoch 49/1000\n",
      "1322/1322 [==============================] - 3s 2ms/step - loss: 0.2467 - sparse_categorical_accuracy: 0.8903 - f1: 0.7906 - val_loss: 0.4932 - val_sparse_categorical_accuracy: 0.8375 - val_f1: 0.8199\n",
      "\n",
      "Epoch 00049: val_loss did not improve from 0.40886\n",
      "Epoch 00049: early stopping\n"
     ]
    },
    {
     "data": {
      "text/plain": [
       "<keras.callbacks.History at 0x7feaf2473748>"
      ]
     },
     "execution_count": 12,
     "metadata": {},
     "output_type": "execute_result"
    }
   ],
   "source": [
    "#training\n",
    "model.fit(x=X_train, \n",
    "          y=y_train, \n",
    "          batch_size=32, \n",
    "          epochs=1000, \n",
    "          verbose=1, \n",
    "          callbacks=callbacks_list, \n",
    "          validation_data=(X_val, y_val), \n",
    "          shuffle=True)"
   ]
  },
  {
   "cell_type": "code",
   "execution_count": 13,
   "metadata": {},
   "outputs": [
    {
     "name": "stdout",
     "output_type": "stream",
     "text": [
      "['loss', 'sparse_categorical_accuracy', 'f1']\n"
     ]
    }
   ],
   "source": [
    "#testing\n",
    "from keras.models import load_model\n",
    "trained_model = load_model(model_file, custom_objects={'f1': f1})\n",
    "print(trained_model.metrics_names)"
   ]
  },
  {
   "cell_type": "code",
   "execution_count": 14,
   "metadata": {},
   "outputs": [
    {
     "name": "stdout",
     "output_type": "stream",
     "text": [
      "1322/1322 [==============================] - 1s 728us/step\n"
     ]
    },
    {
     "data": {
      "text/plain": [
       "[0.29255126698475203, 0.8691376702868452, 0.7911279401692608]"
      ]
     },
     "execution_count": 14,
     "metadata": {},
     "output_type": "execute_result"
    }
   ],
   "source": [
    "trained_model.evaluate(x=X_train, y=y_train)"
   ]
  },
  {
   "cell_type": "code",
   "execution_count": 15,
   "metadata": {},
   "outputs": [
    {
     "name": "stdout",
     "output_type": "stream",
     "text": [
      "283/283 [==============================] - 0s 655us/step\n"
     ]
    },
    {
     "data": {
      "text/plain": [
       "[0.4088619075478598, 0.830388690262717, 0.8199131587790095]"
      ]
     },
     "execution_count": 15,
     "metadata": {},
     "output_type": "execute_result"
    }
   ],
   "source": [
    "trained_model.evaluate(x=X_val, y=y_val)"
   ]
  },
  {
   "cell_type": "code",
   "execution_count": 16,
   "metadata": {},
   "outputs": [
    {
     "name": "stdout",
     "output_type": "stream",
     "text": [
      "284/284 [==============================] - 0s 575us/step\n"
     ]
    },
    {
     "data": {
      "text/plain": [
       "[0.40860423319776296, 0.8204225326927614, 0.825893199779618]"
      ]
     },
     "execution_count": 16,
     "metadata": {},
     "output_type": "execute_result"
    }
   ],
   "source": [
    "trained_model.evaluate(x=X_test, y=y_test)"
   ]
  },
  {
   "cell_type": "code",
   "execution_count": null,
   "metadata": {},
   "outputs": [],
   "source": []
  }
 ],
 "metadata": {
  "kernelspec": {
   "display_name": "Python 3",
   "language": "python",
   "name": "python3"
  },
  "language_info": {
   "codemirror_mode": {
    "name": "ipython",
    "version": 3
   },
   "file_extension": ".py",
   "mimetype": "text/x-python",
   "name": "python",
   "nbconvert_exporter": "python",
   "pygments_lexer": "ipython3",
   "version": "3.5.6"
  }
 },
 "nbformat": 4,
 "nbformat_minor": 2
}
