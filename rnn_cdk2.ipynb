{
 "cells": [
  {
   "cell_type": "code",
   "execution_count": 1,
   "metadata": {},
   "outputs": [
    {
     "name": "stderr",
     "output_type": "stream",
     "text": [
      "Using TensorFlow backend.\n"
     ]
    }
   ],
   "source": [
    "import os\n",
    "import sys\n",
    "import numpy as np\n",
    "import keras\n",
    "# from sklearn.model_selection import train_test_split"
   ]
  },
  {
   "cell_type": "code",
   "execution_count": 2,
   "metadata": {},
   "outputs": [],
   "source": [
    "seed = 273\n",
    "kinase = 'cdk2'\n",
    "model_file = 'rnn_%s.h5' % (kinase)"
   ]
  },
  {
   "cell_type": "code",
   "execution_count": 3,
   "metadata": {},
   "outputs": [],
   "source": [
    "#import data\n",
    "smiles_lines = [line.strip().split(',') for line in open(os.path.join('data', kinase+'_smiles.csv'))]\n",
    "smiles = [line[1] for line in smiles_lines]\n",
    "fingerprint_lines = [line.strip().split(',') for line in open(os.path.join('data', kinase+'_fingerprints.csv'))]\n",
    "fingerprints = [line[2:] for line in fingerprint_lines]\n",
    "X_fingerprints = np.asarray(fingerprints, dtype=np.int16)\n",
    "y = np.asarray([int(line[2]) for line in smiles_lines], dtype=np.int8)"
   ]
  },
  {
   "cell_type": "code",
   "execution_count": 4,
   "metadata": {},
   "outputs": [],
   "source": [
    "#pad smiles with '!' to ensure equal length\n",
    "max_smiles_len = max(len(s) for s in smiles)\n",
    "smiles = [s + '!'*(max_smiles_len + 1 - len(s)) for s in smiles]"
   ]
  },
  {
   "cell_type": "code",
   "execution_count": 5,
   "metadata": {},
   "outputs": [],
   "source": [
    "#one-hot vector representation of smiles\n",
    "char_set = set()\n",
    "for s in smiles:\n",
    "    for c in s:\n",
    "        char_set.add(c)\n",
    "char_set = list(char_set)\n",
    "char_to_index = {char_set[i]: i for i in range(len(char_set))}\n",
    "\n",
    "X_smiles = np.zeros((len(smiles), max_smiles_len + 1, len(char_set)))\n",
    "for i in range(len(smiles)):\n",
    "    code = smiles[i]\n",
    "    for j in range(len(code)):\n",
    "        char = code[j]\n",
    "        X_smiles[i, j, char_to_index[char]] = 1        "
   ]
  },
  {
   "cell_type": "code",
   "execution_count": 6,
   "metadata": {},
   "outputs": [
    {
     "name": "stdout",
     "output_type": "stream",
     "text": [
      "(1635, 6117)\n",
      "(1635, 84, 36)\n",
      "(1635,)\n"
     ]
    }
   ],
   "source": [
    "print(X_fingerprints.shape)\n",
    "print(X_smiles.shape)\n",
    "print(y.shape)"
   ]
  },
  {
   "cell_type": "code",
   "execution_count": 7,
   "metadata": {},
   "outputs": [
    {
     "name": "stdout",
     "output_type": "stream",
     "text": [
      "(1145, 6117)\n",
      "(1145, 84, 36)\n",
      "(1145,)\n",
      "(245, 6117)\n",
      "(245, 84, 36)\n",
      "(245,)\n",
      "(245, 6117)\n",
      "(245, 84, 36)\n",
      "(245,)\n"
     ]
    }
   ],
   "source": [
    "#train val test split\n",
    "n_tot = X_smiles.shape[0]\n",
    "n_test = round(n_tot*0.15)\n",
    "n_val = round(n_tot*0.15)\n",
    "n_train  = n_tot - n_test - n_val\n",
    "indices = np.arange(n_tot, dtype=int)\n",
    "np.random.seed(seed)\n",
    "np.random.shuffle(indices)\n",
    "indices_train = indices[:n_train]\n",
    "indices_val = indices[n_train:n_train+n_val]\n",
    "indices_test = indices[n_train+n_val:]\n",
    "X_fingerprints_train = X_fingerprints[indices_train]\n",
    "print(X_fingerprints_train.shape)\n",
    "X_smiles_train = X_smiles[indices_train]\n",
    "print(X_smiles_train.shape)\n",
    "y_train = y[indices_train]\n",
    "print(y_train.shape)\n",
    "X_fingerprints_val = X_fingerprints[indices_val]\n",
    "print(X_fingerprints_val.shape)\n",
    "X_smiles_val = X_smiles[indices_val]\n",
    "print(X_smiles_val.shape)\n",
    "y_val = y[indices_val]\n",
    "print(y_val.shape)\n",
    "X_fingerprints_test = X_fingerprints[indices_test]\n",
    "print(X_fingerprints_test.shape)\n",
    "X_smiles_test = X_smiles[indices_test]\n",
    "print(X_smiles_test.shape)\n",
    "y_test = y[indices_test]\n",
    "print(y_test.shape)\n",
    "smiles_input_shape = X_smiles_train.shape[1:]\n",
    "fingerprints_input_shape = X_fingerprints_train.shape[1:]"
   ]
  },
  {
   "cell_type": "code",
   "execution_count": 8,
   "metadata": {},
   "outputs": [
    {
     "name": "stdout",
     "output_type": "stream",
     "text": [
      "[]\n"
     ]
    }
   ],
   "source": [
    "#check GPU presence\n",
    "from tensorflow.python.client import device_lib\n",
    "\n",
    "def get_available_gpus():\n",
    "    local_device_protos = device_lib.list_local_devices()\n",
    "    return [x.name for x in local_device_protos if x.device_type == 'GPU']\n",
    "\n",
    "print(get_available_gpus())"
   ]
  },
  {
   "cell_type": "code",
   "execution_count": 9,
   "metadata": {},
   "outputs": [],
   "source": [
    "#keras imports\n",
    "from keras.models import Sequential\n",
    "from keras.layers import TimeDistributed, GlobalAveragePooling2D, Activation, Dense, Input, Bidirectional\n",
    "from keras.layers import BatchNormalization, Conv2D, MaxPooling2D, AveragePooling2D, GlobalAveragePooling2D\n",
    "from keras.layers import GlobalMaxPooling2D\n",
    "from keras.layers.recurrent import LSTM\n",
    "from keras.callbacks import ModelCheckpoint, ReduceLROnPlateau, Callback, EarlyStopping\n",
    "from keras.layers import Dropout, Flatten\n",
    "from keras.layers import concatenate\n",
    "from keras import regularizers\n",
    "from keras import initializers\n",
    "from keras import constraints\n",
    "from keras.models import Model\n",
    "# Backend\n",
    "from keras import backend as K\n",
    "# Utils\n",
    "from keras.utils.layer_utils import convert_all_kernels_in_model\n",
    "from keras.utils.data_utils import get_file\n",
    "from keras import metrics"
   ]
  },
  {
   "cell_type": "code",
   "execution_count": 10,
   "metadata": {},
   "outputs": [],
   "source": [
    "#F1 score computation\n",
    "from sklearn.metrics import confusion_matrix, f1_score, precision_score, recall_score\n",
    "from keras import backend as K\n",
    "\n",
    "def f1(y_true, y_pred):\n",
    "    def recall(y_true, y_pred):\n",
    "        \"\"\"Recall metric.\n",
    "\n",
    "        Only computes a batch-wise average of recall.\n",
    "\n",
    "        Computes the recall, a metric for multi-label classification of\n",
    "        how many relevant items are selected.\n",
    "        \"\"\"\n",
    "        true_positives = K.sum(K.round(K.clip(y_true * y_pred, 0, 1)))\n",
    "        possible_positives = K.sum(K.round(K.clip(y_true, 0, 1)))\n",
    "        recall = true_positives / (possible_positives + K.epsilon())\n",
    "        return recall\n",
    "\n",
    "    def precision(y_true, y_pred):\n",
    "        \"\"\"Precision metric.\n",
    "\n",
    "        Only computes a batch-wise average of precision.\n",
    "\n",
    "        Computes the precision, a metric for multi-label classification of\n",
    "        how many selected items are relevant.\n",
    "        \"\"\"\n",
    "        true_positives = K.sum(K.round(K.clip(y_true * y_pred, 0, 1)))\n",
    "        predicted_positives = K.sum(K.round(K.clip(y_pred, 0, 1)))\n",
    "        precision = true_positives / (predicted_positives + K.epsilon())\n",
    "        return precision\n",
    "    precision = precision(y_true, y_pred)\n",
    "    recall = recall(y_true, y_pred)\n",
    "    return 2*((precision*recall)/(precision+recall+K.epsilon()))"
   ]
  },
  {
   "cell_type": "code",
   "execution_count": 11,
   "metadata": {},
   "outputs": [],
   "source": [
    "#basic RNN model\n",
    "model = Sequential()\n",
    "model.add(Bidirectional(LSTM(units=128, return_sequences=False), input_shape=smiles_input_shape))\n",
    "model.add(Dense(128, activation='relu'))\n",
    "model.add(Dropout(0.5))\n",
    "model.add(Dense(2, activation='softmax'))"
   ]
  },
  {
   "cell_type": "code",
   "execution_count": 12,
   "metadata": {},
   "outputs": [
    {
     "name": "stdout",
     "output_type": "stream",
     "text": [
      "_________________________________________________________________\n",
      "Layer (type)                 Output Shape              Param #   \n",
      "=================================================================\n",
      "bidirectional_1 (Bidirection (None, 256)               168960    \n",
      "_________________________________________________________________\n",
      "dense_1 (Dense)              (None, 128)               32896     \n",
      "_________________________________________________________________\n",
      "dropout_1 (Dropout)          (None, 128)               0         \n",
      "_________________________________________________________________\n",
      "dense_2 (Dense)              (None, 2)                 258       \n",
      "=================================================================\n",
      "Total params: 202,114\n",
      "Trainable params: 202,114\n",
      "Non-trainable params: 0\n",
      "_________________________________________________________________\n"
     ]
    }
   ],
   "source": [
    "#compile model\n",
    "adam = keras.optimizers.Adam(lr=0.001, decay=0.0, clipnorm=5.)\n",
    "stop = EarlyStopping(patience=20, verbose=1)\n",
    "model.compile(optimizer=adam, loss='sparse_categorical_crossentropy', metrics=[metrics.sparse_categorical_accuracy, f1])\n",
    "checkpoint = ModelCheckpoint(model_file, monitor='val_loss', verbose=1, save_best_only=True, mode='min')\n",
    "\n",
    "callbacks_list = [checkpoint, stop]\n",
    "\n",
    "model.summary()"
   ]
  },
  {
   "cell_type": "code",
   "execution_count": 13,
   "metadata": {},
   "outputs": [
    {
     "name": "stdout",
     "output_type": "stream",
     "text": [
      "Train on 1145 samples, validate on 245 samples\n",
      "Epoch 1/1000\n",
      "1145/1145 [==============================] - 5s 5ms/step - loss: 0.6435 - sparse_categorical_accuracy: 0.6384 - f1: 0.7743 - val_loss: 0.6072 - val_sparse_categorical_accuracy: 0.6776 - val_f1: 0.7576\n",
      "\n",
      "Epoch 00001: val_loss improved from inf to 0.60720, saving model to rnn_cdk2.h5\n",
      "Epoch 2/1000\n",
      "1145/1145 [==============================] - 4s 3ms/step - loss: 0.6149 - sparse_categorical_accuracy: 0.6664 - f1: 0.7750 - val_loss: 0.5763 - val_sparse_categorical_accuracy: 0.7143 - val_f1: 0.7576\n",
      "\n",
      "Epoch 00002: val_loss improved from 0.60720 to 0.57626, saving model to rnn_cdk2.h5\n",
      "Epoch 3/1000\n",
      "1145/1145 [==============================] - 4s 3ms/step - loss: 0.5766 - sparse_categorical_accuracy: 0.7031 - f1: 0.7739 - val_loss: 0.5305 - val_sparse_categorical_accuracy: 0.7306 - val_f1: 0.7576\n",
      "\n",
      "Epoch 00003: val_loss improved from 0.57626 to 0.53047, saving model to rnn_cdk2.h5\n",
      "Epoch 4/1000\n",
      "1145/1145 [==============================] - 4s 3ms/step - loss: 0.5634 - sparse_categorical_accuracy: 0.7231 - f1: 0.7750 - val_loss: 0.5897 - val_sparse_categorical_accuracy: 0.6776 - val_f1: 0.7576\n",
      "\n",
      "Epoch 00004: val_loss did not improve from 0.53047\n",
      "Epoch 5/1000\n",
      "1145/1145 [==============================] - 4s 3ms/step - loss: 0.5424 - sparse_categorical_accuracy: 0.7371 - f1: 0.7737 - val_loss: 0.5145 - val_sparse_categorical_accuracy: 0.7388 - val_f1: 0.7576\n",
      "\n",
      "Epoch 00005: val_loss improved from 0.53047 to 0.51454, saving model to rnn_cdk2.h5\n",
      "Epoch 6/1000\n",
      "1145/1145 [==============================] - 3s 3ms/step - loss: 0.5334 - sparse_categorical_accuracy: 0.7371 - f1: 0.7745 - val_loss: 0.5145 - val_sparse_categorical_accuracy: 0.7347 - val_f1: 0.7576\n",
      "\n",
      "Epoch 00006: val_loss improved from 0.51454 to 0.51452, saving model to rnn_cdk2.h5\n",
      "Epoch 7/1000\n",
      "1145/1145 [==============================] - 4s 3ms/step - loss: 0.5213 - sparse_categorical_accuracy: 0.7537 - f1: 0.7730 - val_loss: 0.4986 - val_sparse_categorical_accuracy: 0.7592 - val_f1: 0.7576\n",
      "\n",
      "Epoch 00007: val_loss improved from 0.51452 to 0.49863, saving model to rnn_cdk2.h5\n",
      "Epoch 8/1000\n",
      "1145/1145 [==============================] - 5s 4ms/step - loss: 0.5081 - sparse_categorical_accuracy: 0.7511 - f1: 0.7729 - val_loss: 0.4840 - val_sparse_categorical_accuracy: 0.7673 - val_f1: 0.7576\n",
      "\n",
      "Epoch 00008: val_loss improved from 0.49863 to 0.48401, saving model to rnn_cdk2.h5\n",
      "Epoch 9/1000\n",
      "1145/1145 [==============================] - 6s 5ms/step - loss: 0.5223 - sparse_categorical_accuracy: 0.7432 - f1: 0.7727 - val_loss: 0.4994 - val_sparse_categorical_accuracy: 0.7714 - val_f1: 0.7576\n",
      "\n",
      "Epoch 00009: val_loss did not improve from 0.48401\n",
      "Epoch 10/1000\n",
      "1145/1145 [==============================] - 4s 3ms/step - loss: 0.4921 - sparse_categorical_accuracy: 0.7686 - f1: 0.7733 - val_loss: 0.4787 - val_sparse_categorical_accuracy: 0.7592 - val_f1: 0.7576\n",
      "\n",
      "Epoch 00010: val_loss improved from 0.48401 to 0.47871, saving model to rnn_cdk2.h5\n",
      "Epoch 11/1000\n",
      "1145/1145 [==============================] - 4s 3ms/step - loss: 0.4954 - sparse_categorical_accuracy: 0.7607 - f1: 0.7733 - val_loss: 0.5130 - val_sparse_categorical_accuracy: 0.7673 - val_f1: 0.7576\n",
      "\n",
      "Epoch 00011: val_loss did not improve from 0.47871\n",
      "Epoch 12/1000\n",
      "1145/1145 [==============================] - 4s 3ms/step - loss: 0.4879 - sparse_categorical_accuracy: 0.7651 - f1: 0.7745 - val_loss: 0.5096 - val_sparse_categorical_accuracy: 0.7592 - val_f1: 0.7576\n",
      "\n",
      "Epoch 00012: val_loss did not improve from 0.47871\n",
      "Epoch 13/1000\n",
      "1145/1145 [==============================] - 5s 4ms/step - loss: 0.4918 - sparse_categorical_accuracy: 0.7668 - f1: 0.7746 - val_loss: 0.4803 - val_sparse_categorical_accuracy: 0.7796 - val_f1: 0.7576\n",
      "\n",
      "Epoch 00013: val_loss did not improve from 0.47871\n",
      "Epoch 14/1000\n",
      "1145/1145 [==============================] - 7s 6ms/step - loss: 0.4720 - sparse_categorical_accuracy: 0.7825 - f1: 0.7732 - val_loss: 0.4901 - val_sparse_categorical_accuracy: 0.7755 - val_f1: 0.7576\n",
      "\n",
      "Epoch 00014: val_loss did not improve from 0.47871\n",
      "Epoch 15/1000\n",
      "1145/1145 [==============================] - 7s 6ms/step - loss: 0.4367 - sparse_categorical_accuracy: 0.8087 - f1: 0.7750 - val_loss: 0.4727 - val_sparse_categorical_accuracy: 0.7959 - val_f1: 0.7576\n",
      "\n",
      "Epoch 00015: val_loss improved from 0.47871 to 0.47270, saving model to rnn_cdk2.h5\n",
      "Epoch 16/1000\n",
      "1145/1145 [==============================] - 4s 3ms/step - loss: 0.4378 - sparse_categorical_accuracy: 0.8009 - f1: 0.7750 - val_loss: 0.4656 - val_sparse_categorical_accuracy: 0.7878 - val_f1: 0.7576\n",
      "\n",
      "Epoch 00016: val_loss improved from 0.47270 to 0.46564, saving model to rnn_cdk2.h5\n",
      "Epoch 17/1000\n",
      "1145/1145 [==============================] - 4s 3ms/step - loss: 0.4280 - sparse_categorical_accuracy: 0.8079 - f1: 0.7747 - val_loss: 2.5826 - val_sparse_categorical_accuracy: 0.4000 - val_f1: 0.7576\n",
      "\n",
      "Epoch 00017: val_loss did not improve from 0.46564\n",
      "Epoch 18/1000\n",
      "1145/1145 [==============================] - 4s 3ms/step - loss: 0.5244 - sparse_categorical_accuracy: 0.7651 - f1: 0.7736 - val_loss: 0.4731 - val_sparse_categorical_accuracy: 0.7837 - val_f1: 0.7576\n",
      "\n",
      "Epoch 00018: val_loss did not improve from 0.46564\n",
      "Epoch 19/1000\n",
      "1145/1145 [==============================] - 4s 3ms/step - loss: 0.4382 - sparse_categorical_accuracy: 0.7991 - f1: 0.7731 - val_loss: 0.4934 - val_sparse_categorical_accuracy: 0.7673 - val_f1: 0.7576\n",
      "\n",
      "Epoch 00019: val_loss did not improve from 0.46564\n",
      "Epoch 20/1000\n",
      "1145/1145 [==============================] - 3s 3ms/step - loss: 0.4060 - sparse_categorical_accuracy: 0.8192 - f1: 0.7745 - val_loss: 0.5179 - val_sparse_categorical_accuracy: 0.7592 - val_f1: 0.7576\n",
      "\n",
      "Epoch 00020: val_loss did not improve from 0.46564\n",
      "Epoch 21/1000\n",
      "1145/1145 [==============================] - 4s 4ms/step - loss: 0.4216 - sparse_categorical_accuracy: 0.8131 - f1: 0.7747 - val_loss: 0.5130 - val_sparse_categorical_accuracy: 0.7633 - val_f1: 0.7576\n",
      "\n",
      "Epoch 00021: val_loss did not improve from 0.46564\n",
      "Epoch 22/1000\n",
      "1145/1145 [==============================] - 6s 5ms/step - loss: 0.4157 - sparse_categorical_accuracy: 0.8052 - f1: 0.7736 - val_loss: 0.4676 - val_sparse_categorical_accuracy: 0.7837 - val_f1: 0.7576\n",
      "\n",
      "Epoch 00022: val_loss did not improve from 0.46564\n",
      "Epoch 23/1000\n",
      "1145/1145 [==============================] - 7s 6ms/step - loss: 0.4070 - sparse_categorical_accuracy: 0.8175 - f1: 0.7739 - val_loss: 0.4600 - val_sparse_categorical_accuracy: 0.7878 - val_f1: 0.7576\n",
      "\n",
      "Epoch 00023: val_loss improved from 0.46564 to 0.45996, saving model to rnn_cdk2.h5\n",
      "Epoch 24/1000\n",
      "1145/1145 [==============================] - 3s 3ms/step - loss: 0.3865 - sparse_categorical_accuracy: 0.8341 - f1: 0.7741 - val_loss: 0.4804 - val_sparse_categorical_accuracy: 0.7633 - val_f1: 0.7576\n",
      "\n",
      "Epoch 00024: val_loss did not improve from 0.45996\n",
      "Epoch 25/1000\n",
      "1145/1145 [==============================] - 4s 4ms/step - loss: 0.3928 - sparse_categorical_accuracy: 0.8253 - f1: 0.7746 - val_loss: 0.4833 - val_sparse_categorical_accuracy: 0.7918 - val_f1: 0.7576\n",
      "\n",
      "Epoch 00025: val_loss did not improve from 0.45996\n",
      "Epoch 26/1000\n",
      "1145/1145 [==============================] - 4s 3ms/step - loss: 0.3703 - sparse_categorical_accuracy: 0.8419 - f1: 0.7748 - val_loss: 0.4753 - val_sparse_categorical_accuracy: 0.7673 - val_f1: 0.7576\n",
      "\n",
      "Epoch 00026: val_loss did not improve from 0.45996\n",
      "Epoch 27/1000\n",
      "1145/1145 [==============================] - 4s 3ms/step - loss: 0.3518 - sparse_categorical_accuracy: 0.8568 - f1: 0.7746 - val_loss: 0.4967 - val_sparse_categorical_accuracy: 0.7796 - val_f1: 0.7576\n",
      "\n",
      "Epoch 00027: val_loss did not improve from 0.45996\n",
      "Epoch 28/1000\n",
      "1145/1145 [==============================] - 4s 3ms/step - loss: 0.3705 - sparse_categorical_accuracy: 0.8393 - f1: 0.7747 - val_loss: 0.5346 - val_sparse_categorical_accuracy: 0.7837 - val_f1: 0.7576\n",
      "\n",
      "Epoch 00028: val_loss did not improve from 0.45996\n",
      "Epoch 29/1000\n",
      "1145/1145 [==============================] - 4s 3ms/step - loss: 0.3562 - sparse_categorical_accuracy: 0.8445 - f1: 0.7734 - val_loss: 0.4642 - val_sparse_categorical_accuracy: 0.8041 - val_f1: 0.7576\n",
      "\n",
      "Epoch 00029: val_loss did not improve from 0.45996\n",
      "Epoch 30/1000\n",
      "1145/1145 [==============================] - 4s 3ms/step - loss: 0.3536 - sparse_categorical_accuracy: 0.8480 - f1: 0.7743 - val_loss: 0.4909 - val_sparse_categorical_accuracy: 0.7837 - val_f1: 0.7576\n",
      "\n",
      "Epoch 00030: val_loss did not improve from 0.45996\n",
      "Epoch 31/1000\n",
      "1145/1145 [==============================] - 4s 3ms/step - loss: 0.3366 - sparse_categorical_accuracy: 0.8533 - f1: 0.7735 - val_loss: 0.4502 - val_sparse_categorical_accuracy: 0.7878 - val_f1: 0.7576\n",
      "\n",
      "Epoch 00031: val_loss improved from 0.45996 to 0.45025, saving model to rnn_cdk2.h5\n",
      "Epoch 32/1000\n",
      "1145/1145 [==============================] - 4s 3ms/step - loss: 0.3456 - sparse_categorical_accuracy: 0.8507 - f1: 0.7746 - val_loss: 0.4839 - val_sparse_categorical_accuracy: 0.7918 - val_f1: 0.7576\n",
      "\n",
      "Epoch 00032: val_loss did not improve from 0.45025\n",
      "Epoch 33/1000\n",
      "1145/1145 [==============================] - 4s 3ms/step - loss: 0.3169 - sparse_categorical_accuracy: 0.8620 - f1: 0.7748 - val_loss: 0.4623 - val_sparse_categorical_accuracy: 0.7796 - val_f1: 0.7576\n",
      "\n",
      "Epoch 00033: val_loss did not improve from 0.45025\n",
      "Epoch 34/1000\n",
      "1145/1145 [==============================] - 4s 3ms/step - loss: 0.3080 - sparse_categorical_accuracy: 0.8716 - f1: 0.7748 - val_loss: 0.4633 - val_sparse_categorical_accuracy: 0.8041 - val_f1: 0.7576\n",
      "\n",
      "Epoch 00034: val_loss did not improve from 0.45025\n",
      "Epoch 35/1000\n",
      "1145/1145 [==============================] - 4s 4ms/step - loss: 0.3062 - sparse_categorical_accuracy: 0.8629 - f1: 0.7754 - val_loss: 0.4872 - val_sparse_categorical_accuracy: 0.7959 - val_f1: 0.7576\n",
      "\n",
      "Epoch 00035: val_loss did not improve from 0.45025\n",
      "Epoch 36/1000\n",
      "1145/1145 [==============================] - 4s 3ms/step - loss: 0.2979 - sparse_categorical_accuracy: 0.8716 - f1: 0.7745 - val_loss: 0.5689 - val_sparse_categorical_accuracy: 0.7673 - val_f1: 0.7576\n",
      "\n",
      "Epoch 00036: val_loss did not improve from 0.45025\n",
      "Epoch 37/1000\n",
      "1145/1145 [==============================] - 4s 4ms/step - loss: 0.3196 - sparse_categorical_accuracy: 0.8707 - f1: 0.7740 - val_loss: 0.4821 - val_sparse_categorical_accuracy: 0.7878 - val_f1: 0.7576\n",
      "\n",
      "Epoch 00037: val_loss did not improve from 0.45025\n",
      "Epoch 38/1000\n",
      "1145/1145 [==============================] - 4s 3ms/step - loss: 0.3074 - sparse_categorical_accuracy: 0.8594 - f1: 0.7748 - val_loss: 0.4644 - val_sparse_categorical_accuracy: 0.8041 - val_f1: 0.7576\n",
      "\n",
      "Epoch 00038: val_loss did not improve from 0.45025\n",
      "Epoch 39/1000\n",
      "1145/1145 [==============================] - 4s 3ms/step - loss: 0.3044 - sparse_categorical_accuracy: 0.8646 - f1: 0.7733 - val_loss: 0.4645 - val_sparse_categorical_accuracy: 0.8082 - val_f1: 0.7576\n",
      "\n",
      "Epoch 00039: val_loss did not improve from 0.45025\n",
      "Epoch 40/1000\n",
      "1145/1145 [==============================] - 4s 3ms/step - loss: 0.3239 - sparse_categorical_accuracy: 0.8638 - f1: 0.7743 - val_loss: 0.4314 - val_sparse_categorical_accuracy: 0.7837 - val_f1: 0.7576\n",
      "\n",
      "Epoch 00040: val_loss improved from 0.45025 to 0.43143, saving model to rnn_cdk2.h5\n",
      "Epoch 41/1000\n",
      "1145/1145 [==============================] - 4s 3ms/step - loss: 0.2935 - sparse_categorical_accuracy: 0.8699 - f1: 0.7742 - val_loss: 0.5043 - val_sparse_categorical_accuracy: 0.8245 - val_f1: 0.7576\n",
      "\n",
      "Epoch 00041: val_loss did not improve from 0.43143\n",
      "Epoch 42/1000\n",
      "1145/1145 [==============================] - 4s 4ms/step - loss: 0.2590 - sparse_categorical_accuracy: 0.8865 - f1: 0.7750 - val_loss: 0.5498 - val_sparse_categorical_accuracy: 0.7918 - val_f1: 0.7576\n",
      "\n",
      "Epoch 00042: val_loss did not improve from 0.43143\n",
      "Epoch 43/1000\n",
      "1145/1145 [==============================] - 5s 4ms/step - loss: 0.2525 - sparse_categorical_accuracy: 0.8908 - f1: 0.7746 - val_loss: 0.5452 - val_sparse_categorical_accuracy: 0.8122 - val_f1: 0.7576\n",
      "\n",
      "Epoch 00043: val_loss did not improve from 0.43143\n",
      "Epoch 44/1000\n",
      "1145/1145 [==============================] - 6s 5ms/step - loss: 0.2611 - sparse_categorical_accuracy: 0.8847 - f1: 0.7745 - val_loss: 0.5647 - val_sparse_categorical_accuracy: 0.8082 - val_f1: 0.7576\n",
      "\n",
      "Epoch 00044: val_loss did not improve from 0.43143\n",
      "Epoch 45/1000\n",
      "1145/1145 [==============================] - 7s 6ms/step - loss: 0.2671 - sparse_categorical_accuracy: 0.8882 - f1: 0.7740 - val_loss: 0.4671 - val_sparse_categorical_accuracy: 0.8367 - val_f1: 0.7576\n",
      "\n",
      "Epoch 00045: val_loss did not improve from 0.43143\n",
      "Epoch 46/1000\n",
      "1145/1145 [==============================] - 6s 5ms/step - loss: 0.2772 - sparse_categorical_accuracy: 0.8847 - f1: 0.7738 - val_loss: 0.5256 - val_sparse_categorical_accuracy: 0.7918 - val_f1: 0.7576\n",
      "\n",
      "Epoch 00046: val_loss did not improve from 0.43143\n",
      "Epoch 47/1000\n",
      "1145/1145 [==============================] - 6s 6ms/step - loss: 0.2528 - sparse_categorical_accuracy: 0.8978 - f1: 0.7748 - val_loss: 0.5203 - val_sparse_categorical_accuracy: 0.7673 - val_f1: 0.7576\n",
      "\n",
      "Epoch 00047: val_loss did not improve from 0.43143\n",
      "Epoch 48/1000\n",
      "1145/1145 [==============================] - 6s 6ms/step - loss: 0.2389 - sparse_categorical_accuracy: 0.9100 - f1: 0.7746 - val_loss: 0.5262 - val_sparse_categorical_accuracy: 0.7959 - val_f1: 0.7576\n",
      "\n",
      "Epoch 00048: val_loss did not improve from 0.43143\n",
      "Epoch 49/1000\n",
      "1145/1145 [==============================] - 6s 5ms/step - loss: 0.2386 - sparse_categorical_accuracy: 0.9004 - f1: 0.7738 - val_loss: 0.5196 - val_sparse_categorical_accuracy: 0.8041 - val_f1: 0.7576\n",
      "\n",
      "Epoch 00049: val_loss did not improve from 0.43143\n",
      "Epoch 50/1000\n",
      "1145/1145 [==============================] - 6s 5ms/step - loss: 0.2476 - sparse_categorical_accuracy: 0.8952 - f1: 0.7738 - val_loss: 0.5993 - val_sparse_categorical_accuracy: 0.7878 - val_f1: 0.7576\n",
      "\n",
      "Epoch 00050: val_loss did not improve from 0.43143\n",
      "Epoch 51/1000\n",
      "1145/1145 [==============================] - 6s 5ms/step - loss: 0.2277 - sparse_categorical_accuracy: 0.9100 - f1: 0.7750 - val_loss: 0.5703 - val_sparse_categorical_accuracy: 0.8204 - val_f1: 0.7576\n",
      "\n",
      "Epoch 00051: val_loss did not improve from 0.43143\n",
      "Epoch 52/1000\n",
      "1145/1145 [==============================] - 7s 6ms/step - loss: 0.2333 - sparse_categorical_accuracy: 0.8996 - f1: 0.7742 - val_loss: 0.5917 - val_sparse_categorical_accuracy: 0.7837 - val_f1: 0.7576\n",
      "\n",
      "Epoch 00052: val_loss did not improve from 0.43143\n",
      "Epoch 53/1000\n",
      "1145/1145 [==============================] - 6s 5ms/step - loss: 0.2133 - sparse_categorical_accuracy: 0.9118 - f1: 0.7748 - val_loss: 0.5184 - val_sparse_categorical_accuracy: 0.8122 - val_f1: 0.7576\n",
      "\n",
      "Epoch 00053: val_loss did not improve from 0.43143\n",
      "Epoch 54/1000\n",
      "1145/1145 [==============================] - 6s 5ms/step - loss: 0.1987 - sparse_categorical_accuracy: 0.9162 - f1: 0.7744 - val_loss: 0.6473 - val_sparse_categorical_accuracy: 0.7878 - val_f1: 0.7576\n",
      "\n",
      "Epoch 00054: val_loss did not improve from 0.43143\n",
      "Epoch 55/1000\n",
      "1145/1145 [==============================] - 7s 6ms/step - loss: 0.2134 - sparse_categorical_accuracy: 0.9092 - f1: 0.7753 - val_loss: 0.6032 - val_sparse_categorical_accuracy: 0.7959 - val_f1: 0.7576\n",
      "\n",
      "Epoch 00055: val_loss did not improve from 0.43143\n",
      "Epoch 56/1000\n",
      "1145/1145 [==============================] - 6s 5ms/step - loss: 0.2287 - sparse_categorical_accuracy: 0.8969 - f1: 0.7743 - val_loss: 0.6901 - val_sparse_categorical_accuracy: 0.7837 - val_f1: 0.7576\n",
      "\n",
      "Epoch 00056: val_loss did not improve from 0.43143\n",
      "Epoch 57/1000\n",
      "1145/1145 [==============================] - 6s 5ms/step - loss: 0.2333 - sparse_categorical_accuracy: 0.9057 - f1: 0.7745 - val_loss: 0.5401 - val_sparse_categorical_accuracy: 0.8245 - val_f1: 0.7576\n",
      "\n",
      "Epoch 00057: val_loss did not improve from 0.43143\n",
      "Epoch 58/1000\n",
      "1145/1145 [==============================] - 8s 7ms/step - loss: 0.2025 - sparse_categorical_accuracy: 0.9162 - f1: 0.7746 - val_loss: 0.6377 - val_sparse_categorical_accuracy: 0.7755 - val_f1: 0.7576\n",
      "\n",
      "Epoch 00058: val_loss did not improve from 0.43143\n",
      "Epoch 59/1000\n",
      "1145/1145 [==============================] - 9s 8ms/step - loss: 0.1763 - sparse_categorical_accuracy: 0.9249 - f1: 0.7752 - val_loss: 0.6326 - val_sparse_categorical_accuracy: 0.8082 - val_f1: 0.7576\n",
      "\n",
      "Epoch 00059: val_loss did not improve from 0.43143\n",
      "Epoch 60/1000\n"
     ]
    },
    {
     "name": "stdout",
     "output_type": "stream",
     "text": [
      "1145/1145 [==============================] - 7s 6ms/step - loss: 0.1671 - sparse_categorical_accuracy: 0.9328 - f1: 0.7744 - val_loss: 0.6407 - val_sparse_categorical_accuracy: 0.8204 - val_f1: 0.7576\n",
      "\n",
      "Epoch 00060: val_loss did not improve from 0.43143\n",
      "Epoch 00060: early stopping\n"
     ]
    },
    {
     "data": {
      "text/plain": [
       "<keras.callbacks.History at 0x7fa323816630>"
      ]
     },
     "execution_count": 13,
     "metadata": {},
     "output_type": "execute_result"
    }
   ],
   "source": [
    "#training\n",
    "model.fit(x=X_smiles_train, \n",
    "          y=y_train, \n",
    "          batch_size=32, \n",
    "          epochs=1000, \n",
    "          verbose=1, \n",
    "          callbacks=callbacks_list, \n",
    "          validation_data=(X_smiles_val, y_val), \n",
    "          shuffle=True)"
   ]
  },
  {
   "cell_type": "code",
   "execution_count": 14,
   "metadata": {},
   "outputs": [
    {
     "name": "stdout",
     "output_type": "stream",
     "text": [
      "['loss', 'sparse_categorical_accuracy', 'f1']\n"
     ]
    }
   ],
   "source": [
    "#testing\n",
    "from keras.models import load_model\n",
    "trained_model = load_model(model_file, custom_objects={'f1': f1})\n",
    "print(trained_model.metrics_names)"
   ]
  },
  {
   "cell_type": "code",
   "execution_count": 15,
   "metadata": {},
   "outputs": [
    {
     "name": "stdout",
     "output_type": "stream",
     "text": [
      "1145/1145 [==============================] - 2s 2ms/step\n"
     ]
    },
    {
     "data": {
      "text/plain": [
       "[0.29746634089530294, 0.8829694326788057, 0.775456288131564]"
      ]
     },
     "execution_count": 15,
     "metadata": {},
     "output_type": "execute_result"
    }
   ],
   "source": [
    "trained_model.evaluate(x=X_smiles_train, y=y_train)"
   ]
  },
  {
   "cell_type": "code",
   "execution_count": 16,
   "metadata": {},
   "outputs": [
    {
     "name": "stdout",
     "output_type": "stream",
     "text": [
      "245/245 [==============================] - 0s 1ms/step\n"
     ]
    },
    {
     "data": {
      "text/plain": [
       "[0.43142547570929235, 0.7836734701176079, 0.7575818181037903]"
      ]
     },
     "execution_count": 16,
     "metadata": {},
     "output_type": "execute_result"
    }
   ],
   "source": [
    "trained_model.evaluate(x=X_smiles_val, y=y_val)"
   ]
  },
  {
   "cell_type": "code",
   "execution_count": 17,
   "metadata": {},
   "outputs": [
    {
     "name": "stdout",
     "output_type": "stream",
     "text": [
      "245/245 [==============================] - 0s 1ms/step\n"
     ]
    },
    {
     "data": {
      "text/plain": [
       "[0.38634363899425583, 0.8367346946074038, 0.7902297786303929]"
      ]
     },
     "execution_count": 17,
     "metadata": {},
     "output_type": "execute_result"
    }
   ],
   "source": [
    "trained_model.evaluate(x=X_smiles_test, y=y_test)"
   ]
  },
  {
   "cell_type": "code",
   "execution_count": 21,
   "metadata": {},
   "outputs": [],
   "source": [
    "from sklearn.metrics import roc_curve\n",
    "from sklearn.metrics import roc_auc_score\n",
    "pred_train = trained_model.predict(x=X_smiles_train)[:,1]\n",
    "pred_val = trained_model.predict(x=X_smiles_val)[:,1]\n",
    "pred_test = trained_model.predict(x=X_smiles_test)[:,1]\n",
    "np.savez(model_file[:-2] + 'npz', pred_train=pred_train, pred_val=pred_val, pred_test=pred_test)"
   ]
  },
  {
   "cell_type": "code",
   "execution_count": null,
   "metadata": {},
   "outputs": [],
   "source": []
  }
 ],
 "metadata": {
  "kernelspec": {
   "display_name": "Python 3",
   "language": "python",
   "name": "python3"
  },
  "language_info": {
   "codemirror_mode": {
    "name": "ipython",
    "version": 3
   },
   "file_extension": ".py",
   "mimetype": "text/x-python",
   "name": "python",
   "nbconvert_exporter": "python",
   "pygments_lexer": "ipython3",
   "version": "3.6.7"
  }
 },
 "nbformat": 4,
 "nbformat_minor": 2
}
