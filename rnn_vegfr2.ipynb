{
 "cells": [
  {
   "cell_type": "code",
   "execution_count": 1,
   "metadata": {},
   "outputs": [
    {
     "name": "stderr",
     "output_type": "stream",
     "text": [
      "Using TensorFlow backend.\n"
     ]
    }
   ],
   "source": [
    "import os\n",
    "import sys\n",
    "import numpy as np\n",
    "import keras\n",
    "# from sklearn.model_selection import train_test_split"
   ]
  },
  {
   "cell_type": "code",
   "execution_count": 2,
   "metadata": {},
   "outputs": [],
   "source": [
    "seed = 273\n",
    "kinase = 'vegfr2'\n",
    "model_file = 'rnn_%s.h5' % (kinase)"
   ]
  },
  {
   "cell_type": "code",
   "execution_count": 3,
   "metadata": {},
   "outputs": [],
   "source": [
    "#import data\n",
    "smiles_lines = [line.strip().split(',') for line in open(os.path.join('data', kinase+'_smiles.csv'))]\n",
    "smiles = [line[1] for line in smiles_lines]\n",
    "fingerprint_lines = [line.strip().split(',') for line in open(os.path.join('data', kinase+'_fingerprints.csv'))]\n",
    "fingerprints = [line[2:] for line in fingerprint_lines]\n",
    "X_fingerprints = np.asarray(fingerprints, dtype=np.int16)\n",
    "y = np.asarray([int(line[2]) for line in smiles_lines], dtype=np.int8)"
   ]
  },
  {
   "cell_type": "code",
   "execution_count": 4,
   "metadata": {},
   "outputs": [],
   "source": [
    "#pad smiles with '!' to ensure equal length\n",
    "max_smiles_len = max(len(s) for s in smiles)\n",
    "smiles = [s + '!'*(max_smiles_len + 1 - len(s)) for s in smiles]"
   ]
  },
  {
   "cell_type": "code",
   "execution_count": 5,
   "metadata": {},
   "outputs": [],
   "source": [
    "#one-hot vector representation of smiles\n",
    "char_set = set()\n",
    "for s in smiles:\n",
    "    for c in s:\n",
    "        char_set.add(c)\n",
    "char_set = list(char_set)\n",
    "char_to_index = {char_set[i]: i for i in range(len(char_set))}\n",
    "\n",
    "X_smiles = np.zeros((len(smiles), max_smiles_len + 1, len(char_set)))\n",
    "for i in range(len(smiles)):\n",
    "    code = smiles[i]\n",
    "    for j in range(len(code)):\n",
    "        char = code[j]\n",
    "        X_smiles[i, j, char_to_index[char]] = 1        "
   ]
  },
  {
   "cell_type": "code",
   "execution_count": 6,
   "metadata": {},
   "outputs": [
    {
     "name": "stdout",
     "output_type": "stream",
     "text": [
      "(5123, 6117)\n",
      "(5123, 147, 38)\n",
      "(5123,)\n"
     ]
    }
   ],
   "source": [
    "print(X_fingerprints.shape)\n",
    "print(X_smiles.shape)\n",
    "print(y.shape)"
   ]
  },
  {
   "cell_type": "code",
   "execution_count": 7,
   "metadata": {},
   "outputs": [
    {
     "name": "stdout",
     "output_type": "stream",
     "text": [
      "(3587, 6117)\n",
      "(3587, 147, 38)\n",
      "(3587,)\n",
      "(768, 6117)\n",
      "(768, 147, 38)\n",
      "(768,)\n",
      "(768, 6117)\n",
      "(768, 147, 38)\n",
      "(768,)\n"
     ]
    }
   ],
   "source": [
    "#train val test split\n",
    "n_tot = X_smiles.shape[0]\n",
    "n_test = round(n_tot*0.15)\n",
    "n_val = round(n_tot*0.15)\n",
    "n_train  = n_tot - n_test - n_val\n",
    "indices = np.arange(n_tot, dtype=int)\n",
    "np.random.seed(seed)\n",
    "np.random.shuffle(indices)\n",
    "indices_train = indices[:n_train]\n",
    "indices_val = indices[n_train:n_train+n_val]\n",
    "indices_test = indices[n_train+n_val:]\n",
    "X_fingerprints_train = X_fingerprints[indices_train]\n",
    "print(X_fingerprints_train.shape)\n",
    "X_smiles_train = X_smiles[indices_train]\n",
    "print(X_smiles_train.shape)\n",
    "y_train = y[indices_train]\n",
    "print(y_train.shape)\n",
    "X_fingerprints_val = X_fingerprints[indices_val]\n",
    "print(X_fingerprints_val.shape)\n",
    "X_smiles_val = X_smiles[indices_val]\n",
    "print(X_smiles_val.shape)\n",
    "y_val = y[indices_val]\n",
    "print(y_val.shape)\n",
    "X_fingerprints_test = X_fingerprints[indices_test]\n",
    "print(X_fingerprints_test.shape)\n",
    "X_smiles_test = X_smiles[indices_test]\n",
    "print(X_smiles_test.shape)\n",
    "y_test = y[indices_test]\n",
    "print(y_test.shape)\n",
    "smiles_input_shape = X_smiles_train.shape[1:]\n",
    "fingerprints_input_shape = X_fingerprints_train.shape[1:]"
   ]
  },
  {
   "cell_type": "code",
   "execution_count": 8,
   "metadata": {},
   "outputs": [
    {
     "name": "stdout",
     "output_type": "stream",
     "text": [
      "[]\n"
     ]
    }
   ],
   "source": [
    "#check GPU presence\n",
    "from tensorflow.python.client import device_lib\n",
    "\n",
    "def get_available_gpus():\n",
    "    local_device_protos = device_lib.list_local_devices()\n",
    "    return [x.name for x in local_device_protos if x.device_type == 'GPU']\n",
    "\n",
    "print(get_available_gpus())"
   ]
  },
  {
   "cell_type": "code",
   "execution_count": 9,
   "metadata": {},
   "outputs": [],
   "source": [
    "#keras imports\n",
    "from keras.models import Sequential\n",
    "from keras.layers import TimeDistributed, GlobalAveragePooling2D, Activation, Dense, Input, Bidirectional\n",
    "from keras.layers import BatchNormalization, Conv2D, MaxPooling2D, AveragePooling2D, GlobalAveragePooling2D\n",
    "from keras.layers import GlobalMaxPooling2D\n",
    "from keras.layers.recurrent import LSTM\n",
    "from keras.callbacks import ModelCheckpoint, ReduceLROnPlateau, Callback, EarlyStopping\n",
    "from keras.layers import Dropout, Flatten\n",
    "from keras.layers import concatenate\n",
    "from keras import regularizers\n",
    "from keras import initializers\n",
    "from keras import constraints\n",
    "from keras.models import Model\n",
    "# Backend\n",
    "from keras import backend as K\n",
    "# Utils\n",
    "from keras.utils.layer_utils import convert_all_kernels_in_model\n",
    "from keras.utils.data_utils import get_file\n",
    "from keras import metrics"
   ]
  },
  {
   "cell_type": "code",
   "execution_count": 10,
   "metadata": {},
   "outputs": [],
   "source": [
    "#F1 score computation\n",
    "from sklearn.metrics import confusion_matrix, f1_score, precision_score, recall_score\n",
    "from keras import backend as K\n",
    "\n",
    "def f1(y_true, y_pred):\n",
    "    def recall(y_true, y_pred):\n",
    "        \"\"\"Recall metric.\n",
    "\n",
    "        Only computes a batch-wise average of recall.\n",
    "\n",
    "        Computes the recall, a metric for multi-label classification of\n",
    "        how many relevant items are selected.\n",
    "        \"\"\"\n",
    "        true_positives = K.sum(K.round(K.clip(y_true * y_pred, 0, 1)))\n",
    "        possible_positives = K.sum(K.round(K.clip(y_true, 0, 1)))\n",
    "        recall = true_positives / (possible_positives + K.epsilon())\n",
    "        return recall\n",
    "\n",
    "    def precision(y_true, y_pred):\n",
    "        \"\"\"Precision metric.\n",
    "\n",
    "        Only computes a batch-wise average of precision.\n",
    "\n",
    "        Computes the precision, a metric for multi-label classification of\n",
    "        how many selected items are relevant.\n",
    "        \"\"\"\n",
    "        true_positives = K.sum(K.round(K.clip(y_true * y_pred, 0, 1)))\n",
    "        predicted_positives = K.sum(K.round(K.clip(y_pred, 0, 1)))\n",
    "        precision = true_positives / (predicted_positives + K.epsilon())\n",
    "        return precision\n",
    "    precision = precision(y_true, y_pred)\n",
    "    recall = recall(y_true, y_pred)\n",
    "    return 2*((precision*recall)/(precision+recall+K.epsilon()))"
   ]
  },
  {
   "cell_type": "code",
   "execution_count": 11,
   "metadata": {},
   "outputs": [],
   "source": [
    "#basic RNN model\n",
    "model = Sequential()\n",
    "model.add(Bidirectional(LSTM(units=128, return_sequences=False), input_shape=smiles_input_shape))\n",
    "model.add(Dense(128, activation='relu'))\n",
    "model.add(Dropout(0.5))\n",
    "model.add(Dense(2, activation='softmax'))"
   ]
  },
  {
   "cell_type": "code",
   "execution_count": 12,
   "metadata": {},
   "outputs": [
    {
     "name": "stdout",
     "output_type": "stream",
     "text": [
      "_________________________________________________________________\n",
      "Layer (type)                 Output Shape              Param #   \n",
      "=================================================================\n",
      "bidirectional_1 (Bidirection (None, 256)               171008    \n",
      "_________________________________________________________________\n",
      "dense_1 (Dense)              (None, 128)               32896     \n",
      "_________________________________________________________________\n",
      "dropout_1 (Dropout)          (None, 128)               0         \n",
      "_________________________________________________________________\n",
      "dense_2 (Dense)              (None, 2)                 258       \n",
      "=================================================================\n",
      "Total params: 204,162\n",
      "Trainable params: 204,162\n",
      "Non-trainable params: 0\n",
      "_________________________________________________________________\n"
     ]
    }
   ],
   "source": [
    "#compile model\n",
    "adam = keras.optimizers.Adam(lr=0.001, decay=0.0, clipnorm=5.)\n",
    "stop = EarlyStopping(patience=20, verbose=1)\n",
    "model.compile(optimizer=adam, loss='sparse_categorical_crossentropy', metrics=[metrics.sparse_categorical_accuracy, f1])\n",
    "checkpoint = ModelCheckpoint(model_file, monitor='val_loss', verbose=1, save_best_only=True, mode='min')\n",
    "\n",
    "callbacks_list = [checkpoint, stop]\n",
    "\n",
    "model.summary()"
   ]
  },
  {
   "cell_type": "code",
   "execution_count": 13,
   "metadata": {},
   "outputs": [
    {
     "name": "stdout",
     "output_type": "stream",
     "text": [
      "Train on 3587 samples, validate on 768 samples\n",
      "Epoch 1/1000\n",
      "3587/3587 [==============================] - 127s 35ms/step - loss: 0.5104 - sparse_categorical_accuracy: 0.7962 - f1: 0.8871 - val_loss: 0.4969 - val_sparse_categorical_accuracy: 0.7969 - val_f1: 0.8852\n",
      "\n",
      "Epoch 00001: val_loss improved from inf to 0.49693, saving model to rnn_vegfr2.h5\n",
      "Epoch 2/1000\n",
      "3587/3587 [==============================] - 122s 34ms/step - loss: 0.4992 - sparse_categorical_accuracy: 0.7996 - f1: 0.8871 - val_loss: 0.4944 - val_sparse_categorical_accuracy: 0.7969 - val_f1: 0.8852\n",
      "\n",
      "Epoch 00002: val_loss improved from 0.49693 to 0.49440, saving model to rnn_vegfr2.h5\n",
      "Epoch 3/1000\n",
      "3587/3587 [==============================] - 125s 35ms/step - loss: 0.5016 - sparse_categorical_accuracy: 0.7996 - f1: 0.8867 - val_loss: 0.4909 - val_sparse_categorical_accuracy: 0.7969 - val_f1: 0.8852\n",
      "\n",
      "Epoch 00003: val_loss improved from 0.49440 to 0.49090, saving model to rnn_vegfr2.h5\n",
      "Epoch 4/1000\n",
      "3587/3587 [==============================] - 123s 34ms/step - loss: 0.4964 - sparse_categorical_accuracy: 0.7996 - f1: 0.8869 - val_loss: 0.4883 - val_sparse_categorical_accuracy: 0.7969 - val_f1: 0.8852\n",
      "\n",
      "Epoch 00004: val_loss improved from 0.49090 to 0.48831, saving model to rnn_vegfr2.h5\n",
      "Epoch 5/1000\n",
      "3587/3587 [==============================] - 122s 34ms/step - loss: 0.4842 - sparse_categorical_accuracy: 0.7996 - f1: 0.8865 - val_loss: 0.4882 - val_sparse_categorical_accuracy: 0.7969 - val_f1: 0.8852\n",
      "\n",
      "Epoch 00005: val_loss improved from 0.48831 to 0.48817, saving model to rnn_vegfr2.h5\n",
      "Epoch 6/1000\n",
      "3587/3587 [==============================] - 125s 35ms/step - loss: 0.4688 - sparse_categorical_accuracy: 0.7996 - f1: 0.8871 - val_loss: 0.4745 - val_sparse_categorical_accuracy: 0.7969 - val_f1: 0.8852\n",
      "\n",
      "Epoch 00006: val_loss improved from 0.48817 to 0.47449, saving model to rnn_vegfr2.h5\n",
      "Epoch 7/1000\n",
      "3587/3587 [==============================] - 123s 34ms/step - loss: 0.4579 - sparse_categorical_accuracy: 0.7998 - f1: 0.8870 - val_loss: 0.4849 - val_sparse_categorical_accuracy: 0.7956 - val_f1: 0.8852\n",
      "\n",
      "Epoch 00007: val_loss did not improve from 0.47449\n",
      "Epoch 8/1000\n",
      "3587/3587 [==============================] - 123s 34ms/step - loss: 0.4535 - sparse_categorical_accuracy: 0.8015 - f1: 0.8866 - val_loss: 0.4654 - val_sparse_categorical_accuracy: 0.7943 - val_f1: 0.8852\n",
      "\n",
      "Epoch 00008: val_loss improved from 0.47449 to 0.46538, saving model to rnn_vegfr2.h5\n",
      "Epoch 9/1000\n",
      "3587/3587 [==============================] - 123s 34ms/step - loss: 0.4467 - sparse_categorical_accuracy: 0.8032 - f1: 0.8871 - val_loss: 0.4825 - val_sparse_categorical_accuracy: 0.7930 - val_f1: 0.8852\n",
      "\n",
      "Epoch 00009: val_loss did not improve from 0.46538\n",
      "Epoch 10/1000\n",
      "3587/3587 [==============================] - 125s 35ms/step - loss: 0.4448 - sparse_categorical_accuracy: 0.7990 - f1: 0.8867 - val_loss: 0.4729 - val_sparse_categorical_accuracy: 0.7982 - val_f1: 0.8852\n",
      "\n",
      "Epoch 00010: val_loss did not improve from 0.46538\n",
      "Epoch 11/1000\n",
      "3587/3587 [==============================] - 123s 34ms/step - loss: 0.4356 - sparse_categorical_accuracy: 0.8065 - f1: 0.8871 - val_loss: 0.4614 - val_sparse_categorical_accuracy: 0.7904 - val_f1: 0.8852\n",
      "\n",
      "Epoch 00011: val_loss improved from 0.46538 to 0.46139, saving model to rnn_vegfr2.h5\n",
      "Epoch 12/1000\n",
      "3587/3587 [==============================] - 123s 34ms/step - loss: 0.4343 - sparse_categorical_accuracy: 0.8107 - f1: 0.8864 - val_loss: 0.4662 - val_sparse_categorical_accuracy: 0.7917 - val_f1: 0.8852\n",
      "\n",
      "Epoch 00012: val_loss did not improve from 0.46139\n",
      "Epoch 13/1000\n",
      "3587/3587 [==============================] - 125s 35ms/step - loss: 0.4287 - sparse_categorical_accuracy: 0.8149 - f1: 0.8863 - val_loss: 0.4519 - val_sparse_categorical_accuracy: 0.7969 - val_f1: 0.8852\n",
      "\n",
      "Epoch 00013: val_loss improved from 0.46139 to 0.45191, saving model to rnn_vegfr2.h5\n",
      "Epoch 14/1000\n",
      "3587/3587 [==============================] - 124s 35ms/step - loss: 0.4187 - sparse_categorical_accuracy: 0.8138 - f1: 0.8871 - val_loss: 0.4481 - val_sparse_categorical_accuracy: 0.8099 - val_f1: 0.8852\n",
      "\n",
      "Epoch 00014: val_loss improved from 0.45191 to 0.44811, saving model to rnn_vegfr2.h5\n",
      "Epoch 15/1000\n",
      "3587/3587 [==============================] - 125s 35ms/step - loss: 0.4141 - sparse_categorical_accuracy: 0.8138 - f1: 0.8866 - val_loss: 0.4780 - val_sparse_categorical_accuracy: 0.8008 - val_f1: 0.8852\n",
      "\n",
      "Epoch 00015: val_loss did not improve from 0.44811\n",
      "Epoch 16/1000\n",
      "3587/3587 [==============================] - 124s 35ms/step - loss: 0.4073 - sparse_categorical_accuracy: 0.8221 - f1: 0.8868 - val_loss: 0.4460 - val_sparse_categorical_accuracy: 0.8073 - val_f1: 0.8852\n",
      "\n",
      "Epoch 00016: val_loss improved from 0.44811 to 0.44596, saving model to rnn_vegfr2.h5\n",
      "Epoch 17/1000\n",
      "3587/3587 [==============================] - 123s 34ms/step - loss: 0.4029 - sparse_categorical_accuracy: 0.8202 - f1: 0.8869 - val_loss: 0.4508 - val_sparse_categorical_accuracy: 0.8060 - val_f1: 0.8852\n",
      "\n",
      "Epoch 00017: val_loss did not improve from 0.44596\n",
      "Epoch 18/1000\n",
      "3587/3587 [==============================] - 123s 34ms/step - loss: 0.4015 - sparse_categorical_accuracy: 0.8255 - f1: 0.8869 - val_loss: 0.4454 - val_sparse_categorical_accuracy: 0.8112 - val_f1: 0.8852\n",
      "\n",
      "Epoch 00018: val_loss improved from 0.44596 to 0.44536, saving model to rnn_vegfr2.h5\n",
      "Epoch 19/1000\n",
      "3587/3587 [==============================] - 118s 33ms/step - loss: 0.3912 - sparse_categorical_accuracy: 0.8327 - f1: 0.8870 - val_loss: 0.4400 - val_sparse_categorical_accuracy: 0.8008 - val_f1: 0.8852\n",
      "\n",
      "Epoch 00019: val_loss improved from 0.44536 to 0.43999, saving model to rnn_vegfr2.h5\n",
      "Epoch 20/1000\n",
      "3587/3587 [==============================] - 106s 29ms/step - loss: 0.3761 - sparse_categorical_accuracy: 0.8319 - f1: 0.8868 - val_loss: 0.4266 - val_sparse_categorical_accuracy: 0.8164 - val_f1: 0.8852\n",
      "\n",
      "Epoch 00020: val_loss improved from 0.43999 to 0.42663, saving model to rnn_vegfr2.h5\n",
      "Epoch 21/1000\n",
      "3587/3587 [==============================] - 105s 29ms/step - loss: 0.3795 - sparse_categorical_accuracy: 0.8330 - f1: 0.8867 - val_loss: 0.4263 - val_sparse_categorical_accuracy: 0.8112 - val_f1: 0.8852\n",
      "\n",
      "Epoch 00021: val_loss improved from 0.42663 to 0.42627, saving model to rnn_vegfr2.h5\n",
      "Epoch 22/1000\n",
      "3587/3587 [==============================] - 104s 29ms/step - loss: 0.3679 - sparse_categorical_accuracy: 0.8369 - f1: 0.8869 - val_loss: 0.4252 - val_sparse_categorical_accuracy: 0.8255 - val_f1: 0.8852\n",
      "\n",
      "Epoch 00022: val_loss improved from 0.42627 to 0.42516, saving model to rnn_vegfr2.h5\n",
      "Epoch 23/1000\n",
      "3587/3587 [==============================] - 105s 29ms/step - loss: 0.3698 - sparse_categorical_accuracy: 0.8377 - f1: 0.8868 - val_loss: 0.4240 - val_sparse_categorical_accuracy: 0.8151 - val_f1: 0.8852\n",
      "\n",
      "Epoch 00023: val_loss improved from 0.42516 to 0.42399, saving model to rnn_vegfr2.h5\n",
      "Epoch 24/1000\n",
      "3587/3587 [==============================] - 117s 33ms/step - loss: 0.3600 - sparse_categorical_accuracy: 0.8436 - f1: 0.8868 - val_loss: 0.4331 - val_sparse_categorical_accuracy: 0.8099 - val_f1: 0.8852\n",
      "\n",
      "Epoch 00024: val_loss did not improve from 0.42399\n",
      "Epoch 25/1000\n",
      "3587/3587 [==============================] - 121s 34ms/step - loss: 0.3526 - sparse_categorical_accuracy: 0.8467 - f1: 0.8872 - val_loss: 0.4432 - val_sparse_categorical_accuracy: 0.8125 - val_f1: 0.8852\n",
      "\n",
      "Epoch 00025: val_loss did not improve from 0.42399\n",
      "Epoch 26/1000\n",
      "3587/3587 [==============================] - 143s 40ms/step - loss: 0.3402 - sparse_categorical_accuracy: 0.8497 - f1: 0.8868 - val_loss: 0.4428 - val_sparse_categorical_accuracy: 0.8242 - val_f1: 0.8852\n",
      "\n",
      "Epoch 00026: val_loss did not improve from 0.42399\n",
      "Epoch 27/1000\n",
      "3587/3587 [==============================] - 151s 42ms/step - loss: 0.3382 - sparse_categorical_accuracy: 0.8520 - f1: 0.8870 - val_loss: 0.4112 - val_sparse_categorical_accuracy: 0.8320 - val_f1: 0.8852\n",
      "\n",
      "Epoch 00027: val_loss improved from 0.42399 to 0.41119, saving model to rnn_vegfr2.h5\n",
      "Epoch 28/1000\n",
      "3587/3587 [==============================] - 148s 41ms/step - loss: 0.3315 - sparse_categorical_accuracy: 0.8545 - f1: 0.8860 - val_loss: 0.4140 - val_sparse_categorical_accuracy: 0.8190 - val_f1: 0.8852\n",
      "\n",
      "Epoch 00028: val_loss did not improve from 0.41119\n",
      "Epoch 29/1000\n"
     ]
    },
    {
     "name": "stdout",
     "output_type": "stream",
     "text": [
      "3587/3587 [==============================] - 142s 40ms/step - loss: 0.3180 - sparse_categorical_accuracy: 0.8584 - f1: 0.8868 - val_loss: 0.4283 - val_sparse_categorical_accuracy: 0.8099 - val_f1: 0.8852\n",
      "\n",
      "Epoch 00029: val_loss did not improve from 0.41119\n",
      "Epoch 30/1000\n",
      "3587/3587 [==============================] - 141s 39ms/step - loss: 0.3253 - sparse_categorical_accuracy: 0.8550 - f1: 0.8867 - val_loss: 0.4249 - val_sparse_categorical_accuracy: 0.8177 - val_f1: 0.8852\n",
      "\n",
      "Epoch 00030: val_loss did not improve from 0.41119\n",
      "Epoch 31/1000\n",
      "3587/3587 [==============================] - 127s 35ms/step - loss: 0.3008 - sparse_categorical_accuracy: 0.8704 - f1: 0.8868 - val_loss: 0.4247 - val_sparse_categorical_accuracy: 0.8294 - val_f1: 0.8852\n",
      "\n",
      "Epoch 00031: val_loss did not improve from 0.41119\n",
      "Epoch 32/1000\n",
      "3587/3587 [==============================] - 124s 35ms/step - loss: 0.2932 - sparse_categorical_accuracy: 0.8754 - f1: 0.8867 - val_loss: 0.4399 - val_sparse_categorical_accuracy: 0.8281 - val_f1: 0.8852\n",
      "\n",
      "Epoch 00032: val_loss did not improve from 0.41119\n",
      "Epoch 33/1000\n",
      "3587/3587 [==============================] - 122s 34ms/step - loss: 0.2942 - sparse_categorical_accuracy: 0.8737 - f1: 0.8871 - val_loss: 0.4302 - val_sparse_categorical_accuracy: 0.8229 - val_f1: 0.8852\n",
      "\n",
      "Epoch 00033: val_loss did not improve from 0.41119\n",
      "Epoch 34/1000\n",
      "3587/3587 [==============================] - 124s 35ms/step - loss: 0.2761 - sparse_categorical_accuracy: 0.8812 - f1: 0.8871 - val_loss: 0.4334 - val_sparse_categorical_accuracy: 0.8242 - val_f1: 0.8852\n",
      "\n",
      "Epoch 00034: val_loss did not improve from 0.41119\n",
      "Epoch 35/1000\n",
      "3587/3587 [==============================] - 124s 34ms/step - loss: 0.2799 - sparse_categorical_accuracy: 0.8782 - f1: 0.8873 - val_loss: 0.4096 - val_sparse_categorical_accuracy: 0.8346 - val_f1: 0.8852\n",
      "\n",
      "Epoch 00035: val_loss improved from 0.41119 to 0.40962, saving model to rnn_vegfr2.h5\n",
      "Epoch 36/1000\n",
      "3587/3587 [==============================] - 125s 35ms/step - loss: 0.2684 - sparse_categorical_accuracy: 0.8798 - f1: 0.8868 - val_loss: 0.4459 - val_sparse_categorical_accuracy: 0.8242 - val_f1: 0.8852\n",
      "\n",
      "Epoch 00036: val_loss did not improve from 0.40962\n",
      "Epoch 37/1000\n",
      "3587/3587 [==============================] - 123s 34ms/step - loss: 0.2663 - sparse_categorical_accuracy: 0.8843 - f1: 0.8864 - val_loss: 0.4318 - val_sparse_categorical_accuracy: 0.8190 - val_f1: 0.8852\n",
      "\n",
      "Epoch 00037: val_loss did not improve from 0.40962\n",
      "Epoch 38/1000\n",
      "3587/3587 [==============================] - 125s 35ms/step - loss: 0.2591 - sparse_categorical_accuracy: 0.8871 - f1: 0.8870 - val_loss: 0.4405 - val_sparse_categorical_accuracy: 0.8190 - val_f1: 0.8852\n",
      "\n",
      "Epoch 00038: val_loss did not improve from 0.40962\n",
      "Epoch 39/1000\n",
      "3587/3587 [==============================] - 121s 34ms/step - loss: 0.2433 - sparse_categorical_accuracy: 0.8935 - f1: 0.8868 - val_loss: 0.4540 - val_sparse_categorical_accuracy: 0.8385 - val_f1: 0.8852\n",
      "\n",
      "Epoch 00039: val_loss did not improve from 0.40962\n",
      "Epoch 40/1000\n",
      "3587/3587 [==============================] - 125s 35ms/step - loss: 0.2348 - sparse_categorical_accuracy: 0.8971 - f1: 0.8869 - val_loss: 0.4428 - val_sparse_categorical_accuracy: 0.8333 - val_f1: 0.8852\n",
      "\n",
      "Epoch 00040: val_loss did not improve from 0.40962\n",
      "Epoch 41/1000\n",
      "3587/3587 [==============================] - 123s 34ms/step - loss: 0.2354 - sparse_categorical_accuracy: 0.8985 - f1: 0.8870 - val_loss: 0.4559 - val_sparse_categorical_accuracy: 0.8307 - val_f1: 0.8852\n",
      "\n",
      "Epoch 00041: val_loss did not improve from 0.40962\n",
      "Epoch 42/1000\n",
      "3587/3587 [==============================] - 125s 35ms/step - loss: 0.2298 - sparse_categorical_accuracy: 0.9021 - f1: 0.8865 - val_loss: 0.4345 - val_sparse_categorical_accuracy: 0.8320 - val_f1: 0.8852\n",
      "\n",
      "Epoch 00042: val_loss did not improve from 0.40962\n",
      "Epoch 43/1000\n",
      "3587/3587 [==============================] - 125s 35ms/step - loss: 0.2227 - sparse_categorical_accuracy: 0.9019 - f1: 0.8869 - val_loss: 0.5602 - val_sparse_categorical_accuracy: 0.8164 - val_f1: 0.8852\n",
      "\n",
      "Epoch 00043: val_loss did not improve from 0.40962\n",
      "Epoch 44/1000\n",
      "3587/3587 [==============================] - 124s 35ms/step - loss: 0.2145 - sparse_categorical_accuracy: 0.9063 - f1: 0.8867 - val_loss: 0.4960 - val_sparse_categorical_accuracy: 0.8203 - val_f1: 0.8852\n",
      "\n",
      "Epoch 00044: val_loss did not improve from 0.40962\n",
      "Epoch 45/1000\n",
      "3587/3587 [==============================] - 119s 33ms/step - loss: 0.2198 - sparse_categorical_accuracy: 0.9035 - f1: 0.8870 - val_loss: 0.4586 - val_sparse_categorical_accuracy: 0.8138 - val_f1: 0.8852\n",
      "\n",
      "Epoch 00045: val_loss did not improve from 0.40962\n",
      "Epoch 46/1000\n",
      "3587/3587 [==============================] - 95s 26ms/step - loss: 0.2139 - sparse_categorical_accuracy: 0.9072 - f1: 0.8872 - val_loss: 0.4472 - val_sparse_categorical_accuracy: 0.8320 - val_f1: 0.8852\n",
      "\n",
      "Epoch 00046: val_loss did not improve from 0.40962\n",
      "Epoch 47/1000\n",
      "3587/3587 [==============================] - 89s 25ms/step - loss: 0.2221 - sparse_categorical_accuracy: 0.9016 - f1: 0.8872 - val_loss: 0.4834 - val_sparse_categorical_accuracy: 0.8229 - val_f1: 0.8852\n",
      "\n",
      "Epoch 00047: val_loss did not improve from 0.40962\n",
      "Epoch 48/1000\n",
      "3587/3587 [==============================] - 89s 25ms/step - loss: 0.1930 - sparse_categorical_accuracy: 0.9166 - f1: 0.8869 - val_loss: 0.5733 - val_sparse_categorical_accuracy: 0.8320 - val_f1: 0.8852\n",
      "\n",
      "Epoch 00048: val_loss did not improve from 0.40962\n",
      "Epoch 49/1000\n",
      "3587/3587 [==============================] - 88s 25ms/step - loss: 0.1960 - sparse_categorical_accuracy: 0.9144 - f1: 0.8867 - val_loss: 0.5564 - val_sparse_categorical_accuracy: 0.8177 - val_f1: 0.8852\n",
      "\n",
      "Epoch 00049: val_loss did not improve from 0.40962\n",
      "Epoch 50/1000\n",
      "3587/3587 [==============================] - 89s 25ms/step - loss: 0.1806 - sparse_categorical_accuracy: 0.9189 - f1: 0.8873 - val_loss: 0.5519 - val_sparse_categorical_accuracy: 0.8281 - val_f1: 0.8852\n",
      "\n",
      "Epoch 00050: val_loss did not improve from 0.40962\n",
      "Epoch 51/1000\n",
      "3587/3587 [==============================] - 89s 25ms/step - loss: 0.1669 - sparse_categorical_accuracy: 0.9261 - f1: 0.8870 - val_loss: 0.5710 - val_sparse_categorical_accuracy: 0.8346 - val_f1: 0.8852\n",
      "\n",
      "Epoch 00051: val_loss did not improve from 0.40962\n",
      "Epoch 52/1000\n",
      "3587/3587 [==============================] - 88s 25ms/step - loss: 0.1799 - sparse_categorical_accuracy: 0.9247 - f1: 0.8868 - val_loss: 0.5012 - val_sparse_categorical_accuracy: 0.8268 - val_f1: 0.8852\n",
      "\n",
      "Epoch 00052: val_loss did not improve from 0.40962\n",
      "Epoch 53/1000\n",
      "3587/3587 [==============================] - 88s 25ms/step - loss: 0.1674 - sparse_categorical_accuracy: 0.9247 - f1: 0.8869 - val_loss: 0.5832 - val_sparse_categorical_accuracy: 0.8372 - val_f1: 0.8852\n",
      "\n",
      "Epoch 00053: val_loss did not improve from 0.40962\n",
      "Epoch 54/1000\n",
      "3587/3587 [==============================] - 90s 25ms/step - loss: 0.1697 - sparse_categorical_accuracy: 0.9272 - f1: 0.8870 - val_loss: 0.5544 - val_sparse_categorical_accuracy: 0.8398 - val_f1: 0.8852\n",
      "\n",
      "Epoch 00054: val_loss did not improve from 0.40962\n",
      "Epoch 55/1000\n",
      "3587/3587 [==============================] - 89s 25ms/step - loss: 0.1552 - sparse_categorical_accuracy: 0.9331 - f1: 0.8868 - val_loss: 0.5891 - val_sparse_categorical_accuracy: 0.8268 - val_f1: 0.8852\n",
      "\n",
      "Epoch 00055: val_loss did not improve from 0.40962\n",
      "Epoch 00055: early stopping\n"
     ]
    },
    {
     "data": {
      "text/plain": [
       "<keras.callbacks.History at 0x7fe19d61cc88>"
      ]
     },
     "execution_count": 13,
     "metadata": {},
     "output_type": "execute_result"
    }
   ],
   "source": [
    "#training\n",
    "model.fit(x=X_smiles_train, \n",
    "          y=y_train, \n",
    "          batch_size=32, \n",
    "          epochs=1000, \n",
    "          verbose=1, \n",
    "          callbacks=callbacks_list, \n",
    "          validation_data=(X_smiles_val, y_val), \n",
    "          shuffle=True)"
   ]
  },
  {
   "cell_type": "code",
   "execution_count": 14,
   "metadata": {},
   "outputs": [
    {
     "name": "stdout",
     "output_type": "stream",
     "text": [
      "['loss', 'sparse_categorical_accuracy', 'f1']\n"
     ]
    }
   ],
   "source": [
    "#testing\n",
    "from keras.models import load_model\n",
    "trained_model = load_model(model_file, custom_objects={'f1': f1})\n",
    "print(trained_model.metrics_names)"
   ]
  },
  {
   "cell_type": "code",
   "execution_count": 15,
   "metadata": {},
   "outputs": [
    {
     "name": "stdout",
     "output_type": "stream",
     "text": [
      "3587/3587 [==============================] - 24s 7ms/step\n"
     ]
    },
    {
     "data": {
      "text/plain": [
       "[0.2378892193008074, 0.8968497351713423, 0.8870105796332873]"
      ]
     },
     "execution_count": 15,
     "metadata": {},
     "output_type": "execute_result"
    }
   ],
   "source": [
    "trained_model.evaluate(x=X_smiles_train, y=y_train)"
   ]
  },
  {
   "cell_type": "code",
   "execution_count": 16,
   "metadata": {},
   "outputs": [
    {
     "name": "stdout",
     "output_type": "stream",
     "text": [
      "768/768 [==============================] - 5s 7ms/step\n"
     ]
    },
    {
     "data": {
      "text/plain": [
       "[0.4096194002777338, 0.8346354166666666, 0.8851523374517759]"
      ]
     },
     "execution_count": 16,
     "metadata": {},
     "output_type": "execute_result"
    }
   ],
   "source": [
    "trained_model.evaluate(x=X_smiles_val, y=y_val)"
   ]
  },
  {
   "cell_type": "code",
   "execution_count": 17,
   "metadata": {},
   "outputs": [
    {
     "name": "stdout",
     "output_type": "stream",
     "text": [
      "768/768 [==============================] - 5s 7ms/step\n"
     ]
    },
    {
     "data": {
      "text/plain": [
       "[0.4189111391703288, 0.83203125, 0.8817864457766215]"
      ]
     },
     "execution_count": 17,
     "metadata": {},
     "output_type": "execute_result"
    }
   ],
   "source": [
    "trained_model.evaluate(x=X_smiles_test, y=y_test)"
   ]
  },
  {
   "cell_type": "code",
   "execution_count": 18,
   "metadata": {},
   "outputs": [],
   "source": [
    "from sklearn.metrics import roc_curve\n",
    "from sklearn.metrics import roc_auc_score\n",
    "pred_train = trained_model.predict(x=X_smiles_train)[:,1]\n",
    "pred_val = trained_model.predict(x=X_smiles_val)[:,1]\n",
    "pred_test = trained_model.predict(x=X_smiles_test)[:,1]\n",
    "np.savez(model_file[:-2] + 'npz', pred_train=pred_train, pred_val=pred_val, pred_test=pred_test)"
   ]
  }
 ],
 "metadata": {
  "kernelspec": {
   "display_name": "Python 3",
   "language": "python",
   "name": "python3"
  },
  "language_info": {
   "codemirror_mode": {
    "name": "ipython",
    "version": 3
   },
   "file_extension": ".py",
   "mimetype": "text/x-python",
   "name": "python",
   "nbconvert_exporter": "python",
   "pygments_lexer": "ipython3",
   "version": "3.6.7"
  }
 },
 "nbformat": 4,
 "nbformat_minor": 2
}
