{
 "cells": [
  {
   "cell_type": "code",
   "execution_count": 1,
   "metadata": {},
   "outputs": [
    {
     "name": "stderr",
     "output_type": "stream",
     "text": [
      "Using TensorFlow backend.\n"
     ]
    }
   ],
   "source": [
    "import os\n",
    "import sys\n",
    "import numpy as np\n",
    "import keras\n",
    "from sklearn.model_selection import train_test_split"
   ]
  },
  {
   "cell_type": "code",
   "execution_count": 2,
   "metadata": {},
   "outputs": [],
   "source": [
    "seed = 273\n",
    "kinase = 'vegfr2'\n",
    "model_file = 'basic_RNN_%s.h5' % (kinase)"
   ]
  },
  {
   "cell_type": "code",
   "execution_count": 3,
   "metadata": {},
   "outputs": [],
   "source": [
    "#import data\n",
    "lines = [line.strip().split(',') for line in open(os.path.join('data', kinase+'_smiles.csv'))]\n",
    "smiles = [line[1] for line in lines]\n",
    "y = np.asarray([int(line[2]) for line in lines], dtype=np.int8)"
   ]
  },
  {
   "cell_type": "code",
   "execution_count": 4,
   "metadata": {},
   "outputs": [],
   "source": [
    "#pad smiles with '!' to ensure equal length\n",
    "max_smiles_len = max(len(s) for s in smiles)\n",
    "smiles = [s + '!'*(max_smiles_len + 1 - len(s)) for s in smiles]"
   ]
  },
  {
   "cell_type": "code",
   "execution_count": 5,
   "metadata": {},
   "outputs": [],
   "source": [
    "#one-hot vector representation of smiles\n",
    "char_set = set()\n",
    "for s in smiles:\n",
    "    for c in s:\n",
    "        char_set.add(c)\n",
    "char_set = list(char_set)\n",
    "char_to_index = {char_set[i]: i for i in range(len(char_set))}\n",
    "\n",
    "X = np.zeros((len(smiles), max_smiles_len + 1, len(char_set)))\n",
    "for i in range(len(smiles)):\n",
    "    code = smiles[i]\n",
    "    for j in range(len(code)):\n",
    "        char = code[j]\n",
    "        X[i, j, char_to_index[char]] = 1        "
   ]
  },
  {
   "cell_type": "code",
   "execution_count": 6,
   "metadata": {},
   "outputs": [
    {
     "name": "stdout",
     "output_type": "stream",
     "text": [
      "(3586, 147, 38) (3586,)\n",
      "(768, 147, 38) (768,)\n",
      "(769, 147, 38) (769,)\n"
     ]
    }
   ],
   "source": [
    "#train val test split\n",
    "X_train, X_test, y_train, y_test = train_test_split(X, y, test_size=0.3, random_state=seed)\n",
    "X_val, X_test, y_val, y_test = train_test_split(X_test, y_test, test_size=0.5, random_state=seed)\n",
    "\n",
    "print(X_train.shape, y_train.shape)\n",
    "print(X_val.shape, y_val.shape)\n",
    "print(X_test.shape, y_test.shape)\n",
    "\n",
    "input_shape = X_train.shape[1:]"
   ]
  },
  {
   "cell_type": "code",
   "execution_count": 7,
   "metadata": {},
   "outputs": [
    {
     "name": "stdout",
     "output_type": "stream",
     "text": [
      "[]\n"
     ]
    }
   ],
   "source": [
    "#check GPU presence\n",
    "from tensorflow.python.client import device_lib\n",
    "\n",
    "def get_available_gpus():\n",
    "    local_device_protos = device_lib.list_local_devices()\n",
    "    return [x.name for x in local_device_protos if x.device_type == 'GPU']\n",
    "\n",
    "print(get_available_gpus())"
   ]
  },
  {
   "cell_type": "code",
   "execution_count": 8,
   "metadata": {},
   "outputs": [],
   "source": [
    "#keras imports\n",
    "from keras.models import Sequential\n",
    "from keras.layers import TimeDistributed, GlobalAveragePooling2D, Activation, Dense, Input, Bidirectional\n",
    "from keras.layers import BatchNormalization, Conv2D, MaxPooling2D, AveragePooling2D, GlobalAveragePooling2D\n",
    "from keras.layers import GlobalMaxPooling2D\n",
    "from keras.layers.recurrent import LSTM\n",
    "from keras.callbacks import ModelCheckpoint, ReduceLROnPlateau, Callback, EarlyStopping\n",
    "from keras.layers import Dropout, Flatten\n",
    "from keras.layers import concatenate\n",
    "from keras import regularizers\n",
    "from keras import initializers\n",
    "from keras import constraints\n",
    "from keras.models import Model\n",
    "# Backend\n",
    "from keras import backend as K\n",
    "# Utils\n",
    "from keras.utils.layer_utils import convert_all_kernels_in_model\n",
    "from keras.utils.data_utils import get_file\n",
    "from keras import metrics"
   ]
  },
  {
   "cell_type": "code",
   "execution_count": 9,
   "metadata": {},
   "outputs": [],
   "source": [
    "#F1 score computation\n",
    "from sklearn.metrics import confusion_matrix, f1_score, precision_score, recall_score\n",
    "from keras import backend as K\n",
    "\n",
    "def f1(y_true, y_pred):\n",
    "    def recall(y_true, y_pred):\n",
    "        \"\"\"Recall metric.\n",
    "\n",
    "        Only computes a batch-wise average of recall.\n",
    "\n",
    "        Computes the recall, a metric for multi-label classification of\n",
    "        how many relevant items are selected.\n",
    "        \"\"\"\n",
    "        true_positives = K.sum(K.round(K.clip(y_true * y_pred, 0, 1)))\n",
    "        possible_positives = K.sum(K.round(K.clip(y_true, 0, 1)))\n",
    "        recall = true_positives / (possible_positives + K.epsilon())\n",
    "        return recall\n",
    "\n",
    "    def precision(y_true, y_pred):\n",
    "        \"\"\"Precision metric.\n",
    "\n",
    "        Only computes a batch-wise average of precision.\n",
    "\n",
    "        Computes the precision, a metric for multi-label classification of\n",
    "        how many selected items are relevant.\n",
    "        \"\"\"\n",
    "        true_positives = K.sum(K.round(K.clip(y_true * y_pred, 0, 1)))\n",
    "        predicted_positives = K.sum(K.round(K.clip(y_pred, 0, 1)))\n",
    "        precision = true_positives / (predicted_positives + K.epsilon())\n",
    "        return precision\n",
    "    precision = precision(y_true, y_pred)\n",
    "    recall = recall(y_true, y_pred)\n",
    "    return 2*((precision*recall)/(precision+recall+K.epsilon()))"
   ]
  },
  {
   "cell_type": "code",
   "execution_count": 10,
   "metadata": {},
   "outputs": [],
   "source": [
    "#basic RNN model\n",
    "model = Sequential()\n",
    "model.add(Bidirectional(LSTM(units=64, return_sequences=False), input_shape=input_shape))\n",
    "model.add(Dense(64, activation='relu'))\n",
    "model.add(Dropout(0.5))\n",
    "model.add(Dense(2, activation='softmax'))"
   ]
  },
  {
   "cell_type": "code",
   "execution_count": 11,
   "metadata": {},
   "outputs": [
    {
     "name": "stdout",
     "output_type": "stream",
     "text": [
      "_________________________________________________________________\n",
      "Layer (type)                 Output Shape              Param #   \n",
      "=================================================================\n",
      "bidirectional_1 (Bidirection (None, 128)               52736     \n",
      "_________________________________________________________________\n",
      "dense_1 (Dense)              (None, 64)                8256      \n",
      "_________________________________________________________________\n",
      "dropout_1 (Dropout)          (None, 64)                0         \n",
      "_________________________________________________________________\n",
      "dense_2 (Dense)              (None, 2)                 130       \n",
      "=================================================================\n",
      "Total params: 61,122\n",
      "Trainable params: 61,122\n",
      "Non-trainable params: 0\n",
      "_________________________________________________________________\n"
     ]
    }
   ],
   "source": [
    "#compile model\n",
    "adam = keras.optimizers.Adam(lr=0.001, decay=0.0, clipnorm=5.)\n",
    "stop = EarlyStopping(patience=20, verbose=1)\n",
    "model.compile(optimizer=adam, loss='sparse_categorical_crossentropy', metrics=[metrics.sparse_categorical_accuracy, f1])\n",
    "checkpoint = ModelCheckpoint(model_file, monitor='val_loss', verbose=1, save_best_only=True, mode='min')\n",
    "\n",
    "callbacks_list = [checkpoint, stop]\n",
    "\n",
    "model.summary()"
   ]
  },
  {
   "cell_type": "code",
   "execution_count": 12,
   "metadata": {},
   "outputs": [
    {
     "name": "stdout",
     "output_type": "stream",
     "text": [
      "Train on 3586 samples, validate on 768 samples\n",
      "Epoch 1/1000\n",
      "3586/3586 [==============================] - 94s 26ms/step - loss: 0.5254 - sparse_categorical_accuracy: 0.7920 - f1: 0.8830 - val_loss: 0.4967 - val_sparse_categorical_accuracy: 0.7995 - val_f1: 0.8866\n",
      "\n",
      "Epoch 00001: val_loss improved from inf to 0.49670, saving model to basic_RNN_vegfr2.h5\n",
      "Epoch 2/1000\n",
      "3586/3586 [==============================] - 87s 24ms/step - loss: 0.5106 - sparse_categorical_accuracy: 0.7942 - f1: 0.8836 - val_loss: 0.4937 - val_sparse_categorical_accuracy: 0.7995 - val_f1: 0.8866\n",
      "\n",
      "Epoch 00002: val_loss improved from 0.49670 to 0.49367, saving model to basic_RNN_vegfr2.h5\n",
      "Epoch 3/1000\n",
      "3586/3586 [==============================] - 87s 24ms/step - loss: 0.5021 - sparse_categorical_accuracy: 0.7942 - f1: 0.8833 - val_loss: 0.4805 - val_sparse_categorical_accuracy: 0.7995 - val_f1: 0.8866\n",
      "\n",
      "Epoch 00003: val_loss improved from 0.49367 to 0.48048, saving model to basic_RNN_vegfr2.h5\n",
      "Epoch 4/1000\n",
      "3586/3586 [==============================] - 86s 24ms/step - loss: 0.4961 - sparse_categorical_accuracy: 0.7942 - f1: 0.8836 - val_loss: 0.4719 - val_sparse_categorical_accuracy: 0.7995 - val_f1: 0.8866\n",
      "\n",
      "Epoch 00004: val_loss improved from 0.48048 to 0.47192, saving model to basic_RNN_vegfr2.h5\n",
      "Epoch 5/1000\n",
      "3586/3586 [==============================] - 86s 24ms/step - loss: 0.4798 - sparse_categorical_accuracy: 0.7942 - f1: 0.8835 - val_loss: 0.4765 - val_sparse_categorical_accuracy: 0.7995 - val_f1: 0.8866\n",
      "\n",
      "Epoch 00005: val_loss did not improve from 0.47192\n",
      "Epoch 6/1000\n",
      "3586/3586 [==============================] - 87s 24ms/step - loss: 0.4799 - sparse_categorical_accuracy: 0.7950 - f1: 0.8832 - val_loss: 0.4580 - val_sparse_categorical_accuracy: 0.7995 - val_f1: 0.8866\n",
      "\n",
      "Epoch 00006: val_loss improved from 0.47192 to 0.45801, saving model to basic_RNN_vegfr2.h5\n",
      "Epoch 7/1000\n",
      "3586/3586 [==============================] - 85s 24ms/step - loss: 0.4653 - sparse_categorical_accuracy: 0.7942 - f1: 0.8836 - val_loss: 0.4479 - val_sparse_categorical_accuracy: 0.7995 - val_f1: 0.8866\n",
      "\n",
      "Epoch 00007: val_loss improved from 0.45801 to 0.44788, saving model to basic_RNN_vegfr2.h5\n",
      "Epoch 8/1000\n",
      "3586/3586 [==============================] - 77s 22ms/step - loss: 0.4656 - sparse_categorical_accuracy: 0.7945 - f1: 0.8839 - val_loss: 0.4545 - val_sparse_categorical_accuracy: 0.7995 - val_f1: 0.8866\n",
      "\n",
      "Epoch 00008: val_loss did not improve from 0.44788\n",
      "Epoch 9/1000\n",
      "3586/3586 [==============================] - 77s 21ms/step - loss: 0.4527 - sparse_categorical_accuracy: 0.7936 - f1: 0.8836 - val_loss: 0.4554 - val_sparse_categorical_accuracy: 0.8008 - val_f1: 0.8866\n",
      "\n",
      "Epoch 00009: val_loss did not improve from 0.44788\n",
      "Epoch 10/1000\n",
      "3586/3586 [==============================] - 76s 21ms/step - loss: 0.4492 - sparse_categorical_accuracy: 0.7967 - f1: 0.8838 - val_loss: 0.4412 - val_sparse_categorical_accuracy: 0.8125 - val_f1: 0.8866\n",
      "\n",
      "Epoch 00010: val_loss improved from 0.44788 to 0.44118, saving model to basic_RNN_vegfr2.h5\n",
      "Epoch 11/1000\n",
      "3586/3586 [==============================] - 76s 21ms/step - loss: 0.4436 - sparse_categorical_accuracy: 0.7981 - f1: 0.8837 - val_loss: 0.4444 - val_sparse_categorical_accuracy: 0.8112 - val_f1: 0.8866\n",
      "\n",
      "Epoch 00011: val_loss did not improve from 0.44118\n",
      "Epoch 12/1000\n",
      "3586/3586 [==============================] - 77s 21ms/step - loss: 0.4384 - sparse_categorical_accuracy: 0.7981 - f1: 0.8839 - val_loss: 0.4339 - val_sparse_categorical_accuracy: 0.8021 - val_f1: 0.8866\n",
      "\n",
      "Epoch 00012: val_loss improved from 0.44118 to 0.43392, saving model to basic_RNN_vegfr2.h5\n",
      "Epoch 13/1000\n",
      "3586/3586 [==============================] - 77s 21ms/step - loss: 0.4413 - sparse_categorical_accuracy: 0.7973 - f1: 0.8836 - val_loss: 0.4523 - val_sparse_categorical_accuracy: 0.8047 - val_f1: 0.8866\n",
      "\n",
      "Epoch 00013: val_loss did not improve from 0.43392\n",
      "Epoch 14/1000\n",
      "3586/3586 [==============================] - 76s 21ms/step - loss: 0.4237 - sparse_categorical_accuracy: 0.8115 - f1: 0.8839 - val_loss: 0.4293 - val_sparse_categorical_accuracy: 0.8164 - val_f1: 0.8866\n",
      "\n",
      "Epoch 00014: val_loss improved from 0.43392 to 0.42928, saving model to basic_RNN_vegfr2.h5\n",
      "Epoch 15/1000\n",
      "3586/3586 [==============================] - 77s 21ms/step - loss: 0.4190 - sparse_categorical_accuracy: 0.8093 - f1: 0.8833 - val_loss: 0.4328 - val_sparse_categorical_accuracy: 0.8034 - val_f1: 0.8866\n",
      "\n",
      "Epoch 00015: val_loss did not improve from 0.42928\n",
      "Epoch 16/1000\n",
      "3586/3586 [==============================] - 76s 21ms/step - loss: 0.4144 - sparse_categorical_accuracy: 0.8129 - f1: 0.8837 - val_loss: 0.4500 - val_sparse_categorical_accuracy: 0.7917 - val_f1: 0.8866\n",
      "\n",
      "Epoch 00016: val_loss did not improve from 0.42928\n",
      "Epoch 17/1000\n",
      "3586/3586 [==============================] - 75s 21ms/step - loss: 0.4110 - sparse_categorical_accuracy: 0.8140 - f1: 0.8836 - val_loss: 0.4262 - val_sparse_categorical_accuracy: 0.8086 - val_f1: 0.8866\n",
      "\n",
      "Epoch 00017: val_loss improved from 0.42928 to 0.42616, saving model to basic_RNN_vegfr2.h5\n",
      "Epoch 18/1000\n",
      "3586/3586 [==============================] - 75s 21ms/step - loss: 0.4000 - sparse_categorical_accuracy: 0.8162 - f1: 0.8834 - val_loss: 0.4312 - val_sparse_categorical_accuracy: 0.7982 - val_f1: 0.8866\n",
      "\n",
      "Epoch 00018: val_loss did not improve from 0.42616\n",
      "Epoch 19/1000\n",
      "3586/3586 [==============================] - 77s 22ms/step - loss: 0.3944 - sparse_categorical_accuracy: 0.8224 - f1: 0.8835 - val_loss: 0.4142 - val_sparse_categorical_accuracy: 0.8190 - val_f1: 0.8866\n",
      "\n",
      "Epoch 00019: val_loss improved from 0.42616 to 0.41415, saving model to basic_RNN_vegfr2.h5\n",
      "Epoch 20/1000\n",
      "3586/3586 [==============================] - 67s 19ms/step - loss: 0.3869 - sparse_categorical_accuracy: 0.8263 - f1: 0.8834 - val_loss: 0.4535 - val_sparse_categorical_accuracy: 0.8021 - val_f1: 0.8866\n",
      "\n",
      "Epoch 00020: val_loss did not improve from 0.41415\n",
      "Epoch 21/1000\n",
      "3586/3586 [==============================] - 65s 18ms/step - loss: 0.3861 - sparse_categorical_accuracy: 0.8263 - f1: 0.8835 - val_loss: 0.4258 - val_sparse_categorical_accuracy: 0.8125 - val_f1: 0.8866\n",
      "\n",
      "Epoch 00021: val_loss did not improve from 0.41415\n",
      "Epoch 22/1000\n",
      "3586/3586 [==============================] - 65s 18ms/step - loss: 0.3850 - sparse_categorical_accuracy: 0.8318 - f1: 0.8832 - val_loss: 0.4308 - val_sparse_categorical_accuracy: 0.8073 - val_f1: 0.8866\n",
      "\n",
      "Epoch 00022: val_loss did not improve from 0.41415\n",
      "Epoch 23/1000\n",
      "3586/3586 [==============================] - 64s 18ms/step - loss: 0.3791 - sparse_categorical_accuracy: 0.8318 - f1: 0.8835 - val_loss: 0.4181 - val_sparse_categorical_accuracy: 0.8099 - val_f1: 0.8866\n",
      "\n",
      "Epoch 00023: val_loss did not improve from 0.41415\n",
      "Epoch 24/1000\n",
      "3586/3586 [==============================] - 66s 18ms/step - loss: 0.3749 - sparse_categorical_accuracy: 0.8330 - f1: 0.8837 - val_loss: 0.4194 - val_sparse_categorical_accuracy: 0.8086 - val_f1: 0.8866\n",
      "\n",
      "Epoch 00024: val_loss did not improve from 0.41415\n",
      "Epoch 25/1000\n",
      "3586/3586 [==============================] - 65s 18ms/step - loss: 0.3629 - sparse_categorical_accuracy: 0.8363 - f1: 0.8831 - val_loss: 0.4200 - val_sparse_categorical_accuracy: 0.8242 - val_f1: 0.8866\n",
      "\n",
      "Epoch 00025: val_loss did not improve from 0.41415\n",
      "Epoch 26/1000\n",
      "3586/3586 [==============================] - 65s 18ms/step - loss: 0.3561 - sparse_categorical_accuracy: 0.8366 - f1: 0.8835 - val_loss: 0.4257 - val_sparse_categorical_accuracy: 0.8177 - val_f1: 0.8866\n",
      "\n",
      "Epoch 00026: val_loss did not improve from 0.41415\n",
      "Epoch 27/1000\n",
      "3586/3586 [==============================] - 65s 18ms/step - loss: 0.3519 - sparse_categorical_accuracy: 0.8391 - f1: 0.8840 - val_loss: 0.4295 - val_sparse_categorical_accuracy: 0.8151 - val_f1: 0.8866\n",
      "\n",
      "Epoch 00027: val_loss did not improve from 0.41415\n",
      "Epoch 28/1000\n",
      "3586/3586 [==============================] - 64s 18ms/step - loss: 0.3504 - sparse_categorical_accuracy: 0.8463 - f1: 0.8833 - val_loss: 0.4277 - val_sparse_categorical_accuracy: 0.8125 - val_f1: 0.8866\n",
      "\n",
      "Epoch 00028: val_loss did not improve from 0.41415\n",
      "Epoch 29/1000\n",
      "3586/3586 [==============================] - 65s 18ms/step - loss: 0.3474 - sparse_categorical_accuracy: 0.8416 - f1: 0.8834 - val_loss: 0.4407 - val_sparse_categorical_accuracy: 0.8151 - val_f1: 0.8866\n"
     ]
    },
    {
     "name": "stdout",
     "output_type": "stream",
     "text": [
      "\n",
      "Epoch 00029: val_loss did not improve from 0.41415\n",
      "Epoch 30/1000\n",
      "3586/3586 [==============================] - 63s 18ms/step - loss: 0.3376 - sparse_categorical_accuracy: 0.8461 - f1: 0.8838 - val_loss: 0.4355 - val_sparse_categorical_accuracy: 0.8099 - val_f1: 0.8866\n",
      "\n",
      "Epoch 00030: val_loss did not improve from 0.41415\n",
      "Epoch 31/1000\n",
      "3586/3586 [==============================] - 65s 18ms/step - loss: 0.3394 - sparse_categorical_accuracy: 0.8419 - f1: 0.8839 - val_loss: 0.4241 - val_sparse_categorical_accuracy: 0.8060 - val_f1: 0.8866\n",
      "\n",
      "Epoch 00031: val_loss did not improve from 0.41415\n",
      "Epoch 32/1000\n",
      "3586/3586 [==============================] - 55s 15ms/step - loss: 0.3389 - sparse_categorical_accuracy: 0.8452 - f1: 0.8835 - val_loss: 0.4345 - val_sparse_categorical_accuracy: 0.8190 - val_f1: 0.8866\n",
      "\n",
      "Epoch 00032: val_loss did not improve from 0.41415\n",
      "Epoch 33/1000\n",
      "3586/3586 [==============================] - 43s 12ms/step - loss: 0.3285 - sparse_categorical_accuracy: 0.8472 - f1: 0.8837 - val_loss: 0.4610 - val_sparse_categorical_accuracy: 0.8047 - val_f1: 0.8866\n",
      "\n",
      "Epoch 00033: val_loss did not improve from 0.41415\n",
      "Epoch 34/1000\n",
      "3586/3586 [==============================] - 44s 12ms/step - loss: 0.3190 - sparse_categorical_accuracy: 0.8489 - f1: 0.8837 - val_loss: 0.4056 - val_sparse_categorical_accuracy: 0.8229 - val_f1: 0.8866\n",
      "\n",
      "Epoch 00034: val_loss improved from 0.41415 to 0.40563, saving model to basic_RNN_vegfr2.h5\n",
      "Epoch 35/1000\n",
      "3586/3586 [==============================] - 43s 12ms/step - loss: 0.3205 - sparse_categorical_accuracy: 0.8483 - f1: 0.8837 - val_loss: 0.4208 - val_sparse_categorical_accuracy: 0.8151 - val_f1: 0.8866\n",
      "\n",
      "Epoch 00035: val_loss did not improve from 0.40563\n",
      "Epoch 36/1000\n",
      "3586/3586 [==============================] - 43s 12ms/step - loss: 0.3228 - sparse_categorical_accuracy: 0.8497 - f1: 0.8838 - val_loss: 0.4347 - val_sparse_categorical_accuracy: 0.8190 - val_f1: 0.8866\n",
      "\n",
      "Epoch 00036: val_loss did not improve from 0.40563\n",
      "Epoch 37/1000\n",
      "3586/3586 [==============================] - 43s 12ms/step - loss: 0.3095 - sparse_categorical_accuracy: 0.8575 - f1: 0.8835 - val_loss: 0.4192 - val_sparse_categorical_accuracy: 0.8216 - val_f1: 0.8866\n",
      "\n",
      "Epoch 00037: val_loss did not improve from 0.40563\n",
      "Epoch 38/1000\n",
      "3586/3586 [==============================] - 43s 12ms/step - loss: 0.3063 - sparse_categorical_accuracy: 0.8569 - f1: 0.8838 - val_loss: 0.4112 - val_sparse_categorical_accuracy: 0.8190 - val_f1: 0.8866\n",
      "\n",
      "Epoch 00038: val_loss did not improve from 0.40563\n",
      "Epoch 39/1000\n",
      "3586/3586 [==============================] - 43s 12ms/step - loss: 0.2988 - sparse_categorical_accuracy: 0.8634 - f1: 0.8832 - val_loss: 0.4399 - val_sparse_categorical_accuracy: 0.8203 - val_f1: 0.8866\n",
      "\n",
      "Epoch 00039: val_loss did not improve from 0.40563\n",
      "Epoch 40/1000\n",
      "3586/3586 [==============================] - 43s 12ms/step - loss: 0.3091 - sparse_categorical_accuracy: 0.8572 - f1: 0.8834 - val_loss: 0.4329 - val_sparse_categorical_accuracy: 0.8151 - val_f1: 0.8866\n",
      "\n",
      "Epoch 00040: val_loss did not improve from 0.40563\n",
      "Epoch 41/1000\n",
      "3586/3586 [==============================] - 43s 12ms/step - loss: 0.2966 - sparse_categorical_accuracy: 0.8589 - f1: 0.8833 - val_loss: 0.4232 - val_sparse_categorical_accuracy: 0.8216 - val_f1: 0.8866\n",
      "\n",
      "Epoch 00041: val_loss did not improve from 0.40563\n",
      "Epoch 42/1000\n",
      "3586/3586 [==============================] - 43s 12ms/step - loss: 0.2917 - sparse_categorical_accuracy: 0.8673 - f1: 0.8840 - val_loss: 0.4337 - val_sparse_categorical_accuracy: 0.8320 - val_f1: 0.8866\n",
      "\n",
      "Epoch 00042: val_loss did not improve from 0.40563\n",
      "Epoch 43/1000\n",
      "3586/3586 [==============================] - 43s 12ms/step - loss: 0.2808 - sparse_categorical_accuracy: 0.8728 - f1: 0.8836 - val_loss: 0.4335 - val_sparse_categorical_accuracy: 0.8320 - val_f1: 0.8866\n",
      "\n",
      "Epoch 00043: val_loss did not improve from 0.40563\n",
      "Epoch 44/1000\n",
      "3586/3586 [==============================] - 43s 12ms/step - loss: 0.2818 - sparse_categorical_accuracy: 0.8753 - f1: 0.8838 - val_loss: 0.4157 - val_sparse_categorical_accuracy: 0.8268 - val_f1: 0.8866\n",
      "\n",
      "Epoch 00044: val_loss did not improve from 0.40563\n",
      "Epoch 45/1000\n",
      "3586/3586 [==============================] - 43s 12ms/step - loss: 0.2651 - sparse_categorical_accuracy: 0.8773 - f1: 0.8833 - val_loss: 0.4769 - val_sparse_categorical_accuracy: 0.8203 - val_f1: 0.8866\n",
      "\n",
      "Epoch 00045: val_loss did not improve from 0.40563\n",
      "Epoch 46/1000\n",
      "3586/3586 [==============================] - 43s 12ms/step - loss: 0.2804 - sparse_categorical_accuracy: 0.8698 - f1: 0.8838 - val_loss: 0.4621 - val_sparse_categorical_accuracy: 0.8294 - val_f1: 0.8866\n",
      "\n",
      "Epoch 00046: val_loss did not improve from 0.40563\n",
      "Epoch 47/1000\n",
      "3586/3586 [==============================] - 43s 12ms/step - loss: 0.2631 - sparse_categorical_accuracy: 0.8745 - f1: 0.8832 - val_loss: 0.4299 - val_sparse_categorical_accuracy: 0.8242 - val_f1: 0.8866\n",
      "\n",
      "Epoch 00047: val_loss did not improve from 0.40563\n",
      "Epoch 48/1000\n",
      "3586/3586 [==============================] - 44s 12ms/step - loss: 0.2707 - sparse_categorical_accuracy: 0.8815 - f1: 0.8831 - val_loss: 0.4626 - val_sparse_categorical_accuracy: 0.8112 - val_f1: 0.8866\n",
      "\n",
      "Epoch 00048: val_loss did not improve from 0.40563\n",
      "Epoch 49/1000\n",
      "3586/3586 [==============================] - 43s 12ms/step - loss: 0.2657 - sparse_categorical_accuracy: 0.8801 - f1: 0.8833 - val_loss: 0.4272 - val_sparse_categorical_accuracy: 0.8268 - val_f1: 0.8866\n",
      "\n",
      "Epoch 00049: val_loss did not improve from 0.40563\n",
      "Epoch 50/1000\n",
      "3586/3586 [==============================] - 44s 12ms/step - loss: 0.2621 - sparse_categorical_accuracy: 0.8809 - f1: 0.8833 - val_loss: 0.4397 - val_sparse_categorical_accuracy: 0.8320 - val_f1: 0.8866\n",
      "\n",
      "Epoch 00050: val_loss did not improve from 0.40563\n",
      "Epoch 51/1000\n",
      "3586/3586 [==============================] - 43s 12ms/step - loss: 0.2495 - sparse_categorical_accuracy: 0.8868 - f1: 0.8835 - val_loss: 0.4654 - val_sparse_categorical_accuracy: 0.8242 - val_f1: 0.8866\n",
      "\n",
      "Epoch 00051: val_loss did not improve from 0.40563\n",
      "Epoch 52/1000\n",
      "3586/3586 [==============================] - 44s 12ms/step - loss: 0.2566 - sparse_categorical_accuracy: 0.8868 - f1: 0.8831 - val_loss: 0.4456 - val_sparse_categorical_accuracy: 0.8242 - val_f1: 0.8866\n",
      "\n",
      "Epoch 00052: val_loss did not improve from 0.40563\n",
      "Epoch 53/1000\n",
      "3586/3586 [==============================] - 44s 12ms/step - loss: 0.2542 - sparse_categorical_accuracy: 0.8826 - f1: 0.8835 - val_loss: 0.4724 - val_sparse_categorical_accuracy: 0.8112 - val_f1: 0.8866\n",
      "\n",
      "Epoch 00053: val_loss did not improve from 0.40563\n",
      "Epoch 54/1000\n",
      "3586/3586 [==============================] - 43s 12ms/step - loss: 0.2400 - sparse_categorical_accuracy: 0.8949 - f1: 0.8837 - val_loss: 0.4797 - val_sparse_categorical_accuracy: 0.8268 - val_f1: 0.8866\n",
      "\n",
      "Epoch 00054: val_loss did not improve from 0.40563\n",
      "Epoch 00054: early stopping\n"
     ]
    },
    {
     "data": {
      "text/plain": [
       "<keras.callbacks.History at 0x7f49d7fe4c18>"
      ]
     },
     "execution_count": 12,
     "metadata": {},
     "output_type": "execute_result"
    }
   ],
   "source": [
    "#training\n",
    "model.fit(x=X_train, \n",
    "          y=y_train, \n",
    "          batch_size=32, \n",
    "          epochs=1000, \n",
    "          verbose=1, \n",
    "          callbacks=callbacks_list, \n",
    "          validation_data=(X_val, y_val), \n",
    "          shuffle=True)"
   ]
  },
  {
   "cell_type": "code",
   "execution_count": 13,
   "metadata": {},
   "outputs": [
    {
     "name": "stdout",
     "output_type": "stream",
     "text": [
      "['loss', 'sparse_categorical_accuracy', 'f1']\n"
     ]
    }
   ],
   "source": [
    "#testing\n",
    "from keras.models import load_model\n",
    "trained_model = load_model(model_file, custom_objects={'f1': f1})\n",
    "print(trained_model.metrics_names)"
   ]
  },
  {
   "cell_type": "code",
   "execution_count": 14,
   "metadata": {},
   "outputs": [
    {
     "name": "stdout",
     "output_type": "stream",
     "text": [
      "3586/3586 [==============================] - 9s 2ms/step\n"
     ]
    },
    {
     "data": {
      "text/plain": [
       "[0.29923171117461334, 0.8558282208588958, 0.8835952674551377]"
      ]
     },
     "execution_count": 14,
     "metadata": {},
     "output_type": "execute_result"
    }
   ],
   "source": [
    "trained_model.evaluate(x=X_train, y=y_train)"
   ]
  },
  {
   "cell_type": "code",
   "execution_count": 15,
   "metadata": {},
   "outputs": [
    {
     "name": "stdout",
     "output_type": "stream",
     "text": [
      "768/768 [==============================] - 2s 2ms/step\n"
     ]
    },
    {
     "data": {
      "text/plain": [
       "[0.4056326827655236, 0.8229166666666666, 0.8865948468446732]"
      ]
     },
     "execution_count": 15,
     "metadata": {},
     "output_type": "execute_result"
    }
   ],
   "source": [
    "trained_model.evaluate(x=X_val, y=y_val)"
   ]
  },
  {
   "cell_type": "code",
   "execution_count": 16,
   "metadata": {},
   "outputs": [
    {
     "name": "stdout",
     "output_type": "stream",
     "text": [
      "769/769 [==============================] - 2s 2ms/step\n"
     ]
    },
    {
     "data": {
      "text/plain": [
       "[0.4338366431904707, 0.8413524057217165, 0.8963480528991461]"
      ]
     },
     "execution_count": 16,
     "metadata": {},
     "output_type": "execute_result"
    }
   ],
   "source": [
    "trained_model.evaluate(x=X_test, y=y_test)"
   ]
  },
  {
   "cell_type": "code",
   "execution_count": null,
   "metadata": {},
   "outputs": [],
   "source": []
  }
 ],
 "metadata": {
  "kernelspec": {
   "display_name": "Python 3",
   "language": "python",
   "name": "python3"
  },
  "language_info": {
   "codemirror_mode": {
    "name": "ipython",
    "version": 3
   },
   "file_extension": ".py",
   "mimetype": "text/x-python",
   "name": "python",
   "nbconvert_exporter": "python",
   "pygments_lexer": "ipython3",
   "version": "3.5.6"
  }
 },
 "nbformat": 4,
 "nbformat_minor": 2
}
