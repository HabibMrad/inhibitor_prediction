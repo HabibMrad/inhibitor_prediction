{
 "cells": [
  {
   "cell_type": "code",
   "execution_count": 17,
   "metadata": {},
   "outputs": [],
   "source": [
    "import os\n",
    "import sys\n",
    "import numpy as np\n",
    "import keras\n",
    "# from sklearn.model_selection import train_test_split"
   ]
  },
  {
   "cell_type": "code",
   "execution_count": 18,
   "metadata": {},
   "outputs": [],
   "source": [
    "seed = 273\n",
    "kinase = 'cdk2'"
   ]
  },
  {
   "cell_type": "code",
   "execution_count": 19,
   "metadata": {},
   "outputs": [],
   "source": [
    "#import data\n",
    "smiles_lines = [line.strip().split(',') for line in open(os.path.join('data', kinase+'_smiles.csv'))]\n",
    "smiles = [line[1] for line in smiles_lines]\n",
    "fingerprint_lines = [line.strip().split(',') for line in open(os.path.join('data', kinase+'_fingerprints.csv'))]\n",
    "fingerprints = [line[2:] for line in fingerprint_lines]\n",
    "X_fingerprints = np.asarray(fingerprints, dtype=np.int16)\n",
    "y = np.asarray([int(line[2]) for line in smiles_lines], dtype=np.int8)"
   ]
  },
  {
   "cell_type": "code",
   "execution_count": 20,
   "metadata": {},
   "outputs": [],
   "source": [
    "#pad smiles with '!' to ensure equal length\n",
    "max_smiles_len = max(len(s) for s in smiles)\n",
    "smiles = [s + '!'*(max_smiles_len + 1 - len(s)) for s in smiles]"
   ]
  },
  {
   "cell_type": "code",
   "execution_count": 21,
   "metadata": {},
   "outputs": [],
   "source": [
    "#one-hot vector representation of smiles\n",
    "char_set = set()\n",
    "for s in smiles:\n",
    "    for c in s:\n",
    "        char_set.add(c)\n",
    "char_set = list(char_set)\n",
    "char_to_index = {char_set[i]: i for i in range(len(char_set))}\n",
    "\n",
    "X_smiles = np.zeros((len(smiles), max_smiles_len + 1, len(char_set)))\n",
    "for i in range(len(smiles)):\n",
    "    code = smiles[i]\n",
    "    for j in range(len(code)):\n",
    "        char = code[j]\n",
    "        X_smiles[i, j, char_to_index[char]] = 1        "
   ]
  },
  {
   "cell_type": "code",
   "execution_count": 22,
   "metadata": {},
   "outputs": [
    {
     "name": "stdout",
     "output_type": "stream",
     "text": [
      "(1635, 6117)\n",
      "(1635, 84, 36)\n",
      "(1635,)\n"
     ]
    }
   ],
   "source": [
    "print(X_fingerprints.shape)\n",
    "print(X_smiles.shape)\n",
    "print(y.shape)"
   ]
  },
  {
   "cell_type": "code",
   "execution_count": 23,
   "metadata": {},
   "outputs": [
    {
     "name": "stdout",
     "output_type": "stream",
     "text": [
      "(1145, 6117)\n",
      "(1145, 84, 36)\n",
      "(1145,)\n",
      "(245, 6117)\n",
      "(245, 84, 36)\n",
      "(245,)\n",
      "(245, 6117)\n",
      "(245, 84, 36)\n",
      "(245,)\n"
     ]
    }
   ],
   "source": [
    "#train val test split\n",
    "n_tot = X_smiles.shape[0]\n",
    "n_test = round(n_tot*0.15)\n",
    "n_val = round(n_tot*0.15)\n",
    "n_train  = n_tot - n_test - n_val\n",
    "indices = np.arange(n_tot, dtype=int)\n",
    "np.random.seed(seed)\n",
    "np.random.shuffle(indices)\n",
    "indices_train = indices[:n_train]\n",
    "indices_val = indices[n_train:n_train+n_val]\n",
    "indices_test = indices[n_train+n_val:]\n",
    "X_fingerprints_train = X_fingerprints[indices_train]\n",
    "print(X_fingerprints_train.shape)\n",
    "X_smiles_train = X_smiles[indices_train]\n",
    "print(X_smiles_train.shape)\n",
    "y_train = y[indices_train]\n",
    "print(y_train.shape)\n",
    "X_fingerprints_val = X_fingerprints[indices_val]\n",
    "print(X_fingerprints_val.shape)\n",
    "X_smiles_val = X_smiles[indices_val]\n",
    "print(X_smiles_val.shape)\n",
    "y_val = y[indices_val]\n",
    "print(y_val.shape)\n",
    "X_fingerprints_test = X_fingerprints[indices_test]\n",
    "print(X_fingerprints_test.shape)\n",
    "X_smiles_test = X_smiles[indices_test]\n",
    "print(X_smiles_test.shape)\n",
    "y_test = y[indices_test]\n",
    "print(y_test.shape)\n",
    "smiles_input_shape = X_smiles_train.shape[1:]\n",
    "fingerprints_input_shape = X_fingerprints_train.shape[1:]"
   ]
  },
  {
   "cell_type": "code",
   "execution_count": 24,
   "metadata": {},
   "outputs": [
    {
     "name": "stdout",
     "output_type": "stream",
     "text": [
      "[]\n"
     ]
    }
   ],
   "source": [
    "#check GPU presence\n",
    "from tensorflow.python.client import device_lib\n",
    "\n",
    "def get_available_gpus():\n",
    "    local_device_protos = device_lib.list_local_devices()\n",
    "    return [x.name for x in local_device_protos if x.device_type == 'GPU']\n",
    "\n",
    "print(get_available_gpus())"
   ]
  },
  {
   "cell_type": "code",
   "execution_count": 25,
   "metadata": {},
   "outputs": [],
   "source": [
    "#keras imports\n",
    "from keras.models import Sequential\n",
    "from keras.layers import TimeDistributed, GlobalAveragePooling2D, Activation, Dense, Input, Bidirectional\n",
    "from keras.layers import BatchNormalization, Conv2D, MaxPooling2D, AveragePooling2D, GlobalAveragePooling2D\n",
    "from keras.layers import GlobalMaxPooling2D\n",
    "from keras.layers.recurrent import LSTM\n",
    "from keras.callbacks import ModelCheckpoint, ReduceLROnPlateau, Callback, EarlyStopping\n",
    "from keras.layers import Dropout, Flatten\n",
    "from keras.layers import concatenate, average\n",
    "from keras import regularizers\n",
    "from keras import initializers\n",
    "from keras import constraints\n",
    "from keras.models import Model\n",
    "# Backend\n",
    "from keras import backend as K\n",
    "# Utils\n",
    "from keras.utils.layer_utils import convert_all_kernels_in_model\n",
    "from keras.utils.data_utils import get_file\n",
    "from keras import metrics"
   ]
  },
  {
   "cell_type": "code",
   "execution_count": 26,
   "metadata": {},
   "outputs": [],
   "source": [
    "#F1 score computation\n",
    "from sklearn.metrics import confusion_matrix, f1_score, precision_score, recall_score\n",
    "from keras import backend as K\n",
    "\n",
    "def f1(y_true, y_pred):\n",
    "    def recall(y_true, y_pred):\n",
    "        \"\"\"Recall metric.\n",
    "\n",
    "        Only computes a batch-wise average of recall.\n",
    "\n",
    "        Computes the recall, a metric for multi-label classification of\n",
    "        how many relevant items are selected.\n",
    "        \"\"\"\n",
    "        true_positives = K.sum(K.round(K.clip(y_true * y_pred, 0, 1)))\n",
    "        possible_positives = K.sum(K.round(K.clip(y_true, 0, 1)))\n",
    "        recall = true_positives / (possible_positives + K.epsilon())\n",
    "        return recall\n",
    "\n",
    "    def precision(y_true, y_pred):\n",
    "        \"\"\"Precision metric.\n",
    "\n",
    "        Only computes a batch-wise average of precision.\n",
    "\n",
    "        Computes the precision, a metric for multi-label classification of\n",
    "        how many selected items are relevant.\n",
    "        \"\"\"\n",
    "        true_positives = K.sum(K.round(K.clip(y_true * y_pred, 0, 1)))\n",
    "        predicted_positives = K.sum(K.round(K.clip(y_pred, 0, 1)))\n",
    "        precision = true_positives / (predicted_positives + K.epsilon())\n",
    "        return precision\n",
    "    precision = precision(y_true, y_pred)\n",
    "    recall = recall(y_true, y_pred)\n",
    "    return 2*((precision*recall)/(precision+recall+K.epsilon()))"
   ]
  },
  {
   "cell_type": "code",
   "execution_count": 27,
   "metadata": {},
   "outputs": [
    {
     "name": "stdout",
     "output_type": "stream",
     "text": [
      "MLP Train AUC: 0.7405443776846654\n",
      "MLP Val AUC: 0.5182105263157896\n",
      "MLP Test AUC: 0.5030686187518485\n"
     ]
    }
   ],
   "source": [
    "from sklearn.metrics import roc_curve\n",
    "from sklearn.metrics import roc_auc_score\n",
    "npzfile = np.load('mlp_' + kinase + '.npz')\n",
    "pred_train_mlp, pred_val_mlp, pred_test_mlp = npzfile['pred_train'], npzfile['pred_val'], npzfile['pred_test']\n",
    "fpr_mlp_train, tpr_mlp_train, _ = roc_curve(y_train, pred_train_mlp)\n",
    "auc_train = roc_auc_score(y_train, pred_train_mlp)\n",
    "fpr_mlp_val, tpr_mlp_val, _ = roc_curve(y_val, pred_val_mlp)\n",
    "auc_val = roc_auc_score(y_val, pred_val_mlp)\n",
    "fpr_mlp_test, tpr_mlp_test, _ = roc_curve(y_test, pred_test_mlp)\n",
    "auc_test = roc_auc_score(y_test, pred_test_mlp)\n",
    "print('MLP Train AUC: %s' % auc_train)\n",
    "print('MLP Val AUC: %s' % auc_val)\n",
    "print('MLP Test AUC: %s' % auc_test)"
   ]
  },
  {
   "cell_type": "code",
   "execution_count": 28,
   "metadata": {},
   "outputs": [
    {
     "name": "stdout",
     "output_type": "stream",
     "text": [
      "RNN Train AUC: 0.945664347642765\n",
      "RNN Val AUC: 0.8691228070175439\n",
      "RNN Test AUC: 0.8961106181603076\n"
     ]
    }
   ],
   "source": [
    "npzfile = np.load('rnn_' + kinase + '.npz')\n",
    "pred_train_rnn, pred_val_rnn, pred_test_rnn = npzfile['pred_train'], npzfile['pred_val'], npzfile['pred_test']\n",
    "fpr_rnn_train, tpr_rnn_train, _ = roc_curve(y_train, pred_train_rnn)\n",
    "auc_train = roc_auc_score(y_train, pred_train_rnn)\n",
    "fpr_rnn_val, tpr_rnn_val, _ = roc_curve(y_val, pred_val_rnn)\n",
    "auc_val = roc_auc_score(y_val, pred_val_rnn)\n",
    "fpr_rnn_test, tpr_rnn_test, _ = roc_curve(y_test, pred_test_rnn)\n",
    "auc_test = roc_auc_score(y_test, pred_test_rnn)\n",
    "print('RNN Train AUC: %s' % auc_train)\n",
    "print('RNN Val AUC: %s' % auc_val)\n",
    "print('RNN Test AUC: %s' % auc_test)"
   ]
  },
  {
   "cell_type": "code",
   "execution_count": 29,
   "metadata": {},
   "outputs": [
    {
     "name": "stdout",
     "output_type": "stream",
     "text": [
      "RNN+MLP Early Fusion Train AUC: 0.6368751152923815\n",
      "RNN+MLP Early Fusion Val AUC: 0.5181052631578947\n",
      "RNN+MLP Early Fusion Test AUC: 0.54170363797693\n"
     ]
    }
   ],
   "source": [
    "npzfile = np.load('rnn_mlp_early_' + kinase + '.npz')\n",
    "pred_train, pred_val, pred_test = npzfile['pred_train'], npzfile['pred_val'], npzfile['pred_test']\n",
    "fpr_rnn_mlp_early_train, tpr_rnn_mlp_early_train, _ = roc_curve(y_train, pred_train)\n",
    "auc_train = roc_auc_score(y_train, pred_train)\n",
    "fpr_rnn_mlp_early_val, tpr_rnn_mlp_early_val, _ = roc_curve(y_val, pred_val)\n",
    "auc_val = roc_auc_score(y_val, pred_val)\n",
    "fpr_rnn_mlp_early_test, tpr_rnn_mlp_early_test, _ = roc_curve(y_test, pred_test)\n",
    "auc_test = roc_auc_score(y_test, pred_test)\n",
    "print('RNN+MLP Early Fusion Train AUC: %s' % auc_train)\n",
    "print('RNN+MLP Early Fusion Val AUC: %s' % auc_val)\n",
    "print('RNN+MLP Early Fusion Test AUC: %s' % auc_test)"
   ]
  },
  {
   "cell_type": "code",
   "execution_count": 30,
   "metadata": {},
   "outputs": [
    {
     "name": "stdout",
     "output_type": "stream",
     "text": [
      "RNN+MLP Late Fusion Train AUC: 0.8805570927873086\n",
      "RNN+MLP Late Fusion Val AUC: 0.781543859649123\n",
      "RNN+MLP Late Fusion Test AUC: 0.7335107956225968\n"
     ]
    }
   ],
   "source": [
    "npzfile = np.load('rnn_mlp_late_' + kinase + '.npz')\n",
    "pred_train, pred_val, pred_test = npzfile['pred_train'], npzfile['pred_val'], npzfile['pred_test']\n",
    "fpr_rnn_mlp_late_train, tpr_rnn_mlp_late_train, _ = roc_curve(y_train, pred_train)\n",
    "auc_train = roc_auc_score(y_train, pred_train)\n",
    "fpr_rnn_mlp_late_val, tpr_rnn_mlp_late_val, _ = roc_curve(y_val, pred_val)\n",
    "auc_val = roc_auc_score(y_val, pred_val)\n",
    "fpr_rnn_mlp_late_test, tpr_rnn_mlp_late_test, _ = roc_curve(y_test, pred_test)\n",
    "auc_test = roc_auc_score(y_test, pred_test)\n",
    "print('RNN+MLP Late Fusion Train AUC: %s' % auc_train)\n",
    "print('RNN+MLP Late Fusion Val AUC: %s' % auc_val)\n",
    "print('RNN+MLP Late Fusion Test AUC: %s' % auc_test)"
   ]
  },
  {
   "cell_type": "code",
   "execution_count": 31,
   "metadata": {},
   "outputs": [
    {
     "name": "stdout",
     "output_type": "stream",
     "text": [
      "RNN+MLP Ensemble Train AUC: 0.9542388067567923\n",
      "RNN+MLP Ensemble Val AUC: 0.8482807017543861\n",
      "RNN+MLP Ensemble Test AUC: 0.8787341023365869\n"
     ]
    }
   ],
   "source": [
    "pred_train = (pred_train_mlp + pred_train_rnn)/2.\n",
    "pred_val = (pred_val_mlp + pred_val_rnn)/2.\n",
    "pred_test = (pred_test_mlp + pred_test_rnn)/2.\n",
    "fpr_rnn_mlp_ens_train, tpr_rnn_mlp_ens_train, _ = roc_curve(y_train, pred_train)\n",
    "auc_train = roc_auc_score(y_train, pred_train)\n",
    "fpr_rnn_mlp_ens_val, tpr_rnn_mlp_ens_val, _ = roc_curve(y_val, pred_val)\n",
    "auc_val = roc_auc_score(y_val, pred_val)\n",
    "fpr_rnn_mlp_ens_test, tpr_rnn_mlp_ens_test, _ = roc_curve(y_test, pred_test)\n",
    "auc_test = roc_auc_score(y_test, pred_test)\n",
    "print('RNN+MLP Ensemble Train AUC: %s' % auc_train)\n",
    "print('RNN+MLP Ensemble Val AUC: %s' % auc_val)\n",
    "print('RNN+MLP Ensemble Test AUC: %s' % auc_test)"
   ]
  },
  {
   "cell_type": "code",
   "execution_count": 43,
   "metadata": {},
   "outputs": [
    {
     "data": {
      "image/png": "[encoded data removed]",
      "text/plain": [
       "<Figure size 432x288 with 1 Axes>"
      ]
     },
     "metadata": {
      "needs_background": "light"
     },
     "output_type": "display_data"
    }
   ],
   "source": [
    "%matplotlib inline\n",
    "from matplotlib import pyplot as plt\n",
    "fig1 = plt.figure()\n",
    "plt.xlabel('False Positive Rate')\n",
    "plt.ylabel('True Positive Rate')\n",
    "plt.title('%s Test Set ROC' % kinase.upper())\n",
    "plt.xlim(0,1)\n",
    "plt.ylim(0,1)\n",
    "plt_mlp, = plt.plot(fpr_mlp_test, tpr_mlp_test, label='MLP')\n",
    "plt_rnn, = plt.plot(fpr_rnn_test, tpr_rnn_test, label='RNN')\n",
    "plt_rnn_mlp_early, = plt.plot(fpr_rnn_mlp_early_test, tpr_rnn_mlp_early_test, label='RNN+MLP Early Fusion')\n",
    "plt_rnn_mlp_late, = plt.plot(fpr_rnn_mlp_late_test, tpr_rnn_mlp_late_test, label='RNN+MLP Late Fusion')\n",
    "plt_rnn_mlp_ens, = plt.plot(fpr_rnn_mlp_ens_test, tpr_rnn_mlp_ens_test, label='RNN+MLP Ensemble')\n",
    "plt.legend(handles=[plt_mlp, plt_rnn, plt_rnn_mlp_early, plt_rnn_mlp_late, plt_rnn_mlp_ens])\n",
    "fig1.savefig(os.path.join('ROC', kinase + '.png'), bbox_inches='tight')\n",
    "plt.show()"
   ]
  },
  {
   "cell_type": "code",
   "execution_count": null,
   "metadata": {},
   "outputs": [],
   "source": []
  }
 ],
 "metadata": {
  "kernelspec": {
   "display_name": "Python 3",
   "language": "python",
   "name": "python3"
  },
  "language_info": {
   "codemirror_mode": {
    "name": "ipython",
    "version": 3
   },
   "file_extension": ".py",
   "mimetype": "text/x-python",
   "name": "python",
   "nbconvert_exporter": "python",
   "pygments_lexer": "ipython3",
   "version": "3.6.7"
  }
 },
 "nbformat": 4,
 "nbformat_minor": 2
}
