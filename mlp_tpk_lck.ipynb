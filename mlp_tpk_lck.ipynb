{
 "cells": [
  {
   "cell_type": "code",
   "execution_count": 1,
   "metadata": {},
   "outputs": [
    {
     "name": "stderr",
     "output_type": "stream",
     "text": [
      "Using TensorFlow backend.\n"
     ]
    }
   ],
   "source": [
    "import os\n",
    "import sys\n",
    "import numpy as np\n",
    "import keras\n",
    "# from sklearn.model_selection import train_test_split"
   ]
  },
  {
   "cell_type": "code",
   "execution_count": 2,
   "metadata": {},
   "outputs": [],
   "source": [
    "seed = 273\n",
    "kinase = 'tpk_lck'\n",
    "model_file = 'mlp_%s.h5' % (kinase)"
   ]
  },
  {
   "cell_type": "code",
   "execution_count": 3,
   "metadata": {},
   "outputs": [],
   "source": [
    "#import data\n",
    "smiles_lines = [line.strip().split(',') for line in open(os.path.join('data', kinase+'_smiles.csv'))]\n",
    "smiles = [line[1] for line in smiles_lines]\n",
    "fingerprint_lines = [line.strip().split(',') for line in open(os.path.join('data', kinase+'_fingerprints.csv'))]\n",
    "fingerprints = [line[2:] for line in fingerprint_lines]\n",
    "X_fingerprints = np.asarray(fingerprints, dtype=np.int16)\n",
    "y = np.asarray([int(line[2]) for line in smiles_lines], dtype=np.int8)"
   ]
  },
  {
   "cell_type": "code",
   "execution_count": 4,
   "metadata": {},
   "outputs": [],
   "source": [
    "#pad smiles with '!' to ensure equal length\n",
    "max_smiles_len = max(len(s) for s in smiles)\n",
    "smiles = [s + '!'*(max_smiles_len + 1 - len(s)) for s in smiles]"
   ]
  },
  {
   "cell_type": "code",
   "execution_count": 5,
   "metadata": {},
   "outputs": [],
   "source": [
    "#one-hot vector representation of smiles\n",
    "char_set = set()\n",
    "for s in smiles:\n",
    "    for c in s:\n",
    "        char_set.add(c)\n",
    "char_set = list(char_set)\n",
    "char_to_index = {char_set[i]: i for i in range(len(char_set))}\n",
    "\n",
    "X_smiles = np.zeros((len(smiles), max_smiles_len + 1, len(char_set)))\n",
    "for i in range(len(smiles)):\n",
    "    code = smiles[i]\n",
    "    for j in range(len(code)):\n",
    "        char = code[j]\n",
    "        X_smiles[i, j, char_to_index[char]] = 1        "
   ]
  },
  {
   "cell_type": "code",
   "execution_count": 6,
   "metadata": {},
   "outputs": [
    {
     "name": "stdout",
     "output_type": "stream",
     "text": [
      "(1809, 6117)\n",
      "(1809, 268, 40)\n",
      "(1809,)\n"
     ]
    }
   ],
   "source": [
    "print(X_fingerprints.shape)\n",
    "print(X_smiles.shape)\n",
    "print(y.shape)"
   ]
  },
  {
   "cell_type": "code",
   "execution_count": 7,
   "metadata": {},
   "outputs": [
    {
     "name": "stdout",
     "output_type": "stream",
     "text": [
      "(1267, 6117)\n",
      "(1267, 268, 40)\n",
      "(1267,)\n",
      "(271, 6117)\n",
      "(271, 268, 40)\n",
      "(271,)\n",
      "(271, 6117)\n",
      "(271, 268, 40)\n",
      "(271,)\n"
     ]
    }
   ],
   "source": [
    "#train val test split\n",
    "n_tot = X_smiles.shape[0]\n",
    "n_test = round(n_tot*0.15)\n",
    "n_val = round(n_tot*0.15)\n",
    "n_train  = n_tot - n_test - n_val\n",
    "indices = np.arange(n_tot, dtype=int)\n",
    "np.random.seed(seed)\n",
    "np.random.shuffle(indices)\n",
    "indices_train = indices[:n_train]\n",
    "indices_val = indices[n_train:n_train+n_val]\n",
    "indices_test = indices[n_train+n_val:]\n",
    "X_fingerprints_train = X_fingerprints[indices_train]\n",
    "print(X_fingerprints_train.shape)\n",
    "X_smiles_train = X_smiles[indices_train]\n",
    "print(X_smiles_train.shape)\n",
    "y_train = y[indices_train]\n",
    "print(y_train.shape)\n",
    "X_fingerprints_val = X_fingerprints[indices_val]\n",
    "print(X_fingerprints_val.shape)\n",
    "X_smiles_val = X_smiles[indices_val]\n",
    "print(X_smiles_val.shape)\n",
    "y_val = y[indices_val]\n",
    "print(y_val.shape)\n",
    "X_fingerprints_test = X_fingerprints[indices_test]\n",
    "print(X_fingerprints_test.shape)\n",
    "X_smiles_test = X_smiles[indices_test]\n",
    "print(X_smiles_test.shape)\n",
    "y_test = y[indices_test]\n",
    "print(y_test.shape)\n",
    "smiles_input_shape = X_smiles_train.shape[1:]\n",
    "fingerprints_input_shape = X_fingerprints_train.shape[1:]"
   ]
  },
  {
   "cell_type": "code",
   "execution_count": 8,
   "metadata": {},
   "outputs": [
    {
     "name": "stdout",
     "output_type": "stream",
     "text": [
      "[]\n"
     ]
    }
   ],
   "source": [
    "#check GPU presence\n",
    "from tensorflow.python.client import device_lib\n",
    "\n",
    "def get_available_gpus():\n",
    "    local_device_protos = device_lib.list_local_devices()\n",
    "    return [x.name for x in local_device_protos if x.device_type == 'GPU']\n",
    "\n",
    "print(get_available_gpus())"
   ]
  },
  {
   "cell_type": "code",
   "execution_count": 9,
   "metadata": {},
   "outputs": [],
   "source": [
    "#keras imports\n",
    "from keras.models import Sequential\n",
    "from keras.layers import TimeDistributed, GlobalAveragePooling2D, Activation, Dense, Input, Bidirectional\n",
    "from keras.layers import BatchNormalization, Conv2D, MaxPooling2D, AveragePooling2D, GlobalAveragePooling2D\n",
    "from keras.layers import GlobalMaxPooling2D\n",
    "from keras.layers.recurrent import LSTM\n",
    "from keras.callbacks import ModelCheckpoint, ReduceLROnPlateau, Callback, EarlyStopping\n",
    "from keras.layers import Dropout, Flatten\n",
    "from keras.layers import concatenate\n",
    "from keras import regularizers\n",
    "from keras import initializers\n",
    "from keras import constraints\n",
    "from keras.models import Model\n",
    "# Backend\n",
    "from keras import backend as K\n",
    "# Utils\n",
    "from keras.utils.layer_utils import convert_all_kernels_in_model\n",
    "from keras.utils.data_utils import get_file\n",
    "from keras import metrics"
   ]
  },
  {
   "cell_type": "code",
   "execution_count": 10,
   "metadata": {},
   "outputs": [],
   "source": [
    "#F1 score computation\n",
    "from sklearn.metrics import confusion_matrix, f1_score, precision_score, recall_score\n",
    "from keras import backend as K\n",
    "\n",
    "def f1(y_true, y_pred):\n",
    "    def recall(y_true, y_pred):\n",
    "        \"\"\"Recall metric.\n",
    "\n",
    "        Only computes a batch-wise average of recall.\n",
    "\n",
    "        Computes the recall, a metric for multi-label classification of\n",
    "        how many relevant items are selected.\n",
    "        \"\"\"\n",
    "        true_positives = K.sum(K.round(K.clip(y_true * y_pred, 0, 1)))\n",
    "        possible_positives = K.sum(K.round(K.clip(y_true, 0, 1)))\n",
    "        recall = true_positives / (possible_positives + K.epsilon())\n",
    "        return recall\n",
    "\n",
    "    def precision(y_true, y_pred):\n",
    "        \"\"\"Precision metric.\n",
    "\n",
    "        Only computes a batch-wise average of precision.\n",
    "\n",
    "        Computes the precision, a metric for multi-label classification of\n",
    "        how many selected items are relevant.\n",
    "        \"\"\"\n",
    "        true_positives = K.sum(K.round(K.clip(y_true * y_pred, 0, 1)))\n",
    "        predicted_positives = K.sum(K.round(K.clip(y_pred, 0, 1)))\n",
    "        precision = true_positives / (predicted_positives + K.epsilon())\n",
    "        return precision\n",
    "    precision = precision(y_true, y_pred)\n",
    "    recall = recall(y_true, y_pred)\n",
    "    return 2*((precision*recall)/(precision+recall+K.epsilon()))"
   ]
  },
  {
   "cell_type": "code",
   "execution_count": 11,
   "metadata": {},
   "outputs": [],
   "source": [
    "#basic MLP model\n",
    "model = Sequential()\n",
    "model.add(Dense(128, activation='relu', input_shape=fingerprints_input_shape))\n",
    "model.add(Dense(128, activation='relu'))\n",
    "model.add(Dropout(0.5))\n",
    "model.add(Dense(2, activation='softmax'))"
   ]
  },
  {
   "cell_type": "code",
   "execution_count": 12,
   "metadata": {},
   "outputs": [
    {
     "name": "stdout",
     "output_type": "stream",
     "text": [
      "_________________________________________________________________\n",
      "Layer (type)                 Output Shape              Param #   \n",
      "=================================================================\n",
      "dense_1 (Dense)              (None, 128)               783104    \n",
      "_________________________________________________________________\n",
      "dense_2 (Dense)              (None, 128)               16512     \n",
      "_________________________________________________________________\n",
      "dropout_1 (Dropout)          (None, 128)               0         \n",
      "_________________________________________________________________\n",
      "dense_3 (Dense)              (None, 2)                 258       \n",
      "=================================================================\n",
      "Total params: 799,874\n",
      "Trainable params: 799,874\n",
      "Non-trainable params: 0\n",
      "_________________________________________________________________\n"
     ]
    }
   ],
   "source": [
    "#compile model\n",
    "adam = keras.optimizers.Adam(lr=0.001, decay=0.0)\n",
    "stop = EarlyStopping(patience=10, verbose=1)\n",
    "model.compile(optimizer=adam, loss='sparse_categorical_crossentropy', metrics=[metrics.sparse_categorical_accuracy, f1])\n",
    "checkpoint = ModelCheckpoint(model_file, monitor='val_loss', verbose=1, save_best_only=True, mode='min')\n",
    "\n",
    "callbacks_list = [checkpoint, stop]\n",
    "\n",
    "model.summary()"
   ]
  },
  {
   "cell_type": "code",
   "execution_count": 13,
   "metadata": {},
   "outputs": [
    {
     "name": "stdout",
     "output_type": "stream",
     "text": [
      "Train on 1267 samples, validate on 271 samples\n",
      "Epoch 1/1000\n",
      "1267/1267 [==============================] - 2s 2ms/step - loss: 1.6353 - sparse_categorical_accuracy: 0.6054 - f1: 0.8329 - val_loss: 0.6536 - val_sparse_categorical_accuracy: 0.6716 - val_f1: 0.8353\n",
      "\n",
      "Epoch 00001: val_loss improved from inf to 0.65359, saving model to mlp_tpk_lck.h5\n",
      "Epoch 2/1000\n",
      "1267/1267 [==============================] - 1s 1ms/step - loss: 0.7662 - sparse_categorical_accuracy: 0.6535 - f1: 0.8342 - val_loss: 0.6471 - val_sparse_categorical_accuracy: 0.7232 - val_f1: 0.8353\n",
      "\n",
      "Epoch 00002: val_loss improved from 0.65359 to 0.64714, saving model to mlp_tpk_lck.h5\n",
      "Epoch 3/1000\n",
      "1267/1267 [==============================] - 2s 1ms/step - loss: 0.6545 - sparse_categorical_accuracy: 0.6985 - f1: 0.8337 - val_loss: 0.6111 - val_sparse_categorical_accuracy: 0.7232 - val_f1: 0.8353\n",
      "\n",
      "Epoch 00003: val_loss improved from 0.64714 to 0.61114, saving model to mlp_tpk_lck.h5\n",
      "Epoch 4/1000\n",
      "1267/1267 [==============================] - 2s 1ms/step - loss: 0.5930 - sparse_categorical_accuracy: 0.7198 - f1: 0.8342 - val_loss: 0.6515 - val_sparse_categorical_accuracy: 0.6900 - val_f1: 0.8353\n",
      "\n",
      "Epoch 00004: val_loss did not improve from 0.61114\n",
      "Epoch 5/1000\n",
      "1267/1267 [==============================] - 2s 1ms/step - loss: 0.6431 - sparse_categorical_accuracy: 0.7301 - f1: 0.8335 - val_loss: 0.6975 - val_sparse_categorical_accuracy: 0.7269 - val_f1: 0.8353\n",
      "\n",
      "Epoch 00005: val_loss did not improve from 0.61114\n",
      "Epoch 6/1000\n",
      "1267/1267 [==============================] - 2s 2ms/step - loss: 0.5995 - sparse_categorical_accuracy: 0.7135 - f1: 0.8321 - val_loss: 0.6574 - val_sparse_categorical_accuracy: 0.7122 - val_f1: 0.8353\n",
      "\n",
      "Epoch 00006: val_loss did not improve from 0.61114\n",
      "Epoch 7/1000\n",
      "1267/1267 [==============================] - 2s 1ms/step - loss: 0.5535 - sparse_categorical_accuracy: 0.7340 - f1: 0.8327 - val_loss: 0.6322 - val_sparse_categorical_accuracy: 0.7011 - val_f1: 0.8353\n",
      "\n",
      "Epoch 00007: val_loss did not improve from 0.61114\n",
      "Epoch 8/1000\n",
      "1267/1267 [==============================] - 2s 1ms/step - loss: 0.5638 - sparse_categorical_accuracy: 0.7332 - f1: 0.8325 - val_loss: 0.7069 - val_sparse_categorical_accuracy: 0.7196 - val_f1: 0.8353\n",
      "\n",
      "Epoch 00008: val_loss did not improve from 0.61114\n",
      "Epoch 9/1000\n",
      "1267/1267 [==============================] - 2s 2ms/step - loss: 0.5419 - sparse_categorical_accuracy: 0.7498 - f1: 0.8339 - val_loss: 0.7594 - val_sparse_categorical_accuracy: 0.7196 - val_f1: 0.8353\n",
      "\n",
      "Epoch 00009: val_loss did not improve from 0.61114\n",
      "Epoch 10/1000\n",
      "1267/1267 [==============================] - 3s 2ms/step - loss: 0.5099 - sparse_categorical_accuracy: 0.7632 - f1: 0.8336 - val_loss: 0.7625 - val_sparse_categorical_accuracy: 0.7011 - val_f1: 0.8353\n",
      "\n",
      "Epoch 00010: val_loss did not improve from 0.61114\n",
      "Epoch 11/1000\n",
      "1267/1267 [==============================] - 2s 1ms/step - loss: 0.4817 - sparse_categorical_accuracy: 0.7711 - f1: 0.8331 - val_loss: 0.7227 - val_sparse_categorical_accuracy: 0.6863 - val_f1: 0.8353\n",
      "\n",
      "Epoch 00011: val_loss did not improve from 0.61114\n",
      "Epoch 12/1000\n",
      "1267/1267 [==============================] - 2s 2ms/step - loss: 0.4546 - sparse_categorical_accuracy: 0.7624 - f1: 0.8334 - val_loss: 0.7214 - val_sparse_categorical_accuracy: 0.7048 - val_f1: 0.8353\n",
      "\n",
      "Epoch 00012: val_loss did not improve from 0.61114\n",
      "Epoch 13/1000\n",
      "1267/1267 [==============================] - 3s 2ms/step - loss: 0.4203 - sparse_categorical_accuracy: 0.8051 - f1: 0.8338 - val_loss: 0.8084 - val_sparse_categorical_accuracy: 0.6790 - val_f1: 0.8353\n",
      "\n",
      "Epoch 00013: val_loss did not improve from 0.61114\n",
      "Epoch 00013: early stopping\n"
     ]
    },
    {
     "data": {
      "text/plain": [
       "<keras.callbacks.History at 0x7f36b30859b0>"
      ]
     },
     "execution_count": 13,
     "metadata": {},
     "output_type": "execute_result"
    }
   ],
   "source": [
    "#training\n",
    "model.fit(x=X_fingerprints_train, \n",
    "          y=y_train, \n",
    "          batch_size=32, \n",
    "          epochs=1000, \n",
    "          verbose=1, \n",
    "          callbacks=callbacks_list, \n",
    "          validation_data=(X_fingerprints_val, y_val), \n",
    "          shuffle=True)"
   ]
  },
  {
   "cell_type": "code",
   "execution_count": 14,
   "metadata": {},
   "outputs": [
    {
     "name": "stdout",
     "output_type": "stream",
     "text": [
      "['loss', 'sparse_categorical_accuracy', 'f1']\n"
     ]
    }
   ],
   "source": [
    "#testing\n",
    "from keras.models import load_model\n",
    "trained_model = load_model(model_file, custom_objects={'f1': f1})\n",
    "print(trained_model.metrics_names)"
   ]
  },
  {
   "cell_type": "code",
   "execution_count": 15,
   "metadata": {},
   "outputs": [
    {
     "name": "stdout",
     "output_type": "stream",
     "text": [
      "1267/1267 [==============================] - 1s 573us/step\n"
     ]
    },
    {
     "data": {
      "text/plain": [
       "[0.5724384912893165, 0.7198105765875626, 0.8324411510950764]"
      ]
     },
     "execution_count": 15,
     "metadata": {},
     "output_type": "execute_result"
    }
   ],
   "source": [
    "trained_model.evaluate(x=X_fingerprints_train, y=y_train)"
   ]
  },
  {
   "cell_type": "code",
   "execution_count": 16,
   "metadata": {},
   "outputs": [
    {
     "name": "stdout",
     "output_type": "stream",
     "text": [
      "271/271 [==============================] - 0s 577us/step\n"
     ]
    },
    {
     "data": {
      "text/plain": [
       "[0.6111421724747028, 0.7232472331321548, 0.8352863498279529]"
      ]
     },
     "execution_count": 16,
     "metadata": {},
     "output_type": "execute_result"
    }
   ],
   "source": [
    "trained_model.evaluate(x=X_fingerprints_val, y=y_val)"
   ]
  },
  {
   "cell_type": "code",
   "execution_count": 17,
   "metadata": {},
   "outputs": [
    {
     "name": "stdout",
     "output_type": "stream",
     "text": [
      "271/271 [==============================] - ETA:  - 0s 366us/step\n"
     ]
    },
    {
     "data": {
      "text/plain": [
       "[0.5995564403569127, 0.7232472333520981, 0.836762313693212]"
      ]
     },
     "execution_count": 17,
     "metadata": {},
     "output_type": "execute_result"
    }
   ],
   "source": [
    "trained_model.evaluate(x=X_fingerprints_test, y=y_test)"
   ]
  },
  {
   "cell_type": "code",
   "execution_count": 18,
   "metadata": {},
   "outputs": [],
   "source": [
    "from sklearn.metrics import roc_curve\n",
    "from sklearn.metrics import roc_auc_score\n",
    "pred_train = trained_model.predict(x=X_fingerprints_train)[:,1]\n",
    "pred_val = trained_model.predict(x=X_fingerprints_val)[:,1]\n",
    "pred_test = trained_model.predict(x=X_fingerprints_test)[:,1]\n",
    "np.savez(model_file[:-2] + 'npz', pred_train=pred_train, pred_val=pred_val, pred_test=pred_test)"
   ]
  }
 ],
 "metadata": {
  "kernelspec": {
   "display_name": "Python 3",
   "language": "python",
   "name": "python3"
  },
  "language_info": {
   "codemirror_mode": {
    "name": "ipython",
    "version": 3
   },
   "file_extension": ".py",
   "mimetype": "text/x-python",
   "name": "python",
   "nbconvert_exporter": "python",
   "pygments_lexer": "ipython3",
   "version": "3.6.7"
  }
 },
 "nbformat": 4,
 "nbformat_minor": 2
}
